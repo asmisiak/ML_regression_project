{
 "cells": [
  {
   "metadata": {},
   "cell_type": "markdown",
   "source": "# Global Model",
   "id": "7a79d2eed68abe48"
  },
  {
   "metadata": {},
   "cell_type": "markdown",
   "source": "This notebook demonstrates the process of building and evaluating various regression models for predicting the `realsum_cut` variable using different feature selection techniques and hyperparameter tuning methods.",
   "id": "9560afc6d904f68f"
  },
  {
   "metadata": {},
   "cell_type": "markdown",
   "source": "### Importing Libraries",
   "id": "5a5cd292491c965e"
  },
  {
   "cell_type": "code",
   "id": "initial_id",
   "metadata": {
    "collapsed": true,
    "ExecuteTime": {
     "end_time": "2025-01-11T21:36:47.776390Z",
     "start_time": "2025-01-11T21:36:47.401082Z"
    }
   },
   "source": [
    "import pickle\n",
    "\n",
    "import pandas as pd\n",
    "import numpy as np\n",
    "from sklearn.feature_selection import RFECV\n",
    "from mlxtend.feature_selection import SequentialFeatureSelector as SFS\n",
    "\n",
    "from sklearn.tree import DecisionTreeRegressor\n",
    "from tqdm import tqdm\n",
    "from sklearn.metrics import (\n",
    "    mean_squared_error,\n",
    "    mean_absolute_error,\n",
    "    median_absolute_error,\n",
    "    mean_absolute_percentage_error,\n",
    "    r2_score,\n",
    "    make_scorer\n",
    ")\n",
    "from sklearn.model_selection import (\n",
    "    KFold,\n",
    "    ShuffleSplit,\n",
    "    cross_val_score,\n",
    "    cross_validate,\n",
    "    RandomizedSearchCV,\n",
    "    GridSearchCV\n",
    ")\n",
    "from sklearn.linear_model import (\n",
    "    LinearRegression,\n",
    "    Lasso,\n",
    "    Ridge,\n",
    "    ElasticNet\n",
    ")\n",
    "\n",
    "from sklearn.exceptions import ConvergenceWarning\n",
    "from sklearn.neighbors import KNeighborsRegressor\n",
    "from sklearn.tree import DecisionTreeRegressor\n",
    "from sklearn.ensemble import RandomForestRegressor\n",
    "\n",
    "import warnings\n",
    "warnings.simplefilter(\"ignore\", category=ConvergenceWarning)\n",
    "\n",
    "pd.set_option(\"display.max_columns\", 500)\n",
    "pd.set_option(\"display.max_rows\", 150)"
   ],
   "outputs": [],
   "execution_count": 2
  },
  {
   "metadata": {},
   "cell_type": "markdown",
   "source": "### Loading Data",
   "id": "f6fa15a51cc06e1b"
  },
  {
   "metadata": {
    "ExecuteTime": {
     "end_time": "2025-01-11T21:36:47.825031Z",
     "start_time": "2025-01-11T21:36:47.780669Z"
    }
   },
   "cell_type": "code",
   "source": [
    "df = pd.read_csv(\"data/output/data_train.csv\")\n",
    "df_test = pd.read_csv(\"data/output/data_test.csv\")\n",
    "fr = pd.read_csv(\"data/output/general_ranking.csv\", index_col=0)"
   ],
   "id": "7e4c130ce4fdd7ae",
   "outputs": [],
   "execution_count": 3
  },
  {
   "metadata": {},
   "cell_type": "markdown",
   "source": "### Linear Regression",
   "id": "2709ada6b8446e2f"
  },
  {
   "metadata": {},
   "cell_type": "markdown",
   "source": [
    "#### Feature Selection\n",
    "\n",
    "We will select a few features dataset, based on different metrics, i.e. correlation, mutual information, and F-score."
   ],
   "id": "cb7c1d1c51ec35fc"
  },
  {
   "metadata": {},
   "cell_type": "markdown",
   "source": [
    "1. Correlation\n",
    "\n",
    "First, we will base our selection on the correlation between the features and the target variable."
   ],
   "id": "99e38dd8d033c257"
  },
  {
   "metadata": {
    "ExecuteTime": {
     "end_time": "2025-01-11T21:36:47.848078Z",
     "start_time": "2025-01-11T21:36:47.845461Z"
    }
   },
   "cell_type": "code",
   "source": "feature_selection_with_corr = fr['corr'].sort_values(ascending=False)",
   "id": "6a8166bff6c7f23f",
   "outputs": [],
   "execution_count": 4
  },
  {
   "metadata": {
    "ExecuteTime": {
     "end_time": "2025-01-11T21:36:47.866151Z",
     "start_time": "2025-01-11T21:36:47.860924Z"
    }
   },
   "cell_type": "code",
   "source": "feature_selection_with_corr.index[0:5]\n",
   "id": "bf5c17979ed9076b",
   "outputs": [
    {
     "data": {
      "text/plain": [
       "Index(['latitude_disc_48_837_48_901', 'room_type', 'lat', 'person_capacity',\n",
       "       'longitude_disc_2_093_2_347'],\n",
       "      dtype='object')"
      ]
     },
     "execution_count": 5,
     "metadata": {},
     "output_type": "execute_result"
    }
   ],
   "execution_count": 5
  },
  {
   "metadata": {},
   "cell_type": "markdown",
   "source": "Let's define wrapper functions for the OLS model and scoring metrics.",
   "id": "7a60fbdd2fcb91ca"
  },
  {
   "metadata": {
    "ExecuteTime": {
     "end_time": "2025-01-11T21:36:47.931618Z",
     "start_time": "2025-01-11T21:36:47.928401Z"
    }
   },
   "cell_type": "code",
   "source": [
    "def ols_model_wrapper(\n",
    "    X_train: pd.DataFrame,\n",
    "    y_train: pd.DataFrame,\n",
    "    X_test: pd.DataFrame,\n",
    "    fit_intercept: bool=True,\n",
    ") -> np.array :\n",
    "    reg = LinearRegression(fit_intercept=fit_intercept)\n",
    "    reg.fit(X=X_train, y=y_train)\n",
    "    pred = reg.predict(X_test)\n",
    "    return pred.ravel()  # revel() - Return a contiguous flattened array.\n",
    "\n",
    "\n",
    "def scoring_wrapper(y_true: np.array, y_pred: np.array) -> dict:\n",
    "    mse = mean_squared_error(y_true, y_pred)\n",
    "    mae = mean_absolute_error(y_true, y_pred)\n",
    "    medae = median_absolute_error(y_true, y_pred)\n",
    "    mape = mean_absolute_percentage_error(y_true, y_pred)\n",
    "    r2 = r2_score(y_true, y_pred)\n",
    "    return {\"mse\": mse, \"mae\": mae, \"medae\": medae, \"mape\": mape, \"r2\": r2}"
   ],
   "id": "9a9b563bd6004ead",
   "outputs": [],
   "execution_count": 6
  },
  {
   "metadata": {},
   "cell_type": "markdown",
   "source": "Let's evaluate the model using the top 5 features selected based on the correlation. We will test the performance both on the training and test set.",
   "id": "64c8f989b8526965"
  },
  {
   "metadata": {
    "ExecuteTime": {
     "end_time": "2025-01-11T21:36:48.049241Z",
     "start_time": "2025-01-11T21:36:47.981852Z"
    }
   },
   "cell_type": "code",
   "source": [
    "scores_on_train = dict()\n",
    "\n",
    "for i in tqdm(range(1, 6)):\n",
    "    feautres_i = feature_selection_with_corr.index[0 : i]\n",
    "    pred = ols_model_wrapper(\n",
    "        df[feautres_i], df[[\"realsum_cut\"]], df[feautres_i]\n",
    "    )\n",
    "    score = scoring_wrapper(df[\"realsum_cut\"].to_numpy().ravel(), pred)\n",
    "    scores_on_train.update({f\"top_{i}\": score})\n"
   ],
   "id": "6150800258796728",
   "outputs": [
    {
     "name": "stderr",
     "output_type": "stream",
     "text": [
      "100%|██████████| 5/5 [00:00<00:00, 121.40it/s]\n"
     ]
    }
   ],
   "execution_count": 7
  },
  {
   "metadata": {
    "ExecuteTime": {
     "end_time": "2025-01-11T21:36:48.122550Z",
     "start_time": "2025-01-11T21:36:48.094866Z"
    }
   },
   "cell_type": "code",
   "source": [
    "display(pd.DataFrame(scores_on_train).T.sort_values(\"mape\").head(1))\n",
    "display(pd.DataFrame(scores_on_train).T.sort_values(\"mse\").head(1))\n",
    "display(pd.DataFrame(scores_on_train).T.sort_values(\"mae\").head(1))\n",
    "display(pd.DataFrame(scores_on_train).T.sort_values(\"medae\").head(1))"
   ],
   "id": "b56703409bb40be3",
   "outputs": [
    {
     "data": {
      "text/plain": [
       "               mse        mae      medae     mape        r2\n",
       "top_5  18746.21076  92.977781  66.640021  0.36209  0.426104"
      ],
      "text/html": [
       "<div>\n",
       "<style scoped>\n",
       "    .dataframe tbody tr th:only-of-type {\n",
       "        vertical-align: middle;\n",
       "    }\n",
       "\n",
       "    .dataframe tbody tr th {\n",
       "        vertical-align: top;\n",
       "    }\n",
       "\n",
       "    .dataframe thead th {\n",
       "        text-align: right;\n",
       "    }\n",
       "</style>\n",
       "<table border=\"1\" class=\"dataframe\">\n",
       "  <thead>\n",
       "    <tr style=\"text-align: right;\">\n",
       "      <th></th>\n",
       "      <th>mse</th>\n",
       "      <th>mae</th>\n",
       "      <th>medae</th>\n",
       "      <th>mape</th>\n",
       "      <th>r2</th>\n",
       "    </tr>\n",
       "  </thead>\n",
       "  <tbody>\n",
       "    <tr>\n",
       "      <th>top_5</th>\n",
       "      <td>18746.21076</td>\n",
       "      <td>92.977781</td>\n",
       "      <td>66.640021</td>\n",
       "      <td>0.36209</td>\n",
       "      <td>0.426104</td>\n",
       "    </tr>\n",
       "  </tbody>\n",
       "</table>\n",
       "</div>"
      ]
     },
     "metadata": {},
     "output_type": "display_data"
    },
    {
     "data": {
      "text/plain": [
       "               mse        mae      medae     mape        r2\n",
       "top_5  18746.21076  92.977781  66.640021  0.36209  0.426104"
      ],
      "text/html": [
       "<div>\n",
       "<style scoped>\n",
       "    .dataframe tbody tr th:only-of-type {\n",
       "        vertical-align: middle;\n",
       "    }\n",
       "\n",
       "    .dataframe tbody tr th {\n",
       "        vertical-align: top;\n",
       "    }\n",
       "\n",
       "    .dataframe thead th {\n",
       "        text-align: right;\n",
       "    }\n",
       "</style>\n",
       "<table border=\"1\" class=\"dataframe\">\n",
       "  <thead>\n",
       "    <tr style=\"text-align: right;\">\n",
       "      <th></th>\n",
       "      <th>mse</th>\n",
       "      <th>mae</th>\n",
       "      <th>medae</th>\n",
       "      <th>mape</th>\n",
       "      <th>r2</th>\n",
       "    </tr>\n",
       "  </thead>\n",
       "  <tbody>\n",
       "    <tr>\n",
       "      <th>top_5</th>\n",
       "      <td>18746.21076</td>\n",
       "      <td>92.977781</td>\n",
       "      <td>66.640021</td>\n",
       "      <td>0.36209</td>\n",
       "      <td>0.426104</td>\n",
       "    </tr>\n",
       "  </tbody>\n",
       "</table>\n",
       "</div>"
      ]
     },
     "metadata": {},
     "output_type": "display_data"
    },
    {
     "data": {
      "text/plain": [
       "               mse        mae      medae     mape        r2\n",
       "top_5  18746.21076  92.977781  66.640021  0.36209  0.426104"
      ],
      "text/html": [
       "<div>\n",
       "<style scoped>\n",
       "    .dataframe tbody tr th:only-of-type {\n",
       "        vertical-align: middle;\n",
       "    }\n",
       "\n",
       "    .dataframe tbody tr th {\n",
       "        vertical-align: top;\n",
       "    }\n",
       "\n",
       "    .dataframe thead th {\n",
       "        text-align: right;\n",
       "    }\n",
       "</style>\n",
       "<table border=\"1\" class=\"dataframe\">\n",
       "  <thead>\n",
       "    <tr style=\"text-align: right;\">\n",
       "      <th></th>\n",
       "      <th>mse</th>\n",
       "      <th>mae</th>\n",
       "      <th>medae</th>\n",
       "      <th>mape</th>\n",
       "      <th>r2</th>\n",
       "    </tr>\n",
       "  </thead>\n",
       "  <tbody>\n",
       "    <tr>\n",
       "      <th>top_5</th>\n",
       "      <td>18746.21076</td>\n",
       "      <td>92.977781</td>\n",
       "      <td>66.640021</td>\n",
       "      <td>0.36209</td>\n",
       "      <td>0.426104</td>\n",
       "    </tr>\n",
       "  </tbody>\n",
       "</table>\n",
       "</div>"
      ]
     },
     "metadata": {},
     "output_type": "display_data"
    },
    {
     "data": {
      "text/plain": [
       "               mse        mae      medae     mape        r2\n",
       "top_5  18746.21076  92.977781  66.640021  0.36209  0.426104"
      ],
      "text/html": [
       "<div>\n",
       "<style scoped>\n",
       "    .dataframe tbody tr th:only-of-type {\n",
       "        vertical-align: middle;\n",
       "    }\n",
       "\n",
       "    .dataframe tbody tr th {\n",
       "        vertical-align: top;\n",
       "    }\n",
       "\n",
       "    .dataframe thead th {\n",
       "        text-align: right;\n",
       "    }\n",
       "</style>\n",
       "<table border=\"1\" class=\"dataframe\">\n",
       "  <thead>\n",
       "    <tr style=\"text-align: right;\">\n",
       "      <th></th>\n",
       "      <th>mse</th>\n",
       "      <th>mae</th>\n",
       "      <th>medae</th>\n",
       "      <th>mape</th>\n",
       "      <th>r2</th>\n",
       "    </tr>\n",
       "  </thead>\n",
       "  <tbody>\n",
       "    <tr>\n",
       "      <th>top_5</th>\n",
       "      <td>18746.21076</td>\n",
       "      <td>92.977781</td>\n",
       "      <td>66.640021</td>\n",
       "      <td>0.36209</td>\n",
       "      <td>0.426104</td>\n",
       "    </tr>\n",
       "  </tbody>\n",
       "</table>\n",
       "</div>"
      ]
     },
     "metadata": {},
     "output_type": "display_data"
    }
   ],
   "execution_count": 8
  },
  {
   "metadata": {
    "ExecuteTime": {
     "end_time": "2025-01-11T21:36:48.214472Z",
     "start_time": "2025-01-11T21:36:48.180929Z"
    }
   },
   "cell_type": "code",
   "source": [
    "scores_on_test = dict()\n",
    "\n",
    "for i in tqdm(range(1, 6)):\n",
    "    feautres_i = feature_selection_with_corr.index[0 : i]\n",
    "    pred = ols_model_wrapper(\n",
    "        df[feautres_i], df[[\"realsum_cut\"]], df_test[feautres_i]\n",
    "    )\n",
    "    score = scoring_wrapper(df_test[\"realsum_cut\"].to_numpy().ravel(), pred)\n",
    "    scores_on_test.update({f\"top_{i}\": score})\n"
   ],
   "id": "be124a99dee37e5c",
   "outputs": [
    {
     "name": "stderr",
     "output_type": "stream",
     "text": [
      "100%|██████████| 5/5 [00:00<00:00, 173.42it/s]\n"
     ]
    }
   ],
   "execution_count": 9
  },
  {
   "metadata": {
    "ExecuteTime": {
     "end_time": "2025-01-11T21:36:48.462021Z",
     "start_time": "2025-01-11T21:36:48.443341Z"
    }
   },
   "cell_type": "code",
   "source": [
    "display(pd.DataFrame(scores_on_test).T.sort_values(\"mape\").head(1))\n",
    "display(pd.DataFrame(scores_on_test).T.sort_values(\"mse\").head(1))\n",
    "display(pd.DataFrame(scores_on_test).T.sort_values(\"mae\").head(1))\n",
    "display(pd.DataFrame(scores_on_test).T.sort_values(\"medae\").head(1))"
   ],
   "id": "75e20b4e502c792",
   "outputs": [
    {
     "data": {
      "text/plain": [
       "                mse        mae      medae      mape       r2\n",
       "top_5  21627.936479  95.980542  67.580178  0.362782  0.39028"
      ],
      "text/html": [
       "<div>\n",
       "<style scoped>\n",
       "    .dataframe tbody tr th:only-of-type {\n",
       "        vertical-align: middle;\n",
       "    }\n",
       "\n",
       "    .dataframe tbody tr th {\n",
       "        vertical-align: top;\n",
       "    }\n",
       "\n",
       "    .dataframe thead th {\n",
       "        text-align: right;\n",
       "    }\n",
       "</style>\n",
       "<table border=\"1\" class=\"dataframe\">\n",
       "  <thead>\n",
       "    <tr style=\"text-align: right;\">\n",
       "      <th></th>\n",
       "      <th>mse</th>\n",
       "      <th>mae</th>\n",
       "      <th>medae</th>\n",
       "      <th>mape</th>\n",
       "      <th>r2</th>\n",
       "    </tr>\n",
       "  </thead>\n",
       "  <tbody>\n",
       "    <tr>\n",
       "      <th>top_5</th>\n",
       "      <td>21627.936479</td>\n",
       "      <td>95.980542</td>\n",
       "      <td>67.580178</td>\n",
       "      <td>0.362782</td>\n",
       "      <td>0.39028</td>\n",
       "    </tr>\n",
       "  </tbody>\n",
       "</table>\n",
       "</div>"
      ]
     },
     "metadata": {},
     "output_type": "display_data"
    },
    {
     "data": {
      "text/plain": [
       "                mse        mae      medae      mape       r2\n",
       "top_5  21627.936479  95.980542  67.580178  0.362782  0.39028"
      ],
      "text/html": [
       "<div>\n",
       "<style scoped>\n",
       "    .dataframe tbody tr th:only-of-type {\n",
       "        vertical-align: middle;\n",
       "    }\n",
       "\n",
       "    .dataframe tbody tr th {\n",
       "        vertical-align: top;\n",
       "    }\n",
       "\n",
       "    .dataframe thead th {\n",
       "        text-align: right;\n",
       "    }\n",
       "</style>\n",
       "<table border=\"1\" class=\"dataframe\">\n",
       "  <thead>\n",
       "    <tr style=\"text-align: right;\">\n",
       "      <th></th>\n",
       "      <th>mse</th>\n",
       "      <th>mae</th>\n",
       "      <th>medae</th>\n",
       "      <th>mape</th>\n",
       "      <th>r2</th>\n",
       "    </tr>\n",
       "  </thead>\n",
       "  <tbody>\n",
       "    <tr>\n",
       "      <th>top_5</th>\n",
       "      <td>21627.936479</td>\n",
       "      <td>95.980542</td>\n",
       "      <td>67.580178</td>\n",
       "      <td>0.362782</td>\n",
       "      <td>0.39028</td>\n",
       "    </tr>\n",
       "  </tbody>\n",
       "</table>\n",
       "</div>"
      ]
     },
     "metadata": {},
     "output_type": "display_data"
    },
    {
     "data": {
      "text/plain": [
       "                mse        mae      medae      mape       r2\n",
       "top_5  21627.936479  95.980542  67.580178  0.362782  0.39028"
      ],
      "text/html": [
       "<div>\n",
       "<style scoped>\n",
       "    .dataframe tbody tr th:only-of-type {\n",
       "        vertical-align: middle;\n",
       "    }\n",
       "\n",
       "    .dataframe tbody tr th {\n",
       "        vertical-align: top;\n",
       "    }\n",
       "\n",
       "    .dataframe thead th {\n",
       "        text-align: right;\n",
       "    }\n",
       "</style>\n",
       "<table border=\"1\" class=\"dataframe\">\n",
       "  <thead>\n",
       "    <tr style=\"text-align: right;\">\n",
       "      <th></th>\n",
       "      <th>mse</th>\n",
       "      <th>mae</th>\n",
       "      <th>medae</th>\n",
       "      <th>mape</th>\n",
       "      <th>r2</th>\n",
       "    </tr>\n",
       "  </thead>\n",
       "  <tbody>\n",
       "    <tr>\n",
       "      <th>top_5</th>\n",
       "      <td>21627.936479</td>\n",
       "      <td>95.980542</td>\n",
       "      <td>67.580178</td>\n",
       "      <td>0.362782</td>\n",
       "      <td>0.39028</td>\n",
       "    </tr>\n",
       "  </tbody>\n",
       "</table>\n",
       "</div>"
      ]
     },
     "metadata": {},
     "output_type": "display_data"
    },
    {
     "data": {
      "text/plain": [
       "                mse        mae      medae      mape       r2\n",
       "top_5  21627.936479  95.980542  67.580178  0.362782  0.39028"
      ],
      "text/html": [
       "<div>\n",
       "<style scoped>\n",
       "    .dataframe tbody tr th:only-of-type {\n",
       "        vertical-align: middle;\n",
       "    }\n",
       "\n",
       "    .dataframe tbody tr th {\n",
       "        vertical-align: top;\n",
       "    }\n",
       "\n",
       "    .dataframe thead th {\n",
       "        text-align: right;\n",
       "    }\n",
       "</style>\n",
       "<table border=\"1\" class=\"dataframe\">\n",
       "  <thead>\n",
       "    <tr style=\"text-align: right;\">\n",
       "      <th></th>\n",
       "      <th>mse</th>\n",
       "      <th>mae</th>\n",
       "      <th>medae</th>\n",
       "      <th>mape</th>\n",
       "      <th>r2</th>\n",
       "    </tr>\n",
       "  </thead>\n",
       "  <tbody>\n",
       "    <tr>\n",
       "      <th>top_5</th>\n",
       "      <td>21627.936479</td>\n",
       "      <td>95.980542</td>\n",
       "      <td>67.580178</td>\n",
       "      <td>0.362782</td>\n",
       "      <td>0.39028</td>\n",
       "    </tr>\n",
       "  </tbody>\n",
       "</table>\n",
       "</div>"
      ]
     },
     "metadata": {},
     "output_type": "display_data"
    }
   ],
   "execution_count": 10
  },
  {
   "metadata": {},
   "cell_type": "markdown",
   "source": "We have, that the best model is the one with the top 5 features, based on the correlation.",
   "id": "b660832ae0dfa2ff"
  },
  {
   "metadata": {},
   "cell_type": "markdown",
   "source": [
    "2. ElasticNet\n",
    "\n",
    "Next, we will use ElasticNet coefficient calculated in previous notebook to select the features."
   ],
   "id": "8f1a419017a83a10"
  },
  {
   "metadata": {
    "ExecuteTime": {
     "end_time": "2025-01-11T21:36:48.744048Z",
     "start_time": "2025-01-11T21:36:48.739052Z"
    }
   },
   "cell_type": "code",
   "source": "fr[\"EN_coef\"].sort_values(ascending=False)",
   "id": "55a07c43e0b9181a",
   "outputs": [
    {
     "data": {
      "text/plain": [
       "city                           118.697960\n",
       "longitude_disc_2_093_2_347      92.785460\n",
       "bedrooms                        69.666650\n",
       "room_type                       66.605290\n",
       "latitude_disc_48_837_48_901     65.790436\n",
       "biz                             61.137344\n",
       "person_capacity                 33.363330\n",
       "multi                           31.634403\n",
       "metro_dist                      19.963486\n",
       "cleanliness_rating              15.145918\n",
       "is_weekend                       4.033917\n",
       "guest_satisfaction_overall       0.100369\n",
       "room_private                    -0.013505\n",
       "latitude_disc_41_893_48_837     -2.632091\n",
       "longitude_disc_2_347_12_47      -3.129059\n",
       "lat                             -7.342648\n",
       "longitude_disc_12_47_12_583     -8.543576\n",
       "dist                           -21.108894\n",
       "latitude_disc_41_35_41_893     -24.304527\n",
       "lng                            -26.697237\n",
       "host_is_superhost                     NaN\n",
       "Name: EN_coef, dtype: float64"
      ]
     },
     "execution_count": 11,
     "metadata": {},
     "output_type": "execute_result"
    }
   ],
   "execution_count": 11
  },
  {
   "metadata": {
    "ExecuteTime": {
     "end_time": "2025-01-11T21:36:48.958406Z",
     "start_time": "2025-01-11T21:36:48.952040Z"
    }
   },
   "cell_type": "code",
   "source": [
    "features_selection_en = fr[\"EN_coef\"].dropna().index.tolist()\n",
    "features_selection_en"
   ],
   "id": "800ce720ec0c9fea",
   "outputs": [
    {
     "data": {
      "text/plain": [
       "['room_type',\n",
       " 'room_private',\n",
       " 'person_capacity',\n",
       " 'multi',\n",
       " 'biz',\n",
       " 'cleanliness_rating',\n",
       " 'guest_satisfaction_overall',\n",
       " 'bedrooms',\n",
       " 'dist',\n",
       " 'metro_dist',\n",
       " 'lng',\n",
       " 'lat',\n",
       " 'is_weekend',\n",
       " 'city',\n",
       " 'longitude_disc_2_093_2_347',\n",
       " 'longitude_disc_2_347_12_47',\n",
       " 'longitude_disc_12_47_12_583',\n",
       " 'latitude_disc_41_35_41_893',\n",
       " 'latitude_disc_41_893_48_837',\n",
       " 'latitude_disc_48_837_48_901']"
      ]
     },
     "execution_count": 12,
     "metadata": {},
     "output_type": "execute_result"
    }
   ],
   "execution_count": 12
  },
  {
   "metadata": {
    "ExecuteTime": {
     "end_time": "2025-01-11T21:36:49.213356Z",
     "start_time": "2025-01-11T21:36:49.210782Z"
    }
   },
   "cell_type": "code",
   "source": [
    "features_selection_en.remove(\"guest_satisfaction_overall\")\n",
    "features_selection_en.remove(\"room_private\")\n",
    "features_selection_en.remove(\"is_weekend\")"
   ],
   "id": "96b705934c13de75",
   "outputs": [],
   "execution_count": 13
  },
  {
   "metadata": {
    "ExecuteTime": {
     "end_time": "2025-01-11T21:36:49.307727Z",
     "start_time": "2025-01-11T21:36:49.304050Z"
    }
   },
   "cell_type": "code",
   "source": "features_selection_en",
   "id": "556e77bbe14cf991",
   "outputs": [
    {
     "data": {
      "text/plain": [
       "['room_type',\n",
       " 'person_capacity',\n",
       " 'multi',\n",
       " 'biz',\n",
       " 'cleanliness_rating',\n",
       " 'bedrooms',\n",
       " 'dist',\n",
       " 'metro_dist',\n",
       " 'lng',\n",
       " 'lat',\n",
       " 'city',\n",
       " 'longitude_disc_2_093_2_347',\n",
       " 'longitude_disc_2_347_12_47',\n",
       " 'longitude_disc_12_47_12_583',\n",
       " 'latitude_disc_41_35_41_893',\n",
       " 'latitude_disc_41_893_48_837',\n",
       " 'latitude_disc_48_837_48_901']"
      ]
     },
     "execution_count": 14,
     "metadata": {},
     "output_type": "execute_result"
    }
   ],
   "execution_count": 14
  },
  {
   "metadata": {},
   "cell_type": "markdown",
   "source": [
    "3. Recursive Feature Elimination\n",
    "\n",
    "We will use Recursive Feature Elimination with Cross-Validation to select the features."
   ],
   "id": "6e233dd613d2a474"
  },
  {
   "metadata": {
    "ExecuteTime": {
     "end_time": "2025-01-11T21:36:49.695775Z",
     "start_time": "2025-01-11T21:36:49.693436Z"
    }
   },
   "cell_type": "code",
   "source": [
    "features_candidates_rec = df.columns.tolist()\n",
    "features_candidates_rec.remove(\"realsum_cut\")"
   ],
   "id": "6765c0d4a221e5f5",
   "outputs": [],
   "execution_count": 15
  },
  {
   "metadata": {
    "ExecuteTime": {
     "end_time": "2025-01-11T21:36:50.251070Z",
     "start_time": "2025-01-11T21:36:49.823527Z"
    }
   },
   "cell_type": "code",
   "source": [
    "estimator = LinearRegression()\n",
    "selector = RFECV(estimator, step=1, cv=5, min_features_to_select=10)\n",
    "selector = selector.fit(\n",
    "    df.loc[:, features_candidates_rec].values, df.loc[:, \"realsum_cut\"].values.ravel()\n",
    ")\n",
    "\n",
    "features_candidates_rec = df.loc[:, features_candidates_rec].iloc[:, selector.support_].columns.tolist()"
   ],
   "id": "36ed140037be6df0",
   "outputs": [],
   "execution_count": 16
  },
  {
   "metadata": {
    "ExecuteTime": {
     "end_time": "2025-01-11T21:36:50.272776Z",
     "start_time": "2025-01-11T21:36:50.268005Z"
    }
   },
   "cell_type": "code",
   "source": "features_candidates_rec",
   "id": "d1cfc909393febe7",
   "outputs": [
    {
     "data": {
      "text/plain": [
       "['room_type',\n",
       " 'room_private',\n",
       " 'person_capacity',\n",
       " 'host_is_superhost',\n",
       " 'multi',\n",
       " 'biz',\n",
       " 'cleanliness_rating',\n",
       " 'bedrooms',\n",
       " 'dist',\n",
       " 'metro_dist',\n",
       " 'lng',\n",
       " 'lat',\n",
       " 'is_weekend',\n",
       " 'city',\n",
       " 'longitude_disc_2_093_2_347',\n",
       " 'longitude_disc_2_347_12_47',\n",
       " 'longitude_disc_12_47_12_583',\n",
       " 'latitude_disc_41_35_41_893',\n",
       " 'latitude_disc_41_893_48_837',\n",
       " 'latitude_disc_48_837_48_901']"
      ]
     },
     "execution_count": 17,
     "metadata": {},
     "output_type": "execute_result"
    }
   ],
   "execution_count": 17
  },
  {
   "metadata": {},
   "cell_type": "markdown",
   "source": [
    "4. Sequential Feature Selection\n",
    "\n",
    "We will use Sequential Feature Selection to select the features."
   ],
   "id": "dc3f223b153cfafc"
  },
  {
   "metadata": {
    "ExecuteTime": {
     "end_time": "2025-01-11T21:36:50.293471Z",
     "start_time": "2025-01-11T21:36:50.291191Z"
    }
   },
   "cell_type": "code",
   "source": [
    "features_selection_back = df.columns.tolist()\n",
    "features_selection_back.remove(\"realsum_cut\")"
   ],
   "id": "7889305ef583591",
   "outputs": [],
   "execution_count": 18
  },
  {
   "metadata": {
    "ExecuteTime": {
     "end_time": "2025-01-11T21:36:56.973423Z",
     "start_time": "2025-01-11T21:36:50.308999Z"
    }
   },
   "cell_type": "code",
   "source": [
    "model= LinearRegression()\n",
    "\n",
    "sf = SFS(\n",
    "    model,\n",
    "    k_features=(1, 10),\n",
    "    forward=True,\n",
    "    floating=False,\n",
    "    verbose=0,\n",
    "    scoring=\"neg_mean_squared_error\",\n",
    "    cv=5,\n",
    ")\n",
    "\n",
    "sffit = sf.fit(df.loc[:, features_selection_back].values, df.loc[:, \"realsum_cut\"].values.ravel())\n",
    "\n",
    "features_selection_back = df.loc[:, features_selection_back].columns[list(sffit.k_feature_idx_)]"
   ],
   "id": "7de42c65766ce594",
   "outputs": [],
   "execution_count": 19
  },
  {
   "metadata": {
    "ExecuteTime": {
     "end_time": "2025-01-11T21:36:57.001389Z",
     "start_time": "2025-01-11T21:36:56.996357Z"
    }
   },
   "cell_type": "code",
   "source": "features_selection_back",
   "id": "f8bd8dec6169e637",
   "outputs": [
    {
     "data": {
      "text/plain": [
       "Index(['room_type', 'person_capacity', 'multi', 'biz', 'cleanliness_rating',\n",
       "       'bedrooms', 'dist', 'lat', 'longitude_disc_2_093_2_347',\n",
       "       'latitude_disc_48_837_48_901'],\n",
       "      dtype='object')"
      ]
     },
     "execution_count": 20,
     "metadata": {},
     "output_type": "execute_result"
    }
   ],
   "execution_count": 20
  },
  {
   "metadata": {},
   "cell_type": "markdown",
   "source": [
    "#### Model evaluation with cross-validation approach\n",
    "\n",
    "We will evaluate the model using the cross-validation approach."
   ],
   "id": "9b3584b04f47c638"
  },
  {
   "metadata": {
    "ExecuteTime": {
     "end_time": "2025-01-11T21:36:57.029573Z",
     "start_time": "2025-01-11T21:36:57.026160Z"
    }
   },
   "cell_type": "code",
   "source": [
    "features = feature_selection_with_corr.index[0:5]\n",
    "features"
   ],
   "id": "645f8b81a5b003f6",
   "outputs": [
    {
     "data": {
      "text/plain": [
       "Index(['latitude_disc_48_837_48_901', 'room_type', 'lat', 'person_capacity',\n",
       "       'longitude_disc_2_093_2_347'],\n",
       "      dtype='object')"
      ]
     },
     "execution_count": 21,
     "metadata": {},
     "output_type": "execute_result"
    }
   ],
   "execution_count": 21
  },
  {
   "metadata": {},
   "cell_type": "markdown",
   "source": "Now we will define wrapper functions for our Cross Validation. We created two functions, one optimizing MAPE metric, and the other RMSE. We will also create a function for the shuffle cross-validation.",
   "id": "8dff3d97c7fbb369"
  },
  {
   "metadata": {
    "ExecuteTime": {
     "end_time": "2025-01-11T21:36:57.061033Z",
     "start_time": "2025-01-11T21:36:57.056686Z"
    }
   },
   "cell_type": "code",
   "source": [
    "def CV_wrapper(df_train, feature, model, num_split, random=None, shuff=False, display_res = False):\n",
    "    train_mape_list = list()\n",
    "    val_mape_list = list()\n",
    "\n",
    "    kf = KFold(n_splits=num_split, shuffle=shuff, random_state=random)\n",
    "    for train_index, val_index in kf.split(df_train.index.values):\n",
    "        reg = model\n",
    "        reg.fit(\n",
    "        X=df_train[feature].iloc[train_index],\n",
    "        y=df_train[[\"realsum_cut\"]].iloc[train_index],\n",
    "        )\n",
    "        pred_train = reg.predict(df_train[feature].iloc[train_index])   .ravel()\n",
    "        pred_val = reg.predict(df_train[feature].iloc[val_index])       .ravel()\n",
    "        train_mape = scoring_wrapper(\n",
    "            df_train[[\"realsum_cut\"]].iloc[train_index], pred_train\n",
    "            ).get(\"mape\")\n",
    "        val_mape = scoring_wrapper(df_train[[\"realsum_cut\"]]            .iloc[val_index], pred_val).get(\"mape\")\n",
    "        train_mape_list.append(train_mape)\n",
    "        val_mape_list.append(val_mape)\n",
    "\n",
    "    if display_res == True:\n",
    "        view = pd.DataFrame([train_mape_list,val_mape_list]).T.rename(columns={0:\"cv_train\", 1:\"cv_val\"})\n",
    "        return view\n",
    "    else:\n",
    "\n",
    "        return train_mape_list, val_mape_list"
   ],
   "id": "4bf13acdb14ad365",
   "outputs": [],
   "execution_count": 22
  },
  {
   "metadata": {
    "ExecuteTime": {
     "end_time": "2025-01-11T21:36:57.083676Z",
     "start_time": "2025-01-11T21:36:57.079908Z"
    }
   },
   "cell_type": "code",
   "source": [
    "def CV_rmse_wrapper(df_train, feature, model, num_split, random=None, shuff=False,  display_res = False):\n",
    "    train_rmse_list = list()\n",
    "    val_rmse_list = list()\n",
    "\n",
    "    kf = KFold(n_splits=num_split, shuffle=shuff, random_state=random)\n",
    "    for train_index, val_index in kf.split(df_train.index.values):\n",
    "        reg = model\n",
    "        reg.fit(\n",
    "        X=df_train[feature].iloc[train_index],\n",
    "        y=df_train[[\"realsum_cut\"]].iloc[train_index],\n",
    "        )\n",
    "        pred_train = reg.predict(df_train[feature].iloc[train_index])   .ravel()\n",
    "        pred_val = reg.predict(df_train[feature].iloc[val_index])       .ravel()\n",
    "        train_rmse = np.sqrt(scoring_wrapper(\n",
    "            df_train[[\"realsum_cut\"]].iloc[train_index], pred_train\n",
    "            ).get(\"mse\"))\n",
    "        val_rmse = np.sqrt((scoring_wrapper(df_train[[\"realsum_cut\"]]            .iloc[val_index], pred_val).get(\"mse\")))\n",
    "        train_rmse_list.append(train_rmse)\n",
    "        val_rmse_list.append(val_rmse)\n",
    "\n",
    "    if display_res == True:\n",
    "        view = pd.DataFrame([train_rmse_list,val_rmse_list]).T.rename(columns={0:\"cv_train\", 1:\"cv_val\"})\n",
    "        return view\n",
    "    else:\n",
    "        return train_rmse_list, val_rmse_list"
   ],
   "id": "3b1d5aa9fd2f652",
   "outputs": [],
   "execution_count": 23
  },
  {
   "metadata": {
    "ExecuteTime": {
     "end_time": "2025-01-11T21:36:57.118431Z",
     "start_time": "2025-01-11T21:36:57.114396Z"
    }
   },
   "cell_type": "code",
   "source": [
    "def shuffle_CV(df_train, feature, model, num_split, random, display_res = False):\n",
    "    train_mape_list = list()\n",
    "    val_mape_list = list()\n",
    "\n",
    "    kf = ShuffleSplit(n_splits=num_split, test_size=0.25, random_state=random)\n",
    "    for train_index, val_index in kf.split(df_train.index.values):\n",
    "        reg = model\n",
    "        reg.fit(\n",
    "        X=df_train[feature].iloc[train_index],\n",
    "        y=df_train[[\"realsum_cut\"]].iloc[train_index],\n",
    "        )\n",
    "        pred_train = reg.predict(df_train[feature].iloc[train_index]).ravel()\n",
    "        pred_val = reg.predict(df_train[feature].iloc[val_index]).ravel()\n",
    "        train_mape = scoring_wrapper(\n",
    "        df_train[[\"realsum_cut\"]].iloc[train_index], pred_train\n",
    "        ).get(\"mape\")\n",
    "        val_mape = scoring_wrapper(df_train[[\"realsum_cut\"]].iloc[val_index], pred_val).get(\n",
    "        \"mape\"\n",
    "        )\n",
    "        train_mape_list.append(train_mape)\n",
    "        val_mape_list.append(val_mape)\n",
    "\n",
    "    if display_res == True:\n",
    "        view = pd.DataFrame([train_mape_list, val_mape_list]).T.rename(columns={0: \"cv_train\", 1: \"cv_val\"})\n",
    "        return view\n",
    "    else:\n",
    "        return train_mape_list, val_mape_list\n"
   ],
   "id": "78c7c3cc7f11d77a",
   "outputs": [],
   "execution_count": 24
  },
  {
   "metadata": {
    "ExecuteTime": {
     "end_time": "2025-01-11T21:36:57.141044Z",
     "start_time": "2025-01-11T21:36:57.136872Z"
    }
   },
   "cell_type": "code",
   "source": [
    "def shuffle_CV_rmse(df_train, feature, model,  num_split, random,  display_res = False):\n",
    "    train_rmse_list = list()\n",
    "    val_rmse_list = list()\n",
    "\n",
    "    kf = ShuffleSplit(n_splits=num_split, test_size=0.25, random_state=random)\n",
    "    for train_index, val_index in kf.split(df_train.index.values):\n",
    "        reg = model\n",
    "        reg.fit(\n",
    "        X=df_train[feature].iloc[train_index],\n",
    "        y=df_train[[\"realsum_cut\"]].iloc[train_index],\n",
    "        )\n",
    "        pred_train = reg.predict(df_train[feature].iloc[train_index]).ravel()\n",
    "        pred_val = reg.predict(df_train[feature].iloc[val_index]).ravel()\n",
    "        train_rmse = np.sqrt(scoring_wrapper(\n",
    "        df_train[[\"realsum_cut\"]].iloc[train_index], pred_train\n",
    "        ).get(\"mse\"))\n",
    "        val_rmse = np.sqrt(scoring_wrapper(df_train[[\"realsum_cut\"]].iloc[val_index], pred_val).get(\n",
    "        \"mse\"))\n",
    "\n",
    "        train_rmse_list.append(train_rmse)\n",
    "        val_rmse_list.append(val_rmse)\n",
    "\n",
    "    if display_res == True:\n",
    "        view = pd.DataFrame([train_rmse_list, val_rmse_list]).T.rename(columns={0: \"cv_train\", 1: \"cv_val\"})\n",
    "        return view\n",
    "    else:\n",
    "        return train_rmse_list, val_rmse_list\n"
   ],
   "id": "c1fcae0dd430cd3c",
   "outputs": [],
   "execution_count": 25
  },
  {
   "metadata": {
    "ExecuteTime": {
     "end_time": "2025-01-11T21:36:57.798504Z",
     "start_time": "2025-01-11T21:36:57.163299Z"
    }
   },
   "cell_type": "code",
   "source": [
    "model_ols = LinearRegression()\n",
    "(CV_wrapper(df, features, model_ols, 10, display_res=True).mean(),\n",
    " CV_rmse_wrapper(df, features, model_ols, 10, display_res=True).mean(),\n",
    " CV_wrapper(df, features, model_ols, 10, 123, shuff=True, display_res=True).mean(),\n",
    " CV_rmse_wrapper(df, features, model_ols, 10, 123, shuff=True, display_res=True).mean(),\n",
    " shuffle_CV(df, features, model_ols, 10, 123, display_res=True).mean(),\n",
    " shuffle_CV_rmse(df, features, model_ols, 10, 123, display_res=True).mean())"
   ],
   "id": "cec669c820119b37",
   "outputs": [
    {
     "data": {
      "text/plain": [
       "(cv_train    0.362091\n",
       " cv_val      0.362218\n",
       " dtype: float64,\n",
       " cv_train    136.911950\n",
       " cv_val      136.884043\n",
       " dtype: float64,\n",
       " cv_train    0.362084\n",
       " cv_val      0.362265\n",
       " dtype: float64,\n",
       " cv_train    136.911440\n",
       " cv_val      136.844225\n",
       " dtype: float64,\n",
       " cv_train    0.363524\n",
       " cv_val      0.361665\n",
       " dtype: float64,\n",
       " cv_train    137.570685\n",
       " cv_val      134.941773\n",
       " dtype: float64)"
      ]
     },
     "execution_count": 26,
     "metadata": {},
     "output_type": "execute_result"
    }
   ],
   "execution_count": 26
  },
  {
   "metadata": {
    "ExecuteTime": {
     "end_time": "2025-01-11T21:36:58.707506Z",
     "start_time": "2025-01-11T21:36:57.805556Z"
    }
   },
   "cell_type": "code",
   "source": [
    "(CV_wrapper(df, features_selection_en, model_ols, 10, display_res=True).mean(),\n",
    " CV_rmse_wrapper(df, features_selection_en, model_ols, 10, display_res=True).mean(),\n",
    " CV_wrapper(df, features_selection_en, model_ols, 10, 123, shuff=True, display_res=True).mean(),\n",
    " CV_rmse_wrapper(df, features_selection_en, model_ols, 10, 123, shuff=True, display_res=True).mean(),\n",
    " shuffle_CV(df, features_selection_en, model_ols, 10, 123, display_res=True).mean(),\n",
    " shuffle_CV_rmse(df, features_selection_en, model_ols, 10, 123, display_res=True).mean())"
   ],
   "id": "329cbfaacdaf48b6",
   "outputs": [
    {
     "data": {
      "text/plain": [
       "(cv_train    0.340574\n",
       " cv_val      0.341279\n",
       " dtype: float64,\n",
       " cv_train    124.179533\n",
       " cv_val      124.299739\n",
       " dtype: float64,\n",
       " cv_train    0.340570\n",
       " cv_val      0.341166\n",
       " dtype: float64,\n",
       " cv_train    124.180565\n",
       " cv_val      124.249869\n",
       " dtype: float64,\n",
       " cv_train    0.341890\n",
       " cv_val      0.342076\n",
       " dtype: float64,\n",
       " cv_train    124.719898\n",
       " cv_val      122.663828\n",
       " dtype: float64)"
      ]
     },
     "execution_count": 27,
     "metadata": {},
     "output_type": "execute_result"
    }
   ],
   "execution_count": 27
  },
  {
   "metadata": {
    "ExecuteTime": {
     "end_time": "2025-01-11T21:36:59.895305Z",
     "start_time": "2025-01-11T21:36:58.723556Z"
    }
   },
   "cell_type": "code",
   "source": [
    "(CV_wrapper(df, features_candidates_rec, model_ols, 10, display_res=True).mean(),\n",
    " CV_rmse_wrapper(df, features_candidates_rec, model_ols, 10, display_res=True).mean(),\n",
    " CV_wrapper(df, features_candidates_rec, model_ols, 10, 123, shuff=True, display_res=True).mean(),\n",
    " CV_rmse_wrapper(df, features_candidates_rec, model_ols, 10, 123, shuff=True, display_res=True).mean(),\n",
    " shuffle_CV(df, features_candidates_rec, model_ols, 10, 123, display_res=True).mean(),\n",
    " shuffle_CV_rmse(df, features_candidates_rec, model_ols, 10, 123, display_res=True).mean())"
   ],
   "id": "3eba9cc07183fa30",
   "outputs": [
    {
     "data": {
      "text/plain": [
       "(cv_train    0.340056\n",
       " cv_val      0.340769\n",
       " dtype: float64,\n",
       " cv_train    124.100152\n",
       " cv_val      124.236409\n",
       " dtype: float64,\n",
       " cv_train    0.340050\n",
       " cv_val      0.340751\n",
       " dtype: float64,\n",
       " cv_train    124.100652\n",
       " cv_val      124.195857\n",
       " dtype: float64,\n",
       " cv_train    0.341321\n",
       " cv_val      0.341802\n",
       " dtype: float64,\n",
       " cv_train    124.631268\n",
       " cv_val      122.626229\n",
       " dtype: float64)"
      ]
     },
     "execution_count": 28,
     "metadata": {},
     "output_type": "execute_result"
    }
   ],
   "execution_count": 28
  },
  {
   "metadata": {
    "ExecuteTime": {
     "end_time": "2025-01-11T21:37:00.664640Z",
     "start_time": "2025-01-11T21:36:59.910784Z"
    }
   },
   "cell_type": "code",
   "source": [
    "(CV_wrapper(df, features_selection_back, model_ols, 10, display_res=True).mean(),\n",
    " CV_rmse_wrapper(df, features_selection_back, model_ols, 10, display_res=True).mean(),\n",
    " CV_wrapper(df, features_selection_back, model_ols, 10, 123, shuff=True, display_res=True).mean(),\n",
    " CV_rmse_wrapper(df, features_selection_back, model_ols, 10, 123, shuff=True, display_res=True).mean(),\n",
    " shuffle_CV(df, features_selection_back, model_ols, 10, 123, display_res=True).mean(),\n",
    " shuffle_CV_rmse(df, features_selection_back, model_ols, 10, 123, display_res=True).mean())"
   ],
   "id": "6dd8fdb5c64f66e5",
   "outputs": [
    {
     "data": {
      "text/plain": [
       "(cv_train    0.347679\n",
       " cv_val      0.348010\n",
       " dtype: float64,\n",
       " cv_train    126.288880\n",
       " cv_val      126.327969\n",
       " dtype: float64,\n",
       " cv_train    0.347673\n",
       " cv_val      0.347940\n",
       " dtype: float64,\n",
       " cv_train    126.289125\n",
       " cv_val      126.301988\n",
       " dtype: float64,\n",
       " cv_train    0.349162\n",
       " cv_val      0.348191\n",
       " dtype: float64,\n",
       " cv_train    126.841726\n",
       " cv_val      124.697595\n",
       " dtype: float64)"
      ]
     },
     "execution_count": 29,
     "metadata": {},
     "output_type": "execute_result"
    }
   ],
   "execution_count": 29
  },
  {
   "metadata": {},
   "cell_type": "markdown",
   "source": "We see that, the best score obtained the features dataset selected through Recursive Feature Elimination process.",
   "id": "b93ced6acdb55b85"
  },
  {
   "metadata": {
    "ExecuteTime": {
     "end_time": "2025-01-11T21:46:39.006052Z",
     "start_time": "2025-01-11T21:46:38.977225Z"
    }
   },
   "cell_type": "code",
   "source": [
    "model = LinearRegression()\n",
    "model.fit(df.loc[:, features_candidates_rec], df.loc[:, \"realsum_cut\"].values.ravel())\n",
    "pickle.dump(model, open(\"models/model.sav\", \"wb\"))"
   ],
   "id": "5dbdd2f10b715fc5",
   "outputs": [],
   "execution_count": 31
  },
  {
   "metadata": {},
   "cell_type": "markdown",
   "source": [
    "#### Regularization\n",
    "Let's move on to the topic of regularization for a few moments. As we know from the lecture, it is a set of techniques that allows us to modify the cost function to reduce the risk of overfitting our model. Three the most popular regularization types are: Lasso (l1), Ridge (l2), Elastic Net (linear combination of l1 and l2). Each of these models has hyperparameters (parameters that are not estimable by the model and we have to \"guess\"/choose them ourselves based on our expert knowledge or cross-validation): Lasso and Ridge (alpha - controlling regularization strength), Elastic Net (alpha - controlling regularization strength and l1_ratio - the ElasticNet mixing parameter). Let's jump into documentation and read more how we should interpret our HP.\n",
    "\n",
    "Generally, the alpha hyperparameter controls the strength of regularization in the model. A higher value of alpha will result in stronger regularization and simpler models with smaller coefficients. Conversely, a lower value of alpha will result in weaker regularization and more complex models with larger coefficients.\n",
    "\n",
    "For each regularization we created a wrapper function to easily apply the technique to our dataset."
   ],
   "id": "84f9c6bbe40da7b6"
  },
  {
   "metadata": {},
   "cell_type": "markdown",
   "source": [
    "##### Lasso\n",
    "For Lasso regression, a reasonable range of alpha values is typically between 0.0001 and 1. Smaller values of alpha result in less regularization, while larger values result in more regularization. Similarly to Ridge regression, a logarithmic scale can be used for alpha values, such as np.logspace(-4, 0, 5), which generates a sequence of alpha values between 0.0001 and 1."
   ],
   "id": "641ef08f3eb9e18f"
  },
  {
   "metadata": {
    "ExecuteTime": {
     "end_time": "2025-01-11T21:46:39.057531Z",
     "start_time": "2025-01-11T21:46:39.053051Z"
    }
   },
   "cell_type": "code",
   "source": [
    "def lasso_model_wrapper(df_train, feature_selection, num_split, random, shuff=True, display_res = False):\n",
    "    kf = KFold(n_splits=num_split, shuffle=shuff, random_state=random)\n",
    "\n",
    "# for alpha in [0.0001, 0.0005, 0.001, 0.005, 0.01, 0.025]:\n",
    "    for alpha in np.logspace(-4, 0, 10): #start, stop, num\n",
    "        train_mape_list = list()\n",
    "        val_mape_list = list()\n",
    "\n",
    "        for train_index, val_index in kf.split(df_train.index.values):\n",
    "            reg = Lasso(alpha=alpha, fit_intercept=True)\n",
    "            reg.fit(\n",
    "            X=df_train[feature_selection].iloc[train_index],\n",
    "            y=df_train[[\"realsum_cut\"]].iloc[train_index],\n",
    "            )\n",
    "            pred_train = reg.predict(df_train[feature_selection].iloc[train_index]).ravel()\n",
    "            pred_val = reg.predict(df_train[feature_selection].iloc[val_index]).ravel()\n",
    "            train_mape = scoring_wrapper(\n",
    "                df_train[[\"realsum_cut\"]].iloc[train_index], pred_train\n",
    "            ).get(\"mape\")\n",
    "            val_mape = scoring_wrapper(\n",
    "                df_train[[\"realsum_cut\"]].iloc[val_index], pred_val\n",
    "            ).get(\"mape\")\n",
    "            train_mape_list.append(train_mape)\n",
    "            val_mape_list.append(val_mape)\n",
    "\n",
    "    if display_res == True:\n",
    "        view = pd.DataFrame([train_mape_list, val_mape_list]).T.rename(columns={0: \"cv_train\", 1: \"cv_val\"})\n",
    "        return view\n",
    "    else:\n",
    "        return train_mape_list, val_mape_list"
   ],
   "id": "d7adb4a267e71f2a",
   "outputs": [],
   "execution_count": 32
  },
  {
   "metadata": {
    "ExecuteTime": {
     "end_time": "2025-01-11T21:46:40.555104Z",
     "start_time": "2025-01-11T21:46:39.091951Z"
    }
   },
   "cell_type": "code",
   "source": "lasso_model_wrapper(df, features, 10, 123, display_res=True).mean()",
   "id": "36e0f7b99785fe74",
   "outputs": [
    {
     "data": {
      "text/plain": [
       "cv_train    0.361137\n",
       "cv_val      0.361316\n",
       "dtype: float64"
      ]
     },
     "execution_count": 33,
     "metadata": {},
     "output_type": "execute_result"
    }
   ],
   "execution_count": 33
  },
  {
   "metadata": {
    "ExecuteTime": {
     "end_time": "2025-01-11T21:46:57.541489Z",
     "start_time": "2025-01-11T21:46:40.583825Z"
    }
   },
   "cell_type": "code",
   "source": "lasso_model_wrapper(df, features_selection_en, 10, 123, display_res=True).mean()",
   "id": "e2ead45f671e69ca",
   "outputs": [
    {
     "data": {
      "text/plain": [
       "cv_train    0.344010\n",
       "cv_val      0.344418\n",
       "dtype: float64"
      ]
     },
     "execution_count": 34,
     "metadata": {},
     "output_type": "execute_result"
    }
   ],
   "execution_count": 34
  },
  {
   "metadata": {
    "ExecuteTime": {
     "end_time": "2025-01-11T21:47:17.260414Z",
     "start_time": "2025-01-11T21:46:57.574959Z"
    }
   },
   "cell_type": "code",
   "source": "lasso_model_wrapper(df, features_candidates_rec, 10, 123, display_res=True).mean()",
   "id": "f88049eb735d6957",
   "outputs": [
    {
     "data": {
      "text/plain": [
       "cv_train    0.343618\n",
       "cv_val      0.344130\n",
       "dtype: float64"
      ]
     },
     "execution_count": 35,
     "metadata": {},
     "output_type": "execute_result"
    }
   ],
   "execution_count": 35
  },
  {
   "metadata": {
    "ExecuteTime": {
     "end_time": "2025-01-11T21:47:19.525203Z",
     "start_time": "2025-01-11T21:47:17.329557Z"
    }
   },
   "cell_type": "code",
   "source": "lasso_model_wrapper(df, features_selection_back, 10, 123, display_res=True).mean()",
   "id": "b5745fb57b8ba06f",
   "outputs": [
    {
     "data": {
      "text/plain": [
       "cv_train    0.345068\n",
       "cv_val      0.345363\n",
       "dtype: float64"
      ]
     },
     "execution_count": 36,
     "metadata": {},
     "output_type": "execute_result"
    }
   ],
   "execution_count": 36
  },
  {
   "metadata": {},
   "cell_type": "markdown",
   "source": "There is no significant impact with lasso regularization.",
   "id": "8508f0ab6f6becf5"
  },
  {
   "metadata": {},
   "cell_type": "markdown",
   "source": [
    "##### Ridge\n",
    "For Ridge regression, a reasonable range of alpha values is typically between 0.01 and 100. Smaller values of alpha result in less regularization, while larger values result in more regularization. It's common to use a logarithmic scale for alpha values, such as np.logspace(-3, 3, 7), which generates a sequence of alpha values between 0.001 and 1000."
   ],
   "id": "462e911c9efeab41"
  },
  {
   "metadata": {
    "ExecuteTime": {
     "end_time": "2025-01-11T21:47:19.577494Z",
     "start_time": "2025-01-11T21:47:19.573101Z"
    }
   },
   "cell_type": "code",
   "source": [
    "def ridge_model_wrapper(df_train, feature_selection, num_split, random, shuff=True, display_res = False):\n",
    "    kf = KFold(n_splits=num_split, shuffle=shuff, random_state=random)\n",
    "\n",
    "# for alpha in [0.0001, 0.0005, 0.001, 0.005, 0.01, 0.025]:\n",
    "    for alpha in np.logspace(-4, 0, 10): #start, stop, num\n",
    "        train_mape_list = list()\n",
    "        val_mape_list = list()\n",
    "\n",
    "        for train_index, val_index in kf.split(df_train.index.values):\n",
    "            reg = Ridge(alpha=alpha, fit_intercept=True)\n",
    "            reg.fit(\n",
    "            X=df_train[feature_selection].iloc[train_index],\n",
    "            y=df_train[[\"realsum_cut\"]].iloc[train_index],\n",
    "            )\n",
    "            pred_train = reg.predict(df_train[feature_selection].iloc[train_index]).ravel()\n",
    "            pred_val = reg.predict(df_train[feature_selection].iloc[val_index]).ravel()\n",
    "            train_mape = scoring_wrapper(\n",
    "                df_train[[\"realsum_cut\"]].iloc[train_index], pred_train\n",
    "            ).get(\"mape\")\n",
    "            val_mape = scoring_wrapper(\n",
    "                df_train[[\"realsum_cut\"]].iloc[val_index], pred_val\n",
    "            ).get(\"mape\")\n",
    "            train_mape_list.append(train_mape)\n",
    "            val_mape_list.append(val_mape)\n",
    "\n",
    "    if display_res == True:\n",
    "        view = pd.DataFrame([train_mape_list, val_mape_list]).T.rename(columns={0: \"cv_train\", 1: \"cv_val\"})\n",
    "        return view\n",
    "    else:\n",
    "        return train_mape_list, val_mape_list"
   ],
   "id": "5cfb767341ee9173",
   "outputs": [],
   "execution_count": 37
  },
  {
   "metadata": {
    "ExecuteTime": {
     "end_time": "2025-01-11T21:47:21.293012Z",
     "start_time": "2025-01-11T21:47:19.823202Z"
    }
   },
   "cell_type": "code",
   "source": "ridge_model_wrapper(df, features, 10, 123, display_res=True).mean()",
   "id": "b98510c982216966",
   "outputs": [
    {
     "data": {
      "text/plain": [
       "cv_train    0.362069\n",
       "cv_val      0.362251\n",
       "dtype: float64"
      ]
     },
     "execution_count": 38,
     "metadata": {},
     "output_type": "execute_result"
    }
   ],
   "execution_count": 38
  },
  {
   "metadata": {
    "ExecuteTime": {
     "end_time": "2025-01-11T21:47:22.548607Z",
     "start_time": "2025-01-11T21:47:21.320444Z"
    }
   },
   "cell_type": "code",
   "source": "ridge_model_wrapper(df, features_selection_en, 10, 123, display_res=True).mean()",
   "id": "8582e770210c1a57",
   "outputs": [
    {
     "data": {
      "text/plain": [
       "cv_train    0.342882\n",
       "cv_val      0.343330\n",
       "dtype: float64"
      ]
     },
     "execution_count": 39,
     "metadata": {},
     "output_type": "execute_result"
    }
   ],
   "execution_count": 39
  },
  {
   "metadata": {
    "ExecuteTime": {
     "end_time": "2025-01-11T21:47:23.962643Z",
     "start_time": "2025-01-11T21:47:22.597901Z"
    }
   },
   "cell_type": "code",
   "source": "ridge_model_wrapper(df, features_candidates_rec, 10, 123, display_res=True).mean()",
   "id": "d2be96b65d9f81d7",
   "outputs": [
    {
     "data": {
      "text/plain": [
       "cv_train    0.342251\n",
       "cv_val      0.342831\n",
       "dtype: float64"
      ]
     },
     "execution_count": 40,
     "metadata": {},
     "output_type": "execute_result"
    }
   ],
   "execution_count": 40
  },
  {
   "metadata": {
    "ExecuteTime": {
     "end_time": "2025-01-11T21:47:25.085466Z",
     "start_time": "2025-01-11T21:47:24.011115Z"
    }
   },
   "cell_type": "code",
   "source": "ridge_model_wrapper(df, features_selection_back, 10, 123, display_res=True).mean()",
   "id": "4ad46d5a0ba8b123",
   "outputs": [
    {
     "data": {
      "text/plain": [
       "cv_train    0.347653\n",
       "cv_val      0.347919\n",
       "dtype: float64"
      ]
     },
     "execution_count": 41,
     "metadata": {},
     "output_type": "execute_result"
    }
   ],
   "execution_count": 41
  },
  {
   "metadata": {},
   "cell_type": "markdown",
   "source": "No improvement with ridge regularization either. Let's move on to the ElasticNet regularization.",
   "id": "e3fe69913c47e341"
  },
  {
   "metadata": {},
   "cell_type": "markdown",
   "source": [
    "##### ElasticNet\n",
    "Now we have to check two HP: l1_ratio and alpha in CV.\n",
    "\n",
    "The hyperparameter l1_ratio controls the balance between L1 and L2 regularization. It is a value between 0 and 1 that determines the proportion of the penalty that comes from L1 regularization. When l1_ratio=0, the ElasticNet model reduces to Ridge regression, and when l1_ratio=1, it reduces to Lasso regression. For values of l1_ratio between 0 and 1, the model uses a combination of L1 and L2 regularization."
   ],
   "id": "28569d7e5653a68a"
  },
  {
   "metadata": {
    "ExecuteTime": {
     "end_time": "2025-01-11T21:47:25.141356Z",
     "start_time": "2025-01-11T21:47:25.134191Z"
    }
   },
   "cell_type": "code",
   "source": [
    "def EN_model_wrapper(df_train, feature_selection, num_split, random, shuff=True, display_res = False):\n",
    "    kf = KFold(n_splits=num_split, shuffle=shuff, random_state=random)\n",
    "\n",
    "    for l1_ratio in [0.1, 0.25, 0.5, 0.75, 0.9]:\n",
    "        for alpha in [0.0001, 0.0005, 0.001, 0.005, 0.01, 0.025]: #start, stop, num\n",
    "            train_mape_list = list()\n",
    "            val_mape_list = list()\n",
    "\n",
    "            for train_index, val_index in kf.split(df_train.index.values):\n",
    "                reg = ElasticNet(alpha=alpha, l1_ratio=l1_ratio, fit_intercept=True)\n",
    "                reg.fit(\n",
    "                    X=df_train[feature_selection].iloc[train_index],\n",
    "                    y=df_train[[\"realsum_cut\"]].iloc[train_index],\n",
    "                )\n",
    "                pred_train = reg.predict(df_train[feature_selection].iloc[train_index]).ravel()\n",
    "                pred_val = reg.predict(df_train[feature_selection].iloc[val_index]).ravel()\n",
    "                train_mape = scoring_wrapper(\n",
    "                    df_train[[\"realsum_cut\"]].iloc[train_index], pred_train\n",
    "                ).get(\"mape\")\n",
    "                val_mape = scoring_wrapper(\n",
    "                    df_train[[\"realsum_cut\"]].iloc[val_index], pred_val\n",
    "                ).get(\"mape\")\n",
    "                train_mape_list.append(train_mape)\n",
    "                val_mape_list.append(val_mape)\n",
    "\n",
    "    if display_res == True:\n",
    "        view = pd.DataFrame([train_mape_list, val_mape_list]).T.rename(columns={0: \"cv_train\", 1: \"cv_val\"})\n",
    "        return view\n",
    "    else:\n",
    "        return train_mape_list, val_mape_list"
   ],
   "id": "247e9154f006f0db",
   "outputs": [],
   "execution_count": 42
  },
  {
   "metadata": {
    "ExecuteTime": {
     "end_time": "2025-01-11T21:47:29.765944Z",
     "start_time": "2025-01-11T21:47:25.229208Z"
    }
   },
   "cell_type": "code",
   "source": "EN_model_wrapper(df, features, 10, 123, display_res=True).mean()",
   "id": "d2a5e9bf773a98a",
   "outputs": [
    {
     "data": {
      "text/plain": [
       "cv_train    0.361618\n",
       "cv_val      0.361799\n",
       "dtype: float64"
      ]
     },
     "execution_count": 43,
     "metadata": {},
     "output_type": "execute_result"
    }
   ],
   "execution_count": 43
  },
  {
   "metadata": {
    "ExecuteTime": {
     "end_time": "2025-01-11T21:48:27.685303Z",
     "start_time": "2025-01-11T21:47:29.794833Z"
    }
   },
   "cell_type": "code",
   "source": "EN_model_wrapper(df, features_selection_en, 10, 123, display_res=True).mean()",
   "id": "ed3164b8da00f1e0",
   "outputs": [
    {
     "data": {
      "text/plain": [
       "cv_train    0.344721\n",
       "cv_val      0.345146\n",
       "dtype: float64"
      ]
     },
     "execution_count": 44,
     "metadata": {},
     "output_type": "execute_result"
    }
   ],
   "execution_count": 44
  },
  {
   "metadata": {
    "ExecuteTime": {
     "end_time": "2025-01-11T21:49:37.751661Z",
     "start_time": "2025-01-11T21:48:27.719198Z"
    }
   },
   "cell_type": "code",
   "source": "EN_model_wrapper(df, features_candidates_rec, 10, 123, display_res=True).mean()",
   "id": "562c13205cfec3f7",
   "outputs": [
    {
     "data": {
      "text/plain": [
       "cv_train    0.344078\n",
       "cv_val      0.344600\n",
       "dtype: float64"
      ]
     },
     "execution_count": 45,
     "metadata": {},
     "output_type": "execute_result"
    }
   ],
   "execution_count": 45
  },
  {
   "metadata": {
    "ExecuteTime": {
     "end_time": "2025-01-11T21:49:45.829231Z",
     "start_time": "2025-01-11T21:49:37.827772Z"
    }
   },
   "cell_type": "code",
   "source": "EN_model_wrapper(df, features_selection_back, 10, 123, display_res=True).mean()",
   "id": "b24b01dabad75644",
   "outputs": [
    {
     "data": {
      "text/plain": [
       "cv_train    0.346957\n",
       "cv_val      0.347222\n",
       "dtype: float64"
      ]
     },
     "execution_count": 46,
     "metadata": {},
     "output_type": "execute_result"
    }
   ],
   "execution_count": 46
  },
  {
   "metadata": {},
   "cell_type": "markdown",
   "source": "Unfortunately, ElasticNet did not improve the results on MAPE either.",
   "id": "92f4e48f46d24f17"
  },
  {
   "metadata": {},
   "cell_type": "markdown",
   "source": [
    "#### Hyperparameters tuning\n",
    "Ok, we are now ready for the last step of our OLS model analysis, i.e. testing different hyperparameter search strategies in CV. We will focus on three strategies:\n",
    "- Random search\n",
    "- Grid search"
   ],
   "id": "b19fc25b16f7d461"
  },
  {
   "metadata": {},
   "cell_type": "markdown",
   "source": [
    "##### Random Search\n",
    "We use random search as a method for searching or sampling candidates."
   ],
   "id": "59ef93133a61add7"
  },
  {
   "metadata": {
    "ExecuteTime": {
     "end_time": "2025-01-11T21:49:45.893692Z",
     "start_time": "2025-01-11T21:49:45.889495Z"
    }
   },
   "cell_type": "code",
   "source": [
    "estimator = LinearRegression()\n",
    "\n",
    "parameter_space = dict(\n",
    "   # alpha=np.logspace(-3, 3, 20),\n",
    "    #l1_ratio=uniform(0,1),\n",
    "   fit_intercept=[True, False],\n",
    ")\n",
    "\n",
    "cross_validation_schema = KFold(n_splits=10, shuffle=True)\n",
    "score_function = {'mape': 'neg_mean_absolute_percentage_error',\n",
    "           'mae': make_scorer(mean_absolute_error, greater_is_better=False)}\n",
    "\n",
    "n_iterations = 100"
   ],
   "id": "97f26f26958b542f",
   "outputs": [],
   "execution_count": 47
  },
  {
   "metadata": {
    "ExecuteTime": {
     "end_time": "2025-01-11T21:49:48.892010Z",
     "start_time": "2025-01-11T21:49:45.965313Z"
    }
   },
   "cell_type": "code",
   "source": [
    "random_search_cv = RandomizedSearchCV(\n",
    "    estimator=estimator,\n",
    "    param_distributions=parameter_space,\n",
    "    n_iter=n_iterations,\n",
    "    n_jobs=-1,\n",
    "    cv=cross_validation_schema,\n",
    "    scoring=score_function,\n",
    "    refit=\"mape\",\n",
    "    random_state=123,\n",
    "    return_train_score=False,\n",
    "    verbose=3 #Controls the verbosity: the higher, the more messages.\n",
    "\n",
    ")\n",
    "search = random_search_cv.fit(df[features_candidates_rec], df[\"realsum_cut\"])"
   ],
   "id": "c1d7d8541ecabf1e",
   "outputs": [
    {
     "name": "stdout",
     "output_type": "stream",
     "text": [
      "Fitting 10 folds for each of 2 candidates, totalling 20 fits\n"
     ]
    },
    {
     "name": "stderr",
     "output_type": "stream",
     "text": [
      "/Users/joannamisiak/PycharmProjects/tempProject/.venv/lib/python3.13/site-packages/sklearn/model_selection/_search.py:317: UserWarning: The total space of parameters 2 is smaller than n_iter=100. Running 2 iterations. For exhaustive searches, use GridSearchCV.\n",
      "  warnings.warn(\n"
     ]
    }
   ],
   "execution_count": 48
  },
  {
   "metadata": {
    "ExecuteTime": {
     "end_time": "2025-01-11T21:49:48.949885Z",
     "start_time": "2025-01-11T21:49:48.944195Z"
    }
   },
   "cell_type": "code",
   "source": "search.best_params_",
   "id": "7cbf91c361be0894",
   "outputs": [
    {
     "data": {
      "text/plain": [
       "{'fit_intercept': True}"
      ]
     },
     "execution_count": 49,
     "metadata": {},
     "output_type": "execute_result"
    }
   ],
   "execution_count": 49
  },
  {
   "metadata": {
    "ExecuteTime": {
     "end_time": "2025-01-11T21:49:48.999426Z",
     "start_time": "2025-01-11T21:49:48.993838Z"
    }
   },
   "cell_type": "code",
   "source": "search.best_estimator_",
   "id": "4b5c1928af355648",
   "outputs": [
    {
     "data": {
      "text/plain": [
       "LinearRegression()"
      ],
      "text/html": [
       "<style>#sk-container-id-1 {\n",
       "  /* Definition of color scheme common for light and dark mode */\n",
       "  --sklearn-color-text: #000;\n",
       "  --sklearn-color-text-muted: #666;\n",
       "  --sklearn-color-line: gray;\n",
       "  /* Definition of color scheme for unfitted estimators */\n",
       "  --sklearn-color-unfitted-level-0: #fff5e6;\n",
       "  --sklearn-color-unfitted-level-1: #f6e4d2;\n",
       "  --sklearn-color-unfitted-level-2: #ffe0b3;\n",
       "  --sklearn-color-unfitted-level-3: chocolate;\n",
       "  /* Definition of color scheme for fitted estimators */\n",
       "  --sklearn-color-fitted-level-0: #f0f8ff;\n",
       "  --sklearn-color-fitted-level-1: #d4ebff;\n",
       "  --sklearn-color-fitted-level-2: #b3dbfd;\n",
       "  --sklearn-color-fitted-level-3: cornflowerblue;\n",
       "\n",
       "  /* Specific color for light theme */\n",
       "  --sklearn-color-text-on-default-background: var(--sg-text-color, var(--theme-code-foreground, var(--jp-content-font-color1, black)));\n",
       "  --sklearn-color-background: var(--sg-background-color, var(--theme-background, var(--jp-layout-color0, white)));\n",
       "  --sklearn-color-border-box: var(--sg-text-color, var(--theme-code-foreground, var(--jp-content-font-color1, black)));\n",
       "  --sklearn-color-icon: #696969;\n",
       "\n",
       "  @media (prefers-color-scheme: dark) {\n",
       "    /* Redefinition of color scheme for dark theme */\n",
       "    --sklearn-color-text-on-default-background: var(--sg-text-color, var(--theme-code-foreground, var(--jp-content-font-color1, white)));\n",
       "    --sklearn-color-background: var(--sg-background-color, var(--theme-background, var(--jp-layout-color0, #111)));\n",
       "    --sklearn-color-border-box: var(--sg-text-color, var(--theme-code-foreground, var(--jp-content-font-color1, white)));\n",
       "    --sklearn-color-icon: #878787;\n",
       "  }\n",
       "}\n",
       "\n",
       "#sk-container-id-1 {\n",
       "  color: var(--sklearn-color-text);\n",
       "}\n",
       "\n",
       "#sk-container-id-1 pre {\n",
       "  padding: 0;\n",
       "}\n",
       "\n",
       "#sk-container-id-1 input.sk-hidden--visually {\n",
       "  border: 0;\n",
       "  clip: rect(1px 1px 1px 1px);\n",
       "  clip: rect(1px, 1px, 1px, 1px);\n",
       "  height: 1px;\n",
       "  margin: -1px;\n",
       "  overflow: hidden;\n",
       "  padding: 0;\n",
       "  position: absolute;\n",
       "  width: 1px;\n",
       "}\n",
       "\n",
       "#sk-container-id-1 div.sk-dashed-wrapped {\n",
       "  border: 1px dashed var(--sklearn-color-line);\n",
       "  margin: 0 0.4em 0.5em 0.4em;\n",
       "  box-sizing: border-box;\n",
       "  padding-bottom: 0.4em;\n",
       "  background-color: var(--sklearn-color-background);\n",
       "}\n",
       "\n",
       "#sk-container-id-1 div.sk-container {\n",
       "  /* jupyter's `normalize.less` sets `[hidden] { display: none; }`\n",
       "     but bootstrap.min.css set `[hidden] { display: none !important; }`\n",
       "     so we also need the `!important` here to be able to override the\n",
       "     default hidden behavior on the sphinx rendered scikit-learn.org.\n",
       "     See: https://github.com/scikit-learn/scikit-learn/issues/21755 */\n",
       "  display: inline-block !important;\n",
       "  position: relative;\n",
       "}\n",
       "\n",
       "#sk-container-id-1 div.sk-text-repr-fallback {\n",
       "  display: none;\n",
       "}\n",
       "\n",
       "div.sk-parallel-item,\n",
       "div.sk-serial,\n",
       "div.sk-item {\n",
       "  /* draw centered vertical line to link estimators */\n",
       "  background-image: linear-gradient(var(--sklearn-color-text-on-default-background), var(--sklearn-color-text-on-default-background));\n",
       "  background-size: 2px 100%;\n",
       "  background-repeat: no-repeat;\n",
       "  background-position: center center;\n",
       "}\n",
       "\n",
       "/* Parallel-specific style estimator block */\n",
       "\n",
       "#sk-container-id-1 div.sk-parallel-item::after {\n",
       "  content: \"\";\n",
       "  width: 100%;\n",
       "  border-bottom: 2px solid var(--sklearn-color-text-on-default-background);\n",
       "  flex-grow: 1;\n",
       "}\n",
       "\n",
       "#sk-container-id-1 div.sk-parallel {\n",
       "  display: flex;\n",
       "  align-items: stretch;\n",
       "  justify-content: center;\n",
       "  background-color: var(--sklearn-color-background);\n",
       "  position: relative;\n",
       "}\n",
       "\n",
       "#sk-container-id-1 div.sk-parallel-item {\n",
       "  display: flex;\n",
       "  flex-direction: column;\n",
       "}\n",
       "\n",
       "#sk-container-id-1 div.sk-parallel-item:first-child::after {\n",
       "  align-self: flex-end;\n",
       "  width: 50%;\n",
       "}\n",
       "\n",
       "#sk-container-id-1 div.sk-parallel-item:last-child::after {\n",
       "  align-self: flex-start;\n",
       "  width: 50%;\n",
       "}\n",
       "\n",
       "#sk-container-id-1 div.sk-parallel-item:only-child::after {\n",
       "  width: 0;\n",
       "}\n",
       "\n",
       "/* Serial-specific style estimator block */\n",
       "\n",
       "#sk-container-id-1 div.sk-serial {\n",
       "  display: flex;\n",
       "  flex-direction: column;\n",
       "  align-items: center;\n",
       "  background-color: var(--sklearn-color-background);\n",
       "  padding-right: 1em;\n",
       "  padding-left: 1em;\n",
       "}\n",
       "\n",
       "\n",
       "/* Toggleable style: style used for estimator/Pipeline/ColumnTransformer box that is\n",
       "clickable and can be expanded/collapsed.\n",
       "- Pipeline and ColumnTransformer use this feature and define the default style\n",
       "- Estimators will overwrite some part of the style using the `sk-estimator` class\n",
       "*/\n",
       "\n",
       "/* Pipeline and ColumnTransformer style (default) */\n",
       "\n",
       "#sk-container-id-1 div.sk-toggleable {\n",
       "  /* Default theme specific background. It is overwritten whether we have a\n",
       "  specific estimator or a Pipeline/ColumnTransformer */\n",
       "  background-color: var(--sklearn-color-background);\n",
       "}\n",
       "\n",
       "/* Toggleable label */\n",
       "#sk-container-id-1 label.sk-toggleable__label {\n",
       "  cursor: pointer;\n",
       "  display: flex;\n",
       "  width: 100%;\n",
       "  margin-bottom: 0;\n",
       "  padding: 0.5em;\n",
       "  box-sizing: border-box;\n",
       "  text-align: center;\n",
       "  align-items: start;\n",
       "  justify-content: space-between;\n",
       "  gap: 0.5em;\n",
       "}\n",
       "\n",
       "#sk-container-id-1 label.sk-toggleable__label .caption {\n",
       "  font-size: 0.6rem;\n",
       "  font-weight: lighter;\n",
       "  color: var(--sklearn-color-text-muted);\n",
       "}\n",
       "\n",
       "#sk-container-id-1 label.sk-toggleable__label-arrow:before {\n",
       "  /* Arrow on the left of the label */\n",
       "  content: \"▸\";\n",
       "  float: left;\n",
       "  margin-right: 0.25em;\n",
       "  color: var(--sklearn-color-icon);\n",
       "}\n",
       "\n",
       "#sk-container-id-1 label.sk-toggleable__label-arrow:hover:before {\n",
       "  color: var(--sklearn-color-text);\n",
       "}\n",
       "\n",
       "/* Toggleable content - dropdown */\n",
       "\n",
       "#sk-container-id-1 div.sk-toggleable__content {\n",
       "  max-height: 0;\n",
       "  max-width: 0;\n",
       "  overflow: hidden;\n",
       "  text-align: left;\n",
       "  /* unfitted */\n",
       "  background-color: var(--sklearn-color-unfitted-level-0);\n",
       "}\n",
       "\n",
       "#sk-container-id-1 div.sk-toggleable__content.fitted {\n",
       "  /* fitted */\n",
       "  background-color: var(--sklearn-color-fitted-level-0);\n",
       "}\n",
       "\n",
       "#sk-container-id-1 div.sk-toggleable__content pre {\n",
       "  margin: 0.2em;\n",
       "  border-radius: 0.25em;\n",
       "  color: var(--sklearn-color-text);\n",
       "  /* unfitted */\n",
       "  background-color: var(--sklearn-color-unfitted-level-0);\n",
       "}\n",
       "\n",
       "#sk-container-id-1 div.sk-toggleable__content.fitted pre {\n",
       "  /* unfitted */\n",
       "  background-color: var(--sklearn-color-fitted-level-0);\n",
       "}\n",
       "\n",
       "#sk-container-id-1 input.sk-toggleable__control:checked~div.sk-toggleable__content {\n",
       "  /* Expand drop-down */\n",
       "  max-height: 200px;\n",
       "  max-width: 100%;\n",
       "  overflow: auto;\n",
       "}\n",
       "\n",
       "#sk-container-id-1 input.sk-toggleable__control:checked~label.sk-toggleable__label-arrow:before {\n",
       "  content: \"▾\";\n",
       "}\n",
       "\n",
       "/* Pipeline/ColumnTransformer-specific style */\n",
       "\n",
       "#sk-container-id-1 div.sk-label input.sk-toggleable__control:checked~label.sk-toggleable__label {\n",
       "  color: var(--sklearn-color-text);\n",
       "  background-color: var(--sklearn-color-unfitted-level-2);\n",
       "}\n",
       "\n",
       "#sk-container-id-1 div.sk-label.fitted input.sk-toggleable__control:checked~label.sk-toggleable__label {\n",
       "  background-color: var(--sklearn-color-fitted-level-2);\n",
       "}\n",
       "\n",
       "/* Estimator-specific style */\n",
       "\n",
       "/* Colorize estimator box */\n",
       "#sk-container-id-1 div.sk-estimator input.sk-toggleable__control:checked~label.sk-toggleable__label {\n",
       "  /* unfitted */\n",
       "  background-color: var(--sklearn-color-unfitted-level-2);\n",
       "}\n",
       "\n",
       "#sk-container-id-1 div.sk-estimator.fitted input.sk-toggleable__control:checked~label.sk-toggleable__label {\n",
       "  /* fitted */\n",
       "  background-color: var(--sklearn-color-fitted-level-2);\n",
       "}\n",
       "\n",
       "#sk-container-id-1 div.sk-label label.sk-toggleable__label,\n",
       "#sk-container-id-1 div.sk-label label {\n",
       "  /* The background is the default theme color */\n",
       "  color: var(--sklearn-color-text-on-default-background);\n",
       "}\n",
       "\n",
       "/* On hover, darken the color of the background */\n",
       "#sk-container-id-1 div.sk-label:hover label.sk-toggleable__label {\n",
       "  color: var(--sklearn-color-text);\n",
       "  background-color: var(--sklearn-color-unfitted-level-2);\n",
       "}\n",
       "\n",
       "/* Label box, darken color on hover, fitted */\n",
       "#sk-container-id-1 div.sk-label.fitted:hover label.sk-toggleable__label.fitted {\n",
       "  color: var(--sklearn-color-text);\n",
       "  background-color: var(--sklearn-color-fitted-level-2);\n",
       "}\n",
       "\n",
       "/* Estimator label */\n",
       "\n",
       "#sk-container-id-1 div.sk-label label {\n",
       "  font-family: monospace;\n",
       "  font-weight: bold;\n",
       "  display: inline-block;\n",
       "  line-height: 1.2em;\n",
       "}\n",
       "\n",
       "#sk-container-id-1 div.sk-label-container {\n",
       "  text-align: center;\n",
       "}\n",
       "\n",
       "/* Estimator-specific */\n",
       "#sk-container-id-1 div.sk-estimator {\n",
       "  font-family: monospace;\n",
       "  border: 1px dotted var(--sklearn-color-border-box);\n",
       "  border-radius: 0.25em;\n",
       "  box-sizing: border-box;\n",
       "  margin-bottom: 0.5em;\n",
       "  /* unfitted */\n",
       "  background-color: var(--sklearn-color-unfitted-level-0);\n",
       "}\n",
       "\n",
       "#sk-container-id-1 div.sk-estimator.fitted {\n",
       "  /* fitted */\n",
       "  background-color: var(--sklearn-color-fitted-level-0);\n",
       "}\n",
       "\n",
       "/* on hover */\n",
       "#sk-container-id-1 div.sk-estimator:hover {\n",
       "  /* unfitted */\n",
       "  background-color: var(--sklearn-color-unfitted-level-2);\n",
       "}\n",
       "\n",
       "#sk-container-id-1 div.sk-estimator.fitted:hover {\n",
       "  /* fitted */\n",
       "  background-color: var(--sklearn-color-fitted-level-2);\n",
       "}\n",
       "\n",
       "/* Specification for estimator info (e.g. \"i\" and \"?\") */\n",
       "\n",
       "/* Common style for \"i\" and \"?\" */\n",
       "\n",
       ".sk-estimator-doc-link,\n",
       "a:link.sk-estimator-doc-link,\n",
       "a:visited.sk-estimator-doc-link {\n",
       "  float: right;\n",
       "  font-size: smaller;\n",
       "  line-height: 1em;\n",
       "  font-family: monospace;\n",
       "  background-color: var(--sklearn-color-background);\n",
       "  border-radius: 1em;\n",
       "  height: 1em;\n",
       "  width: 1em;\n",
       "  text-decoration: none !important;\n",
       "  margin-left: 0.5em;\n",
       "  text-align: center;\n",
       "  /* unfitted */\n",
       "  border: var(--sklearn-color-unfitted-level-1) 1pt solid;\n",
       "  color: var(--sklearn-color-unfitted-level-1);\n",
       "}\n",
       "\n",
       ".sk-estimator-doc-link.fitted,\n",
       "a:link.sk-estimator-doc-link.fitted,\n",
       "a:visited.sk-estimator-doc-link.fitted {\n",
       "  /* fitted */\n",
       "  border: var(--sklearn-color-fitted-level-1) 1pt solid;\n",
       "  color: var(--sklearn-color-fitted-level-1);\n",
       "}\n",
       "\n",
       "/* On hover */\n",
       "div.sk-estimator:hover .sk-estimator-doc-link:hover,\n",
       ".sk-estimator-doc-link:hover,\n",
       "div.sk-label-container:hover .sk-estimator-doc-link:hover,\n",
       ".sk-estimator-doc-link:hover {\n",
       "  /* unfitted */\n",
       "  background-color: var(--sklearn-color-unfitted-level-3);\n",
       "  color: var(--sklearn-color-background);\n",
       "  text-decoration: none;\n",
       "}\n",
       "\n",
       "div.sk-estimator.fitted:hover .sk-estimator-doc-link.fitted:hover,\n",
       ".sk-estimator-doc-link.fitted:hover,\n",
       "div.sk-label-container:hover .sk-estimator-doc-link.fitted:hover,\n",
       ".sk-estimator-doc-link.fitted:hover {\n",
       "  /* fitted */\n",
       "  background-color: var(--sklearn-color-fitted-level-3);\n",
       "  color: var(--sklearn-color-background);\n",
       "  text-decoration: none;\n",
       "}\n",
       "\n",
       "/* Span, style for the box shown on hovering the info icon */\n",
       ".sk-estimator-doc-link span {\n",
       "  display: none;\n",
       "  z-index: 9999;\n",
       "  position: relative;\n",
       "  font-weight: normal;\n",
       "  right: .2ex;\n",
       "  padding: .5ex;\n",
       "  margin: .5ex;\n",
       "  width: min-content;\n",
       "  min-width: 20ex;\n",
       "  max-width: 50ex;\n",
       "  color: var(--sklearn-color-text);\n",
       "  box-shadow: 2pt 2pt 4pt #999;\n",
       "  /* unfitted */\n",
       "  background: var(--sklearn-color-unfitted-level-0);\n",
       "  border: .5pt solid var(--sklearn-color-unfitted-level-3);\n",
       "}\n",
       "\n",
       ".sk-estimator-doc-link.fitted span {\n",
       "  /* fitted */\n",
       "  background: var(--sklearn-color-fitted-level-0);\n",
       "  border: var(--sklearn-color-fitted-level-3);\n",
       "}\n",
       "\n",
       ".sk-estimator-doc-link:hover span {\n",
       "  display: block;\n",
       "}\n",
       "\n",
       "/* \"?\"-specific style due to the `<a>` HTML tag */\n",
       "\n",
       "#sk-container-id-1 a.estimator_doc_link {\n",
       "  float: right;\n",
       "  font-size: 1rem;\n",
       "  line-height: 1em;\n",
       "  font-family: monospace;\n",
       "  background-color: var(--sklearn-color-background);\n",
       "  border-radius: 1rem;\n",
       "  height: 1rem;\n",
       "  width: 1rem;\n",
       "  text-decoration: none;\n",
       "  /* unfitted */\n",
       "  color: var(--sklearn-color-unfitted-level-1);\n",
       "  border: var(--sklearn-color-unfitted-level-1) 1pt solid;\n",
       "}\n",
       "\n",
       "#sk-container-id-1 a.estimator_doc_link.fitted {\n",
       "  /* fitted */\n",
       "  border: var(--sklearn-color-fitted-level-1) 1pt solid;\n",
       "  color: var(--sklearn-color-fitted-level-1);\n",
       "}\n",
       "\n",
       "/* On hover */\n",
       "#sk-container-id-1 a.estimator_doc_link:hover {\n",
       "  /* unfitted */\n",
       "  background-color: var(--sklearn-color-unfitted-level-3);\n",
       "  color: var(--sklearn-color-background);\n",
       "  text-decoration: none;\n",
       "}\n",
       "\n",
       "#sk-container-id-1 a.estimator_doc_link.fitted:hover {\n",
       "  /* fitted */\n",
       "  background-color: var(--sklearn-color-fitted-level-3);\n",
       "}\n",
       "</style><div id=\"sk-container-id-1\" class=\"sk-top-container\"><div class=\"sk-text-repr-fallback\"><pre>LinearRegression()</pre><b>In a Jupyter environment, please rerun this cell to show the HTML representation or trust the notebook. <br />On GitHub, the HTML representation is unable to render, please try loading this page with nbviewer.org.</b></div><div class=\"sk-container\" hidden><div class=\"sk-item\"><div class=\"sk-estimator fitted sk-toggleable\"><input class=\"sk-toggleable__control sk-hidden--visually\" id=\"sk-estimator-id-1\" type=\"checkbox\" checked><label for=\"sk-estimator-id-1\" class=\"sk-toggleable__label fitted sk-toggleable__label-arrow\"><div><div>LinearRegression</div></div><div><a class=\"sk-estimator-doc-link fitted\" rel=\"noreferrer\" target=\"_blank\" href=\"https://scikit-learn.org/1.6/modules/generated/sklearn.linear_model.LinearRegression.html\">?<span>Documentation for LinearRegression</span></a><span class=\"sk-estimator-doc-link fitted\">i<span>Fitted</span></span></div></label><div class=\"sk-toggleable__content fitted\"><pre>LinearRegression()</pre></div> </div></div></div></div>"
      ]
     },
     "execution_count": 50,
     "metadata": {},
     "output_type": "execute_result"
    }
   ],
   "execution_count": 50
  },
  {
   "metadata": {
    "ExecuteTime": {
     "end_time": "2025-01-11T21:49:49.111249Z",
     "start_time": "2025-01-11T21:49:49.105250Z"
    }
   },
   "cell_type": "code",
   "source": "search.best_score_",
   "id": "da119e313a193ad3",
   "outputs": [
    {
     "data": {
      "text/plain": [
       "np.float64(-0.3406749217568844)"
      ]
     },
     "execution_count": 51,
     "metadata": {},
     "output_type": "execute_result"
    }
   ],
   "execution_count": 51
  },
  {
   "metadata": {
    "ExecuteTime": {
     "end_time": "2025-01-11T21:49:49.209024Z",
     "start_time": "2025-01-11T21:49:49.201083Z"
    }
   },
   "cell_type": "code",
   "source": "yhat = search.predict(df_test[features_candidates_rec])",
   "id": "69084ca12f8efaf2",
   "outputs": [],
   "execution_count": 52
  },
  {
   "metadata": {
    "ExecuteTime": {
     "end_time": "2025-01-11T21:49:49.264131Z",
     "start_time": "2025-01-11T21:49:49.256401Z"
    }
   },
   "cell_type": "code",
   "source": "scoring_wrapper(df_test[[\"realsum_cut\"]].to_numpy().ravel(), yhat)",
   "id": "6043a306316b5b7e",
   "outputs": [
    {
     "data": {
      "text/plain": [
       "{'mse': 18047.46750058156,\n",
       " 'mae': 87.43100383382195,\n",
       " 'medae': np.float64(62.6939027660018),\n",
       " 'mape': 0.3416328851753703,\n",
       " 'r2': 0.4912180329296497}"
      ]
     },
     "execution_count": 53,
     "metadata": {},
     "output_type": "execute_result"
    }
   ],
   "execution_count": 53
  },
  {
   "metadata": {},
   "cell_type": "markdown",
   "source": "Grid Search",
   "id": "71619cb542f6e8d5"
  },
  {
   "metadata": {
    "ExecuteTime": {
     "end_time": "2025-01-11T21:49:49.323327Z",
     "start_time": "2025-01-11T21:49:49.319202Z"
    }
   },
   "cell_type": "code",
   "source": [
    "estimator = LinearRegression()\n",
    "\n",
    "parameter_space = dict(\n",
    "    #alpha=np.logspace(-3, 3, 5),\n",
    "    #l1_ratio=np.random.uniform(0,1,5), #please note that now this is deterministic list\n",
    "    fit_intercept=[True, False],\n",
    ")\n",
    "\n",
    "cross_validation_schema = KFold(n_splits=10, shuffle=True)\n",
    "score_function = {'mape': 'neg_mean_absolute_percentage_error',\n",
    "           'mae': make_scorer(mean_absolute_error, greater_is_better=False)}"
   ],
   "id": "7f028f9d570e97cb",
   "outputs": [],
   "execution_count": 54
  },
  {
   "metadata": {
    "ExecuteTime": {
     "end_time": "2025-01-11T21:49:49.590750Z",
     "start_time": "2025-01-11T21:49:49.394066Z"
    }
   },
   "cell_type": "code",
   "source": [
    "grind_search_cv = GridSearchCV(\n",
    "    estimator=estimator,\n",
    "    param_grid=parameter_space,\n",
    "    scoring=score_function,\n",
    "    n_jobs=-1,\n",
    "    cv=cross_validation_schema,\n",
    "    refit=\"mape\",\n",
    "    return_train_score=False,\n",
    "    verbose=3 #Controls the verbosity: the higher, the more messages.\n",
    "\n",
    ")\n",
    "\n",
    "search = grind_search_cv.fit(df[features_selection_en], df[\"realsum_cut\"])"
   ],
   "id": "b6ed71616833fa98",
   "outputs": [
    {
     "name": "stdout",
     "output_type": "stream",
     "text": [
      "Fitting 10 folds for each of 2 candidates, totalling 20 fits\n"
     ]
    }
   ],
   "execution_count": 55
  },
  {
   "metadata": {
    "ExecuteTime": {
     "end_time": "2025-01-11T21:49:49.624479Z",
     "start_time": "2025-01-11T21:49:49.620627Z"
    }
   },
   "cell_type": "code",
   "source": "search.best_params_",
   "id": "442720bad8c8db6e",
   "outputs": [
    {
     "data": {
      "text/plain": [
       "{'fit_intercept': True}"
      ]
     },
     "execution_count": 56,
     "metadata": {},
     "output_type": "execute_result"
    }
   ],
   "execution_count": 56
  },
  {
   "metadata": {
    "ExecuteTime": {
     "end_time": "2025-01-11T21:49:49.658056Z",
     "start_time": "2025-01-11T21:49:49.653293Z"
    }
   },
   "cell_type": "code",
   "source": "search.best_score_",
   "id": "3bdc95b28e81270d",
   "outputs": [
    {
     "data": {
      "text/plain": [
       "np.float64(-0.3412348520929619)"
      ]
     },
     "execution_count": 57,
     "metadata": {},
     "output_type": "execute_result"
    }
   ],
   "execution_count": 57
  },
  {
   "metadata": {
    "ExecuteTime": {
     "end_time": "2025-01-11T21:49:49.696531Z",
     "start_time": "2025-01-11T21:49:49.687001Z"
    }
   },
   "cell_type": "code",
   "source": [
    "yhat = search.predict(df_test[features_selection_en])\n",
    "scoring_wrapper(df_test[[\"realsum_cut\"]].to_numpy().ravel(), yhat)"
   ],
   "id": "406485d68f7b3e4e",
   "outputs": [
    {
     "data": {
      "text/plain": [
       "{'mse': 18067.76982601333,\n",
       " 'mae': 87.67896224518782,\n",
       " 'medae': np.float64(63.38702441164979),\n",
       " 'mape': 0.3428945303756582,\n",
       " 'r2': 0.4906456835366423}"
      ]
     },
     "execution_count": 58,
     "metadata": {},
     "output_type": "execute_result"
    }
   ],
   "execution_count": 58
  },
  {
   "metadata": {},
   "cell_type": "markdown",
   "source": "### KNN Regression",
   "id": "2fa0400218cfb9e1"
  },
  {
   "metadata": {},
   "cell_type": "markdown",
   "source": "#### Searching for \"good enough\" model to feature selection",
   "id": "b0cb0f46892c7703"
  },
  {
   "metadata": {
    "ExecuteTime": {
     "end_time": "2025-01-11T21:49:49.729577Z",
     "start_time": "2025-01-11T21:49:49.722116Z"
    }
   },
   "cell_type": "code",
   "source": "var = fr.mi_score.sort_values(ascending=False).index.tolist()[0:10]",
   "id": "a824eb0083c05cb5",
   "outputs": [],
   "execution_count": 59
  },
  {
   "metadata": {
    "ExecuteTime": {
     "end_time": "2025-01-11T21:49:49.759275Z",
     "start_time": "2025-01-11T21:49:49.756575Z"
    }
   },
   "cell_type": "code",
   "source": "print(var)",
   "id": "c5bfc365bd854331",
   "outputs": [
    {
     "name": "stdout",
     "output_type": "stream",
     "text": [
      "['lng', 'lat', 'city', 'latitude_disc_48_837_48_901', 'longitude_disc_2_093_2_347', 'dist', 'metro_dist', 'room_type', 'person_capacity', 'room_private']\n"
     ]
    }
   ],
   "execution_count": 60
  },
  {
   "metadata": {
    "ExecuteTime": {
     "end_time": "2025-01-11T21:49:49.789872Z",
     "start_time": "2025-01-11T21:49:49.786383Z"
    }
   },
   "cell_type": "code",
   "source": [
    "param = {\n",
    "    \"n_neighbors\": [3, 5, 7, 10, 12, 15, 20, 25, 40, 50, 100],\n",
    "    \"weights\": [\"uniform\", \"distance\"],\n",
    "    \"metric\": [\"chebyshev\", \"manhattan\", \"minkowski\"],\n",
    "    \"p\": [1, 2],\n",
    "}"
   ],
   "id": "90e7172ffa83cd9e",
   "outputs": [],
   "execution_count": 61
  },
  {
   "metadata": {
    "ExecuteTime": {
     "end_time": "2025-01-11T21:49:49.821750Z",
     "start_time": "2025-01-11T21:49:49.819164Z"
    }
   },
   "cell_type": "code",
   "source": "mse = make_scorer(mean_squared_error, greater_is_better=False)",
   "id": "de5b426ac0fef0ad",
   "outputs": [],
   "execution_count": 62
  },
  {
   "metadata": {
    "ExecuteTime": {
     "end_time": "2025-01-11T21:50:44.352044Z",
     "start_time": "2025-01-11T21:49:49.847324Z"
    }
   },
   "cell_type": "code",
   "source": [
    "model = KNeighborsRegressor()\n",
    "grid_CV = GridSearchCV(\n",
    "    model, param, cv=5, scoring=mse, return_train_score=True, n_jobs=-1\n",
    ")\n",
    "grid_CV.fit(df.loc[:, var].values, df.loc[:, \"realsum_cut\"].values.ravel())"
   ],
   "id": "69e0bd9d27c363c1",
   "outputs": [
    {
     "data": {
      "text/plain": [
       "GridSearchCV(cv=5, estimator=KNeighborsRegressor(), n_jobs=-1,\n",
       "             param_grid={'metric': ['chebyshev', 'manhattan', 'minkowski'],\n",
       "                         'n_neighbors': [3, 5, 7, 10, 12, 15, 20, 25, 40, 50,\n",
       "                                         100],\n",
       "                         'p': [1, 2], 'weights': ['uniform', 'distance']},\n",
       "             return_train_score=True,\n",
       "             scoring=make_scorer(mean_squared_error, greater_is_better=False, response_method='predict'))"
      ],
      "text/html": [
       "<style>#sk-container-id-2 {\n",
       "  /* Definition of color scheme common for light and dark mode */\n",
       "  --sklearn-color-text: #000;\n",
       "  --sklearn-color-text-muted: #666;\n",
       "  --sklearn-color-line: gray;\n",
       "  /* Definition of color scheme for unfitted estimators */\n",
       "  --sklearn-color-unfitted-level-0: #fff5e6;\n",
       "  --sklearn-color-unfitted-level-1: #f6e4d2;\n",
       "  --sklearn-color-unfitted-level-2: #ffe0b3;\n",
       "  --sklearn-color-unfitted-level-3: chocolate;\n",
       "  /* Definition of color scheme for fitted estimators */\n",
       "  --sklearn-color-fitted-level-0: #f0f8ff;\n",
       "  --sklearn-color-fitted-level-1: #d4ebff;\n",
       "  --sklearn-color-fitted-level-2: #b3dbfd;\n",
       "  --sklearn-color-fitted-level-3: cornflowerblue;\n",
       "\n",
       "  /* Specific color for light theme */\n",
       "  --sklearn-color-text-on-default-background: var(--sg-text-color, var(--theme-code-foreground, var(--jp-content-font-color1, black)));\n",
       "  --sklearn-color-background: var(--sg-background-color, var(--theme-background, var(--jp-layout-color0, white)));\n",
       "  --sklearn-color-border-box: var(--sg-text-color, var(--theme-code-foreground, var(--jp-content-font-color1, black)));\n",
       "  --sklearn-color-icon: #696969;\n",
       "\n",
       "  @media (prefers-color-scheme: dark) {\n",
       "    /* Redefinition of color scheme for dark theme */\n",
       "    --sklearn-color-text-on-default-background: var(--sg-text-color, var(--theme-code-foreground, var(--jp-content-font-color1, white)));\n",
       "    --sklearn-color-background: var(--sg-background-color, var(--theme-background, var(--jp-layout-color0, #111)));\n",
       "    --sklearn-color-border-box: var(--sg-text-color, var(--theme-code-foreground, var(--jp-content-font-color1, white)));\n",
       "    --sklearn-color-icon: #878787;\n",
       "  }\n",
       "}\n",
       "\n",
       "#sk-container-id-2 {\n",
       "  color: var(--sklearn-color-text);\n",
       "}\n",
       "\n",
       "#sk-container-id-2 pre {\n",
       "  padding: 0;\n",
       "}\n",
       "\n",
       "#sk-container-id-2 input.sk-hidden--visually {\n",
       "  border: 0;\n",
       "  clip: rect(1px 1px 1px 1px);\n",
       "  clip: rect(1px, 1px, 1px, 1px);\n",
       "  height: 1px;\n",
       "  margin: -1px;\n",
       "  overflow: hidden;\n",
       "  padding: 0;\n",
       "  position: absolute;\n",
       "  width: 1px;\n",
       "}\n",
       "\n",
       "#sk-container-id-2 div.sk-dashed-wrapped {\n",
       "  border: 1px dashed var(--sklearn-color-line);\n",
       "  margin: 0 0.4em 0.5em 0.4em;\n",
       "  box-sizing: border-box;\n",
       "  padding-bottom: 0.4em;\n",
       "  background-color: var(--sklearn-color-background);\n",
       "}\n",
       "\n",
       "#sk-container-id-2 div.sk-container {\n",
       "  /* jupyter's `normalize.less` sets `[hidden] { display: none; }`\n",
       "     but bootstrap.min.css set `[hidden] { display: none !important; }`\n",
       "     so we also need the `!important` here to be able to override the\n",
       "     default hidden behavior on the sphinx rendered scikit-learn.org.\n",
       "     See: https://github.com/scikit-learn/scikit-learn/issues/21755 */\n",
       "  display: inline-block !important;\n",
       "  position: relative;\n",
       "}\n",
       "\n",
       "#sk-container-id-2 div.sk-text-repr-fallback {\n",
       "  display: none;\n",
       "}\n",
       "\n",
       "div.sk-parallel-item,\n",
       "div.sk-serial,\n",
       "div.sk-item {\n",
       "  /* draw centered vertical line to link estimators */\n",
       "  background-image: linear-gradient(var(--sklearn-color-text-on-default-background), var(--sklearn-color-text-on-default-background));\n",
       "  background-size: 2px 100%;\n",
       "  background-repeat: no-repeat;\n",
       "  background-position: center center;\n",
       "}\n",
       "\n",
       "/* Parallel-specific style estimator block */\n",
       "\n",
       "#sk-container-id-2 div.sk-parallel-item::after {\n",
       "  content: \"\";\n",
       "  width: 100%;\n",
       "  border-bottom: 2px solid var(--sklearn-color-text-on-default-background);\n",
       "  flex-grow: 1;\n",
       "}\n",
       "\n",
       "#sk-container-id-2 div.sk-parallel {\n",
       "  display: flex;\n",
       "  align-items: stretch;\n",
       "  justify-content: center;\n",
       "  background-color: var(--sklearn-color-background);\n",
       "  position: relative;\n",
       "}\n",
       "\n",
       "#sk-container-id-2 div.sk-parallel-item {\n",
       "  display: flex;\n",
       "  flex-direction: column;\n",
       "}\n",
       "\n",
       "#sk-container-id-2 div.sk-parallel-item:first-child::after {\n",
       "  align-self: flex-end;\n",
       "  width: 50%;\n",
       "}\n",
       "\n",
       "#sk-container-id-2 div.sk-parallel-item:last-child::after {\n",
       "  align-self: flex-start;\n",
       "  width: 50%;\n",
       "}\n",
       "\n",
       "#sk-container-id-2 div.sk-parallel-item:only-child::after {\n",
       "  width: 0;\n",
       "}\n",
       "\n",
       "/* Serial-specific style estimator block */\n",
       "\n",
       "#sk-container-id-2 div.sk-serial {\n",
       "  display: flex;\n",
       "  flex-direction: column;\n",
       "  align-items: center;\n",
       "  background-color: var(--sklearn-color-background);\n",
       "  padding-right: 1em;\n",
       "  padding-left: 1em;\n",
       "}\n",
       "\n",
       "\n",
       "/* Toggleable style: style used for estimator/Pipeline/ColumnTransformer box that is\n",
       "clickable and can be expanded/collapsed.\n",
       "- Pipeline and ColumnTransformer use this feature and define the default style\n",
       "- Estimators will overwrite some part of the style using the `sk-estimator` class\n",
       "*/\n",
       "\n",
       "/* Pipeline and ColumnTransformer style (default) */\n",
       "\n",
       "#sk-container-id-2 div.sk-toggleable {\n",
       "  /* Default theme specific background. It is overwritten whether we have a\n",
       "  specific estimator or a Pipeline/ColumnTransformer */\n",
       "  background-color: var(--sklearn-color-background);\n",
       "}\n",
       "\n",
       "/* Toggleable label */\n",
       "#sk-container-id-2 label.sk-toggleable__label {\n",
       "  cursor: pointer;\n",
       "  display: flex;\n",
       "  width: 100%;\n",
       "  margin-bottom: 0;\n",
       "  padding: 0.5em;\n",
       "  box-sizing: border-box;\n",
       "  text-align: center;\n",
       "  align-items: start;\n",
       "  justify-content: space-between;\n",
       "  gap: 0.5em;\n",
       "}\n",
       "\n",
       "#sk-container-id-2 label.sk-toggleable__label .caption {\n",
       "  font-size: 0.6rem;\n",
       "  font-weight: lighter;\n",
       "  color: var(--sklearn-color-text-muted);\n",
       "}\n",
       "\n",
       "#sk-container-id-2 label.sk-toggleable__label-arrow:before {\n",
       "  /* Arrow on the left of the label */\n",
       "  content: \"▸\";\n",
       "  float: left;\n",
       "  margin-right: 0.25em;\n",
       "  color: var(--sklearn-color-icon);\n",
       "}\n",
       "\n",
       "#sk-container-id-2 label.sk-toggleable__label-arrow:hover:before {\n",
       "  color: var(--sklearn-color-text);\n",
       "}\n",
       "\n",
       "/* Toggleable content - dropdown */\n",
       "\n",
       "#sk-container-id-2 div.sk-toggleable__content {\n",
       "  max-height: 0;\n",
       "  max-width: 0;\n",
       "  overflow: hidden;\n",
       "  text-align: left;\n",
       "  /* unfitted */\n",
       "  background-color: var(--sklearn-color-unfitted-level-0);\n",
       "}\n",
       "\n",
       "#sk-container-id-2 div.sk-toggleable__content.fitted {\n",
       "  /* fitted */\n",
       "  background-color: var(--sklearn-color-fitted-level-0);\n",
       "}\n",
       "\n",
       "#sk-container-id-2 div.sk-toggleable__content pre {\n",
       "  margin: 0.2em;\n",
       "  border-radius: 0.25em;\n",
       "  color: var(--sklearn-color-text);\n",
       "  /* unfitted */\n",
       "  background-color: var(--sklearn-color-unfitted-level-0);\n",
       "}\n",
       "\n",
       "#sk-container-id-2 div.sk-toggleable__content.fitted pre {\n",
       "  /* unfitted */\n",
       "  background-color: var(--sklearn-color-fitted-level-0);\n",
       "}\n",
       "\n",
       "#sk-container-id-2 input.sk-toggleable__control:checked~div.sk-toggleable__content {\n",
       "  /* Expand drop-down */\n",
       "  max-height: 200px;\n",
       "  max-width: 100%;\n",
       "  overflow: auto;\n",
       "}\n",
       "\n",
       "#sk-container-id-2 input.sk-toggleable__control:checked~label.sk-toggleable__label-arrow:before {\n",
       "  content: \"▾\";\n",
       "}\n",
       "\n",
       "/* Pipeline/ColumnTransformer-specific style */\n",
       "\n",
       "#sk-container-id-2 div.sk-label input.sk-toggleable__control:checked~label.sk-toggleable__label {\n",
       "  color: var(--sklearn-color-text);\n",
       "  background-color: var(--sklearn-color-unfitted-level-2);\n",
       "}\n",
       "\n",
       "#sk-container-id-2 div.sk-label.fitted input.sk-toggleable__control:checked~label.sk-toggleable__label {\n",
       "  background-color: var(--sklearn-color-fitted-level-2);\n",
       "}\n",
       "\n",
       "/* Estimator-specific style */\n",
       "\n",
       "/* Colorize estimator box */\n",
       "#sk-container-id-2 div.sk-estimator input.sk-toggleable__control:checked~label.sk-toggleable__label {\n",
       "  /* unfitted */\n",
       "  background-color: var(--sklearn-color-unfitted-level-2);\n",
       "}\n",
       "\n",
       "#sk-container-id-2 div.sk-estimator.fitted input.sk-toggleable__control:checked~label.sk-toggleable__label {\n",
       "  /* fitted */\n",
       "  background-color: var(--sklearn-color-fitted-level-2);\n",
       "}\n",
       "\n",
       "#sk-container-id-2 div.sk-label label.sk-toggleable__label,\n",
       "#sk-container-id-2 div.sk-label label {\n",
       "  /* The background is the default theme color */\n",
       "  color: var(--sklearn-color-text-on-default-background);\n",
       "}\n",
       "\n",
       "/* On hover, darken the color of the background */\n",
       "#sk-container-id-2 div.sk-label:hover label.sk-toggleable__label {\n",
       "  color: var(--sklearn-color-text);\n",
       "  background-color: var(--sklearn-color-unfitted-level-2);\n",
       "}\n",
       "\n",
       "/* Label box, darken color on hover, fitted */\n",
       "#sk-container-id-2 div.sk-label.fitted:hover label.sk-toggleable__label.fitted {\n",
       "  color: var(--sklearn-color-text);\n",
       "  background-color: var(--sklearn-color-fitted-level-2);\n",
       "}\n",
       "\n",
       "/* Estimator label */\n",
       "\n",
       "#sk-container-id-2 div.sk-label label {\n",
       "  font-family: monospace;\n",
       "  font-weight: bold;\n",
       "  display: inline-block;\n",
       "  line-height: 1.2em;\n",
       "}\n",
       "\n",
       "#sk-container-id-2 div.sk-label-container {\n",
       "  text-align: center;\n",
       "}\n",
       "\n",
       "/* Estimator-specific */\n",
       "#sk-container-id-2 div.sk-estimator {\n",
       "  font-family: monospace;\n",
       "  border: 1px dotted var(--sklearn-color-border-box);\n",
       "  border-radius: 0.25em;\n",
       "  box-sizing: border-box;\n",
       "  margin-bottom: 0.5em;\n",
       "  /* unfitted */\n",
       "  background-color: var(--sklearn-color-unfitted-level-0);\n",
       "}\n",
       "\n",
       "#sk-container-id-2 div.sk-estimator.fitted {\n",
       "  /* fitted */\n",
       "  background-color: var(--sklearn-color-fitted-level-0);\n",
       "}\n",
       "\n",
       "/* on hover */\n",
       "#sk-container-id-2 div.sk-estimator:hover {\n",
       "  /* unfitted */\n",
       "  background-color: var(--sklearn-color-unfitted-level-2);\n",
       "}\n",
       "\n",
       "#sk-container-id-2 div.sk-estimator.fitted:hover {\n",
       "  /* fitted */\n",
       "  background-color: var(--sklearn-color-fitted-level-2);\n",
       "}\n",
       "\n",
       "/* Specification for estimator info (e.g. \"i\" and \"?\") */\n",
       "\n",
       "/* Common style for \"i\" and \"?\" */\n",
       "\n",
       ".sk-estimator-doc-link,\n",
       "a:link.sk-estimator-doc-link,\n",
       "a:visited.sk-estimator-doc-link {\n",
       "  float: right;\n",
       "  font-size: smaller;\n",
       "  line-height: 1em;\n",
       "  font-family: monospace;\n",
       "  background-color: var(--sklearn-color-background);\n",
       "  border-radius: 1em;\n",
       "  height: 1em;\n",
       "  width: 1em;\n",
       "  text-decoration: none !important;\n",
       "  margin-left: 0.5em;\n",
       "  text-align: center;\n",
       "  /* unfitted */\n",
       "  border: var(--sklearn-color-unfitted-level-1) 1pt solid;\n",
       "  color: var(--sklearn-color-unfitted-level-1);\n",
       "}\n",
       "\n",
       ".sk-estimator-doc-link.fitted,\n",
       "a:link.sk-estimator-doc-link.fitted,\n",
       "a:visited.sk-estimator-doc-link.fitted {\n",
       "  /* fitted */\n",
       "  border: var(--sklearn-color-fitted-level-1) 1pt solid;\n",
       "  color: var(--sklearn-color-fitted-level-1);\n",
       "}\n",
       "\n",
       "/* On hover */\n",
       "div.sk-estimator:hover .sk-estimator-doc-link:hover,\n",
       ".sk-estimator-doc-link:hover,\n",
       "div.sk-label-container:hover .sk-estimator-doc-link:hover,\n",
       ".sk-estimator-doc-link:hover {\n",
       "  /* unfitted */\n",
       "  background-color: var(--sklearn-color-unfitted-level-3);\n",
       "  color: var(--sklearn-color-background);\n",
       "  text-decoration: none;\n",
       "}\n",
       "\n",
       "div.sk-estimator.fitted:hover .sk-estimator-doc-link.fitted:hover,\n",
       ".sk-estimator-doc-link.fitted:hover,\n",
       "div.sk-label-container:hover .sk-estimator-doc-link.fitted:hover,\n",
       ".sk-estimator-doc-link.fitted:hover {\n",
       "  /* fitted */\n",
       "  background-color: var(--sklearn-color-fitted-level-3);\n",
       "  color: var(--sklearn-color-background);\n",
       "  text-decoration: none;\n",
       "}\n",
       "\n",
       "/* Span, style for the box shown on hovering the info icon */\n",
       ".sk-estimator-doc-link span {\n",
       "  display: none;\n",
       "  z-index: 9999;\n",
       "  position: relative;\n",
       "  font-weight: normal;\n",
       "  right: .2ex;\n",
       "  padding: .5ex;\n",
       "  margin: .5ex;\n",
       "  width: min-content;\n",
       "  min-width: 20ex;\n",
       "  max-width: 50ex;\n",
       "  color: var(--sklearn-color-text);\n",
       "  box-shadow: 2pt 2pt 4pt #999;\n",
       "  /* unfitted */\n",
       "  background: var(--sklearn-color-unfitted-level-0);\n",
       "  border: .5pt solid var(--sklearn-color-unfitted-level-3);\n",
       "}\n",
       "\n",
       ".sk-estimator-doc-link.fitted span {\n",
       "  /* fitted */\n",
       "  background: var(--sklearn-color-fitted-level-0);\n",
       "  border: var(--sklearn-color-fitted-level-3);\n",
       "}\n",
       "\n",
       ".sk-estimator-doc-link:hover span {\n",
       "  display: block;\n",
       "}\n",
       "\n",
       "/* \"?\"-specific style due to the `<a>` HTML tag */\n",
       "\n",
       "#sk-container-id-2 a.estimator_doc_link {\n",
       "  float: right;\n",
       "  font-size: 1rem;\n",
       "  line-height: 1em;\n",
       "  font-family: monospace;\n",
       "  background-color: var(--sklearn-color-background);\n",
       "  border-radius: 1rem;\n",
       "  height: 1rem;\n",
       "  width: 1rem;\n",
       "  text-decoration: none;\n",
       "  /* unfitted */\n",
       "  color: var(--sklearn-color-unfitted-level-1);\n",
       "  border: var(--sklearn-color-unfitted-level-1) 1pt solid;\n",
       "}\n",
       "\n",
       "#sk-container-id-2 a.estimator_doc_link.fitted {\n",
       "  /* fitted */\n",
       "  border: var(--sklearn-color-fitted-level-1) 1pt solid;\n",
       "  color: var(--sklearn-color-fitted-level-1);\n",
       "}\n",
       "\n",
       "/* On hover */\n",
       "#sk-container-id-2 a.estimator_doc_link:hover {\n",
       "  /* unfitted */\n",
       "  background-color: var(--sklearn-color-unfitted-level-3);\n",
       "  color: var(--sklearn-color-background);\n",
       "  text-decoration: none;\n",
       "}\n",
       "\n",
       "#sk-container-id-2 a.estimator_doc_link.fitted:hover {\n",
       "  /* fitted */\n",
       "  background-color: var(--sklearn-color-fitted-level-3);\n",
       "}\n",
       "</style><div id=\"sk-container-id-2\" class=\"sk-top-container\"><div class=\"sk-text-repr-fallback\"><pre>GridSearchCV(cv=5, estimator=KNeighborsRegressor(), n_jobs=-1,\n",
       "             param_grid={&#x27;metric&#x27;: [&#x27;chebyshev&#x27;, &#x27;manhattan&#x27;, &#x27;minkowski&#x27;],\n",
       "                         &#x27;n_neighbors&#x27;: [3, 5, 7, 10, 12, 15, 20, 25, 40, 50,\n",
       "                                         100],\n",
       "                         &#x27;p&#x27;: [1, 2], &#x27;weights&#x27;: [&#x27;uniform&#x27;, &#x27;distance&#x27;]},\n",
       "             return_train_score=True,\n",
       "             scoring=make_scorer(mean_squared_error, greater_is_better=False, response_method=&#x27;predict&#x27;))</pre><b>In a Jupyter environment, please rerun this cell to show the HTML representation or trust the notebook. <br />On GitHub, the HTML representation is unable to render, please try loading this page with nbviewer.org.</b></div><div class=\"sk-container\" hidden><div class=\"sk-item sk-dashed-wrapped\"><div class=\"sk-label-container\"><div class=\"sk-label fitted sk-toggleable\"><input class=\"sk-toggleable__control sk-hidden--visually\" id=\"sk-estimator-id-2\" type=\"checkbox\" ><label for=\"sk-estimator-id-2\" class=\"sk-toggleable__label fitted sk-toggleable__label-arrow\"><div><div>GridSearchCV</div></div><div><a class=\"sk-estimator-doc-link fitted\" rel=\"noreferrer\" target=\"_blank\" href=\"https://scikit-learn.org/1.6/modules/generated/sklearn.model_selection.GridSearchCV.html\">?<span>Documentation for GridSearchCV</span></a><span class=\"sk-estimator-doc-link fitted\">i<span>Fitted</span></span></div></label><div class=\"sk-toggleable__content fitted\"><pre>GridSearchCV(cv=5, estimator=KNeighborsRegressor(), n_jobs=-1,\n",
       "             param_grid={&#x27;metric&#x27;: [&#x27;chebyshev&#x27;, &#x27;manhattan&#x27;, &#x27;minkowski&#x27;],\n",
       "                         &#x27;n_neighbors&#x27;: [3, 5, 7, 10, 12, 15, 20, 25, 40, 50,\n",
       "                                         100],\n",
       "                         &#x27;p&#x27;: [1, 2], &#x27;weights&#x27;: [&#x27;uniform&#x27;, &#x27;distance&#x27;]},\n",
       "             return_train_score=True,\n",
       "             scoring=make_scorer(mean_squared_error, greater_is_better=False, response_method=&#x27;predict&#x27;))</pre></div> </div></div><div class=\"sk-parallel\"><div class=\"sk-parallel-item\"><div class=\"sk-item\"><div class=\"sk-label-container\"><div class=\"sk-label fitted sk-toggleable\"><input class=\"sk-toggleable__control sk-hidden--visually\" id=\"sk-estimator-id-3\" type=\"checkbox\" ><label for=\"sk-estimator-id-3\" class=\"sk-toggleable__label fitted sk-toggleable__label-arrow\"><div><div>best_estimator_: KNeighborsRegressor</div></div></label><div class=\"sk-toggleable__content fitted\"><pre>KNeighborsRegressor(metric=&#x27;manhattan&#x27;, n_neighbors=100, p=1,\n",
       "                    weights=&#x27;distance&#x27;)</pre></div> </div></div><div class=\"sk-serial\"><div class=\"sk-item\"><div class=\"sk-estimator fitted sk-toggleable\"><input class=\"sk-toggleable__control sk-hidden--visually\" id=\"sk-estimator-id-4\" type=\"checkbox\" ><label for=\"sk-estimator-id-4\" class=\"sk-toggleable__label fitted sk-toggleable__label-arrow\"><div><div>KNeighborsRegressor</div></div><div><a class=\"sk-estimator-doc-link fitted\" rel=\"noreferrer\" target=\"_blank\" href=\"https://scikit-learn.org/1.6/modules/generated/sklearn.neighbors.KNeighborsRegressor.html\">?<span>Documentation for KNeighborsRegressor</span></a></div></label><div class=\"sk-toggleable__content fitted\"><pre>KNeighborsRegressor(metric=&#x27;manhattan&#x27;, n_neighbors=100, p=1,\n",
       "                    weights=&#x27;distance&#x27;)</pre></div> </div></div></div></div></div></div></div></div></div>"
      ]
     },
     "execution_count": 63,
     "metadata": {},
     "output_type": "execute_result"
    }
   ],
   "execution_count": 63
  },
  {
   "metadata": {
    "ExecuteTime": {
     "end_time": "2025-01-11T21:50:44.425161Z",
     "start_time": "2025-01-11T21:50:44.415493Z"
    }
   },
   "cell_type": "code",
   "source": "grid_CV.best_params_",
   "id": "ceadef1cda985158",
   "outputs": [
    {
     "data": {
      "text/plain": [
       "{'metric': 'manhattan', 'n_neighbors': 100, 'p': 1, 'weights': 'distance'}"
      ]
     },
     "execution_count": 64,
     "metadata": {},
     "output_type": "execute_result"
    }
   ],
   "execution_count": 64
  },
  {
   "metadata": {},
   "cell_type": "markdown",
   "source": "#### Feature selection",
   "id": "2c8fa4e12dae6667"
  },
  {
   "metadata": {},
   "cell_type": "markdown",
   "source": "1. Mutual Information Score",
   "id": "26f79bf7380fb938"
  },
  {
   "metadata": {
    "ExecuteTime": {
     "end_time": "2025-01-11T21:50:44.468422Z",
     "start_time": "2025-01-11T21:50:44.464665Z"
    }
   },
   "cell_type": "code",
   "source": "fr.sort_values(\"mi_score\", ascending=False, inplace=True)",
   "id": "fca0dd5f07b15751",
   "outputs": [],
   "execution_count": 65
  },
  {
   "metadata": {
    "ExecuteTime": {
     "end_time": "2025-01-11T21:50:44.612103Z",
     "start_time": "2025-01-11T21:50:44.605332Z"
    }
   },
   "cell_type": "code",
   "source": "fr.head()",
   "id": "162d31543af48f35",
   "outputs": [
    {
     "data": {
      "text/plain": [
       "                             mi_score    sign_fscore  sign_fscore_0_1  \\\n",
       "lng                          0.859389   0.000000e+00                1   \n",
       "lat                          0.814053   0.000000e+00                1   \n",
       "city                         0.730737  9.967065e-273                1   \n",
       "latitude_disc_48_837_48_901  0.437252   0.000000e+00                1   \n",
       "longitude_disc_2_093_2_347   0.381556  1.495659e-284                1   \n",
       "\n",
       "                                 corr     EN_coef  boruta_rank  \n",
       "lng                         -0.391676  -26.697237            1  \n",
       "lat                          0.376978   -7.342648            1  \n",
       "city                        -0.364870  118.697960            2  \n",
       "latitude_disc_48_837_48_901  0.479799   65.790436            7  \n",
       "longitude_disc_2_093_2_347   0.295820   92.785460            4  "
      ],
      "text/html": [
       "<div>\n",
       "<style scoped>\n",
       "    .dataframe tbody tr th:only-of-type {\n",
       "        vertical-align: middle;\n",
       "    }\n",
       "\n",
       "    .dataframe tbody tr th {\n",
       "        vertical-align: top;\n",
       "    }\n",
       "\n",
       "    .dataframe thead th {\n",
       "        text-align: right;\n",
       "    }\n",
       "</style>\n",
       "<table border=\"1\" class=\"dataframe\">\n",
       "  <thead>\n",
       "    <tr style=\"text-align: right;\">\n",
       "      <th></th>\n",
       "      <th>mi_score</th>\n",
       "      <th>sign_fscore</th>\n",
       "      <th>sign_fscore_0_1</th>\n",
       "      <th>corr</th>\n",
       "      <th>EN_coef</th>\n",
       "      <th>boruta_rank</th>\n",
       "    </tr>\n",
       "  </thead>\n",
       "  <tbody>\n",
       "    <tr>\n",
       "      <th>lng</th>\n",
       "      <td>0.859389</td>\n",
       "      <td>0.000000e+00</td>\n",
       "      <td>1</td>\n",
       "      <td>-0.391676</td>\n",
       "      <td>-26.697237</td>\n",
       "      <td>1</td>\n",
       "    </tr>\n",
       "    <tr>\n",
       "      <th>lat</th>\n",
       "      <td>0.814053</td>\n",
       "      <td>0.000000e+00</td>\n",
       "      <td>1</td>\n",
       "      <td>0.376978</td>\n",
       "      <td>-7.342648</td>\n",
       "      <td>1</td>\n",
       "    </tr>\n",
       "    <tr>\n",
       "      <th>city</th>\n",
       "      <td>0.730737</td>\n",
       "      <td>9.967065e-273</td>\n",
       "      <td>1</td>\n",
       "      <td>-0.364870</td>\n",
       "      <td>118.697960</td>\n",
       "      <td>2</td>\n",
       "    </tr>\n",
       "    <tr>\n",
       "      <th>latitude_disc_48_837_48_901</th>\n",
       "      <td>0.437252</td>\n",
       "      <td>0.000000e+00</td>\n",
       "      <td>1</td>\n",
       "      <td>0.479799</td>\n",
       "      <td>65.790436</td>\n",
       "      <td>7</td>\n",
       "    </tr>\n",
       "    <tr>\n",
       "      <th>longitude_disc_2_093_2_347</th>\n",
       "      <td>0.381556</td>\n",
       "      <td>1.495659e-284</td>\n",
       "      <td>1</td>\n",
       "      <td>0.295820</td>\n",
       "      <td>92.785460</td>\n",
       "      <td>4</td>\n",
       "    </tr>\n",
       "  </tbody>\n",
       "</table>\n",
       "</div>"
      ]
     },
     "execution_count": 66,
     "metadata": {},
     "output_type": "execute_result"
    }
   ],
   "execution_count": 66
  },
  {
   "metadata": {
    "ExecuteTime": {
     "end_time": "2025-01-11T21:50:44.665241Z",
     "start_time": "2025-01-11T21:50:44.661314Z"
    }
   },
   "cell_type": "code",
   "source": [
    "mi_features = fr.iloc[0:8].index.tolist()\n",
    "mi_features_10 = fr.iloc[0:10].index.tolist()\n",
    "mi_features_14 = fr.iloc[0:14].index.tolist()\n",
    "mi_features_17 = fr.iloc[0:17].index.tolist()\n",
    "mi_features_20 = fr.iloc[0:20].index.tolist()"
   ],
   "id": "b12dcb2833ea4f1f",
   "outputs": [],
   "execution_count": 67
  },
  {
   "metadata": {},
   "cell_type": "markdown",
   "source": "2. Boruta Ranking",
   "id": "ac5b5be54d4be054"
  },
  {
   "metadata": {
    "ExecuteTime": {
     "end_time": "2025-01-11T21:50:44.705930Z",
     "start_time": "2025-01-11T21:50:44.699484Z"
    }
   },
   "cell_type": "code",
   "source": "br_features = fr[fr.boruta_rank.isin([1,2,3])].index.tolist()",
   "id": "17430dcff6ecf0c7",
   "outputs": [],
   "execution_count": 68
  },
  {
   "metadata": {},
   "cell_type": "markdown",
   "source": "3. Correlation",
   "id": "9bd4da309cb005a9"
  },
  {
   "metadata": {
    "ExecuteTime": {
     "end_time": "2025-01-11T21:50:44.775978Z",
     "start_time": "2025-01-11T21:50:44.767082Z"
    }
   },
   "cell_type": "code",
   "source": [
    "fr[\"corr_abs\"] = np.abs(fr[\"corr\"])\n",
    "fr.sort_values(\"corr_abs\", ascending=False, inplace=True)\n",
    "corr_features = fr.iloc[0:12].index.tolist()"
   ],
   "id": "54d9c9a1bdf158b",
   "outputs": [],
   "execution_count": 69
  },
  {
   "metadata": {},
   "cell_type": "markdown",
   "source": "4. Sequential Feature Selection",
   "id": "e4bfcd49261e8d6e"
  },
  {
   "metadata": {
    "ExecuteTime": {
     "end_time": "2025-01-11T21:50:44.841063Z",
     "start_time": "2025-01-11T21:50:44.838452Z"
    }
   },
   "cell_type": "code",
   "source": [
    "sf_features = df.columns.tolist()\n",
    "sf_features.remove(\"realsum_cut\")"
   ],
   "id": "5d1095ba3d2de73e",
   "outputs": [],
   "execution_count": 70
  },
  {
   "metadata": {
    "ExecuteTime": {
     "end_time": "2025-01-11T21:51:25.680230Z",
     "start_time": "2025-01-11T21:50:44.872723Z"
    }
   },
   "cell_type": "code",
   "source": [
    "model = KNeighborsRegressor(**grid_CV.best_params_)\n",
    "\n",
    "sf = SFS(\n",
    "    model,\n",
    "    k_features=(5, 15),\n",
    "    forward=True,\n",
    "    floating=False,\n",
    "    verbose=0,\n",
    "    scoring=mse,\n",
    "    cv=5,\n",
    "    n_jobs=-1,\n",
    ")\n",
    "\n",
    "sffit = sf.fit(\n",
    "    df.loc[:, sf_features].values, df.loc[:, \"realsum_cut\"].values.ravel()\n",
    ")\n",
    "\n",
    "sf_features = df.loc[:, sf_features].columns[list(sffit.k_feature_idx_)]\n"
   ],
   "id": "c8248aafa76f9757",
   "outputs": [],
   "execution_count": 71
  },
  {
   "metadata": {
    "ExecuteTime": {
     "end_time": "2025-01-11T21:51:25.740157Z",
     "start_time": "2025-01-11T21:51:25.735171Z"
    }
   },
   "cell_type": "code",
   "source": "sf_features",
   "id": "5744b18e086ddd1c",
   "outputs": [
    {
     "data": {
      "text/plain": [
       "Index(['room_type', 'room_private', 'person_capacity', 'biz', 'bedrooms',\n",
       "       'lng', 'lat', 'longitude_disc_12_47_12_583',\n",
       "       'latitude_disc_41_893_48_837', 'latitude_disc_48_837_48_901'],\n",
       "      dtype='object')"
      ]
     },
     "execution_count": 72,
     "metadata": {},
     "output_type": "execute_result"
    }
   ],
   "execution_count": 72
  },
  {
   "metadata": {},
   "cell_type": "markdown",
   "source": "#### Hyperparameters tuning for each set of features",
   "id": "20f8924c45673d0a"
  },
  {
   "metadata": {},
   "cell_type": "markdown",
   "source": "Let's define function that will tune hyperparameters of the KNN function for each set of features.",
   "id": "525d5a7baea5ce1c"
  },
  {
   "metadata": {
    "ExecuteTime": {
     "end_time": "2025-01-11T21:51:25.798576Z",
     "start_time": "2025-01-11T21:51:25.794660Z"
    }
   },
   "cell_type": "code",
   "source": [
    "def cv_proc(var, model, param):\n",
    "    model = model\n",
    "    grid_CV = GridSearchCV(\n",
    "        model, param, cv=5, scoring=mse, return_train_score=True, n_jobs=-1\n",
    "    )\n",
    "    grid_CV.fit(df.loc[:, var].values, df.loc[:, \"realsum_cut\"].values.ravel())\n",
    "    print(grid_CV.best_params_)\n",
    "    print(grid_CV.best_score_)"
   ],
   "id": "d091fbbe4f0bc7f4",
   "outputs": [],
   "execution_count": 73
  },
  {
   "metadata": {
    "ExecuteTime": {
     "end_time": "2025-01-11T21:51:25.830796Z",
     "start_time": "2025-01-11T21:51:25.826815Z"
    }
   },
   "cell_type": "code",
   "source": "model = KNeighborsRegressor(**grid_CV.best_params_)",
   "id": "8bbe02b5d1eadfd0",
   "outputs": [],
   "execution_count": 74
  },
  {
   "metadata": {
    "ExecuteTime": {
     "end_time": "2025-01-11T21:56:08.727307Z",
     "start_time": "2025-01-11T21:54:16.357037Z"
    }
   },
   "cell_type": "code",
   "source": "cv_proc(br_features, model, param)",
   "id": "2f39683ae4950cec",
   "outputs": [
    {
     "name": "stdout",
     "output_type": "stream",
     "text": [
      "{'metric': 'manhattan', 'n_neighbors': 10, 'p': 1, 'weights': 'distance'}\n",
      "-12816.500763610082\n"
     ]
    }
   ],
   "execution_count": 76
  },
  {
   "metadata": {
    "ExecuteTime": {
     "end_time": "2025-01-11T21:57:13.730310Z",
     "start_time": "2025-01-11T21:56:38.048069Z"
    }
   },
   "cell_type": "code",
   "source": "cv_proc(mi_features, model, param)",
   "id": "750ec45a53e7d79e",
   "outputs": [
    {
     "name": "stdout",
     "output_type": "stream",
     "text": [
      "{'metric': 'manhattan', 'n_neighbors': 100, 'p': 1, 'weights': 'distance'}\n",
      "-10645.891020206327\n"
     ]
    }
   ],
   "execution_count": 77
  },
  {
   "metadata": {
    "ExecuteTime": {
     "end_time": "2025-01-11T21:57:56.363235Z",
     "start_time": "2025-01-11T21:57:13.783052Z"
    }
   },
   "cell_type": "code",
   "source": "cv_proc(mi_features_10, model, param)",
   "id": "3e6a13ef997479c7",
   "outputs": [
    {
     "name": "stdout",
     "output_type": "stream",
     "text": [
      "{'metric': 'manhattan', 'n_neighbors': 100, 'p': 1, 'weights': 'distance'}\n",
      "-7658.3700972693\n"
     ]
    }
   ],
   "execution_count": 78
  },
  {
   "metadata": {
    "ExecuteTime": {
     "end_time": "2025-01-11T21:58:58.829942Z",
     "start_time": "2025-01-11T21:57:56.405549Z"
    }
   },
   "cell_type": "code",
   "source": "cv_proc(mi_features_14, model, param)",
   "id": "6670d9dfc79f725d",
   "outputs": [
    {
     "name": "stdout",
     "output_type": "stream",
     "text": [
      "{'metric': 'manhattan', 'n_neighbors': 40, 'p': 1, 'weights': 'distance'}\n",
      "-7894.134587006585\n"
     ]
    }
   ],
   "execution_count": 79
  },
  {
   "metadata": {
    "ExecuteTime": {
     "end_time": "2025-01-11T22:05:59.587913Z",
     "start_time": "2025-01-11T21:58:58.958544Z"
    }
   },
   "cell_type": "code",
   "source": "cv_proc(mi_features_17, model, param)",
   "id": "bca9fe4e48262deb",
   "outputs": [
    {
     "name": "stdout",
     "output_type": "stream",
     "text": [
      "{'metric': 'manhattan', 'n_neighbors': 15, 'p': 1, 'weights': 'distance'}\n",
      "-12532.827763989437\n"
     ]
    }
   ],
   "execution_count": 80
  },
  {
   "metadata": {
    "ExecuteTime": {
     "end_time": "2025-01-11T22:14:18.029928Z",
     "start_time": "2025-01-11T22:05:59.668458Z"
    }
   },
   "cell_type": "code",
   "source": "cv_proc(mi_features_20, model, param)",
   "id": "1a80965b741c94b1",
   "outputs": [
    {
     "name": "stdout",
     "output_type": "stream",
     "text": [
      "{'metric': 'manhattan', 'n_neighbors': 7, 'p': 1, 'weights': 'distance'}\n",
      "-11680.583528270065\n"
     ]
    }
   ],
   "execution_count": 81
  },
  {
   "metadata": {
    "ExecuteTime": {
     "end_time": "2025-01-11T22:15:26.875407Z",
     "start_time": "2025-01-11T22:14:18.121765Z"
    }
   },
   "cell_type": "code",
   "source": "cv_proc(corr_features, model, param)",
   "id": "dfd2244c78aaeb97",
   "outputs": [
    {
     "name": "stdout",
     "output_type": "stream",
     "text": [
      "{'metric': 'manhattan', 'n_neighbors': 50, 'p': 1, 'weights': 'distance'}\n",
      "-7733.323817174483\n"
     ]
    }
   ],
   "execution_count": 82
  },
  {
   "metadata": {
    "ExecuteTime": {
     "end_time": "2025-01-11T22:16:30.908886Z",
     "start_time": "2025-01-11T22:15:26.996709Z"
    }
   },
   "cell_type": "code",
   "source": "cv_proc(sf_features, model, param)",
   "id": "e3c3db7db5f57c7d",
   "outputs": [
    {
     "name": "stdout",
     "output_type": "stream",
     "text": [
      "{'metric': 'manhattan', 'n_neighbors': 50, 'p': 1, 'weights': 'distance'}\n",
      "-6653.962242727318\n"
     ]
    }
   ],
   "execution_count": 83
  },
  {
   "metadata": {
    "ExecuteTime": {
     "end_time": "2025-01-11T22:16:31.017414Z",
     "start_time": "2025-01-11T22:16:31.014281Z"
    }
   },
   "cell_type": "code",
   "source": [
    "hp_knn = [\n",
    "    {'metric': 'manhattan', 'n_neighbors': 10, 'p': 1, 'weights': 'distance'},\n",
    "    {'metric': 'manhattan', 'n_neighbors': 100, 'p': 1, 'weights': 'distance'},\n",
    "    {'metric': 'manhattan', 'n_neighbors': 100, 'p': 1, 'weights': 'distance'},\n",
    "    {'metric': 'manhattan', 'n_neighbors': 40, 'p': 1, 'weights': 'distance'},\n",
    "    {'metric': 'manhattan', 'n_neighbors': 15, 'p': 1, 'weights': 'distance'},\n",
    "    {'metric': 'manhattan', 'n_neighbors': 7, 'p': 1, 'weights': 'distance'},\n",
    "    {'metric': 'manhattan', 'n_neighbors': 50, 'p': 1, 'weights': 'distance'},\n",
    "    {'metric': 'manhattan', 'n_neighbors': 50, 'p': 1, 'weights': 'distance'},\n",
    "]"
   ],
   "id": "9a2b27c74f6a4c65",
   "outputs": [],
   "execution_count": 84
  },
  {
   "metadata": {},
   "cell_type": "markdown",
   "source": "Now we will evaluate the model using the cross-validation approach. We will check both MAPE and RMSE metrics for each feature dataset.",
   "id": "5bd6c3350a479dc1"
  },
  {
   "metadata": {
    "ExecuteTime": {
     "end_time": "2025-01-11T22:16:38.466058Z",
     "start_time": "2025-01-11T22:16:31.088081Z"
    }
   },
   "cell_type": "code",
   "source": [
    "model = KNeighborsRegressor(**hp_knn[0])\n",
    "var = br_features\n",
    "cv_output0_rmse = CV_rmse_wrapper(df, br_features, model,10, 123, shuff=True, display_res=True)\n",
    "cv_output0_mape = CV_wrapper(df, br_features, model, 10, 123, shuff=True,  display_res=True)"
   ],
   "id": "fd7e94576f41dc2a",
   "outputs": [],
   "execution_count": 85
  },
  {
   "metadata": {
    "ExecuteTime": {
     "end_time": "2025-01-11T22:16:38.497723Z",
     "start_time": "2025-01-11T22:16:38.489264Z"
    }
   },
   "cell_type": "code",
   "source": "cv_output0_rmse.mean()",
   "id": "5ac123f5b92f0a3c",
   "outputs": [
    {
     "data": {
      "text/plain": [
       "cv_train      0.000000\n",
       "cv_val      111.476953\n",
       "dtype: float64"
      ]
     },
     "execution_count": 86,
     "metadata": {},
     "output_type": "execute_result"
    }
   ],
   "execution_count": 86
  },
  {
   "metadata": {
    "ExecuteTime": {
     "end_time": "2025-01-11T22:16:38.551657Z",
     "start_time": "2025-01-11T22:16:38.547032Z"
    }
   },
   "cell_type": "code",
   "source": "cv_output0_mape.mean()",
   "id": "4dc768e9d03b5741",
   "outputs": [
    {
     "data": {
      "text/plain": [
       "cv_train    0.00000\n",
       "cv_val      0.26079\n",
       "dtype: float64"
      ]
     },
     "execution_count": 87,
     "metadata": {},
     "output_type": "execute_result"
    }
   ],
   "execution_count": 87
  },
  {
   "metadata": {
    "ExecuteTime": {
     "end_time": "2025-01-11T22:16:48.092121Z",
     "start_time": "2025-01-11T22:16:38.657317Z"
    }
   },
   "cell_type": "code",
   "source": [
    "model = KNeighborsRegressor(**hp_knn[1])\n",
    "cv_output1_rmse = CV_rmse_wrapper(df, mi_features, model,10, 123, shuff=True, display_res=True)\n",
    "cv_output1_mape = CV_wrapper(df, mi_features, model, 10, 123, shuff=True,  display_res=True)"
   ],
   "id": "27af6316a016bb5a",
   "outputs": [],
   "execution_count": 88
  },
  {
   "metadata": {
    "ExecuteTime": {
     "end_time": "2025-01-11T22:16:48.139611Z",
     "start_time": "2025-01-11T22:16:48.131655Z"
    }
   },
   "cell_type": "code",
   "source": "cv_output1_mape.mean()",
   "id": "f7097c6e51514a6b",
   "outputs": [
    {
     "data": {
      "text/plain": [
       "cv_train    0.00000\n",
       "cv_val      0.17459\n",
       "dtype: float64"
      ]
     },
     "execution_count": 89,
     "metadata": {},
     "output_type": "execute_result"
    }
   ],
   "execution_count": 89
  },
  {
   "metadata": {
    "ExecuteTime": {
     "end_time": "2025-01-11T22:16:48.212437Z",
     "start_time": "2025-01-11T22:16:48.205318Z"
    }
   },
   "cell_type": "code",
   "source": "cv_output1_rmse.mean()",
   "id": "78d70c945cebb3b0",
   "outputs": [
    {
     "data": {
      "text/plain": [
       "cv_train     0.000000\n",
       "cv_val      97.919683\n",
       "dtype: float64"
      ]
     },
     "execution_count": 90,
     "metadata": {},
     "output_type": "execute_result"
    }
   ],
   "execution_count": 90
  },
  {
   "metadata": {
    "ExecuteTime": {
     "end_time": "2025-01-11T22:17:01.304008Z",
     "start_time": "2025-01-11T22:16:48.446348Z"
    }
   },
   "cell_type": "code",
   "source": [
    "model = KNeighborsRegressor(**hp_knn[2])\n",
    "cv_output2_rmse = CV_rmse_wrapper(df, mi_features_10, model,10, 123, shuff=True, display_res=True)\n",
    "cv_output2_mape = CV_wrapper(df, mi_features_10, model, 10, 123, shuff=True,  display_res=True)"
   ],
   "id": "be6a66e8e8c87a81",
   "outputs": [],
   "execution_count": 91
  },
  {
   "metadata": {
    "ExecuteTime": {
     "end_time": "2025-01-11T22:17:01.370114Z",
     "start_time": "2025-01-11T22:17:01.364784Z"
    }
   },
   "cell_type": "code",
   "source": "cv_output2_mape.mean()",
   "id": "4e770cc469cc3a58",
   "outputs": [
    {
     "data": {
      "text/plain": [
       "cv_train    0.000000\n",
       "cv_val      0.151257\n",
       "dtype: float64"
      ]
     },
     "execution_count": 92,
     "metadata": {},
     "output_type": "execute_result"
    }
   ],
   "execution_count": 92
  },
  {
   "metadata": {
    "ExecuteTime": {
     "end_time": "2025-01-11T22:17:01.525925Z",
     "start_time": "2025-01-11T22:17:01.521132Z"
    }
   },
   "cell_type": "code",
   "source": "cv_output2_rmse.mean()",
   "id": "dbc096d062ee8fc7",
   "outputs": [
    {
     "data": {
      "text/plain": [
       "cv_train     0.000000\n",
       "cv_val      82.737532\n",
       "dtype: float64"
      ]
     },
     "execution_count": 93,
     "metadata": {},
     "output_type": "execute_result"
    }
   ],
   "execution_count": 93
  },
  {
   "metadata": {
    "ExecuteTime": {
     "end_time": "2025-01-11T22:17:11.691685Z",
     "start_time": "2025-01-11T22:17:01.637550Z"
    }
   },
   "cell_type": "code",
   "source": [
    "model = KNeighborsRegressor(**hp_knn[3])\n",
    "cv_output3_rmse = CV_rmse_wrapper(df, mi_features_14, model,10, 123, shuff=True, display_res=True)\n",
    "cv_output3_mape = CV_wrapper(df, mi_features_14, model, 10, 123, shuff=True,  display_res=True)"
   ],
   "id": "14671a31148f44e3",
   "outputs": [],
   "execution_count": 94
  },
  {
   "metadata": {
    "ExecuteTime": {
     "end_time": "2025-01-11T22:17:11.749840Z",
     "start_time": "2025-01-11T22:17:11.744547Z"
    }
   },
   "cell_type": "code",
   "source": "cv_output3_mape.mean()",
   "id": "a20d751766d1f4c5",
   "outputs": [
    {
     "data": {
      "text/plain": [
       "cv_train    0.00000\n",
       "cv_val      0.15227\n",
       "dtype: float64"
      ]
     },
     "execution_count": 95,
     "metadata": {},
     "output_type": "execute_result"
    }
   ],
   "execution_count": 95
  },
  {
   "metadata": {
    "ExecuteTime": {
     "end_time": "2025-01-11T22:17:11.847449Z",
     "start_time": "2025-01-11T22:17:11.843339Z"
    }
   },
   "cell_type": "code",
   "source": "cv_output3_rmse.mean()",
   "id": "8f7651e51ea838b9",
   "outputs": [
    {
     "data": {
      "text/plain": [
       "cv_train     0.000000\n",
       "cv_val      84.032507\n",
       "dtype: float64"
      ]
     },
     "execution_count": 96,
     "metadata": {},
     "output_type": "execute_result"
    }
   ],
   "execution_count": 96
  },
  {
   "metadata": {
    "ExecuteTime": {
     "end_time": "2025-01-11T22:18:57.126460Z",
     "start_time": "2025-01-11T22:17:11.921901Z"
    }
   },
   "cell_type": "code",
   "source": [
    "model = KNeighborsRegressor(**hp_knn[4])\n",
    "cv_output4_rmse = CV_rmse_wrapper(df, mi_features_17, model,10, 123, shuff=True, display_res=True)\n",
    "cv_output4_mape = CV_wrapper(df, mi_features_17, model, 10, 123, shuff=True,  display_res=True)"
   ],
   "id": "95b4e9673a9192d",
   "outputs": [],
   "execution_count": 97
  },
  {
   "metadata": {
    "ExecuteTime": {
     "end_time": "2025-01-11T22:18:57.183820Z",
     "start_time": "2025-01-11T22:18:57.176042Z"
    }
   },
   "cell_type": "code",
   "source": "cv_output4_mape.mean()",
   "id": "2514f1d2b678aefd",
   "outputs": [
    {
     "data": {
      "text/plain": [
       "cv_train    0.000000\n",
       "cv_val      0.262314\n",
       "dtype: float64"
      ]
     },
     "execution_count": 98,
     "metadata": {},
     "output_type": "execute_result"
    }
   ],
   "execution_count": 98
  },
  {
   "metadata": {
    "ExecuteTime": {
     "end_time": "2025-01-11T22:18:57.266625Z",
     "start_time": "2025-01-11T22:18:57.260722Z"
    }
   },
   "cell_type": "code",
   "source": "cv_output4_rmse.mean()",
   "id": "62d317d8c869faa",
   "outputs": [
    {
     "data": {
      "text/plain": [
       "cv_train      0.000000\n",
       "cv_val      110.725694\n",
       "dtype: float64"
      ]
     },
     "execution_count": 99,
     "metadata": {},
     "output_type": "execute_result"
    }
   ],
   "execution_count": 99
  },
  {
   "metadata": {
    "ExecuteTime": {
     "end_time": "2025-01-11T22:19:15.390792Z",
     "start_time": "2025-01-11T22:18:57.418495Z"
    }
   },
   "cell_type": "code",
   "source": [
    "model = KNeighborsRegressor(**hp_knn[5])\n",
    "cv_output5rmse = CV_rmse_wrapper(df, mi_features_20, model,10, 123, shuff=True, display_res=True)\n",
    "cv_output5_mape = CV_wrapper(df, mi_features_20, model, 10, 123, shuff=True,  display_res=True)"
   ],
   "id": "15333b44be8dd1b2",
   "outputs": [],
   "execution_count": 100
  },
  {
   "metadata": {
    "ExecuteTime": {
     "end_time": "2025-01-11T22:19:15.475909Z",
     "start_time": "2025-01-11T22:19:15.470403Z"
    }
   },
   "cell_type": "code",
   "source": "cv_output5_mape.mean()",
   "id": "e08dad4d19cde9e9",
   "outputs": [
    {
     "data": {
      "text/plain": [
       "cv_train    0.000000\n",
       "cv_val      0.245508\n",
       "dtype: float64"
      ]
     },
     "execution_count": 101,
     "metadata": {},
     "output_type": "execute_result"
    }
   ],
   "execution_count": 101
  },
  {
   "metadata": {
    "ExecuteTime": {
     "end_time": "2025-01-11T22:19:15.605225Z",
     "start_time": "2025-01-11T22:19:15.601179Z"
    }
   },
   "cell_type": "code",
   "source": "cv_output5rmse.mean()",
   "id": "376057b26c8ff93d",
   "outputs": [
    {
     "data": {
      "text/plain": [
       "cv_train      0.000000\n",
       "cv_val      106.210569\n",
       "dtype: float64"
      ]
     },
     "execution_count": 102,
     "metadata": {},
     "output_type": "execute_result"
    }
   ],
   "execution_count": 102
  },
  {
   "metadata": {
    "ExecuteTime": {
     "end_time": "2025-01-11T22:19:26.159707Z",
     "start_time": "2025-01-11T22:19:15.792436Z"
    }
   },
   "cell_type": "code",
   "source": [
    "model = KNeighborsRegressor(**hp_knn[6])\n",
    "cv_output6_rmse = CV_rmse_wrapper(df, corr_features, model,10, 123, shuff=True, display_res=True)\n",
    "cv_output6_mape = CV_wrapper(df, corr_features, model, 10, 123, shuff=True,  display_res=True)"
   ],
   "id": "c781db5a9b4fa369",
   "outputs": [],
   "execution_count": 103
  },
  {
   "metadata": {
    "ExecuteTime": {
     "end_time": "2025-01-11T22:19:26.193120Z",
     "start_time": "2025-01-11T22:19:26.190010Z"
    }
   },
   "cell_type": "code",
   "source": "cv_output6_mape.mean()",
   "id": "15bb3083373343c9",
   "outputs": [
    {
     "data": {
      "text/plain": [
       "cv_train    0.000090\n",
       "cv_val      0.159348\n",
       "dtype: float64"
      ]
     },
     "execution_count": 104,
     "metadata": {},
     "output_type": "execute_result"
    }
   ],
   "execution_count": 104
  },
  {
   "metadata": {
    "ExecuteTime": {
     "end_time": "2025-01-11T22:19:26.288660Z",
     "start_time": "2025-01-11T22:19:26.285137Z"
    }
   },
   "cell_type": "code",
   "source": "cv_output6_rmse.mean()",
   "id": "61266098b41dda28",
   "outputs": [
    {
     "data": {
      "text/plain": [
       "cv_train     0.979875\n",
       "cv_val      83.304007\n",
       "dtype: float64"
      ]
     },
     "execution_count": 105,
     "metadata": {},
     "output_type": "execute_result"
    }
   ],
   "execution_count": 105
  },
  {
   "metadata": {
    "ExecuteTime": {
     "end_time": "2025-01-11T22:21:08.860971Z",
     "start_time": "2025-01-11T22:19:26.411585Z"
    }
   },
   "cell_type": "code",
   "source": [
    "model = KNeighborsRegressor(**hp_knn[7])\n",
    "cv_output7_rmse = CV_rmse_wrapper(df, sf_features, model,10, 123, shuff=True, display_res=True)\n",
    "cv_output7_mape = CV_wrapper(df, sf_features, model, 10, 123, shuff=True,  display_res=True)"
   ],
   "id": "5711ee54387a9240",
   "outputs": [],
   "execution_count": 106
  },
  {
   "metadata": {
    "ExecuteTime": {
     "end_time": "2025-01-11T22:21:08.931814Z",
     "start_time": "2025-01-11T22:21:08.926812Z"
    }
   },
   "cell_type": "code",
   "source": "cv_output7_mape.mean()",
   "id": "89117e0f6320c004",
   "outputs": [
    {
     "data": {
      "text/plain": [
       "cv_train    0.012815\n",
       "cv_val      0.140850\n",
       "dtype: float64"
      ]
     },
     "execution_count": 107,
     "metadata": {},
     "output_type": "execute_result"
    }
   ],
   "execution_count": 107
  },
  {
   "metadata": {
    "ExecuteTime": {
     "end_time": "2025-01-11T22:21:09.152472Z",
     "start_time": "2025-01-11T22:21:09.149312Z"
    }
   },
   "cell_type": "code",
   "source": "cv_output7_rmse.mean()",
   "id": "d5860086c2db4ab4",
   "outputs": [
    {
     "data": {
      "text/plain": [
       "cv_train    15.056186\n",
       "cv_val      77.633269\n",
       "dtype: float64"
      ]
     },
     "execution_count": 108,
     "metadata": {},
     "output_type": "execute_result"
    }
   ],
   "execution_count": 108
  },
  {
   "metadata": {},
   "cell_type": "markdown",
   "source": "We significantly improved our score. The best result was obtained for the Sequential Feature Selection dataset.",
   "id": "d27be6885f04f61"
  },
  {
   "metadata": {
    "ExecuteTime": {
     "end_time": "2025-01-11T22:21:09.471138Z",
     "start_time": "2025-01-11T22:21:09.449264Z"
    }
   },
   "cell_type": "code",
   "source": [
    "model = KNeighborsRegressor(**hp_knn[7])\n",
    "model.fit(df.loc[:, sf_features].values, df.loc[:, \"realsum_cut\"].values.ravel())\n",
    "pickle.dump(model, open(\"models/model_knn.sav\", \"wb\"))"
   ],
   "id": "f35e5273621b56c9",
   "outputs": [],
   "execution_count": 109
  },
  {
   "metadata": {},
   "cell_type": "markdown",
   "source": [
    "### Decision Tree\n",
    "Now we will move on to the Decision Tree model. We will start with feature selection. We will use GridSearchCV to find the best hyperparameters for the model."
   ],
   "id": "fc4edb872b5a6c21"
  },
  {
   "metadata": {},
   "cell_type": "markdown",
   "source": "#### Feature selection",
   "id": "eb3c5a69f79c24ea"
  },
  {
   "metadata": {
    "ExecuteTime": {
     "end_time": "2025-01-11T22:21:09.566934Z",
     "start_time": "2025-01-11T22:21:09.563889Z"
    }
   },
   "cell_type": "code",
   "source": [
    "param_dt = {\n",
    "    \"max_depth\": [3, 5, 7, 10],\n",
    "    \"min_samples_split\": [2, 5, 10],\n",
    "    \"min_samples_leaf\": [1, 2, 4],\n",
    "}"
   ],
   "id": "82c79c7d9046dfba",
   "outputs": [],
   "execution_count": 110
  },
  {
   "metadata": {
    "ExecuteTime": {
     "end_time": "2025-01-11T22:21:15.663043Z",
     "start_time": "2025-01-11T22:21:09.678689Z"
    }
   },
   "cell_type": "code",
   "source": [
    "model = DecisionTreeRegressor()\n",
    "grid_CV = GridSearchCV(\n",
    "    model, param_dt, cv=5, scoring=mse, return_train_score=True, n_jobs=-1\n",
    ")\n",
    "grid_CV.fit(df.loc[:, var].values, df.loc[:, \"realsum_cut\"].values.ravel())"
   ],
   "id": "d112a7965e1c9456",
   "outputs": [
    {
     "data": {
      "text/plain": [
       "GridSearchCV(cv=5, estimator=DecisionTreeRegressor(), n_jobs=-1,\n",
       "             param_grid={'max_depth': [3, 5, 7, 10],\n",
       "                         'min_samples_leaf': [1, 2, 4],\n",
       "                         'min_samples_split': [2, 5, 10]},\n",
       "             return_train_score=True,\n",
       "             scoring=make_scorer(mean_squared_error, greater_is_better=False, response_method='predict'))"
      ],
      "text/html": [
       "<style>#sk-container-id-3 {\n",
       "  /* Definition of color scheme common for light and dark mode */\n",
       "  --sklearn-color-text: #000;\n",
       "  --sklearn-color-text-muted: #666;\n",
       "  --sklearn-color-line: gray;\n",
       "  /* Definition of color scheme for unfitted estimators */\n",
       "  --sklearn-color-unfitted-level-0: #fff5e6;\n",
       "  --sklearn-color-unfitted-level-1: #f6e4d2;\n",
       "  --sklearn-color-unfitted-level-2: #ffe0b3;\n",
       "  --sklearn-color-unfitted-level-3: chocolate;\n",
       "  /* Definition of color scheme for fitted estimators */\n",
       "  --sklearn-color-fitted-level-0: #f0f8ff;\n",
       "  --sklearn-color-fitted-level-1: #d4ebff;\n",
       "  --sklearn-color-fitted-level-2: #b3dbfd;\n",
       "  --sklearn-color-fitted-level-3: cornflowerblue;\n",
       "\n",
       "  /* Specific color for light theme */\n",
       "  --sklearn-color-text-on-default-background: var(--sg-text-color, var(--theme-code-foreground, var(--jp-content-font-color1, black)));\n",
       "  --sklearn-color-background: var(--sg-background-color, var(--theme-background, var(--jp-layout-color0, white)));\n",
       "  --sklearn-color-border-box: var(--sg-text-color, var(--theme-code-foreground, var(--jp-content-font-color1, black)));\n",
       "  --sklearn-color-icon: #696969;\n",
       "\n",
       "  @media (prefers-color-scheme: dark) {\n",
       "    /* Redefinition of color scheme for dark theme */\n",
       "    --sklearn-color-text-on-default-background: var(--sg-text-color, var(--theme-code-foreground, var(--jp-content-font-color1, white)));\n",
       "    --sklearn-color-background: var(--sg-background-color, var(--theme-background, var(--jp-layout-color0, #111)));\n",
       "    --sklearn-color-border-box: var(--sg-text-color, var(--theme-code-foreground, var(--jp-content-font-color1, white)));\n",
       "    --sklearn-color-icon: #878787;\n",
       "  }\n",
       "}\n",
       "\n",
       "#sk-container-id-3 {\n",
       "  color: var(--sklearn-color-text);\n",
       "}\n",
       "\n",
       "#sk-container-id-3 pre {\n",
       "  padding: 0;\n",
       "}\n",
       "\n",
       "#sk-container-id-3 input.sk-hidden--visually {\n",
       "  border: 0;\n",
       "  clip: rect(1px 1px 1px 1px);\n",
       "  clip: rect(1px, 1px, 1px, 1px);\n",
       "  height: 1px;\n",
       "  margin: -1px;\n",
       "  overflow: hidden;\n",
       "  padding: 0;\n",
       "  position: absolute;\n",
       "  width: 1px;\n",
       "}\n",
       "\n",
       "#sk-container-id-3 div.sk-dashed-wrapped {\n",
       "  border: 1px dashed var(--sklearn-color-line);\n",
       "  margin: 0 0.4em 0.5em 0.4em;\n",
       "  box-sizing: border-box;\n",
       "  padding-bottom: 0.4em;\n",
       "  background-color: var(--sklearn-color-background);\n",
       "}\n",
       "\n",
       "#sk-container-id-3 div.sk-container {\n",
       "  /* jupyter's `normalize.less` sets `[hidden] { display: none; }`\n",
       "     but bootstrap.min.css set `[hidden] { display: none !important; }`\n",
       "     so we also need the `!important` here to be able to override the\n",
       "     default hidden behavior on the sphinx rendered scikit-learn.org.\n",
       "     See: https://github.com/scikit-learn/scikit-learn/issues/21755 */\n",
       "  display: inline-block !important;\n",
       "  position: relative;\n",
       "}\n",
       "\n",
       "#sk-container-id-3 div.sk-text-repr-fallback {\n",
       "  display: none;\n",
       "}\n",
       "\n",
       "div.sk-parallel-item,\n",
       "div.sk-serial,\n",
       "div.sk-item {\n",
       "  /* draw centered vertical line to link estimators */\n",
       "  background-image: linear-gradient(var(--sklearn-color-text-on-default-background), var(--sklearn-color-text-on-default-background));\n",
       "  background-size: 2px 100%;\n",
       "  background-repeat: no-repeat;\n",
       "  background-position: center center;\n",
       "}\n",
       "\n",
       "/* Parallel-specific style estimator block */\n",
       "\n",
       "#sk-container-id-3 div.sk-parallel-item::after {\n",
       "  content: \"\";\n",
       "  width: 100%;\n",
       "  border-bottom: 2px solid var(--sklearn-color-text-on-default-background);\n",
       "  flex-grow: 1;\n",
       "}\n",
       "\n",
       "#sk-container-id-3 div.sk-parallel {\n",
       "  display: flex;\n",
       "  align-items: stretch;\n",
       "  justify-content: center;\n",
       "  background-color: var(--sklearn-color-background);\n",
       "  position: relative;\n",
       "}\n",
       "\n",
       "#sk-container-id-3 div.sk-parallel-item {\n",
       "  display: flex;\n",
       "  flex-direction: column;\n",
       "}\n",
       "\n",
       "#sk-container-id-3 div.sk-parallel-item:first-child::after {\n",
       "  align-self: flex-end;\n",
       "  width: 50%;\n",
       "}\n",
       "\n",
       "#sk-container-id-3 div.sk-parallel-item:last-child::after {\n",
       "  align-self: flex-start;\n",
       "  width: 50%;\n",
       "}\n",
       "\n",
       "#sk-container-id-3 div.sk-parallel-item:only-child::after {\n",
       "  width: 0;\n",
       "}\n",
       "\n",
       "/* Serial-specific style estimator block */\n",
       "\n",
       "#sk-container-id-3 div.sk-serial {\n",
       "  display: flex;\n",
       "  flex-direction: column;\n",
       "  align-items: center;\n",
       "  background-color: var(--sklearn-color-background);\n",
       "  padding-right: 1em;\n",
       "  padding-left: 1em;\n",
       "}\n",
       "\n",
       "\n",
       "/* Toggleable style: style used for estimator/Pipeline/ColumnTransformer box that is\n",
       "clickable and can be expanded/collapsed.\n",
       "- Pipeline and ColumnTransformer use this feature and define the default style\n",
       "- Estimators will overwrite some part of the style using the `sk-estimator` class\n",
       "*/\n",
       "\n",
       "/* Pipeline and ColumnTransformer style (default) */\n",
       "\n",
       "#sk-container-id-3 div.sk-toggleable {\n",
       "  /* Default theme specific background. It is overwritten whether we have a\n",
       "  specific estimator or a Pipeline/ColumnTransformer */\n",
       "  background-color: var(--sklearn-color-background);\n",
       "}\n",
       "\n",
       "/* Toggleable label */\n",
       "#sk-container-id-3 label.sk-toggleable__label {\n",
       "  cursor: pointer;\n",
       "  display: flex;\n",
       "  width: 100%;\n",
       "  margin-bottom: 0;\n",
       "  padding: 0.5em;\n",
       "  box-sizing: border-box;\n",
       "  text-align: center;\n",
       "  align-items: start;\n",
       "  justify-content: space-between;\n",
       "  gap: 0.5em;\n",
       "}\n",
       "\n",
       "#sk-container-id-3 label.sk-toggleable__label .caption {\n",
       "  font-size: 0.6rem;\n",
       "  font-weight: lighter;\n",
       "  color: var(--sklearn-color-text-muted);\n",
       "}\n",
       "\n",
       "#sk-container-id-3 label.sk-toggleable__label-arrow:before {\n",
       "  /* Arrow on the left of the label */\n",
       "  content: \"▸\";\n",
       "  float: left;\n",
       "  margin-right: 0.25em;\n",
       "  color: var(--sklearn-color-icon);\n",
       "}\n",
       "\n",
       "#sk-container-id-3 label.sk-toggleable__label-arrow:hover:before {\n",
       "  color: var(--sklearn-color-text);\n",
       "}\n",
       "\n",
       "/* Toggleable content - dropdown */\n",
       "\n",
       "#sk-container-id-3 div.sk-toggleable__content {\n",
       "  max-height: 0;\n",
       "  max-width: 0;\n",
       "  overflow: hidden;\n",
       "  text-align: left;\n",
       "  /* unfitted */\n",
       "  background-color: var(--sklearn-color-unfitted-level-0);\n",
       "}\n",
       "\n",
       "#sk-container-id-3 div.sk-toggleable__content.fitted {\n",
       "  /* fitted */\n",
       "  background-color: var(--sklearn-color-fitted-level-0);\n",
       "}\n",
       "\n",
       "#sk-container-id-3 div.sk-toggleable__content pre {\n",
       "  margin: 0.2em;\n",
       "  border-radius: 0.25em;\n",
       "  color: var(--sklearn-color-text);\n",
       "  /* unfitted */\n",
       "  background-color: var(--sklearn-color-unfitted-level-0);\n",
       "}\n",
       "\n",
       "#sk-container-id-3 div.sk-toggleable__content.fitted pre {\n",
       "  /* unfitted */\n",
       "  background-color: var(--sklearn-color-fitted-level-0);\n",
       "}\n",
       "\n",
       "#sk-container-id-3 input.sk-toggleable__control:checked~div.sk-toggleable__content {\n",
       "  /* Expand drop-down */\n",
       "  max-height: 200px;\n",
       "  max-width: 100%;\n",
       "  overflow: auto;\n",
       "}\n",
       "\n",
       "#sk-container-id-3 input.sk-toggleable__control:checked~label.sk-toggleable__label-arrow:before {\n",
       "  content: \"▾\";\n",
       "}\n",
       "\n",
       "/* Pipeline/ColumnTransformer-specific style */\n",
       "\n",
       "#sk-container-id-3 div.sk-label input.sk-toggleable__control:checked~label.sk-toggleable__label {\n",
       "  color: var(--sklearn-color-text);\n",
       "  background-color: var(--sklearn-color-unfitted-level-2);\n",
       "}\n",
       "\n",
       "#sk-container-id-3 div.sk-label.fitted input.sk-toggleable__control:checked~label.sk-toggleable__label {\n",
       "  background-color: var(--sklearn-color-fitted-level-2);\n",
       "}\n",
       "\n",
       "/* Estimator-specific style */\n",
       "\n",
       "/* Colorize estimator box */\n",
       "#sk-container-id-3 div.sk-estimator input.sk-toggleable__control:checked~label.sk-toggleable__label {\n",
       "  /* unfitted */\n",
       "  background-color: var(--sklearn-color-unfitted-level-2);\n",
       "}\n",
       "\n",
       "#sk-container-id-3 div.sk-estimator.fitted input.sk-toggleable__control:checked~label.sk-toggleable__label {\n",
       "  /* fitted */\n",
       "  background-color: var(--sklearn-color-fitted-level-2);\n",
       "}\n",
       "\n",
       "#sk-container-id-3 div.sk-label label.sk-toggleable__label,\n",
       "#sk-container-id-3 div.sk-label label {\n",
       "  /* The background is the default theme color */\n",
       "  color: var(--sklearn-color-text-on-default-background);\n",
       "}\n",
       "\n",
       "/* On hover, darken the color of the background */\n",
       "#sk-container-id-3 div.sk-label:hover label.sk-toggleable__label {\n",
       "  color: var(--sklearn-color-text);\n",
       "  background-color: var(--sklearn-color-unfitted-level-2);\n",
       "}\n",
       "\n",
       "/* Label box, darken color on hover, fitted */\n",
       "#sk-container-id-3 div.sk-label.fitted:hover label.sk-toggleable__label.fitted {\n",
       "  color: var(--sklearn-color-text);\n",
       "  background-color: var(--sklearn-color-fitted-level-2);\n",
       "}\n",
       "\n",
       "/* Estimator label */\n",
       "\n",
       "#sk-container-id-3 div.sk-label label {\n",
       "  font-family: monospace;\n",
       "  font-weight: bold;\n",
       "  display: inline-block;\n",
       "  line-height: 1.2em;\n",
       "}\n",
       "\n",
       "#sk-container-id-3 div.sk-label-container {\n",
       "  text-align: center;\n",
       "}\n",
       "\n",
       "/* Estimator-specific */\n",
       "#sk-container-id-3 div.sk-estimator {\n",
       "  font-family: monospace;\n",
       "  border: 1px dotted var(--sklearn-color-border-box);\n",
       "  border-radius: 0.25em;\n",
       "  box-sizing: border-box;\n",
       "  margin-bottom: 0.5em;\n",
       "  /* unfitted */\n",
       "  background-color: var(--sklearn-color-unfitted-level-0);\n",
       "}\n",
       "\n",
       "#sk-container-id-3 div.sk-estimator.fitted {\n",
       "  /* fitted */\n",
       "  background-color: var(--sklearn-color-fitted-level-0);\n",
       "}\n",
       "\n",
       "/* on hover */\n",
       "#sk-container-id-3 div.sk-estimator:hover {\n",
       "  /* unfitted */\n",
       "  background-color: var(--sklearn-color-unfitted-level-2);\n",
       "}\n",
       "\n",
       "#sk-container-id-3 div.sk-estimator.fitted:hover {\n",
       "  /* fitted */\n",
       "  background-color: var(--sklearn-color-fitted-level-2);\n",
       "}\n",
       "\n",
       "/* Specification for estimator info (e.g. \"i\" and \"?\") */\n",
       "\n",
       "/* Common style for \"i\" and \"?\" */\n",
       "\n",
       ".sk-estimator-doc-link,\n",
       "a:link.sk-estimator-doc-link,\n",
       "a:visited.sk-estimator-doc-link {\n",
       "  float: right;\n",
       "  font-size: smaller;\n",
       "  line-height: 1em;\n",
       "  font-family: monospace;\n",
       "  background-color: var(--sklearn-color-background);\n",
       "  border-radius: 1em;\n",
       "  height: 1em;\n",
       "  width: 1em;\n",
       "  text-decoration: none !important;\n",
       "  margin-left: 0.5em;\n",
       "  text-align: center;\n",
       "  /* unfitted */\n",
       "  border: var(--sklearn-color-unfitted-level-1) 1pt solid;\n",
       "  color: var(--sklearn-color-unfitted-level-1);\n",
       "}\n",
       "\n",
       ".sk-estimator-doc-link.fitted,\n",
       "a:link.sk-estimator-doc-link.fitted,\n",
       "a:visited.sk-estimator-doc-link.fitted {\n",
       "  /* fitted */\n",
       "  border: var(--sklearn-color-fitted-level-1) 1pt solid;\n",
       "  color: var(--sklearn-color-fitted-level-1);\n",
       "}\n",
       "\n",
       "/* On hover */\n",
       "div.sk-estimator:hover .sk-estimator-doc-link:hover,\n",
       ".sk-estimator-doc-link:hover,\n",
       "div.sk-label-container:hover .sk-estimator-doc-link:hover,\n",
       ".sk-estimator-doc-link:hover {\n",
       "  /* unfitted */\n",
       "  background-color: var(--sklearn-color-unfitted-level-3);\n",
       "  color: var(--sklearn-color-background);\n",
       "  text-decoration: none;\n",
       "}\n",
       "\n",
       "div.sk-estimator.fitted:hover .sk-estimator-doc-link.fitted:hover,\n",
       ".sk-estimator-doc-link.fitted:hover,\n",
       "div.sk-label-container:hover .sk-estimator-doc-link.fitted:hover,\n",
       ".sk-estimator-doc-link.fitted:hover {\n",
       "  /* fitted */\n",
       "  background-color: var(--sklearn-color-fitted-level-3);\n",
       "  color: var(--sklearn-color-background);\n",
       "  text-decoration: none;\n",
       "}\n",
       "\n",
       "/* Span, style for the box shown on hovering the info icon */\n",
       ".sk-estimator-doc-link span {\n",
       "  display: none;\n",
       "  z-index: 9999;\n",
       "  position: relative;\n",
       "  font-weight: normal;\n",
       "  right: .2ex;\n",
       "  padding: .5ex;\n",
       "  margin: .5ex;\n",
       "  width: min-content;\n",
       "  min-width: 20ex;\n",
       "  max-width: 50ex;\n",
       "  color: var(--sklearn-color-text);\n",
       "  box-shadow: 2pt 2pt 4pt #999;\n",
       "  /* unfitted */\n",
       "  background: var(--sklearn-color-unfitted-level-0);\n",
       "  border: .5pt solid var(--sklearn-color-unfitted-level-3);\n",
       "}\n",
       "\n",
       ".sk-estimator-doc-link.fitted span {\n",
       "  /* fitted */\n",
       "  background: var(--sklearn-color-fitted-level-0);\n",
       "  border: var(--sklearn-color-fitted-level-3);\n",
       "}\n",
       "\n",
       ".sk-estimator-doc-link:hover span {\n",
       "  display: block;\n",
       "}\n",
       "\n",
       "/* \"?\"-specific style due to the `<a>` HTML tag */\n",
       "\n",
       "#sk-container-id-3 a.estimator_doc_link {\n",
       "  float: right;\n",
       "  font-size: 1rem;\n",
       "  line-height: 1em;\n",
       "  font-family: monospace;\n",
       "  background-color: var(--sklearn-color-background);\n",
       "  border-radius: 1rem;\n",
       "  height: 1rem;\n",
       "  width: 1rem;\n",
       "  text-decoration: none;\n",
       "  /* unfitted */\n",
       "  color: var(--sklearn-color-unfitted-level-1);\n",
       "  border: var(--sklearn-color-unfitted-level-1) 1pt solid;\n",
       "}\n",
       "\n",
       "#sk-container-id-3 a.estimator_doc_link.fitted {\n",
       "  /* fitted */\n",
       "  border: var(--sklearn-color-fitted-level-1) 1pt solid;\n",
       "  color: var(--sklearn-color-fitted-level-1);\n",
       "}\n",
       "\n",
       "/* On hover */\n",
       "#sk-container-id-3 a.estimator_doc_link:hover {\n",
       "  /* unfitted */\n",
       "  background-color: var(--sklearn-color-unfitted-level-3);\n",
       "  color: var(--sklearn-color-background);\n",
       "  text-decoration: none;\n",
       "}\n",
       "\n",
       "#sk-container-id-3 a.estimator_doc_link.fitted:hover {\n",
       "  /* fitted */\n",
       "  background-color: var(--sklearn-color-fitted-level-3);\n",
       "}\n",
       "</style><div id=\"sk-container-id-3\" class=\"sk-top-container\"><div class=\"sk-text-repr-fallback\"><pre>GridSearchCV(cv=5, estimator=DecisionTreeRegressor(), n_jobs=-1,\n",
       "             param_grid={&#x27;max_depth&#x27;: [3, 5, 7, 10],\n",
       "                         &#x27;min_samples_leaf&#x27;: [1, 2, 4],\n",
       "                         &#x27;min_samples_split&#x27;: [2, 5, 10]},\n",
       "             return_train_score=True,\n",
       "             scoring=make_scorer(mean_squared_error, greater_is_better=False, response_method=&#x27;predict&#x27;))</pre><b>In a Jupyter environment, please rerun this cell to show the HTML representation or trust the notebook. <br />On GitHub, the HTML representation is unable to render, please try loading this page with nbviewer.org.</b></div><div class=\"sk-container\" hidden><div class=\"sk-item sk-dashed-wrapped\"><div class=\"sk-label-container\"><div class=\"sk-label fitted sk-toggleable\"><input class=\"sk-toggleable__control sk-hidden--visually\" id=\"sk-estimator-id-5\" type=\"checkbox\" ><label for=\"sk-estimator-id-5\" class=\"sk-toggleable__label fitted sk-toggleable__label-arrow\"><div><div>GridSearchCV</div></div><div><a class=\"sk-estimator-doc-link fitted\" rel=\"noreferrer\" target=\"_blank\" href=\"https://scikit-learn.org/1.6/modules/generated/sklearn.model_selection.GridSearchCV.html\">?<span>Documentation for GridSearchCV</span></a><span class=\"sk-estimator-doc-link fitted\">i<span>Fitted</span></span></div></label><div class=\"sk-toggleable__content fitted\"><pre>GridSearchCV(cv=5, estimator=DecisionTreeRegressor(), n_jobs=-1,\n",
       "             param_grid={&#x27;max_depth&#x27;: [3, 5, 7, 10],\n",
       "                         &#x27;min_samples_leaf&#x27;: [1, 2, 4],\n",
       "                         &#x27;min_samples_split&#x27;: [2, 5, 10]},\n",
       "             return_train_score=True,\n",
       "             scoring=make_scorer(mean_squared_error, greater_is_better=False, response_method=&#x27;predict&#x27;))</pre></div> </div></div><div class=\"sk-parallel\"><div class=\"sk-parallel-item\"><div class=\"sk-item\"><div class=\"sk-label-container\"><div class=\"sk-label fitted sk-toggleable\"><input class=\"sk-toggleable__control sk-hidden--visually\" id=\"sk-estimator-id-6\" type=\"checkbox\" ><label for=\"sk-estimator-id-6\" class=\"sk-toggleable__label fitted sk-toggleable__label-arrow\"><div><div>best_estimator_: DecisionTreeRegressor</div></div></label><div class=\"sk-toggleable__content fitted\"><pre>DecisionTreeRegressor(max_depth=10, min_samples_leaf=4, min_samples_split=5)</pre></div> </div></div><div class=\"sk-serial\"><div class=\"sk-item\"><div class=\"sk-estimator fitted sk-toggleable\"><input class=\"sk-toggleable__control sk-hidden--visually\" id=\"sk-estimator-id-7\" type=\"checkbox\" ><label for=\"sk-estimator-id-7\" class=\"sk-toggleable__label fitted sk-toggleable__label-arrow\"><div><div>DecisionTreeRegressor</div></div><div><a class=\"sk-estimator-doc-link fitted\" rel=\"noreferrer\" target=\"_blank\" href=\"https://scikit-learn.org/1.6/modules/generated/sklearn.tree.DecisionTreeRegressor.html\">?<span>Documentation for DecisionTreeRegressor</span></a></div></label><div class=\"sk-toggleable__content fitted\"><pre>DecisionTreeRegressor(max_depth=10, min_samples_leaf=4, min_samples_split=5)</pre></div> </div></div></div></div></div></div></div></div></div>"
      ]
     },
     "execution_count": 111,
     "metadata": {},
     "output_type": "execute_result"
    }
   ],
   "execution_count": 111
  },
  {
   "metadata": {
    "ExecuteTime": {
     "end_time": "2025-01-11T22:21:15.747417Z",
     "start_time": "2025-01-11T22:21:15.742629Z"
    }
   },
   "cell_type": "code",
   "source": "grid_CV.best_score_",
   "id": "f89dc18ce45f7e27",
   "outputs": [
    {
     "data": {
      "text/plain": [
       "np.float64(-12722.537351894076)"
      ]
     },
     "execution_count": 112,
     "metadata": {},
     "output_type": "execute_result"
    }
   ],
   "execution_count": 112
  },
  {
   "metadata": {
    "ExecuteTime": {
     "end_time": "2025-01-11T22:21:26.785226Z",
     "start_time": "2025-01-11T22:21:15.896141Z"
    }
   },
   "cell_type": "code",
   "source": [
    "sf_features_dt = df.columns.tolist()\n",
    "sf_features_dt.remove(\"realsum_cut\")\n",
    "model = DecisionTreeRegressor(**grid_CV.best_params_)\n",
    "\n",
    "sf = SFS(\n",
    "    model,\n",
    "    k_features=(5, 15),\n",
    "    forward=True,\n",
    "    floating=False,\n",
    "    verbose=0,\n",
    "    scoring=mse,\n",
    "    cv=5,\n",
    "    n_jobs=-1,\n",
    ")\n",
    "\n",
    "sffit = sf.fit(\n",
    "    df.loc[:, sf_features_dt].values, df.loc[:, \"realsum_cut\"].values.ravel()\n",
    ")\n",
    "\n",
    "sf_features_dt = df.loc[:, sf_features_dt].columns[list(sffit.k_feature_idx_)]\n"
   ],
   "id": "174ef3eb9ea737cb",
   "outputs": [],
   "execution_count": 113
  },
  {
   "metadata": {
    "ExecuteTime": {
     "end_time": "2025-01-11T22:21:26.852911Z",
     "start_time": "2025-01-11T22:21:26.849300Z"
    }
   },
   "cell_type": "code",
   "source": "sf_features_dt",
   "id": "59293ead96c0476e",
   "outputs": [
    {
     "data": {
      "text/plain": [
       "Index(['room_type', 'person_capacity', 'host_is_superhost', 'multi', 'biz',\n",
       "       'bedrooms', 'lng', 'lat', 'longitude_disc_2_093_2_347',\n",
       "       'longitude_disc_12_47_12_583', 'latitude_disc_41_35_41_893',\n",
       "       'latitude_disc_41_893_48_837'],\n",
       "      dtype='object')"
      ]
     },
     "execution_count": 114,
     "metadata": {},
     "output_type": "execute_result"
    }
   ],
   "execution_count": 114
  },
  {
   "metadata": {},
   "cell_type": "markdown",
   "source": "#### Hyperparameters tuning",
   "id": "8e57985c22bda65b"
  },
  {
   "metadata": {
    "ExecuteTime": {
     "end_time": "2025-01-11T22:21:28.924548Z",
     "start_time": "2025-01-11T22:21:26.949042Z"
    }
   },
   "cell_type": "code",
   "source": "cv_proc(sf_features_dt, model, param_dt)",
   "id": "18362b3cea8993c0",
   "outputs": [
    {
     "name": "stdout",
     "output_type": "stream",
     "text": [
      "{'max_depth': 10, 'min_samples_leaf': 2, 'min_samples_split': 10}\n",
      "-11681.14512907412\n"
     ]
    }
   ],
   "execution_count": 115
  },
  {
   "metadata": {
    "ExecuteTime": {
     "end_time": "2025-01-11T22:21:31.114700Z",
     "start_time": "2025-01-11T22:21:28.953729Z"
    }
   },
   "cell_type": "code",
   "source": "cv_proc(mi_features, model, param_dt)",
   "id": "28bdf96e54ed8a2c",
   "outputs": [
    {
     "name": "stdout",
     "output_type": "stream",
     "text": [
      "{'max_depth': 10, 'min_samples_leaf': 4, 'min_samples_split': 10}\n",
      "-17937.97212961888\n"
     ]
    }
   ],
   "execution_count": 116
  },
  {
   "metadata": {
    "ExecuteTime": {
     "end_time": "2025-01-11T22:21:33.572472Z",
     "start_time": "2025-01-11T22:21:31.142837Z"
    }
   },
   "cell_type": "code",
   "source": "cv_proc(mi_features_10, model, param_dt)",
   "id": "f37fb22423d99f30",
   "outputs": [
    {
     "name": "stdout",
     "output_type": "stream",
     "text": [
      "{'max_depth': 10, 'min_samples_leaf': 1, 'min_samples_split': 5}\n",
      "-13087.749890003417\n"
     ]
    }
   ],
   "execution_count": 117
  },
  {
   "metadata": {
    "ExecuteTime": {
     "end_time": "2025-01-11T22:21:36.498290Z",
     "start_time": "2025-01-11T22:21:33.619265Z"
    }
   },
   "cell_type": "code",
   "source": "cv_proc(mi_features_14, model, param_dt)",
   "id": "7dc16efef6721b1a",
   "outputs": [
    {
     "name": "stdout",
     "output_type": "stream",
     "text": [
      "{'max_depth': 10, 'min_samples_leaf': 1, 'min_samples_split': 2}\n",
      "-12692.538970580921\n"
     ]
    }
   ],
   "execution_count": 118
  },
  {
   "metadata": {
    "ExecuteTime": {
     "end_time": "2025-01-11T22:21:39.699276Z",
     "start_time": "2025-01-11T22:21:36.552563Z"
    }
   },
   "cell_type": "code",
   "source": "cv_proc(mi_features_17, model, param_dt)",
   "id": "b2704efe75dff7e3",
   "outputs": [
    {
     "name": "stdout",
     "output_type": "stream",
     "text": [
      "{'max_depth': 10, 'min_samples_leaf': 4, 'min_samples_split': 2}\n",
      "-12824.52396135405\n"
     ]
    }
   ],
   "execution_count": 119
  },
  {
   "metadata": {
    "ExecuteTime": {
     "end_time": "2025-01-11T22:21:43.209711Z",
     "start_time": "2025-01-11T22:21:39.717418Z"
    }
   },
   "cell_type": "code",
   "source": "cv_proc(mi_features_20, model, param_dt)",
   "id": "44429161baa817ed",
   "outputs": [
    {
     "name": "stdout",
     "output_type": "stream",
     "text": [
      "{'max_depth': 10, 'min_samples_leaf': 4, 'min_samples_split': 10}\n",
      "-12677.781180596257\n"
     ]
    }
   ],
   "execution_count": 120
  },
  {
   "metadata": {
    "ExecuteTime": {
     "end_time": "2025-01-11T22:21:43.240026Z",
     "start_time": "2025-01-11T22:21:43.237177Z"
    }
   },
   "cell_type": "code",
   "source": [
    "hp_dt = [\n",
    "    {'max_depth': 10, 'min_samples_leaf': 2, 'min_samples_split': 5},\n",
    "    {'max_depth': 10, 'min_samples_leaf': 4, 'min_samples_split': 10},\n",
    "    {'max_depth': 10, 'min_samples_leaf': 1, 'min_samples_split': 2},\n",
    "    {'max_depth': 10, 'min_samples_leaf': 1, 'min_samples_split': 5},\n",
    "    {'max_depth': 10, 'min_samples_leaf': 4, 'min_samples_split': 2},\n",
    "    {'max_depth': 10, 'min_samples_leaf': 4, 'min_samples_split': 5}\n",
    "]"
   ],
   "id": "c78b199ad54074c5",
   "outputs": [],
   "execution_count": 121
  },
  {
   "metadata": {},
   "cell_type": "markdown",
   "source": "#### Model evaluation with cross-validation approach",
   "id": "cd1d51e04e435128"
  },
  {
   "metadata": {
    "ExecuteTime": {
     "end_time": "2025-01-11T22:21:44.283098Z",
     "start_time": "2025-01-11T22:21:43.298478Z"
    }
   },
   "cell_type": "code",
   "source": [
    "model = DecisionTreeRegressor(**hp_dt[0])\n",
    "(CV_wrapper(df, sf_features_dt, model, 10, 123, shuff=True, display_res=True).mean(),\n",
    " CV_rmse_wrapper(df, sf_features_dt, model, 10, 123, shuff=True, display_res=True).mean())"
   ],
   "id": "a84db909b40e10f7",
   "outputs": [
    {
     "data": {
      "text/plain": [
       "(cv_train    0.210574\n",
       " cv_val      0.245909\n",
       " dtype: float64,\n",
       " cv_train     90.235306\n",
       " cv_val      107.586513\n",
       " dtype: float64)"
      ]
     },
     "execution_count": 122,
     "metadata": {},
     "output_type": "execute_result"
    }
   ],
   "execution_count": 122
  },
  {
   "metadata": {
    "ExecuteTime": {
     "end_time": "2025-01-11T22:21:45.755777Z",
     "start_time": "2025-01-11T22:21:44.335250Z"
    }
   },
   "cell_type": "code",
   "source": [
    "model = DecisionTreeRegressor(**hp_dt[1])\n",
    "(CV_wrapper(df, mi_features, model, 10, 123, shuff=True, display_res=True).mean(),\n",
    " CV_rmse_wrapper(df, mi_features, model, 10, 123, shuff=True, display_res=True).mean())"
   ],
   "id": "9f3d89de39f28e8",
   "outputs": [
    {
     "data": {
      "text/plain": [
       "(cv_train    0.249071\n",
       " cv_val      0.288543\n",
       " dtype: float64,\n",
       " cv_train    114.638546\n",
       " cv_val      131.230501\n",
       " dtype: float64)"
      ]
     },
     "execution_count": 123,
     "metadata": {},
     "output_type": "execute_result"
    }
   ],
   "execution_count": 123
  },
  {
   "metadata": {
    "ExecuteTime": {
     "end_time": "2025-01-11T22:21:47.284968Z",
     "start_time": "2025-01-11T22:21:45.783742Z"
    }
   },
   "cell_type": "code",
   "source": [
    "model = DecisionTreeRegressor(**hp_dt[2])\n",
    "(CV_wrapper(df, mi_features_10, model, 10, 123, shuff=True, display_res=True).mean(),\n",
    "    CV_rmse_wrapper(df, mi_features_10, model, 10, 123, shuff=True, display_res=True).mean())"
   ],
   "id": "153469dac314f867",
   "outputs": [
    {
     "data": {
      "text/plain": [
       "(cv_train    0.207671\n",
       " cv_val      0.248270\n",
       " dtype: float64,\n",
       " cv_train     89.678899\n",
       " cv_val      112.661205\n",
       " dtype: float64)"
      ]
     },
     "execution_count": 124,
     "metadata": {},
     "output_type": "execute_result"
    }
   ],
   "execution_count": 124
  },
  {
   "metadata": {
    "ExecuteTime": {
     "end_time": "2025-01-11T22:21:48.963577Z",
     "start_time": "2025-01-11T22:21:47.311189Z"
    }
   },
   "cell_type": "code",
   "source": [
    "model = DecisionTreeRegressor(**hp_dt[3])\n",
    "(CV_wrapper(df, mi_features_14, model, 10, 123, shuff=True, display_res=True).mean(),\n",
    "    CV_rmse_wrapper(df, mi_features_14, model, 10, 123, shuff=True, display_res=True).mean())"
   ],
   "id": "af43ca8df1e3583e",
   "outputs": [
    {
     "data": {
      "text/plain": [
       "(cv_train    0.207678\n",
       " cv_val      0.246787\n",
       " dtype: float64,\n",
       " cv_train     89.447232\n",
       " cv_val      112.573604\n",
       " dtype: float64)"
      ]
     },
     "execution_count": 125,
     "metadata": {},
     "output_type": "execute_result"
    }
   ],
   "execution_count": 125
  },
  {
   "metadata": {
    "ExecuteTime": {
     "end_time": "2025-01-11T22:21:50.740814Z",
     "start_time": "2025-01-11T22:21:48.990654Z"
    }
   },
   "cell_type": "code",
   "source": [
    "model = DecisionTreeRegressor(**hp_dt[4])\n",
    "(CV_wrapper(df, mi_features_17, model, 10, 123, shuff=True, display_res=True).mean(),\n",
    "    CV_rmse_wrapper(df, mi_features_17, model, 10, 123, shuff=True, display_res=True).mean())"
   ],
   "id": "ffc7c35b6204ad83",
   "outputs": [
    {
     "data": {
      "text/plain": [
       "(cv_train    0.213039\n",
       " cv_val      0.250748\n",
       " dtype: float64,\n",
       " cv_train     89.763219\n",
       " cv_val      110.433729\n",
       " dtype: float64)"
      ]
     },
     "execution_count": 126,
     "metadata": {},
     "output_type": "execute_result"
    }
   ],
   "execution_count": 126
  },
  {
   "metadata": {
    "ExecuteTime": {
     "end_time": "2025-01-11T22:26:56.237484Z",
     "start_time": "2025-01-11T22:21:50.767300Z"
    }
   },
   "cell_type": "code",
   "source": [
    "model = DecisionTreeRegressor(**hp_dt[5])\n",
    "(CV_wrapper(df, mi_features_20, model, 10, 123, shuff=True, display_res=True).mean(),\n",
    "    CV_rmse_wrapper(df, mi_features_20, model, 10, 123, shuff=True, display_res=True).mean())"
   ],
   "id": "877f385f3311eca0",
   "outputs": [
    {
     "name": "stdout",
     "output_type": "stream",
     "text": [
      "[CV 8/10] END fit_intercept=True; mae: (test=-86.805) mape: (test=-0.342) total time=   0.1s\n",
      "[CV 1/10] END fit_intercept=False; mae: (test=-84.215) mape: (test=-0.323) total time=   0.0s\n",
      "[CV 7/10] END fit_intercept=False; mae: (test=-86.311) mape: (test=-0.354) total time=   0.0s\n",
      "[CV 3/10] END fit_intercept=False; mae: (test=-88.907) mape: (test=-0.342) total time=   0.0s\n",
      "[CV 9/10] END fit_intercept=False; mae: (test=-85.738) mape: (test=-0.354) total time=   0.0s\n",
      "[CV 4/10] END fit_intercept=True; mae: (test=-84.659) mape: (test=-0.345) total time=   0.1s\n",
      "[CV 4/10] END fit_intercept=True; mae: (test=-83.807) mape: (test=-0.343) total time=   0.0s\n",
      "[CV 1/10] END fit_intercept=False; mae: (test=-83.644) mape: (test=-0.353) total time=   0.0s\n",
      "[CV 6/10] END fit_intercept=False; mae: (test=-98.406) mape: (test=-0.413) total time=   0.0s\n",
      "[CV 5/10] END fit_intercept=True; mae: (test=-85.819) mape: (test=-0.331) total time=   0.1s\n",
      "[CV 9/10] END fit_intercept=True; mae: (test=-85.427) mape: (test=-0.354) total time=   0.0s\n",
      "[CV 2/10] END fit_intercept=False; mae: (test=-85.808) mape: (test=-0.362) total time=   0.0s\n",
      "[CV 6/10] END fit_intercept=False; mae: (test=-82.718) mape: (test=-0.338) total time=   0.0s\n",
      "[CV 10/10] END fit_intercept=False; mae: (test=-83.638) mape: (test=-0.341) total time=   0.0s\n",
      "[CV 2/10] END fit_intercept=True; mae: (test=-87.665) mape: (test=-0.335) total time=   0.0s\n",
      "[CV 6/10] END fit_intercept=True; mae: (test=-85.203) mape: (test=-0.342) total time=   0.0s\n",
      "[CV 10/10] END fit_intercept=True; mae: (test=-87.156) mape: (test=-0.339) total time=   0.0s\n",
      "[CV 4/10] END fit_intercept=False; mae: (test=-84.782) mape: (test=-0.349) total time=   0.0s\n",
      "[CV 1/10] END fit_intercept=True; mae: (test=-84.215) mape: (test=-0.323) total time=   0.1s\n",
      "[CV 1/10] END fit_intercept=True; mae: (test=-83.205) mape: (test=-0.352) total time=   0.0s\n",
      "[CV 5/10] END fit_intercept=True; mae: (test=-88.031) mape: (test=-0.343) total time=   0.0s\n",
      "[CV 9/10] END fit_intercept=True; mae: (test=-84.598) mape: (test=-0.348) total time=   0.0s\n",
      "[CV 5/10] END fit_intercept=False; mae: (test=-88.990) mape: (test=-0.346) total time=   0.0s\n",
      "[CV 10/10] END fit_intercept=False; mae: (test=-87.955) mape: (test=-0.341) total time=   0.0s\n",
      "[CV 3/10] END fit_intercept=True; mae: (test=-89.311) mape: (test=-0.339) total time=   0.0s\n",
      "[CV 3/10] END fit_intercept=True; mae: (test=-87.042) mape: (test=-0.333) total time=   0.0s\n",
      "[CV 8/10] END fit_intercept=True; mae: (test=-85.098) mape: (test=-0.345) total time=   0.0s\n",
      "[CV 2/10] END fit_intercept=False; mae: (test=-101.010) mape: (test=-0.451) total time=   0.0s\n",
      "[CV 7/10] END fit_intercept=False; mae: (test=-81.201) mape: (test=-0.332) total time=   0.0s\n",
      "[CV 7/10] END fit_intercept=True; mae: (test=-86.311) mape: (test=-0.354) total time=   0.1s\n",
      "[CV 5/10] END fit_intercept=False; mae: (test=-85.819) mape: (test=-0.331) total time=   0.0s\n",
      "[CV 6/10] END fit_intercept=True; mae: (test=-82.718) mape: (test=-0.338) total time=   0.1s\n",
      "[CV 3/10] END fit_intercept=False; mae: (test=-89.311) mape: (test=-0.339) total time=   0.0s\n",
      "[CV 8/10] END fit_intercept=False; mae: (test=-86.805) mape: (test=-0.342) total time=   0.0s\n"
     ]
    },
    {
     "data": {
      "text/plain": [
       "(cv_train    0.210418\n",
       " cv_val      0.247831\n",
       " dtype: float64,\n",
       " cv_train     88.831536\n",
       " cv_val      110.115168\n",
       " dtype: float64)"
      ]
     },
     "execution_count": 127,
     "metadata": {},
     "output_type": "execute_result"
    }
   ],
   "execution_count": 127
  },
  {
   "metadata": {
    "ExecuteTime": {
     "end_time": "2025-01-11T22:26:56.356858Z",
     "start_time": "2025-01-11T22:26:56.302019Z"
    }
   },
   "cell_type": "code",
   "source": [
    "model = DecisionTreeRegressor(**hp_dt[0])\n",
    "model.fit(df.loc[:, sf_features_dt].values, df.loc[:, \"realsum_cut\"].values.ravel())\n",
    "pickle.dump(model, open(\"models/model_dt.sav\", \"wb\"))"
   ],
   "id": "e9ae86558292a6d6",
   "outputs": [],
   "execution_count": 128
  },
  {
   "metadata": {},
   "cell_type": "markdown",
   "source": "### Random Forest",
   "id": "3db3f2bacd6ae51c"
  },
  {
   "metadata": {},
   "cell_type": "markdown",
   "source": "#### Feature selection",
   "id": "15610484a61f6f41"
  },
  {
   "metadata": {
    "ExecuteTime": {
     "end_time": "2025-01-11T22:26:56.865428Z",
     "start_time": "2025-01-11T22:26:56.860211Z"
    }
   },
   "cell_type": "code",
   "source": [
    "param_rf = {\n",
    "    \"n_estimators\": [20, 50, 100, 500],\n",
    "    \"max_depth\": [5, 10, 15],\n",
    "    \"min_samples_split\": [2, 5],\n",
    "    \"min_samples_leaf\": [1, 2],\n",
    "}"
   ],
   "id": "e8c74f133ec46e5b",
   "outputs": [],
   "execution_count": 129
  },
  {
   "metadata": {
    "ExecuteTime": {
     "end_time": "2025-01-11T22:42:43.547016Z",
     "start_time": "2025-01-11T22:26:57.144962Z"
    }
   },
   "cell_type": "code",
   "source": [
    "model = RandomForestRegressor(random_state=123, n_estimators=10, max_depth=15)\n",
    "rf_grid_CV = GridSearchCV(\n",
    "    model, param_rf, cv=5, scoring=mse, return_train_score=True, n_jobs=-1\n",
    ")\n",
    "rf_grid_CV.fit(df.loc[:, var].values, df.loc[:, \"realsum_cut\"].values.ravel())"
   ],
   "id": "b84652c87be98d04",
   "outputs": [
    {
     "data": {
      "text/plain": [
       "GridSearchCV(cv=5,\n",
       "             estimator=RandomForestRegressor(max_depth=15, n_estimators=10,\n",
       "                                             random_state=123),\n",
       "             n_jobs=-1,\n",
       "             param_grid={'max_depth': [5, 10, 15], 'min_samples_leaf': [1, 2],\n",
       "                         'min_samples_split': [2, 5],\n",
       "                         'n_estimators': [20, 50, 100, 500]},\n",
       "             return_train_score=True,\n",
       "             scoring=make_scorer(mean_squared_error, greater_is_better=False, response_method='predict'))"
      ],
      "text/html": [
       "<style>#sk-container-id-4 {\n",
       "  /* Definition of color scheme common for light and dark mode */\n",
       "  --sklearn-color-text: #000;\n",
       "  --sklearn-color-text-muted: #666;\n",
       "  --sklearn-color-line: gray;\n",
       "  /* Definition of color scheme for unfitted estimators */\n",
       "  --sklearn-color-unfitted-level-0: #fff5e6;\n",
       "  --sklearn-color-unfitted-level-1: #f6e4d2;\n",
       "  --sklearn-color-unfitted-level-2: #ffe0b3;\n",
       "  --sklearn-color-unfitted-level-3: chocolate;\n",
       "  /* Definition of color scheme for fitted estimators */\n",
       "  --sklearn-color-fitted-level-0: #f0f8ff;\n",
       "  --sklearn-color-fitted-level-1: #d4ebff;\n",
       "  --sklearn-color-fitted-level-2: #b3dbfd;\n",
       "  --sklearn-color-fitted-level-3: cornflowerblue;\n",
       "\n",
       "  /* Specific color for light theme */\n",
       "  --sklearn-color-text-on-default-background: var(--sg-text-color, var(--theme-code-foreground, var(--jp-content-font-color1, black)));\n",
       "  --sklearn-color-background: var(--sg-background-color, var(--theme-background, var(--jp-layout-color0, white)));\n",
       "  --sklearn-color-border-box: var(--sg-text-color, var(--theme-code-foreground, var(--jp-content-font-color1, black)));\n",
       "  --sklearn-color-icon: #696969;\n",
       "\n",
       "  @media (prefers-color-scheme: dark) {\n",
       "    /* Redefinition of color scheme for dark theme */\n",
       "    --sklearn-color-text-on-default-background: var(--sg-text-color, var(--theme-code-foreground, var(--jp-content-font-color1, white)));\n",
       "    --sklearn-color-background: var(--sg-background-color, var(--theme-background, var(--jp-layout-color0, #111)));\n",
       "    --sklearn-color-border-box: var(--sg-text-color, var(--theme-code-foreground, var(--jp-content-font-color1, white)));\n",
       "    --sklearn-color-icon: #878787;\n",
       "  }\n",
       "}\n",
       "\n",
       "#sk-container-id-4 {\n",
       "  color: var(--sklearn-color-text);\n",
       "}\n",
       "\n",
       "#sk-container-id-4 pre {\n",
       "  padding: 0;\n",
       "}\n",
       "\n",
       "#sk-container-id-4 input.sk-hidden--visually {\n",
       "  border: 0;\n",
       "  clip: rect(1px 1px 1px 1px);\n",
       "  clip: rect(1px, 1px, 1px, 1px);\n",
       "  height: 1px;\n",
       "  margin: -1px;\n",
       "  overflow: hidden;\n",
       "  padding: 0;\n",
       "  position: absolute;\n",
       "  width: 1px;\n",
       "}\n",
       "\n",
       "#sk-container-id-4 div.sk-dashed-wrapped {\n",
       "  border: 1px dashed var(--sklearn-color-line);\n",
       "  margin: 0 0.4em 0.5em 0.4em;\n",
       "  box-sizing: border-box;\n",
       "  padding-bottom: 0.4em;\n",
       "  background-color: var(--sklearn-color-background);\n",
       "}\n",
       "\n",
       "#sk-container-id-4 div.sk-container {\n",
       "  /* jupyter's `normalize.less` sets `[hidden] { display: none; }`\n",
       "     but bootstrap.min.css set `[hidden] { display: none !important; }`\n",
       "     so we also need the `!important` here to be able to override the\n",
       "     default hidden behavior on the sphinx rendered scikit-learn.org.\n",
       "     See: https://github.com/scikit-learn/scikit-learn/issues/21755 */\n",
       "  display: inline-block !important;\n",
       "  position: relative;\n",
       "}\n",
       "\n",
       "#sk-container-id-4 div.sk-text-repr-fallback {\n",
       "  display: none;\n",
       "}\n",
       "\n",
       "div.sk-parallel-item,\n",
       "div.sk-serial,\n",
       "div.sk-item {\n",
       "  /* draw centered vertical line to link estimators */\n",
       "  background-image: linear-gradient(var(--sklearn-color-text-on-default-background), var(--sklearn-color-text-on-default-background));\n",
       "  background-size: 2px 100%;\n",
       "  background-repeat: no-repeat;\n",
       "  background-position: center center;\n",
       "}\n",
       "\n",
       "/* Parallel-specific style estimator block */\n",
       "\n",
       "#sk-container-id-4 div.sk-parallel-item::after {\n",
       "  content: \"\";\n",
       "  width: 100%;\n",
       "  border-bottom: 2px solid var(--sklearn-color-text-on-default-background);\n",
       "  flex-grow: 1;\n",
       "}\n",
       "\n",
       "#sk-container-id-4 div.sk-parallel {\n",
       "  display: flex;\n",
       "  align-items: stretch;\n",
       "  justify-content: center;\n",
       "  background-color: var(--sklearn-color-background);\n",
       "  position: relative;\n",
       "}\n",
       "\n",
       "#sk-container-id-4 div.sk-parallel-item {\n",
       "  display: flex;\n",
       "  flex-direction: column;\n",
       "}\n",
       "\n",
       "#sk-container-id-4 div.sk-parallel-item:first-child::after {\n",
       "  align-self: flex-end;\n",
       "  width: 50%;\n",
       "}\n",
       "\n",
       "#sk-container-id-4 div.sk-parallel-item:last-child::after {\n",
       "  align-self: flex-start;\n",
       "  width: 50%;\n",
       "}\n",
       "\n",
       "#sk-container-id-4 div.sk-parallel-item:only-child::after {\n",
       "  width: 0;\n",
       "}\n",
       "\n",
       "/* Serial-specific style estimator block */\n",
       "\n",
       "#sk-container-id-4 div.sk-serial {\n",
       "  display: flex;\n",
       "  flex-direction: column;\n",
       "  align-items: center;\n",
       "  background-color: var(--sklearn-color-background);\n",
       "  padding-right: 1em;\n",
       "  padding-left: 1em;\n",
       "}\n",
       "\n",
       "\n",
       "/* Toggleable style: style used for estimator/Pipeline/ColumnTransformer box that is\n",
       "clickable and can be expanded/collapsed.\n",
       "- Pipeline and ColumnTransformer use this feature and define the default style\n",
       "- Estimators will overwrite some part of the style using the `sk-estimator` class\n",
       "*/\n",
       "\n",
       "/* Pipeline and ColumnTransformer style (default) */\n",
       "\n",
       "#sk-container-id-4 div.sk-toggleable {\n",
       "  /* Default theme specific background. It is overwritten whether we have a\n",
       "  specific estimator or a Pipeline/ColumnTransformer */\n",
       "  background-color: var(--sklearn-color-background);\n",
       "}\n",
       "\n",
       "/* Toggleable label */\n",
       "#sk-container-id-4 label.sk-toggleable__label {\n",
       "  cursor: pointer;\n",
       "  display: flex;\n",
       "  width: 100%;\n",
       "  margin-bottom: 0;\n",
       "  padding: 0.5em;\n",
       "  box-sizing: border-box;\n",
       "  text-align: center;\n",
       "  align-items: start;\n",
       "  justify-content: space-between;\n",
       "  gap: 0.5em;\n",
       "}\n",
       "\n",
       "#sk-container-id-4 label.sk-toggleable__label .caption {\n",
       "  font-size: 0.6rem;\n",
       "  font-weight: lighter;\n",
       "  color: var(--sklearn-color-text-muted);\n",
       "}\n",
       "\n",
       "#sk-container-id-4 label.sk-toggleable__label-arrow:before {\n",
       "  /* Arrow on the left of the label */\n",
       "  content: \"▸\";\n",
       "  float: left;\n",
       "  margin-right: 0.25em;\n",
       "  color: var(--sklearn-color-icon);\n",
       "}\n",
       "\n",
       "#sk-container-id-4 label.sk-toggleable__label-arrow:hover:before {\n",
       "  color: var(--sklearn-color-text);\n",
       "}\n",
       "\n",
       "/* Toggleable content - dropdown */\n",
       "\n",
       "#sk-container-id-4 div.sk-toggleable__content {\n",
       "  max-height: 0;\n",
       "  max-width: 0;\n",
       "  overflow: hidden;\n",
       "  text-align: left;\n",
       "  /* unfitted */\n",
       "  background-color: var(--sklearn-color-unfitted-level-0);\n",
       "}\n",
       "\n",
       "#sk-container-id-4 div.sk-toggleable__content.fitted {\n",
       "  /* fitted */\n",
       "  background-color: var(--sklearn-color-fitted-level-0);\n",
       "}\n",
       "\n",
       "#sk-container-id-4 div.sk-toggleable__content pre {\n",
       "  margin: 0.2em;\n",
       "  border-radius: 0.25em;\n",
       "  color: var(--sklearn-color-text);\n",
       "  /* unfitted */\n",
       "  background-color: var(--sklearn-color-unfitted-level-0);\n",
       "}\n",
       "\n",
       "#sk-container-id-4 div.sk-toggleable__content.fitted pre {\n",
       "  /* unfitted */\n",
       "  background-color: var(--sklearn-color-fitted-level-0);\n",
       "}\n",
       "\n",
       "#sk-container-id-4 input.sk-toggleable__control:checked~div.sk-toggleable__content {\n",
       "  /* Expand drop-down */\n",
       "  max-height: 200px;\n",
       "  max-width: 100%;\n",
       "  overflow: auto;\n",
       "}\n",
       "\n",
       "#sk-container-id-4 input.sk-toggleable__control:checked~label.sk-toggleable__label-arrow:before {\n",
       "  content: \"▾\";\n",
       "}\n",
       "\n",
       "/* Pipeline/ColumnTransformer-specific style */\n",
       "\n",
       "#sk-container-id-4 div.sk-label input.sk-toggleable__control:checked~label.sk-toggleable__label {\n",
       "  color: var(--sklearn-color-text);\n",
       "  background-color: var(--sklearn-color-unfitted-level-2);\n",
       "}\n",
       "\n",
       "#sk-container-id-4 div.sk-label.fitted input.sk-toggleable__control:checked~label.sk-toggleable__label {\n",
       "  background-color: var(--sklearn-color-fitted-level-2);\n",
       "}\n",
       "\n",
       "/* Estimator-specific style */\n",
       "\n",
       "/* Colorize estimator box */\n",
       "#sk-container-id-4 div.sk-estimator input.sk-toggleable__control:checked~label.sk-toggleable__label {\n",
       "  /* unfitted */\n",
       "  background-color: var(--sklearn-color-unfitted-level-2);\n",
       "}\n",
       "\n",
       "#sk-container-id-4 div.sk-estimator.fitted input.sk-toggleable__control:checked~label.sk-toggleable__label {\n",
       "  /* fitted */\n",
       "  background-color: var(--sklearn-color-fitted-level-2);\n",
       "}\n",
       "\n",
       "#sk-container-id-4 div.sk-label label.sk-toggleable__label,\n",
       "#sk-container-id-4 div.sk-label label {\n",
       "  /* The background is the default theme color */\n",
       "  color: var(--sklearn-color-text-on-default-background);\n",
       "}\n",
       "\n",
       "/* On hover, darken the color of the background */\n",
       "#sk-container-id-4 div.sk-label:hover label.sk-toggleable__label {\n",
       "  color: var(--sklearn-color-text);\n",
       "  background-color: var(--sklearn-color-unfitted-level-2);\n",
       "}\n",
       "\n",
       "/* Label box, darken color on hover, fitted */\n",
       "#sk-container-id-4 div.sk-label.fitted:hover label.sk-toggleable__label.fitted {\n",
       "  color: var(--sklearn-color-text);\n",
       "  background-color: var(--sklearn-color-fitted-level-2);\n",
       "}\n",
       "\n",
       "/* Estimator label */\n",
       "\n",
       "#sk-container-id-4 div.sk-label label {\n",
       "  font-family: monospace;\n",
       "  font-weight: bold;\n",
       "  display: inline-block;\n",
       "  line-height: 1.2em;\n",
       "}\n",
       "\n",
       "#sk-container-id-4 div.sk-label-container {\n",
       "  text-align: center;\n",
       "}\n",
       "\n",
       "/* Estimator-specific */\n",
       "#sk-container-id-4 div.sk-estimator {\n",
       "  font-family: monospace;\n",
       "  border: 1px dotted var(--sklearn-color-border-box);\n",
       "  border-radius: 0.25em;\n",
       "  box-sizing: border-box;\n",
       "  margin-bottom: 0.5em;\n",
       "  /* unfitted */\n",
       "  background-color: var(--sklearn-color-unfitted-level-0);\n",
       "}\n",
       "\n",
       "#sk-container-id-4 div.sk-estimator.fitted {\n",
       "  /* fitted */\n",
       "  background-color: var(--sklearn-color-fitted-level-0);\n",
       "}\n",
       "\n",
       "/* on hover */\n",
       "#sk-container-id-4 div.sk-estimator:hover {\n",
       "  /* unfitted */\n",
       "  background-color: var(--sklearn-color-unfitted-level-2);\n",
       "}\n",
       "\n",
       "#sk-container-id-4 div.sk-estimator.fitted:hover {\n",
       "  /* fitted */\n",
       "  background-color: var(--sklearn-color-fitted-level-2);\n",
       "}\n",
       "\n",
       "/* Specification for estimator info (e.g. \"i\" and \"?\") */\n",
       "\n",
       "/* Common style for \"i\" and \"?\" */\n",
       "\n",
       ".sk-estimator-doc-link,\n",
       "a:link.sk-estimator-doc-link,\n",
       "a:visited.sk-estimator-doc-link {\n",
       "  float: right;\n",
       "  font-size: smaller;\n",
       "  line-height: 1em;\n",
       "  font-family: monospace;\n",
       "  background-color: var(--sklearn-color-background);\n",
       "  border-radius: 1em;\n",
       "  height: 1em;\n",
       "  width: 1em;\n",
       "  text-decoration: none !important;\n",
       "  margin-left: 0.5em;\n",
       "  text-align: center;\n",
       "  /* unfitted */\n",
       "  border: var(--sklearn-color-unfitted-level-1) 1pt solid;\n",
       "  color: var(--sklearn-color-unfitted-level-1);\n",
       "}\n",
       "\n",
       ".sk-estimator-doc-link.fitted,\n",
       "a:link.sk-estimator-doc-link.fitted,\n",
       "a:visited.sk-estimator-doc-link.fitted {\n",
       "  /* fitted */\n",
       "  border: var(--sklearn-color-fitted-level-1) 1pt solid;\n",
       "  color: var(--sklearn-color-fitted-level-1);\n",
       "}\n",
       "\n",
       "/* On hover */\n",
       "div.sk-estimator:hover .sk-estimator-doc-link:hover,\n",
       ".sk-estimator-doc-link:hover,\n",
       "div.sk-label-container:hover .sk-estimator-doc-link:hover,\n",
       ".sk-estimator-doc-link:hover {\n",
       "  /* unfitted */\n",
       "  background-color: var(--sklearn-color-unfitted-level-3);\n",
       "  color: var(--sklearn-color-background);\n",
       "  text-decoration: none;\n",
       "}\n",
       "\n",
       "div.sk-estimator.fitted:hover .sk-estimator-doc-link.fitted:hover,\n",
       ".sk-estimator-doc-link.fitted:hover,\n",
       "div.sk-label-container:hover .sk-estimator-doc-link.fitted:hover,\n",
       ".sk-estimator-doc-link.fitted:hover {\n",
       "  /* fitted */\n",
       "  background-color: var(--sklearn-color-fitted-level-3);\n",
       "  color: var(--sklearn-color-background);\n",
       "  text-decoration: none;\n",
       "}\n",
       "\n",
       "/* Span, style for the box shown on hovering the info icon */\n",
       ".sk-estimator-doc-link span {\n",
       "  display: none;\n",
       "  z-index: 9999;\n",
       "  position: relative;\n",
       "  font-weight: normal;\n",
       "  right: .2ex;\n",
       "  padding: .5ex;\n",
       "  margin: .5ex;\n",
       "  width: min-content;\n",
       "  min-width: 20ex;\n",
       "  max-width: 50ex;\n",
       "  color: var(--sklearn-color-text);\n",
       "  box-shadow: 2pt 2pt 4pt #999;\n",
       "  /* unfitted */\n",
       "  background: var(--sklearn-color-unfitted-level-0);\n",
       "  border: .5pt solid var(--sklearn-color-unfitted-level-3);\n",
       "}\n",
       "\n",
       ".sk-estimator-doc-link.fitted span {\n",
       "  /* fitted */\n",
       "  background: var(--sklearn-color-fitted-level-0);\n",
       "  border: var(--sklearn-color-fitted-level-3);\n",
       "}\n",
       "\n",
       ".sk-estimator-doc-link:hover span {\n",
       "  display: block;\n",
       "}\n",
       "\n",
       "/* \"?\"-specific style due to the `<a>` HTML tag */\n",
       "\n",
       "#sk-container-id-4 a.estimator_doc_link {\n",
       "  float: right;\n",
       "  font-size: 1rem;\n",
       "  line-height: 1em;\n",
       "  font-family: monospace;\n",
       "  background-color: var(--sklearn-color-background);\n",
       "  border-radius: 1rem;\n",
       "  height: 1rem;\n",
       "  width: 1rem;\n",
       "  text-decoration: none;\n",
       "  /* unfitted */\n",
       "  color: var(--sklearn-color-unfitted-level-1);\n",
       "  border: var(--sklearn-color-unfitted-level-1) 1pt solid;\n",
       "}\n",
       "\n",
       "#sk-container-id-4 a.estimator_doc_link.fitted {\n",
       "  /* fitted */\n",
       "  border: var(--sklearn-color-fitted-level-1) 1pt solid;\n",
       "  color: var(--sklearn-color-fitted-level-1);\n",
       "}\n",
       "\n",
       "/* On hover */\n",
       "#sk-container-id-4 a.estimator_doc_link:hover {\n",
       "  /* unfitted */\n",
       "  background-color: var(--sklearn-color-unfitted-level-3);\n",
       "  color: var(--sklearn-color-background);\n",
       "  text-decoration: none;\n",
       "}\n",
       "\n",
       "#sk-container-id-4 a.estimator_doc_link.fitted:hover {\n",
       "  /* fitted */\n",
       "  background-color: var(--sklearn-color-fitted-level-3);\n",
       "}\n",
       "</style><div id=\"sk-container-id-4\" class=\"sk-top-container\"><div class=\"sk-text-repr-fallback\"><pre>GridSearchCV(cv=5,\n",
       "             estimator=RandomForestRegressor(max_depth=15, n_estimators=10,\n",
       "                                             random_state=123),\n",
       "             n_jobs=-1,\n",
       "             param_grid={&#x27;max_depth&#x27;: [5, 10, 15], &#x27;min_samples_leaf&#x27;: [1, 2],\n",
       "                         &#x27;min_samples_split&#x27;: [2, 5],\n",
       "                         &#x27;n_estimators&#x27;: [20, 50, 100, 500]},\n",
       "             return_train_score=True,\n",
       "             scoring=make_scorer(mean_squared_error, greater_is_better=False, response_method=&#x27;predict&#x27;))</pre><b>In a Jupyter environment, please rerun this cell to show the HTML representation or trust the notebook. <br />On GitHub, the HTML representation is unable to render, please try loading this page with nbviewer.org.</b></div><div class=\"sk-container\" hidden><div class=\"sk-item sk-dashed-wrapped\"><div class=\"sk-label-container\"><div class=\"sk-label fitted sk-toggleable\"><input class=\"sk-toggleable__control sk-hidden--visually\" id=\"sk-estimator-id-8\" type=\"checkbox\" ><label for=\"sk-estimator-id-8\" class=\"sk-toggleable__label fitted sk-toggleable__label-arrow\"><div><div>GridSearchCV</div></div><div><a class=\"sk-estimator-doc-link fitted\" rel=\"noreferrer\" target=\"_blank\" href=\"https://scikit-learn.org/1.6/modules/generated/sklearn.model_selection.GridSearchCV.html\">?<span>Documentation for GridSearchCV</span></a><span class=\"sk-estimator-doc-link fitted\">i<span>Fitted</span></span></div></label><div class=\"sk-toggleable__content fitted\"><pre>GridSearchCV(cv=5,\n",
       "             estimator=RandomForestRegressor(max_depth=15, n_estimators=10,\n",
       "                                             random_state=123),\n",
       "             n_jobs=-1,\n",
       "             param_grid={&#x27;max_depth&#x27;: [5, 10, 15], &#x27;min_samples_leaf&#x27;: [1, 2],\n",
       "                         &#x27;min_samples_split&#x27;: [2, 5],\n",
       "                         &#x27;n_estimators&#x27;: [20, 50, 100, 500]},\n",
       "             return_train_score=True,\n",
       "             scoring=make_scorer(mean_squared_error, greater_is_better=False, response_method=&#x27;predict&#x27;))</pre></div> </div></div><div class=\"sk-parallel\"><div class=\"sk-parallel-item\"><div class=\"sk-item\"><div class=\"sk-label-container\"><div class=\"sk-label fitted sk-toggleable\"><input class=\"sk-toggleable__control sk-hidden--visually\" id=\"sk-estimator-id-9\" type=\"checkbox\" ><label for=\"sk-estimator-id-9\" class=\"sk-toggleable__label fitted sk-toggleable__label-arrow\"><div><div>best_estimator_: RandomForestRegressor</div></div></label><div class=\"sk-toggleable__content fitted\"><pre>RandomForestRegressor(max_depth=15, n_estimators=500, random_state=123)</pre></div> </div></div><div class=\"sk-serial\"><div class=\"sk-item\"><div class=\"sk-estimator fitted sk-toggleable\"><input class=\"sk-toggleable__control sk-hidden--visually\" id=\"sk-estimator-id-10\" type=\"checkbox\" ><label for=\"sk-estimator-id-10\" class=\"sk-toggleable__label fitted sk-toggleable__label-arrow\"><div><div>RandomForestRegressor</div></div><div><a class=\"sk-estimator-doc-link fitted\" rel=\"noreferrer\" target=\"_blank\" href=\"https://scikit-learn.org/1.6/modules/generated/sklearn.ensemble.RandomForestRegressor.html\">?<span>Documentation for RandomForestRegressor</span></a></div></label><div class=\"sk-toggleable__content fitted\"><pre>RandomForestRegressor(max_depth=15, n_estimators=500, random_state=123)</pre></div> </div></div></div></div></div></div></div></div></div>"
      ]
     },
     "execution_count": 130,
     "metadata": {},
     "output_type": "execute_result"
    }
   ],
   "execution_count": 130
  },
  {
   "metadata": {
    "ExecuteTime": {
     "end_time": "2025-01-11T22:42:43.718565Z",
     "start_time": "2025-01-11T22:42:43.715314Z"
    }
   },
   "cell_type": "code",
   "source": "rf_grid_CV.best_score_",
   "id": "f1d64309538d8d73",
   "outputs": [
    {
     "data": {
      "text/plain": [
       "np.float64(-7508.174623396648)"
      ]
     },
     "execution_count": 131,
     "metadata": {},
     "output_type": "execute_result"
    }
   ],
   "execution_count": 131
  },
  {
   "metadata": {
    "ExecuteTime": {
     "end_time": "2025-01-11T22:42:43.879347Z",
     "start_time": "2025-01-11T22:42:43.874591Z"
    }
   },
   "cell_type": "code",
   "source": [
    "rf_features  = df.columns.tolist()\n",
    "rf_features.remove(\"realsum_cut\")"
   ],
   "id": "1d361f578781cd6d",
   "outputs": [],
   "execution_count": 132
  },
  {
   "metadata": {
    "jupyter": {
     "is_executing": true
    },
    "ExecuteTime": {
     "start_time": "2025-01-12T10:18:23.901266Z"
    }
   },
   "cell_type": "code",
   "source": [
    "model = RandomForestRegressor(**rf_grid_CV.best_params_)\n",
    "\n",
    "sf = SFS(\n",
    "    model,\n",
    "    k_features=(5, 15),\n",
    "    forward=True,\n",
    "    floating=False,\n",
    "    verbose=0,\n",
    "    scoring=mse,\n",
    "    cv=5,\n",
    "    n_jobs=-1,\n",
    ")\n",
    "\n",
    "sffit = sf.fit(\n",
    "    df.loc[:, rf_features].values, df.loc[:, \"realsum_cut\"].values.ravel()\n",
    ")\n",
    "\n",
    "rf_features = df.loc[:, rf_features].columns[list(sffit.k_feature_idx_)]"
   ],
   "id": "1c0da430bf616691",
   "outputs": [],
   "execution_count": null
  },
  {
   "metadata": {},
   "cell_type": "markdown",
   "source": "#### Hyperparameters tuning",
   "id": "a0cb644db47262c1"
  },
  {
   "metadata": {},
   "cell_type": "code",
   "outputs": [],
   "execution_count": null,
   "source": "cv_proc(mi_features, model, param_rf)",
   "id": "1941c9e295b74aae"
  },
  {
   "metadata": {},
   "cell_type": "code",
   "outputs": [],
   "execution_count": null,
   "source": "cv_proc(mi_features_10, model, param_rf)",
   "id": "48681ca880f68529"
  },
  {
   "metadata": {},
   "cell_type": "code",
   "outputs": [],
   "execution_count": null,
   "source": "cv_proc(mi_features_14, model, param_rf)",
   "id": "496ec9c5d76ae6a5"
  },
  {
   "metadata": {},
   "cell_type": "code",
   "outputs": [],
   "execution_count": null,
   "source": "cv_proc(mi_features_17, model, param_rf)",
   "id": "729e5aa1694f609d"
  },
  {
   "metadata": {},
   "cell_type": "code",
   "outputs": [],
   "execution_count": null,
   "source": "cv_proc(mi_features_20, model, param_rf)",
   "id": "61de7e8c62ada981"
  },
  {
   "metadata": {},
   "cell_type": "code",
   "outputs": [],
   "execution_count": null,
   "source": "cv_proc(corr_features, model, param_rf)",
   "id": "f5a3f33db4d895fb"
  },
  {
   "metadata": {},
   "cell_type": "code",
   "outputs": [],
   "execution_count": null,
   "source": "cv_proc(rf_features, model, param_rf)",
   "id": "4343b44a233d0c40"
  },
  {
   "metadata": {},
   "cell_type": "code",
   "outputs": [],
   "execution_count": null,
   "source": "",
   "id": "5fe5783a75bbcf97"
  },
  {
   "metadata": {},
   "cell_type": "markdown",
   "source": "#### Model evaluation with cross-validation approach",
   "id": "52144030aae1d576"
  },
  {
   "metadata": {},
   "cell_type": "code",
   "outputs": [],
   "execution_count": null,
   "source": "CV_wrapper(df, mi_features, model, 10, 123, shuff=True, display_res=True).mean()",
   "id": "cb78bb0527768142"
  },
  {
   "metadata": {},
   "cell_type": "code",
   "outputs": [],
   "execution_count": null,
   "source": "CV_rmse_wrapper(df, mi_features, model, 10, 123, shuff=True, display_res=True).mean()",
   "id": "dfdacb09734cc12a"
  },
  {
   "metadata": {},
   "cell_type": "code",
   "outputs": [],
   "execution_count": null,
   "source": "CV_wrapper(df, mi_features_10, model, 10, 123, shuff=True, display_res=True).mean()",
   "id": "9d1d1bfb2a52171d"
  },
  {
   "metadata": {},
   "cell_type": "code",
   "outputs": [],
   "execution_count": null,
   "source": "CV_rmse_wrapper(df, mi_features_10, model, 10, 123, shuff=True, display_res=True).mean()",
   "id": "f3554f61202d457c"
  },
  {
   "metadata": {},
   "cell_type": "code",
   "outputs": [],
   "execution_count": null,
   "source": "CV_wrapper(df, mi_features_14, model, 10, 123, shuff=True, display_res=True).mean()",
   "id": "a22286460b6ac90b"
  },
  {
   "metadata": {},
   "cell_type": "code",
   "outputs": [],
   "execution_count": null,
   "source": "CV_rmse_wrapper(df, mi_features_14, model, 10, 123, shuff=True, display_res=True).mean()",
   "id": "12207587dd606fb5"
  },
  {
   "metadata": {},
   "cell_type": "code",
   "outputs": [],
   "execution_count": null,
   "source": "CV_wrapper(df, mi_features_17, model, 10, 123, shuff=True, display_res=True).mean()",
   "id": "e5d408ed3431b1ac"
  },
  {
   "metadata": {},
   "cell_type": "code",
   "outputs": [],
   "execution_count": null,
   "source": "CV_rmse_wrapper(df, mi_features_17, model, 10, 123, shuff=True, display_res=True).mean()",
   "id": "a1c6c015d58c0574"
  },
  {
   "metadata": {},
   "cell_type": "code",
   "outputs": [],
   "execution_count": null,
   "source": "CV_wrapper(df, mi_features_20, model, 10, 123, shuff=True, display_res=True).mean()",
   "id": "f60f2ba8f4cc690f"
  },
  {
   "metadata": {},
   "cell_type": "code",
   "outputs": [],
   "execution_count": null,
   "source": "CV_rmse_wrapper(df, mi_features_20, model, 10, 123, shuff=True, display_res=True).mean()",
   "id": "755fa9990651b278"
  },
  {
   "metadata": {},
   "cell_type": "code",
   "outputs": [],
   "execution_count": null,
   "source": "CV_wrapper(df, corr_features, model, 10, 123, shuff=True, display_res=True).mean()",
   "id": "5583876f4c890eb"
  },
  {
   "metadata": {},
   "cell_type": "code",
   "outputs": [],
   "execution_count": null,
   "source": "CV_rmse_wrapper(df, corr_features, model, 10, 123, shuff=True, display_res=True).mean()",
   "id": "17c5398fb5129b2"
  },
  {
   "metadata": {},
   "cell_type": "code",
   "outputs": [],
   "execution_count": null,
   "source": "CV_wrapper(df, rf_features, model, 10, 123, shuff=True, display_res=True).mean()",
   "id": "74e7f6b0bf478734"
  },
  {
   "metadata": {},
   "cell_type": "code",
   "outputs": [],
   "execution_count": null,
   "source": "CV_rmse_wrapper(df, rf_features, model, 10, 123, shuff=True, display_res=True).mean()",
   "id": "a59a750cbdde1cd6"
  }
 ],
 "metadata": {
  "kernelspec": {
   "display_name": "Python 3",
   "language": "python",
   "name": "python3"
  },
  "language_info": {
   "codemirror_mode": {
    "name": "ipython",
    "version": 2
   },
   "file_extension": ".py",
   "mimetype": "text/x-python",
   "name": "python",
   "nbconvert_exporter": "python",
   "pygments_lexer": "ipython2",
   "version": "2.7.6"
  }
 },
 "nbformat": 4,
 "nbformat_minor": 5
}
