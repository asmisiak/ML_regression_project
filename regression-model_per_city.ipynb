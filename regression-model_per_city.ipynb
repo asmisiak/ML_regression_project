{
 "cells": [
  {
   "cell_type": "markdown",
   "id": "fb9f970bd67296fb",
   "metadata": {},
   "source": [
    "# Model trained for each city"
   ]
  },
  {
   "cell_type": "markdown",
   "id": "7d9ba99cfedab8fa",
   "metadata": {},
   "source": [
    "This notebook demonstrates the process of building and evaluating regression models for predicting the `realsum_cut` variable for different cities (Barcelona, Paris, Rome)."
   ]
  },
  {
   "cell_type": "markdown",
   "id": "fedfd49a89a9acc1",
   "metadata": {},
   "source": [
    "### Loading Dependencies\n",
    "Importing necessary libraries for data manipulation, feature selection, model building, and evaluation. We will also import the custom functions created for this project."
   ]
  },
  {
   "cell_type": "code",
   "execution_count": 169,
   "id": "initial_id",
   "metadata": {
    "ExecuteTime": {
     "end_time": "2025-01-11T21:42:24.711055Z",
     "start_time": "2025-01-11T21:42:24.696437Z"
    },
    "collapsed": true,
    "jupyter": {
     "outputs_hidden": true
    }
   },
   "outputs": [],
   "source": [
    "import pandas as pd\n",
    "import numpy as np\n",
    "from sklearn.feature_selection import RFECV\n",
    "from mlxtend.feature_selection import SequentialFeatureSelector as SFS\n",
    "\n",
    "from sklearn.tree import DecisionTreeRegressor\n",
    "from tqdm import tqdm\n",
    "from sklearn.metrics import (\n",
    "    mean_squared_error,\n",
    "    mean_absolute_error,\n",
    "    median_absolute_error,\n",
    "    mean_absolute_percentage_error,\n",
    "    r2_score,\n",
    "    make_scorer\n",
    ")\n",
    "from sklearn.model_selection import (\n",
    "    KFold,\n",
    "    ShuffleSplit,\n",
    "    cross_val_score,\n",
    "    cross_validate,\n",
    "    RandomizedSearchCV,\n",
    "    GridSearchCV\n",
    ")\n",
    "from sklearn.linear_model import (\n",
    "    LinearRegression,\n",
    "    Lasso,\n",
    "    Ridge,\n",
    "    ElasticNet\n",
    ")\n",
    "from scipy.stats import uniform\n",
    "from sklearn.exceptions import ConvergenceWarning\n",
    "from sklearn.neighbors import KNeighborsRegressor\n",
    "from sklearn.tree import DecisionTreeRegressor\n",
    "from sklearn.ensemble import RandomForestRegressor\n",
    "from additional_functions import (\n",
    "    CV_wrapper, CV_rmse_wrapper, shuffle_CV, shuffle_CV_rmse, ols_model_wrapper, scoring_wrapper, lasso_model_wrapper, ridge_model_wrapper, EN_model_wrapper, cv_proc\n",
    ")\n",
    "import warnings\n",
    "import pickle\n",
    "\n",
    "warnings.simplefilter(\"ignore\", category=ConvergenceWarning)\n",
    "\n",
    "pd.set_option(\"display.max_columns\", 500)\n",
    "pd.set_option(\"display.max_rows\", 150)"
   ]
  },
  {
   "cell_type": "markdown",
   "id": "d19b82fee0f824f",
   "metadata": {},
   "source": [
    "### Loading Data\n",
    "Loading training datasets for Barcelona, Paris, and Rome, as well as precomputed general rankings of features for each city."
   ]
  },
  {
   "cell_type": "code",
   "execution_count": 7,
   "id": "607c508f7b17cf0f",
   "metadata": {
    "ExecuteTime": {
     "end_time": "2025-01-11T19:39:55.203979Z",
     "start_time": "2025-01-11T19:39:55.131328Z"
    }
   },
   "outputs": [],
   "source": [
    "df_barcelona = pd.read_csv(\"data/output/data_barcelona_train.csv\")\n",
    "df_paris = pd.read_csv(\"data/output/data_paris_train.csv\")\n",
    "df_rome = pd.read_csv(\"data/output/data_rome_train.csv\")\n",
    "\n",
    "fr_barcelona = pd.read_csv(\"data/output/general_ranking_barcelona.csv\", index_col=0)\n",
    "fr_paris = pd.read_csv(\"data/output/general_ranking_paris.csv\", index_col=0)\n",
    "fr_rome = pd.read_csv(\"data/output/general_ranking_rome.csv\", index_col=0)"
   ]
  },
  {
   "cell_type": "markdown",
   "id": "2f29afeefc1fb3ef",
   "metadata": {},
   "source": [
    "### Feature Selection\n",
    "We will select a few features dataset, based on different metrics, i.e. correlation, mutual information, and F-score. We will also select features based on the results of the Elastic Net model, Recursive Feature Elimination, Sequential Feature Selector, and Boruta.\n",
    "\n",
    "1. Correlation"
   ]
  },
  {
   "cell_type": "code",
   "execution_count": 8,
   "id": "91b820f7165ba81a",
   "metadata": {
    "ExecuteTime": {
     "end_time": "2025-01-11T19:39:55.298619Z",
     "start_time": "2025-01-11T19:39:55.289068Z"
    }
   },
   "outputs": [],
   "source": [
    "corr_features_bar = fr_barcelona['corr'].sort_values(ascending=False).index[0:5]\n",
    "corr_features_par = fr_paris['corr'].sort_values(ascending=False).index[0:5]\n",
    "corr_features_rom = fr_rome['corr'].sort_values(ascending=False).index[0:5]"
   ]
  },
  {
   "cell_type": "markdown",
   "id": "bd052ad3f58d4ea",
   "metadata": {},
   "source": [
    "2. Elastic Net"
   ]
  },
  {
   "cell_type": "code",
   "execution_count": 9,
   "id": "98afdd6495a16335",
   "metadata": {
    "ExecuteTime": {
     "end_time": "2025-01-11T19:39:55.351050Z",
     "start_time": "2025-01-11T19:39:55.345502Z"
    }
   },
   "outputs": [],
   "source": [
    "features_selection_en_bar = fr_barcelona[\"EN_coef\"].dropna().index.tolist()\n",
    "features_selection_en_par = fr_paris[\"EN_coef\"].dropna().index.tolist()\n",
    "features_selection_en_rom = fr_rome[\"EN_coef\"].dropna().index.tolist()"
   ]
  },
  {
   "cell_type": "code",
   "execution_count": 10,
   "id": "96f41dcae0534105",
   "metadata": {
    "ExecuteTime": {
     "end_time": "2025-01-11T19:39:55.442520Z",
     "start_time": "2025-01-11T19:39:55.434469Z"
    }
   },
   "outputs": [],
   "source": [
    "features_selection_en_bar.remove(\"guest_satisfaction_overall\")\n",
    "features_selection_en_bar.remove(\"room_private\")\n",
    "features_selection_en_bar.remove(\"multi\")\n",
    "\n",
    "features_selection_en_par.remove(\"guest_satisfaction_overall\")\n",
    "features_selection_en_par.remove(\"room_private\")\n",
    "features_selection_en_par.remove(\"multi\")\n",
    "\n",
    "features_selection_en_rom.remove(\"guest_satisfaction_overall\")\n",
    "features_selection_en_rom.remove(\"room_private\")\n",
    "features_selection_en_rom.remove(\"multi\")"
   ]
  },
  {
   "cell_type": "markdown",
   "id": "8efbe789d91d4908",
   "metadata": {},
   "source": [
    "3. Recursive Feature Elimination"
   ]
  },
  {
   "cell_type": "code",
   "execution_count": 11,
   "id": "ac0c480ae8b77ce7",
   "metadata": {
    "ExecuteTime": {
     "end_time": "2025-01-11T19:39:55.489857Z",
     "start_time": "2025-01-11T19:39:55.482852Z"
    }
   },
   "outputs": [],
   "source": [
    "features_candidates_rec_bar = df_barcelona.columns.tolist()\n",
    "features_candidates_rec_bar.remove(\"realsum_cut\")\n",
    "\n",
    "features_candidates_rec_par = df_paris.columns.tolist()\n",
    "features_candidates_rec_par.remove(\"realsum_cut\")\n",
    "\n",
    "features_candidates_rec_rom = df_rome.columns.tolist()\n",
    "features_candidates_rec_rom.remove(\"realsum_cut\")"
   ]
  },
  {
   "cell_type": "code",
   "execution_count": 12,
   "id": "195c9fa59fd3b5d0",
   "metadata": {
    "ExecuteTime": {
     "end_time": "2025-01-11T19:39:56.090688Z",
     "start_time": "2025-01-11T19:39:55.532441Z"
    }
   },
   "outputs": [],
   "source": [
    "estimator = LinearRegression()\n",
    "selector = RFECV(estimator, step=1, cv=5, min_features_to_select=10)\n",
    "\n",
    "selector = selector.fit(\n",
    "    df_barcelona.loc[:, features_candidates_rec_bar].values, df_barcelona.loc[:, \"realsum_cut\"].values.ravel()\n",
    ")\n",
    "features_candidates_rec_bar = df_barcelona.loc[:, features_candidates_rec_bar].iloc[:, selector.support_].columns.tolist()\n",
    "\n",
    "selector = selector.fit(\n",
    "    df_paris.loc[:, features_candidates_rec_par].values, df_paris.loc[:, \"realsum_cut\"].values.ravel()\n",
    ")\n",
    "features_candidates_rec_par = df_paris.loc[:, features_candidates_rec_par].iloc[:, selector.support_].columns.tolist()\n",
    "\n",
    "selector = selector.fit(\n",
    "    df_rome.loc[:, features_candidates_rec_rom].values, df_rome.loc[:, \"realsum_cut\"].values.ravel()\n",
    ")\n",
    "features_candidates_rec_rom = df_rome.loc[:, features_candidates_rec_rom].iloc[:, selector.support_].columns.tolist()"
   ]
  },
  {
   "cell_type": "markdown",
   "id": "c057144f52385e65",
   "metadata": {},
   "source": [
    "4. Sequential Feature Selector"
   ]
  },
  {
   "cell_type": "code",
   "execution_count": 13,
   "id": "85953e42c1e4e40b",
   "metadata": {
    "ExecuteTime": {
     "end_time": "2025-01-11T19:39:56.114651Z",
     "start_time": "2025-01-11T19:39:56.110612Z"
    }
   },
   "outputs": [],
   "source": [
    "features_selection_back_bar = df_barcelona.columns.tolist()\n",
    "features_selection_back_bar.remove(\"realsum_cut\")\n",
    "\n",
    "features_selection_back_par = df_paris.columns.tolist()\n",
    "features_selection_back_par.remove(\"realsum_cut\")\n",
    "\n",
    "features_selection_back_rom = df_rome.columns.tolist()\n",
    "features_selection_back_rom.remove(\"realsum_cut\")"
   ]
  },
  {
   "cell_type": "code",
   "execution_count": 14,
   "id": "b444dabbf1061584",
   "metadata": {
    "ExecuteTime": {
     "end_time": "2025-01-11T19:40:00.889419Z",
     "start_time": "2025-01-11T19:39:56.137382Z"
    }
   },
   "outputs": [],
   "source": [
    "model= LinearRegression()\n",
    "\n",
    "sf = SFS(\n",
    "    model,\n",
    "    k_features=(1, 10),\n",
    "    forward=True,\n",
    "    floating=False,\n",
    "    verbose=0,\n",
    "    scoring=\"neg_mean_squared_error\",\n",
    "    cv=5,\n",
    ")\n",
    "\n",
    "sffit = sf.fit(df_barcelona.loc[:, features_selection_back_bar].values, df_barcelona.loc[:, \"realsum_cut\"].values.ravel())\n",
    "features_selection_back_bar = df_barcelona.loc[:, features_selection_back_bar].columns[list(sffit.k_feature_idx_)]\n",
    "\n",
    "sffit = sf.fit(df_paris.loc[:, features_selection_back_par].values, df_paris.loc[:, \"realsum_cut\"].values.ravel())\n",
    "features_selection_back_par = df_paris.loc[:, features_selection_back_par].columns[list(sffit.k_feature_idx_)]\n",
    "\n",
    "sffit = sf.fit(df_rome.loc[:, features_selection_back_rom].values, df_rome.loc[:, \"realsum_cut\"].values.ravel())\n",
    "features_selection_back_rom = df_rome.loc[:, features_selection_back_rom].columns[list(sffit.k_feature_idx_)]"
   ]
  },
  {
   "cell_type": "markdown",
   "id": "5f42ee055b9380cb",
   "metadata": {},
   "source": [
    "#### Model evaluation with cross-validation approach\n",
    "We will evaluate the performance of the models using the cross-validation approach. We will use the following metrics: mean absolute percentage error (MAPE), mean absolute error (MAE), and root mean squared error (RMSE). We will also shuffle the data and evaluate the models using the same metrics. We will be using custom functions to evaluate the models."
   ]
  },
  {
   "cell_type": "code",
   "execution_count": 15,
   "id": "ed5a665b560a215c",
   "metadata": {
    "ExecuteTime": {
     "end_time": "2025-01-11T19:40:01.419573Z",
     "start_time": "2025-01-11T19:40:00.929045Z"
    }
   },
   "outputs": [
    {
     "data": {
      "text/plain": [
       "(cv_train    0.324073\n",
       " cv_val      0.325246\n",
       " dtype: float64,\n",
       " cv_train    121.250344\n",
       " cv_val      121.311725\n",
       " dtype: float64,\n",
       " cv_train    0.324080\n",
       " cv_val      0.325145\n",
       " dtype: float64,\n",
       " cv_train    121.252342\n",
       " cv_val      121.693285\n",
       " dtype: float64,\n",
       " cv_train    0.322960\n",
       " cv_val      0.330138\n",
       " dtype: float64,\n",
       " cv_train    120.685517\n",
       " cv_val      123.062210\n",
       " dtype: float64)"
      ]
     },
     "execution_count": 15,
     "metadata": {},
     "output_type": "execute_result"
    }
   ],
   "source": [
    "model_ols = LinearRegression()\n",
    "(CV_wrapper(df_barcelona, corr_features_bar, model_ols, 10, display_res=True).mean(),\n",
    " CV_rmse_wrapper(df_barcelona, corr_features_bar, model_ols, 10, display_res=True).mean(),\n",
    " CV_wrapper(df_barcelona, corr_features_bar, model_ols, 10, 123, shuff=True, display_res=True).mean(),\n",
    " CV_rmse_wrapper(df_barcelona, corr_features_bar, model_ols, 10, 123, shuff=True, display_res=True).mean(),\n",
    " shuffle_CV(df_barcelona, corr_features_bar, model_ols, 10, 123, display_res=True).mean(),\n",
    " shuffle_CV_rmse(df_barcelona, corr_features_bar, model_ols, 10, 123, display_res=True).mean())"
   ]
  },
  {
   "cell_type": "code",
   "execution_count": 16,
   "id": "5be322a3c8e0159c",
   "metadata": {
    "ExecuteTime": {
     "end_time": "2025-01-11T19:40:01.978329Z",
     "start_time": "2025-01-11T19:40:01.438754Z"
    }
   },
   "outputs": [
    {
     "data": {
      "text/plain": [
       "(cv_train    0.298691\n",
       " cv_val      0.300762\n",
       " dtype: float64,\n",
       " cv_train    115.721985\n",
       " cv_val      116.151767\n",
       " dtype: float64,\n",
       " cv_train    0.298721\n",
       " cv_val      0.301339\n",
       " dtype: float64,\n",
       " cv_train    115.720214\n",
       " cv_val      116.709301\n",
       " dtype: float64,\n",
       " cv_train    0.298645\n",
       " cv_val      0.305653\n",
       " dtype: float64,\n",
       " cv_train    115.071281\n",
       " cv_val      118.120806\n",
       " dtype: float64)"
      ]
     },
     "execution_count": 16,
     "metadata": {},
     "output_type": "execute_result"
    }
   ],
   "source": [
    "(CV_wrapper(df_barcelona, features_selection_en_bar, model_ols, 10, display_res=True).mean(),\n",
    " CV_rmse_wrapper(df_barcelona, features_selection_en_bar, model_ols, 10, display_res=True).mean(),\n",
    " CV_wrapper(df_barcelona, features_selection_en_bar, model_ols, 10, 123, shuff=True, display_res=True).mean(),\n",
    " CV_rmse_wrapper(df_barcelona, features_selection_en_bar, model_ols, 10, 123, shuff=True, display_res=True).mean(),\n",
    " shuffle_CV(df_barcelona, features_selection_en_bar, model_ols, 10, 123, display_res=True).mean(),\n",
    " shuffle_CV_rmse(df_barcelona, features_selection_en_bar, model_ols, 10, 123, display_res=True).mean())"
   ]
  },
  {
   "cell_type": "code",
   "execution_count": 17,
   "id": "58f2df994a9690db",
   "metadata": {
    "ExecuteTime": {
     "end_time": "2025-01-11T19:40:02.508640Z",
     "start_time": "2025-01-11T19:40:02.018764Z"
    }
   },
   "outputs": [
    {
     "data": {
      "text/plain": [
       "(cv_train    0.298506\n",
       " cv_val      0.300055\n",
       " dtype: float64,\n",
       " cv_train    115.758574\n",
       " cv_val      116.060216\n",
       " dtype: float64,\n",
       " cv_train    0.298531\n",
       " cv_val      0.300305\n",
       " dtype: float64,\n",
       " cv_train    115.761178\n",
       " cv_val      116.526678\n",
       " dtype: float64,\n",
       " cv_train    0.298405\n",
       " cv_val      0.304339\n",
       " dtype: float64,\n",
       " cv_train    115.135030\n",
       " cv_val      117.949626\n",
       " dtype: float64)"
      ]
     },
     "execution_count": 17,
     "metadata": {},
     "output_type": "execute_result"
    }
   ],
   "source": [
    "(CV_wrapper(df_barcelona, features_selection_back_bar, model_ols, 10, display_res=True).mean(),\n",
    " CV_rmse_wrapper(df_barcelona, features_selection_back_bar, model_ols, 10, display_res=True).mean(),\n",
    " CV_wrapper(df_barcelona, features_selection_back_bar, model_ols, 10, 123, shuff=True, display_res=True).mean(),\n",
    " CV_rmse_wrapper(df_barcelona, features_selection_back_bar, model_ols, 10, 123, shuff=True, display_res=True).mean(),\n",
    " shuffle_CV(df_barcelona, features_selection_back_bar, model_ols, 10, 123, display_res=True).mean(),\n",
    " shuffle_CV_rmse(df_barcelona, features_selection_back_bar, model_ols, 10, 123, display_res=True).mean())"
   ]
  },
  {
   "cell_type": "code",
   "execution_count": 18,
   "id": "67a26322bd1b0e04",
   "metadata": {
    "ExecuteTime": {
     "end_time": "2025-01-11T19:40:03.039643Z",
     "start_time": "2025-01-11T19:40:02.516710Z"
    }
   },
   "outputs": [
    {
     "data": {
      "text/plain": [
       "(cv_train    0.298456\n",
       " cv_val      0.300369\n",
       " dtype: float64,\n",
       " cv_train    115.727480\n",
       " cv_val      116.109915\n",
       " dtype: float64,\n",
       " cv_train    0.298488\n",
       " cv_val      0.300739\n",
       " dtype: float64,\n",
       " cv_train    115.728158\n",
       " cv_val      116.619966\n",
       " dtype: float64,\n",
       " cv_train    0.298369\n",
       " cv_val      0.305064\n",
       " dtype: float64,\n",
       " cv_train    115.083457\n",
       " cv_val      118.066039\n",
       " dtype: float64)"
      ]
     },
     "execution_count": 18,
     "metadata": {},
     "output_type": "execute_result"
    }
   ],
   "source": [
    "(CV_wrapper(df_barcelona, features_candidates_rec_bar, model_ols, 10, display_res=True).mean(),\n",
    " CV_rmse_wrapper(df_barcelona, features_candidates_rec_bar, model_ols, 10, display_res=True).mean(),\n",
    " CV_wrapper(df_barcelona, features_candidates_rec_bar, model_ols, 10, 123, shuff=True, display_res=True).mean(),\n",
    " CV_rmse_wrapper(df_barcelona, features_candidates_rec_bar, model_ols, 10, 123, shuff=True, display_res=True).mean(),\n",
    " shuffle_CV(df_barcelona, features_candidates_rec_bar, model_ols, 10, 123, display_res=True).mean(),\n",
    " shuffle_CV_rmse(df_barcelona, features_candidates_rec_bar, model_ols, 10, 123, display_res=True).mean())"
   ]
  },
  {
   "cell_type": "code",
   "execution_count": 19,
   "id": "eebd6cc0f0aaa10f",
   "metadata": {
    "ExecuteTime": {
     "end_time": "2025-01-11T19:40:03.561977Z",
     "start_time": "2025-01-11T19:40:03.059825Z"
    }
   },
   "outputs": [
    {
     "data": {
      "text/plain": [
       "(cv_train    0.368739\n",
       " cv_val      0.369420\n",
       " dtype: float64,\n",
       " cv_train    175.994451\n",
       " cv_val      176.096363\n",
       " dtype: float64,\n",
       " cv_train    0.368761\n",
       " cv_val      0.369101\n",
       " dtype: float64,\n",
       " cv_train    175.996297\n",
       " cv_val      175.982847\n",
       " dtype: float64,\n",
       " cv_train    0.369285\n",
       " cv_val      0.369439\n",
       " dtype: float64,\n",
       " cv_train    176.376613\n",
       " cv_val      174.956156\n",
       " dtype: float64)"
      ]
     },
     "execution_count": 19,
     "metadata": {},
     "output_type": "execute_result"
    }
   ],
   "source": [
    "(CV_wrapper(df_paris, corr_features_par, model_ols, 10, display_res=True).mean(),\n",
    " CV_rmse_wrapper(df_paris, corr_features_par, model_ols, 10, display_res=True).mean(),\n",
    " CV_wrapper(df_paris, corr_features_par, model_ols, 10, 123, shuff=True, display_res=True).mean(),\n",
    " CV_rmse_wrapper(df_paris, corr_features_par, model_ols, 10, 123, shuff=True, display_res=True).mean(),\n",
    " shuffle_CV(df_paris, corr_features_par, model_ols, 10, 123, display_res=True).mean(),\n",
    " shuffle_CV_rmse(df_paris, corr_features_par, model_ols, 10, 123, display_res=True).mean())"
   ]
  },
  {
   "cell_type": "code",
   "execution_count": 20,
   "id": "7e3861c4f35b742e",
   "metadata": {
    "ExecuteTime": {
     "end_time": "2025-01-11T19:40:04.250544Z",
     "start_time": "2025-01-11T19:40:03.600113Z"
    }
   },
   "outputs": [
    {
     "data": {
      "text/plain": [
       "(cv_train    0.32878\n",
       " cv_val      0.33002\n",
       " dtype: float64,\n",
       " cv_train    159.857185\n",
       " cv_val      160.317761\n",
       " dtype: float64,\n",
       " cv_train    0.328760\n",
       " cv_val      0.329646\n",
       " dtype: float64,\n",
       " cv_train    159.861901\n",
       " cv_val      160.069747\n",
       " dtype: float64,\n",
       " cv_train    0.329664\n",
       " cv_val      0.329176\n",
       " dtype: float64,\n",
       " cv_train    160.244623\n",
       " cv_val      159.052378\n",
       " dtype: float64)"
      ]
     },
     "execution_count": 20,
     "metadata": {},
     "output_type": "execute_result"
    }
   ],
   "source": [
    "(CV_wrapper(df_paris, features_selection_en_par, model_ols, 10, display_res=True).mean(),\n",
    " CV_rmse_wrapper(df_paris, features_selection_en_par, model_ols, 10, display_res=True).mean(),\n",
    " CV_wrapper(df_paris, features_selection_en_par, model_ols, 10, 123, shuff=True, display_res=True).mean(),\n",
    " CV_rmse_wrapper(df_paris, features_selection_en_par, model_ols, 10, 123, shuff=True, display_res=True).mean(),\n",
    " shuffle_CV(df_paris, features_selection_en_par, model_ols, 10, 123, display_res=True).mean(),\n",
    " shuffle_CV_rmse(df_paris, features_selection_en_par, model_ols, 10, 123, display_res=True).mean())"
   ]
  },
  {
   "cell_type": "code",
   "execution_count": 21,
   "id": "fd3cb4c58d4f9b72",
   "metadata": {
    "ExecuteTime": {
     "end_time": "2025-01-11T19:40:04.813978Z",
     "start_time": "2025-01-11T19:40:04.258064Z"
    }
   },
   "outputs": [
    {
     "data": {
      "text/plain": [
       "(cv_train    0.327131\n",
       " cv_val      0.327992\n",
       " dtype: float64,\n",
       " cv_train    159.227814\n",
       " cv_val      159.497709\n",
       " dtype: float64,\n",
       " cv_train    0.327117\n",
       " cv_val      0.327861\n",
       " dtype: float64,\n",
       " cv_train    159.230815\n",
       " cv_val      159.331195\n",
       " dtype: float64,\n",
       " cv_train    0.327737\n",
       " cv_val      0.328030\n",
       " dtype: float64,\n",
       " cv_train    159.536121\n",
       " cv_val      158.554046\n",
       " dtype: float64)"
      ]
     },
     "execution_count": 21,
     "metadata": {},
     "output_type": "execute_result"
    }
   ],
   "source": [
    "(CV_wrapper(df_paris, features_selection_back_par, model_ols, 10, display_res=True).mean(),\n",
    " CV_rmse_wrapper(df_paris, features_selection_back_par, model_ols, 10, display_res=True).mean(),\n",
    " CV_wrapper(df_paris, features_selection_back_par, model_ols, 10, 123, shuff=True, display_res=True).mean(),\n",
    " CV_rmse_wrapper(df_paris, features_selection_back_par, model_ols, 10, 123, shuff=True, display_res=True).mean(),\n",
    " shuffle_CV(df_paris, features_selection_back_par, model_ols, 10, 123, display_res=True).mean(),\n",
    " shuffle_CV_rmse(df_paris, features_selection_back_par, model_ols, 10, 123, display_res=True).mean())"
   ]
  },
  {
   "cell_type": "code",
   "execution_count": 22,
   "id": "489ad40df01a61c0",
   "metadata": {
    "ExecuteTime": {
     "end_time": "2025-01-11T19:40:05.516320Z",
     "start_time": "2025-01-11T19:40:04.834396Z"
    }
   },
   "outputs": [
    {
     "data": {
      "text/plain": [
       "(cv_train    0.326919\n",
       " cv_val      0.328376\n",
       " dtype: float64,\n",
       " cv_train    158.956937\n",
       " cv_val      159.462674\n",
       " dtype: float64,\n",
       " cv_train    0.326924\n",
       " cv_val      0.327799\n",
       " dtype: float64,\n",
       " cv_train    158.962325\n",
       " cv_val      159.199517\n",
       " dtype: float64,\n",
       " cv_train    0.327597\n",
       " cv_val      0.328042\n",
       " dtype: float64,\n",
       " cv_train    159.286094\n",
       " cv_val      158.364783\n",
       " dtype: float64)"
      ]
     },
     "execution_count": 22,
     "metadata": {},
     "output_type": "execute_result"
    }
   ],
   "source": [
    "(CV_wrapper(df_paris, features_candidates_rec_par, model_ols, 10, display_res=True).mean(),\n",
    " CV_rmse_wrapper(df_paris, features_candidates_rec_par, model_ols, 10, display_res=True).mean(),\n",
    " CV_wrapper(df_paris, features_candidates_rec_par, model_ols, 10, 123, shuff=True, display_res=True).mean(),\n",
    " CV_rmse_wrapper(df_paris, features_candidates_rec_par, model_ols, 10, 123, shuff=True, display_res=True).mean(),\n",
    " shuffle_CV(df_paris, features_candidates_rec_par, model_ols, 10, 123, display_res=True).mean(),\n",
    " shuffle_CV_rmse(df_paris, features_candidates_rec_par, model_ols, 10, 123, display_res=True).mean())"
   ]
  },
  {
   "cell_type": "code",
   "execution_count": 23,
   "id": "d008d0f6243cda10",
   "metadata": {
    "ExecuteTime": {
     "end_time": "2025-01-11T19:40:06.051191Z",
     "start_time": "2025-01-11T19:40:05.535808Z"
    }
   },
   "outputs": [
    {
     "data": {
      "text/plain": [
       "(cv_train    0.262915\n",
       " cv_val      0.263078\n",
       " dtype: float64,\n",
       " cv_train    70.766413\n",
       " cv_val      70.744913\n",
       " dtype: float64,\n",
       " cv_train    0.26291\n",
       " cv_val      0.26316\n",
       " dtype: float64,\n",
       " cv_train    70.764806\n",
       " cv_val      70.730000\n",
       " dtype: float64,\n",
       " cv_train    0.262993\n",
       " cv_val      0.262828\n",
       " dtype: float64,\n",
       " cv_train    70.850707\n",
       " cv_val      70.530659\n",
       " dtype: float64)"
      ]
     },
     "execution_count": 23,
     "metadata": {},
     "output_type": "execute_result"
    }
   ],
   "source": [
    "(CV_wrapper(df_rome, corr_features_rom, model_ols, 10, display_res=True).mean(),\n",
    " CV_rmse_wrapper(df_rome, corr_features_rom, model_ols, 10, display_res=True).mean(),\n",
    " CV_wrapper(df_rome, corr_features_rom, model_ols, 10, 123, shuff=True, display_res=True).mean(),\n",
    " CV_rmse_wrapper(df_rome, corr_features_rom, model_ols, 10, 123, shuff=True, display_res=True).mean(),\n",
    " shuffle_CV(df_rome, corr_features_rom, model_ols, 10, 123, display_res=True).mean(),\n",
    " shuffle_CV_rmse(df_rome, corr_features_rom, model_ols, 10, 123, display_res=True).mean())"
   ]
  },
  {
   "cell_type": "code",
   "execution_count": 24,
   "id": "8ccfc516920f799c",
   "metadata": {
    "ExecuteTime": {
     "end_time": "2025-01-11T19:40:06.750184Z",
     "start_time": "2025-01-11T19:40:06.072401Z"
    }
   },
   "outputs": [
    {
     "data": {
      "text/plain": [
       "(cv_train    0.242658\n",
       " cv_val      0.243200\n",
       " dtype: float64,\n",
       " cv_train    66.273342\n",
       " cv_val      66.349094\n",
       " dtype: float64,\n",
       " cv_train    0.242656\n",
       " cv_val      0.243230\n",
       " dtype: float64,\n",
       " cv_train    66.271127\n",
       " cv_val      66.293823\n",
       " dtype: float64,\n",
       " cv_train    0.242747\n",
       " cv_val      0.244003\n",
       " dtype: float64,\n",
       " cv_train    66.297068\n",
       " cv_val      66.274527\n",
       " dtype: float64)"
      ]
     },
     "execution_count": 24,
     "metadata": {},
     "output_type": "execute_result"
    }
   ],
   "source": [
    "(CV_wrapper(df_rome, features_selection_en_rom, model_ols, 10, display_res=True).mean(),\n",
    " CV_rmse_wrapper(df_rome, features_selection_en_rom, model_ols, 10, display_res=True).mean(),\n",
    " CV_wrapper(df_rome, features_selection_en_rom, model_ols, 10, 123, shuff=True, display_res=True).mean(),\n",
    " CV_rmse_wrapper(df_rome, features_selection_en_rom, model_ols, 10, 123, shuff=True, display_res=True).mean(),\n",
    " shuffle_CV(df_rome, features_selection_en_rom, model_ols, 10, 123, display_res=True).mean(),\n",
    " shuffle_CV_rmse(df_rome, features_selection_en_rom, model_ols, 10, 123, display_res=True).mean())"
   ]
  },
  {
   "cell_type": "code",
   "execution_count": 25,
   "id": "f0c37ea7f0ee8e0e",
   "metadata": {
    "ExecuteTime": {
     "end_time": "2025-01-11T19:40:07.355023Z",
     "start_time": "2025-01-11T19:40:06.771806Z"
    }
   },
   "outputs": [
    {
     "data": {
      "text/plain": [
       "(cv_train    0.243348\n",
       " cv_val      0.243684\n",
       " dtype: float64,\n",
       " cv_train    66.316611\n",
       " cv_val      66.356529\n",
       " dtype: float64,\n",
       " cv_train    0.24334\n",
       " cv_val      0.24382\n",
       " dtype: float64,\n",
       " cv_train    66.313880\n",
       " cv_val      66.308558\n",
       " dtype: float64,\n",
       " cv_train    0.243319\n",
       " cv_val      0.244818\n",
       " dtype: float64,\n",
       " cv_train    66.318376\n",
       " cv_val      66.362151\n",
       " dtype: float64)"
      ]
     },
     "execution_count": 25,
     "metadata": {},
     "output_type": "execute_result"
    }
   ],
   "source": [
    "(CV_wrapper(df_rome, features_selection_back_rom, model_ols, 10, display_res=True).mean(),\n",
    " CV_rmse_wrapper(df_rome, features_selection_back_rom, model_ols, 10, display_res=True).mean(),\n",
    " CV_wrapper(df_rome, features_selection_back_rom, model_ols, 10, 123, shuff=True, display_res=True).mean(),\n",
    " CV_rmse_wrapper(df_rome, features_selection_back_rom, model_ols, 10, 123, shuff=True, display_res=True).mean(),\n",
    " shuffle_CV(df_rome, features_selection_back_rom, model_ols, 10, 123, display_res=True).mean(),\n",
    " shuffle_CV_rmse(df_rome, features_selection_back_rom, model_ols, 10, 123, display_res=True).mean())"
   ]
  },
  {
   "cell_type": "code",
   "execution_count": 26,
   "id": "281d1097fa663a81",
   "metadata": {
    "ExecuteTime": {
     "end_time": "2025-01-11T19:40:08.077901Z",
     "start_time": "2025-01-11T19:40:07.375334Z"
    }
   },
   "outputs": [
    {
     "data": {
      "text/plain": [
       "(cv_train    0.241865\n",
       " cv_val      0.242456\n",
       " dtype: float64,\n",
       " cv_train    66.116590\n",
       " cv_val      66.197232\n",
       " dtype: float64,\n",
       " cv_train    0.241864\n",
       " cv_val      0.242495\n",
       " dtype: float64,\n",
       " cv_train    66.114313\n",
       " cv_val      66.147092\n",
       " dtype: float64,\n",
       " cv_train    0.241976\n",
       " cv_val      0.243325\n",
       " dtype: float64,\n",
       " cv_train    66.120678\n",
       " cv_val      66.186610\n",
       " dtype: float64)"
      ]
     },
     "execution_count": 26,
     "metadata": {},
     "output_type": "execute_result"
    }
   ],
   "source": [
    "(CV_wrapper(df_rome, features_candidates_rec_rom, model_ols, 10, display_res=True).mean(),\n",
    " CV_rmse_wrapper(df_rome, features_candidates_rec_rom, model_ols, 10, display_res=True).mean(),\n",
    " CV_wrapper(df_rome, features_candidates_rec_rom, model_ols, 10, 123, shuff=True, display_res=True).mean(),\n",
    " CV_rmse_wrapper(df_rome, features_candidates_rec_rom, model_ols, 10, 123, shuff=True, display_res=True).mean(),\n",
    " shuffle_CV(df_rome, features_candidates_rec_rom, model_ols, 10, 123, display_res=True).mean(),\n",
    " shuffle_CV_rmse(df_rome, features_candidates_rec_rom, model_ols, 10, 123, display_res=True).mean())"
   ]
  },
  {
   "cell_type": "markdown",
   "id": "6f6e1d3d5358d5b2",
   "metadata": {},
   "source": [
    "We have that the best OLS model performance is achieved with the features obtained with Forward Sequential Feature Selector method for Barcelona and Paris, and Recursive Feature Elimination method for Rome. Let's save the models."
   ]
  },
  {
   "cell_type": "code",
   "execution_count": null,
   "id": "e657b89a3a100ace",
   "metadata": {},
   "outputs": [],
   "source": [
    "model_bar = LinearRegression()\n",
    "model_bar.fit(df_barcelona.loc[:, features_selection_back_bar].values, df_barcelona.loc[:, \"realsum_cut\"].values.ravel())\n",
    "pickle.dump(model_bar, open(\"models/model_barcelona.sav\", \"wb\"))\n",
    "\n",
    "model_par = LinearRegression()\n",
    "model_par.fit(df_paris.loc[:, features_selection_back_par].values, df_paris.loc[:, \"realsum_cut\"].values.ravel())\n",
    "pickle.dump(model_par, open(\"models/model_paris.sav\", \"wb\"))\n",
    "\n",
    "model_rom = LinearRegression()\n",
    "model_rom.fit(df_rome.loc[:, features_candidates_rec_rom].values, df_rome.loc[:, \"realsum_cut\"].values.ravel())\n",
    "pickle.dump(model_rom, open(\"models/model_rome.sav\", \"wb\"))"
   ]
  },
  {
   "cell_type": "markdown",
   "id": "82c3a8d360474f10",
   "metadata": {},
   "source": [
    "#### Regularization\n"
   ]
  },
  {
   "cell_type": "markdown",
   "id": "20caf76ac9d929ca",
   "metadata": {},
   "source": [
    "1. Lasso"
   ]
  },
  {
   "cell_type": "code",
   "execution_count": 27,
   "id": "7052fa202bcc78d1",
   "metadata": {
    "ExecuteTime": {
     "end_time": "2025-01-11T19:40:13.581931Z",
     "start_time": "2025-01-11T19:40:08.097703Z"
    }
   },
   "outputs": [
    {
     "data": {
      "text/plain": [
       "(cv_train    0.325544\n",
       " cv_val      0.326529\n",
       " dtype: float64,\n",
       " cv_train    0.298697\n",
       " cv_val      0.300256\n",
       " dtype: float64,\n",
       " cv_train    0.298696\n",
       " cv_val      0.300247\n",
       " dtype: float64,\n",
       " cv_train    0.298696\n",
       " cv_val      0.300247\n",
       " dtype: float64)"
      ]
     },
     "execution_count": 27,
     "metadata": {},
     "output_type": "execute_result"
    }
   ],
   "source": [
    "(lasso_model_wrapper(df_barcelona, corr_features_bar, 10, 123, display_res=True).mean(),\n",
    "    lasso_model_wrapper(df_barcelona, features_selection_en_bar, 10, 123, display_res=True).mean(),\n",
    "    lasso_model_wrapper(df_barcelona, features_selection_back_bar, 10, 123, display_res=True).mean(),\n",
    "    lasso_model_wrapper(df_barcelona, features_candidates_rec_bar, 10, 123, display_res=True).mean())"
   ]
  },
  {
   "cell_type": "code",
   "execution_count": 28,
   "id": "d78c391a67cfd69",
   "metadata": {
    "ExecuteTime": {
     "end_time": "2025-01-11T19:40:33.385247Z",
     "start_time": "2025-01-11T19:40:13.606522Z"
    }
   },
   "outputs": [
    {
     "data": {
      "text/plain": [
       "(cv_train    0.369263\n",
       " cv_val      0.369600\n",
       " dtype: float64,\n",
       " cv_train    0.330401\n",
       " cv_val      0.331052\n",
       " dtype: float64,\n",
       " cv_train    0.335160\n",
       " cv_val      0.335809\n",
       " dtype: float64,\n",
       " cv_train    0.327687\n",
       " cv_val      0.328406\n",
       " dtype: float64)"
      ]
     },
     "execution_count": 28,
     "metadata": {},
     "output_type": "execute_result"
    }
   ],
   "source": [
    "(lasso_model_wrapper(df_paris, corr_features_par, 10, 123, display_res=True).mean(),\n",
    "    lasso_model_wrapper(df_paris, features_selection_en_par, 10, 123, display_res=True).mean(),\n",
    "    lasso_model_wrapper(df_paris, features_selection_back_par, 10, 123, display_res=True).mean(),\n",
    "    lasso_model_wrapper(df_paris, features_candidates_rec_par, 10, 123, display_res=True).mean())"
   ]
  },
  {
   "cell_type": "code",
   "execution_count": 29,
   "id": "e8037204aad53d3",
   "metadata": {
    "ExecuteTime": {
     "end_time": "2025-01-11T19:40:54.496151Z",
     "start_time": "2025-01-11T19:40:33.405406Z"
    }
   },
   "outputs": [
    {
     "data": {
      "text/plain": [
       "(cv_train    0.264011\n",
       " cv_val      0.264274\n",
       " dtype: float64,\n",
       " cv_train    0.245345\n",
       " cv_val      0.245875\n",
       " dtype: float64,\n",
       " cv_train    0.245779\n",
       " cv_val      0.246180\n",
       " dtype: float64,\n",
       " cv_train    0.245342\n",
       " cv_val      0.245873\n",
       " dtype: float64)"
      ]
     },
     "execution_count": 29,
     "metadata": {},
     "output_type": "execute_result"
    }
   ],
   "source": [
    "(lasso_model_wrapper(df_rome, corr_features_rom, 10, 123, display_res=True).mean(),\n",
    "    lasso_model_wrapper(df_rome, features_selection_en_rom, 10, 123, display_res=True).mean(),\n",
    "    lasso_model_wrapper(df_rome, features_selection_back_rom, 10, 123, display_res=True).mean(),\n",
    "    lasso_model_wrapper(df_rome, features_candidates_rec_rom, 10, 123, display_res=True).mean())"
   ]
  },
  {
   "cell_type": "markdown",
   "id": "eeb2755cdf3f522d",
   "metadata": {},
   "source": [
    "Lasso did not improved any of the models. Let's try Ridge.\n",
    "\n",
    "2. Ridge"
   ]
  },
  {
   "cell_type": "code",
   "execution_count": 30,
   "id": "801bb00e838ddb5b",
   "metadata": {
    "ExecuteTime": {
     "end_time": "2025-01-11T19:40:57.969668Z",
     "start_time": "2025-01-11T19:40:54.538161Z"
    }
   },
   "outputs": [
    {
     "data": {
      "text/plain": [
       "(cv_train    0.324206\n",
       " cv_val      0.325268\n",
       " dtype: float64,\n",
       " cv_train    0.298773\n",
       " cv_val      0.300819\n",
       " dtype: float64,\n",
       " cv_train    0.298716\n",
       " cv_val      0.300376\n",
       " dtype: float64,\n",
       " cv_train    0.298661\n",
       " cv_val      0.300482\n",
       " dtype: float64)"
      ]
     },
     "execution_count": 30,
     "metadata": {},
     "output_type": "execute_result"
    }
   ],
   "source": [
    "(ridge_model_wrapper(df_barcelona, corr_features_bar, 10, 123, display_res=True).mean(),\n",
    "    ridge_model_wrapper(df_barcelona, features_selection_en_bar, 10, 123, display_res=True).mean(),\n",
    "    ridge_model_wrapper(df_barcelona, features_selection_back_bar, 10, 123, display_res=True).mean(),\n",
    "    ridge_model_wrapper(df_barcelona, features_candidates_rec_bar, 10, 123, display_res=True).mean())"
   ]
  },
  {
   "cell_type": "code",
   "execution_count": 31,
   "id": "61e2c59df5d8ca74",
   "metadata": {
    "ExecuteTime": {
     "end_time": "2025-01-11T19:41:01.742641Z",
     "start_time": "2025-01-11T19:40:57.993047Z"
    }
   },
   "outputs": [
    {
     "data": {
      "text/plain": [
       "(cv_train    0.368757\n",
       " cv_val      0.369097\n",
       " dtype: float64,\n",
       " cv_train    0.326628\n",
       " cv_val      0.327403\n",
       " dtype: float64,\n",
       " cv_train    0.324629\n",
       " cv_val      0.325325\n",
       " dtype: float64,\n",
       " cv_train    0.324968\n",
       " cv_val      0.325809\n",
       " dtype: float64)"
      ]
     },
     "execution_count": 31,
     "metadata": {},
     "output_type": "execute_result"
    }
   ],
   "source": [
    "(ridge_model_wrapper(df_paris, corr_features_par, 10, 123, display_res=True).mean(),\n",
    "    ridge_model_wrapper(df_paris, features_selection_en_par, 10, 123, display_res=True).mean(),\n",
    "    ridge_model_wrapper(df_paris, features_selection_back_par, 10, 123, display_res=True).mean(),\n",
    "    ridge_model_wrapper(df_paris, features_candidates_rec_par, 10, 123, display_res=True).mean())"
   ]
  },
  {
   "cell_type": "code",
   "execution_count": 32,
   "id": "8f8e3f4d5a3da2df",
   "metadata": {
    "ExecuteTime": {
     "end_time": "2025-01-11T19:41:05.480421Z",
     "start_time": "2025-01-11T19:41:01.791375Z"
    }
   },
   "outputs": [
    {
     "data": {
      "text/plain": [
       "(cv_train    0.262916\n",
       " cv_val      0.263166\n",
       " dtype: float64,\n",
       " cv_train    0.242499\n",
       " cv_val      0.243061\n",
       " dtype: float64,\n",
       " cv_train    0.242948\n",
       " cv_val      0.243433\n",
       " dtype: float64,\n",
       " cv_train    0.241733\n",
       " cv_val      0.242351\n",
       " dtype: float64)"
      ]
     },
     "execution_count": 32,
     "metadata": {},
     "output_type": "execute_result"
    }
   ],
   "source": [
    "(ridge_model_wrapper(df_rome, corr_features_rom, 10, 123, display_res=True).mean(),\n",
    "    ridge_model_wrapper(df_rome, features_selection_en_rom, 10, 123, display_res=True).mean(),\n",
    "    ridge_model_wrapper(df_rome, features_selection_back_rom, 10, 123, display_res=True).mean(),\n",
    "    ridge_model_wrapper(df_rome, features_candidates_rec_rom, 10, 123, display_res=True).mean())"
   ]
  },
  {
   "cell_type": "markdown",
   "id": "45580acf322eb33b",
   "metadata": {},
   "source": [
    "Same with Ridge. Finally, let's try Elastic Net.\n",
    "\n",
    "3. Elastic Net"
   ]
  },
  {
   "cell_type": "code",
   "execution_count": 33,
   "id": "d7c686107fcabe5d",
   "metadata": {
    "ExecuteTime": {
     "end_time": "2025-01-11T19:41:35.533034Z",
     "start_time": "2025-01-11T19:41:05.487990Z"
    }
   },
   "outputs": [
    {
     "data": {
      "text/plain": [
       "(cv_train    0.324745\n",
       " cv_val      0.325785\n",
       " dtype: float64,\n",
       " cv_train    0.299149\n",
       " cv_val      0.301084\n",
       " dtype: float64,\n",
       " cv_train    0.299100\n",
       " cv_val      0.300728\n",
       " dtype: float64,\n",
       " cv_train    0.298826\n",
       " cv_val      0.300541\n",
       " dtype: float64)"
      ]
     },
     "execution_count": 33,
     "metadata": {},
     "output_type": "execute_result"
    }
   ],
   "source": [
    "(EN_model_wrapper(df_barcelona, corr_features_bar, 10, 123, display_res=True).mean(),\n",
    "    EN_model_wrapper(df_barcelona, features_selection_en_bar, 10, 123, display_res=True).mean(),\n",
    "    EN_model_wrapper(df_barcelona, features_selection_back_bar, 10, 123, display_res=True).mean(),\n",
    "    EN_model_wrapper(df_barcelona, features_candidates_rec_bar, 10, 123, display_res=True).mean())"
   ]
  },
  {
   "cell_type": "code",
   "execution_count": 34,
   "id": "f257a83c86dd5b81",
   "metadata": {
    "ExecuteTime": {
     "end_time": "2025-01-11T19:42:40.133647Z",
     "start_time": "2025-01-11T19:41:35.558107Z"
    }
   },
   "outputs": [
    {
     "data": {
      "text/plain": [
       "(cv_train    0.368735\n",
       " cv_val      0.369078\n",
       " dtype: float64,\n",
       " cv_train    0.330134\n",
       " cv_val      0.330901\n",
       " dtype: float64,\n",
       " cv_train    0.332274\n",
       " cv_val      0.332932\n",
       " dtype: float64,\n",
       " cv_train    0.327884\n",
       " cv_val      0.328619\n",
       " dtype: float64)"
      ]
     },
     "execution_count": 34,
     "metadata": {},
     "output_type": "execute_result"
    }
   ],
   "source": [
    "(EN_model_wrapper(df_paris, corr_features_par, 10, 123, display_res=True).mean(),\n",
    "    EN_model_wrapper(df_paris, features_selection_en_par, 10, 123, display_res=True).mean(),\n",
    "    EN_model_wrapper(df_paris, features_selection_back_par, 10, 123, display_res=True).mean(),\n",
    "    EN_model_wrapper(df_paris, features_candidates_rec_par, 10, 123, display_res=True).mean())"
   ]
  },
  {
   "cell_type": "code",
   "execution_count": 35,
   "id": "529928e94f73310",
   "metadata": {
    "ExecuteTime": {
     "end_time": "2025-01-11T19:44:43.687146Z",
     "start_time": "2025-01-11T19:42:40.254924Z"
    }
   },
   "outputs": [
    {
     "data": {
      "text/plain": [
       "(cv_train    0.263028\n",
       " cv_val      0.263280\n",
       " dtype: float64,\n",
       " cv_train    0.243673\n",
       " cv_val      0.244186\n",
       " dtype: float64,\n",
       " cv_train    0.243985\n",
       " cv_val      0.244458\n",
       " dtype: float64,\n",
       " cv_train    0.242910\n",
       " cv_val      0.243469\n",
       " dtype: float64)"
      ]
     },
     "execution_count": 35,
     "metadata": {},
     "output_type": "execute_result"
    }
   ],
   "source": [
    "(EN_model_wrapper(df_rome, corr_features_rom, 10, 123, display_res=True).mean(),\n",
    "    EN_model_wrapper(df_rome, features_selection_en_rom, 10, 123, display_res=True).mean(),\n",
    "    EN_model_wrapper(df_rome, features_selection_back_rom, 10, 123, display_res=True).mean(),\n",
    "    EN_model_wrapper(df_rome, features_candidates_rec_rom, 10, 123, display_res=True).mean())"
   ]
  },
  {
   "cell_type": "markdown",
   "id": "3a10e6bd4530ad25",
   "metadata": {},
   "source": [
    "Still no significant improvements. Let tune hyperparemeters for the Lasso model."
   ]
  },
  {
   "cell_type": "code",
   "execution_count": 36,
   "id": "1142c771719e03a6",
   "metadata": {
    "ExecuteTime": {
     "end_time": "2025-01-11T19:44:43.776206Z",
     "start_time": "2025-01-11T19:44:43.771427Z"
    }
   },
   "outputs": [],
   "source": [
    "estimator = Lasso()\n",
    "\n",
    "parameter_space = dict(\n",
    "   alpha=np.logspace(-3, 3, 20),\n",
    "    #l1_ratio=uniform(0,1),\n",
    "   fit_intercept=[True, False],\n",
    ")\n",
    "\n",
    "cross_validation_schema = KFold(n_splits=10, shuffle=True)\n",
    "score_function = {'mape': 'neg_mean_absolute_percentage_error',\n",
    "           'mae': make_scorer(mean_absolute_error, greater_is_better=False)}\n",
    "\n",
    "n_iterations = 100"
   ]
  },
  {
   "metadata": {},
   "cell_type": "code",
   "outputs": [],
   "execution_count": null,
   "source": [
    "random_search_cv = RandomizedSearchCV(\n",
    "    estimator=estimator,\n",
    "    param_distributions=parameter_space,\n",
    "    n_iter=n_iterations,\n",
    "    n_jobs=-1,\n",
    "    cv=cross_validation_schema,\n",
    "    scoring=score_function,\n",
    "    refit=\"mape\",\n",
    "    random_state=123,\n",
    "    return_train_score=False,\n",
    "    verbose=3 #Controls the verbosity: the higher, the more messages.\n",
    "\n",
    ")\n",
    "search_bar = random_search_cv.fit(df_barcelona[features_selection_back_bar], df_barcelona[\"realsum_cut\"])"
   ],
   "id": "54ee9522b9d0d139"
  },
  {
   "cell_type": "code",
   "execution_count": 38,
   "id": "fdfacbe2a0390fd6",
   "metadata": {
    "ExecuteTime": {
     "end_time": "2025-01-11T19:44:50.634484Z",
     "start_time": "2025-01-11T19:44:50.628910Z"
    }
   },
   "outputs": [
    {
     "data": {
      "text/plain": [
       "np.float64(-0.2998620755504134)"
      ]
     },
     "execution_count": 38,
     "metadata": {},
     "output_type": "execute_result"
    }
   ],
   "source": [
    "search_bar.best_score_"
   ]
  },
  {
   "metadata": {},
   "cell_type": "code",
   "outputs": [],
   "execution_count": null,
   "source": "search_par = random_search_cv.fit(df_paris[features_selection_back_par], df_paris[\"realsum_cut\"])",
   "id": "35993e35fc3f6a38"
  },
  {
   "cell_type": "code",
   "execution_count": 40,
   "id": "b7a1a14b897cb1b",
   "metadata": {
    "ExecuteTime": {
     "end_time": "2025-01-11T19:44:54.863804Z",
     "start_time": "2025-01-11T19:44:54.854894Z"
    }
   },
   "outputs": [
    {
     "data": {
      "text/plain": [
       "np.float64(-0.3250357895548496)"
      ]
     },
     "execution_count": 40,
     "metadata": {},
     "output_type": "execute_result"
    }
   ],
   "source": [
    "search_par.best_score_"
   ]
  },
  {
   "metadata": {},
   "cell_type": "code",
   "outputs": [],
   "execution_count": null,
   "source": "search_rom = random_search_cv.fit(df_rome[features_selection_back_rom], df_rome[\"realsum_cut\"])",
   "id": "a84a572ff400e799"
  },
  {
   "cell_type": "markdown",
   "id": "10ba4022dcc99af5",
   "metadata": {},
   "source": [
    "Still no significant improvements. Let's stay with the already saved OLS models."
   ]
  },
  {
   "cell_type": "markdown",
   "id": "bf319d4caa26add9",
   "metadata": {},
   "source": [
    "### KNN Regression\n",
    "Now, we will build KNN regression models for each city. We will use the same feature selection methods as before.\n",
    "#### Feature Selection\n",
    "\n",
    "1. Mutual Information"
   ]
  },
  {
   "cell_type": "code",
   "execution_count": 42,
   "id": "9823d9c865c68ac5",
   "metadata": {
    "ExecuteTime": {
     "end_time": "2025-01-11T19:45:00.823459Z",
     "start_time": "2025-01-11T19:45:00.806689Z"
    }
   },
   "outputs": [],
   "source": [
    "fr_barcelona.sort_values(\"mi_score\", ascending=False, inplace=True)\n",
    "fr_paris.sort_values(\"mi_score\", ascending=False, inplace=True)\n",
    "fr_rome.sort_values(\"mi_score\", ascending=False, inplace=True)\n",
    "\n",
    "mi_features_bar = fr_barcelona.iloc[0:8].index.tolist()\n",
    "mi_features_10_bar = fr_barcelona.iloc[0:10].index.tolist()\n",
    "mi_features_14_bar = fr_barcelona.iloc[0:14].index.tolist()\n",
    "mi_features_17_bar = fr_barcelona.iloc[0:17].index.tolist()\n",
    "mi_features_20_bar = fr_barcelona.iloc[0:20].index.tolist()\n",
    "\n",
    "mi_features_par = fr_paris.iloc[0:8].index.tolist()\n",
    "mi_features_10_par = fr_paris.iloc[0:10].index.tolist()\n",
    "mi_features_14_par = fr_paris.iloc[0:14].index.tolist()\n",
    "mi_features_17_par = fr_paris.iloc[0:17].index.tolist()\n",
    "mi_features_20_par = fr_paris.iloc[0:20].index.tolist()\n",
    "\n",
    "mi_features_rom = fr_rome.iloc[0:8].index.tolist()\n",
    "mi_features_10_rom = fr_rome.iloc[0:10].index.tolist()\n",
    "mi_features_14_rom = fr_rome.iloc[0:14].index.tolist()\n",
    "mi_features_17_rom = fr_rome.iloc[0:17].index.tolist()\n",
    "mi_features_20_rom = fr_rome.iloc[0:20].index.tolist()"
   ]
  },
  {
   "cell_type": "markdown",
   "id": "fae16eac2ba23e28",
   "metadata": {},
   "source": [
    "2. Boruta"
   ]
  },
  {
   "cell_type": "code",
   "execution_count": 171,
   "id": "4b221ea0c40d709c",
   "metadata": {
    "ExecuteTime": {
     "end_time": "2025-01-11T21:42:56.871828Z",
     "start_time": "2025-01-11T21:42:56.856187Z"
    }
   },
   "outputs": [],
   "source": [
    "br_features_bar = fr_barcelona[fr_barcelona.boruta_rank.isin([1,2,3])].index.tolist()\n",
    "br_features_par = fr_paris[fr_paris.boruta_rank.isin([1,2,3])].index.tolist()\n",
    "br_features_rom = fr_rome[fr_rome.boruta_rank.isin([1,2,3])].index.tolist()"
   ]
  },
  {
   "cell_type": "markdown",
   "id": "2ee83e29f6b32af3",
   "metadata": {},
   "source": [
    "3. Correlation"
   ]
  },
  {
   "cell_type": "code",
   "execution_count": 172,
   "id": "8a1b5b9fa596073c",
   "metadata": {
    "ExecuteTime": {
     "end_time": "2025-01-11T21:43:00.780351Z",
     "start_time": "2025-01-11T21:43:00.754634Z"
    }
   },
   "outputs": [],
   "source": [
    "fr_barcelona[\"corr_abs\"] = np.abs(fr_barcelona[\"corr\"])\n",
    "fr_barcelona.sort_values(\"corr_abs\", ascending=False, inplace=True)\n",
    "corr_features_bar = fr_barcelona.iloc[0:12].index.tolist()\n",
    "\n",
    "fr_paris[\"corr_abs\"] = np.abs(fr_paris[\"corr\"])\n",
    "fr_paris.sort_values(\"corr_abs\", ascending=False, inplace=True)\n",
    "corr_features_par = fr_paris.iloc[0:12].index.tolist()\n",
    "\n",
    "fr_rome[\"corr_abs\"] = np.abs(fr_rome[\"corr\"])\n",
    "fr_rome.sort_values(\"corr_abs\", ascending=False, inplace=True)\n",
    "corr_features_rom = fr_rome.iloc[0:12].index.tolist()"
   ]
  },
  {
   "cell_type": "markdown",
   "id": "db410e86c3afb8b1",
   "metadata": {},
   "source": [
    "4. Sequential Feature Selector"
   ]
  },
  {
   "cell_type": "code",
   "execution_count": 43,
   "id": "c994fff3194dd346",
   "metadata": {
    "ExecuteTime": {
     "end_time": "2025-01-11T19:45:00.945779Z",
     "start_time": "2025-01-11T19:45:00.938442Z"
    }
   },
   "outputs": [],
   "source": [
    "param_knn = {\n",
    "    \"n_neighbors\": [3, 5, 7, 10, 12, 15, 20, 25, 40, 50, 100],\n",
    "    \"weights\": [\"uniform\", \"distance\"],\n",
    "    \"metric\": [\"chebyshev\", \"manhattan\", \"minkowski\"],\n",
    "    \"p\": [1, 2],\n",
    "}"
   ]
  },
  {
   "cell_type": "code",
   "execution_count": 44,
   "id": "1a3aa4d3aaa0a0a4",
   "metadata": {
    "ExecuteTime": {
     "end_time": "2025-01-11T19:45:07.204464Z",
     "start_time": "2025-01-11T19:45:00.973996Z"
    }
   },
   "outputs": [
    {
     "data": {
      "text/html": [
       "<style>#sk-container-id-1 {\n",
       "  /* Definition of color scheme common for light and dark mode */\n",
       "  --sklearn-color-text: #000;\n",
       "  --sklearn-color-text-muted: #666;\n",
       "  --sklearn-color-line: gray;\n",
       "  /* Definition of color scheme for unfitted estimators */\n",
       "  --sklearn-color-unfitted-level-0: #fff5e6;\n",
       "  --sklearn-color-unfitted-level-1: #f6e4d2;\n",
       "  --sklearn-color-unfitted-level-2: #ffe0b3;\n",
       "  --sklearn-color-unfitted-level-3: chocolate;\n",
       "  /* Definition of color scheme for fitted estimators */\n",
       "  --sklearn-color-fitted-level-0: #f0f8ff;\n",
       "  --sklearn-color-fitted-level-1: #d4ebff;\n",
       "  --sklearn-color-fitted-level-2: #b3dbfd;\n",
       "  --sklearn-color-fitted-level-3: cornflowerblue;\n",
       "\n",
       "  /* Specific color for light theme */\n",
       "  --sklearn-color-text-on-default-background: var(--sg-text-color, var(--theme-code-foreground, var(--jp-content-font-color1, black)));\n",
       "  --sklearn-color-background: var(--sg-background-color, var(--theme-background, var(--jp-layout-color0, white)));\n",
       "  --sklearn-color-border-box: var(--sg-text-color, var(--theme-code-foreground, var(--jp-content-font-color1, black)));\n",
       "  --sklearn-color-icon: #696969;\n",
       "\n",
       "  @media (prefers-color-scheme: dark) {\n",
       "    /* Redefinition of color scheme for dark theme */\n",
       "    --sklearn-color-text-on-default-background: var(--sg-text-color, var(--theme-code-foreground, var(--jp-content-font-color1, white)));\n",
       "    --sklearn-color-background: var(--sg-background-color, var(--theme-background, var(--jp-layout-color0, #111)));\n",
       "    --sklearn-color-border-box: var(--sg-text-color, var(--theme-code-foreground, var(--jp-content-font-color1, white)));\n",
       "    --sklearn-color-icon: #878787;\n",
       "  }\n",
       "}\n",
       "\n",
       "#sk-container-id-1 {\n",
       "  color: var(--sklearn-color-text);\n",
       "}\n",
       "\n",
       "#sk-container-id-1 pre {\n",
       "  padding: 0;\n",
       "}\n",
       "\n",
       "#sk-container-id-1 input.sk-hidden--visually {\n",
       "  border: 0;\n",
       "  clip: rect(1px 1px 1px 1px);\n",
       "  clip: rect(1px, 1px, 1px, 1px);\n",
       "  height: 1px;\n",
       "  margin: -1px;\n",
       "  overflow: hidden;\n",
       "  padding: 0;\n",
       "  position: absolute;\n",
       "  width: 1px;\n",
       "}\n",
       "\n",
       "#sk-container-id-1 div.sk-dashed-wrapped {\n",
       "  border: 1px dashed var(--sklearn-color-line);\n",
       "  margin: 0 0.4em 0.5em 0.4em;\n",
       "  box-sizing: border-box;\n",
       "  padding-bottom: 0.4em;\n",
       "  background-color: var(--sklearn-color-background);\n",
       "}\n",
       "\n",
       "#sk-container-id-1 div.sk-container {\n",
       "  /* jupyter's `normalize.less` sets `[hidden] { display: none; }`\n",
       "     but bootstrap.min.css set `[hidden] { display: none !important; }`\n",
       "     so we also need the `!important` here to be able to override the\n",
       "     default hidden behavior on the sphinx rendered scikit-learn.org.\n",
       "     See: https://github.com/scikit-learn/scikit-learn/issues/21755 */\n",
       "  display: inline-block !important;\n",
       "  position: relative;\n",
       "}\n",
       "\n",
       "#sk-container-id-1 div.sk-text-repr-fallback {\n",
       "  display: none;\n",
       "}\n",
       "\n",
       "div.sk-parallel-item,\n",
       "div.sk-serial,\n",
       "div.sk-item {\n",
       "  /* draw centered vertical line to link estimators */\n",
       "  background-image: linear-gradient(var(--sklearn-color-text-on-default-background), var(--sklearn-color-text-on-default-background));\n",
       "  background-size: 2px 100%;\n",
       "  background-repeat: no-repeat;\n",
       "  background-position: center center;\n",
       "}\n",
       "\n",
       "/* Parallel-specific style estimator block */\n",
       "\n",
       "#sk-container-id-1 div.sk-parallel-item::after {\n",
       "  content: \"\";\n",
       "  width: 100%;\n",
       "  border-bottom: 2px solid var(--sklearn-color-text-on-default-background);\n",
       "  flex-grow: 1;\n",
       "}\n",
       "\n",
       "#sk-container-id-1 div.sk-parallel {\n",
       "  display: flex;\n",
       "  align-items: stretch;\n",
       "  justify-content: center;\n",
       "  background-color: var(--sklearn-color-background);\n",
       "  position: relative;\n",
       "}\n",
       "\n",
       "#sk-container-id-1 div.sk-parallel-item {\n",
       "  display: flex;\n",
       "  flex-direction: column;\n",
       "}\n",
       "\n",
       "#sk-container-id-1 div.sk-parallel-item:first-child::after {\n",
       "  align-self: flex-end;\n",
       "  width: 50%;\n",
       "}\n",
       "\n",
       "#sk-container-id-1 div.sk-parallel-item:last-child::after {\n",
       "  align-self: flex-start;\n",
       "  width: 50%;\n",
       "}\n",
       "\n",
       "#sk-container-id-1 div.sk-parallel-item:only-child::after {\n",
       "  width: 0;\n",
       "}\n",
       "\n",
       "/* Serial-specific style estimator block */\n",
       "\n",
       "#sk-container-id-1 div.sk-serial {\n",
       "  display: flex;\n",
       "  flex-direction: column;\n",
       "  align-items: center;\n",
       "  background-color: var(--sklearn-color-background);\n",
       "  padding-right: 1em;\n",
       "  padding-left: 1em;\n",
       "}\n",
       "\n",
       "\n",
       "/* Toggleable style: style used for estimator/Pipeline/ColumnTransformer box that is\n",
       "clickable and can be expanded/collapsed.\n",
       "- Pipeline and ColumnTransformer use this feature and define the default style\n",
       "- Estimators will overwrite some part of the style using the `sk-estimator` class\n",
       "*/\n",
       "\n",
       "/* Pipeline and ColumnTransformer style (default) */\n",
       "\n",
       "#sk-container-id-1 div.sk-toggleable {\n",
       "  /* Default theme specific background. It is overwritten whether we have a\n",
       "  specific estimator or a Pipeline/ColumnTransformer */\n",
       "  background-color: var(--sklearn-color-background);\n",
       "}\n",
       "\n",
       "/* Toggleable label */\n",
       "#sk-container-id-1 label.sk-toggleable__label {\n",
       "  cursor: pointer;\n",
       "  display: flex;\n",
       "  width: 100%;\n",
       "  margin-bottom: 0;\n",
       "  padding: 0.5em;\n",
       "  box-sizing: border-box;\n",
       "  text-align: center;\n",
       "  align-items: start;\n",
       "  justify-content: space-between;\n",
       "  gap: 0.5em;\n",
       "}\n",
       "\n",
       "#sk-container-id-1 label.sk-toggleable__label .caption {\n",
       "  font-size: 0.6rem;\n",
       "  font-weight: lighter;\n",
       "  color: var(--sklearn-color-text-muted);\n",
       "}\n",
       "\n",
       "#sk-container-id-1 label.sk-toggleable__label-arrow:before {\n",
       "  /* Arrow on the left of the label */\n",
       "  content: \"▸\";\n",
       "  float: left;\n",
       "  margin-right: 0.25em;\n",
       "  color: var(--sklearn-color-icon);\n",
       "}\n",
       "\n",
       "#sk-container-id-1 label.sk-toggleable__label-arrow:hover:before {\n",
       "  color: var(--sklearn-color-text);\n",
       "}\n",
       "\n",
       "/* Toggleable content - dropdown */\n",
       "\n",
       "#sk-container-id-1 div.sk-toggleable__content {\n",
       "  max-height: 0;\n",
       "  max-width: 0;\n",
       "  overflow: hidden;\n",
       "  text-align: left;\n",
       "  /* unfitted */\n",
       "  background-color: var(--sklearn-color-unfitted-level-0);\n",
       "}\n",
       "\n",
       "#sk-container-id-1 div.sk-toggleable__content.fitted {\n",
       "  /* fitted */\n",
       "  background-color: var(--sklearn-color-fitted-level-0);\n",
       "}\n",
       "\n",
       "#sk-container-id-1 div.sk-toggleable__content pre {\n",
       "  margin: 0.2em;\n",
       "  border-radius: 0.25em;\n",
       "  color: var(--sklearn-color-text);\n",
       "  /* unfitted */\n",
       "  background-color: var(--sklearn-color-unfitted-level-0);\n",
       "}\n",
       "\n",
       "#sk-container-id-1 div.sk-toggleable__content.fitted pre {\n",
       "  /* unfitted */\n",
       "  background-color: var(--sklearn-color-fitted-level-0);\n",
       "}\n",
       "\n",
       "#sk-container-id-1 input.sk-toggleable__control:checked~div.sk-toggleable__content {\n",
       "  /* Expand drop-down */\n",
       "  max-height: 200px;\n",
       "  max-width: 100%;\n",
       "  overflow: auto;\n",
       "}\n",
       "\n",
       "#sk-container-id-1 input.sk-toggleable__control:checked~label.sk-toggleable__label-arrow:before {\n",
       "  content: \"▾\";\n",
       "}\n",
       "\n",
       "/* Pipeline/ColumnTransformer-specific style */\n",
       "\n",
       "#sk-container-id-1 div.sk-label input.sk-toggleable__control:checked~label.sk-toggleable__label {\n",
       "  color: var(--sklearn-color-text);\n",
       "  background-color: var(--sklearn-color-unfitted-level-2);\n",
       "}\n",
       "\n",
       "#sk-container-id-1 div.sk-label.fitted input.sk-toggleable__control:checked~label.sk-toggleable__label {\n",
       "  background-color: var(--sklearn-color-fitted-level-2);\n",
       "}\n",
       "\n",
       "/* Estimator-specific style */\n",
       "\n",
       "/* Colorize estimator box */\n",
       "#sk-container-id-1 div.sk-estimator input.sk-toggleable__control:checked~label.sk-toggleable__label {\n",
       "  /* unfitted */\n",
       "  background-color: var(--sklearn-color-unfitted-level-2);\n",
       "}\n",
       "\n",
       "#sk-container-id-1 div.sk-estimator.fitted input.sk-toggleable__control:checked~label.sk-toggleable__label {\n",
       "  /* fitted */\n",
       "  background-color: var(--sklearn-color-fitted-level-2);\n",
       "}\n",
       "\n",
       "#sk-container-id-1 div.sk-label label.sk-toggleable__label,\n",
       "#sk-container-id-1 div.sk-label label {\n",
       "  /* The background is the default theme color */\n",
       "  color: var(--sklearn-color-text-on-default-background);\n",
       "}\n",
       "\n",
       "/* On hover, darken the color of the background */\n",
       "#sk-container-id-1 div.sk-label:hover label.sk-toggleable__label {\n",
       "  color: var(--sklearn-color-text);\n",
       "  background-color: var(--sklearn-color-unfitted-level-2);\n",
       "}\n",
       "\n",
       "/* Label box, darken color on hover, fitted */\n",
       "#sk-container-id-1 div.sk-label.fitted:hover label.sk-toggleable__label.fitted {\n",
       "  color: var(--sklearn-color-text);\n",
       "  background-color: var(--sklearn-color-fitted-level-2);\n",
       "}\n",
       "\n",
       "/* Estimator label */\n",
       "\n",
       "#sk-container-id-1 div.sk-label label {\n",
       "  font-family: monospace;\n",
       "  font-weight: bold;\n",
       "  display: inline-block;\n",
       "  line-height: 1.2em;\n",
       "}\n",
       "\n",
       "#sk-container-id-1 div.sk-label-container {\n",
       "  text-align: center;\n",
       "}\n",
       "\n",
       "/* Estimator-specific */\n",
       "#sk-container-id-1 div.sk-estimator {\n",
       "  font-family: monospace;\n",
       "  border: 1px dotted var(--sklearn-color-border-box);\n",
       "  border-radius: 0.25em;\n",
       "  box-sizing: border-box;\n",
       "  margin-bottom: 0.5em;\n",
       "  /* unfitted */\n",
       "  background-color: var(--sklearn-color-unfitted-level-0);\n",
       "}\n",
       "\n",
       "#sk-container-id-1 div.sk-estimator.fitted {\n",
       "  /* fitted */\n",
       "  background-color: var(--sklearn-color-fitted-level-0);\n",
       "}\n",
       "\n",
       "/* on hover */\n",
       "#sk-container-id-1 div.sk-estimator:hover {\n",
       "  /* unfitted */\n",
       "  background-color: var(--sklearn-color-unfitted-level-2);\n",
       "}\n",
       "\n",
       "#sk-container-id-1 div.sk-estimator.fitted:hover {\n",
       "  /* fitted */\n",
       "  background-color: var(--sklearn-color-fitted-level-2);\n",
       "}\n",
       "\n",
       "/* Specification for estimator info (e.g. \"i\" and \"?\") */\n",
       "\n",
       "/* Common style for \"i\" and \"?\" */\n",
       "\n",
       ".sk-estimator-doc-link,\n",
       "a:link.sk-estimator-doc-link,\n",
       "a:visited.sk-estimator-doc-link {\n",
       "  float: right;\n",
       "  font-size: smaller;\n",
       "  line-height: 1em;\n",
       "  font-family: monospace;\n",
       "  background-color: var(--sklearn-color-background);\n",
       "  border-radius: 1em;\n",
       "  height: 1em;\n",
       "  width: 1em;\n",
       "  text-decoration: none !important;\n",
       "  margin-left: 0.5em;\n",
       "  text-align: center;\n",
       "  /* unfitted */\n",
       "  border: var(--sklearn-color-unfitted-level-1) 1pt solid;\n",
       "  color: var(--sklearn-color-unfitted-level-1);\n",
       "}\n",
       "\n",
       ".sk-estimator-doc-link.fitted,\n",
       "a:link.sk-estimator-doc-link.fitted,\n",
       "a:visited.sk-estimator-doc-link.fitted {\n",
       "  /* fitted */\n",
       "  border: var(--sklearn-color-fitted-level-1) 1pt solid;\n",
       "  color: var(--sklearn-color-fitted-level-1);\n",
       "}\n",
       "\n",
       "/* On hover */\n",
       "div.sk-estimator:hover .sk-estimator-doc-link:hover,\n",
       ".sk-estimator-doc-link:hover,\n",
       "div.sk-label-container:hover .sk-estimator-doc-link:hover,\n",
       ".sk-estimator-doc-link:hover {\n",
       "  /* unfitted */\n",
       "  background-color: var(--sklearn-color-unfitted-level-3);\n",
       "  color: var(--sklearn-color-background);\n",
       "  text-decoration: none;\n",
       "}\n",
       "\n",
       "div.sk-estimator.fitted:hover .sk-estimator-doc-link.fitted:hover,\n",
       ".sk-estimator-doc-link.fitted:hover,\n",
       "div.sk-label-container:hover .sk-estimator-doc-link.fitted:hover,\n",
       ".sk-estimator-doc-link.fitted:hover {\n",
       "  /* fitted */\n",
       "  background-color: var(--sklearn-color-fitted-level-3);\n",
       "  color: var(--sklearn-color-background);\n",
       "  text-decoration: none;\n",
       "}\n",
       "\n",
       "/* Span, style for the box shown on hovering the info icon */\n",
       ".sk-estimator-doc-link span {\n",
       "  display: none;\n",
       "  z-index: 9999;\n",
       "  position: relative;\n",
       "  font-weight: normal;\n",
       "  right: .2ex;\n",
       "  padding: .5ex;\n",
       "  margin: .5ex;\n",
       "  width: min-content;\n",
       "  min-width: 20ex;\n",
       "  max-width: 50ex;\n",
       "  color: var(--sklearn-color-text);\n",
       "  box-shadow: 2pt 2pt 4pt #999;\n",
       "  /* unfitted */\n",
       "  background: var(--sklearn-color-unfitted-level-0);\n",
       "  border: .5pt solid var(--sklearn-color-unfitted-level-3);\n",
       "}\n",
       "\n",
       ".sk-estimator-doc-link.fitted span {\n",
       "  /* fitted */\n",
       "  background: var(--sklearn-color-fitted-level-0);\n",
       "  border: var(--sklearn-color-fitted-level-3);\n",
       "}\n",
       "\n",
       ".sk-estimator-doc-link:hover span {\n",
       "  display: block;\n",
       "}\n",
       "\n",
       "/* \"?\"-specific style due to the `<a>` HTML tag */\n",
       "\n",
       "#sk-container-id-1 a.estimator_doc_link {\n",
       "  float: right;\n",
       "  font-size: 1rem;\n",
       "  line-height: 1em;\n",
       "  font-family: monospace;\n",
       "  background-color: var(--sklearn-color-background);\n",
       "  border-radius: 1rem;\n",
       "  height: 1rem;\n",
       "  width: 1rem;\n",
       "  text-decoration: none;\n",
       "  /* unfitted */\n",
       "  color: var(--sklearn-color-unfitted-level-1);\n",
       "  border: var(--sklearn-color-unfitted-level-1) 1pt solid;\n",
       "}\n",
       "\n",
       "#sk-container-id-1 a.estimator_doc_link.fitted {\n",
       "  /* fitted */\n",
       "  border: var(--sklearn-color-fitted-level-1) 1pt solid;\n",
       "  color: var(--sklearn-color-fitted-level-1);\n",
       "}\n",
       "\n",
       "/* On hover */\n",
       "#sk-container-id-1 a.estimator_doc_link:hover {\n",
       "  /* unfitted */\n",
       "  background-color: var(--sklearn-color-unfitted-level-3);\n",
       "  color: var(--sklearn-color-background);\n",
       "  text-decoration: none;\n",
       "}\n",
       "\n",
       "#sk-container-id-1 a.estimator_doc_link.fitted:hover {\n",
       "  /* fitted */\n",
       "  background-color: var(--sklearn-color-fitted-level-3);\n",
       "}\n",
       "</style><div id=\"sk-container-id-1\" class=\"sk-top-container\"><div class=\"sk-text-repr-fallback\"><pre>GridSearchCV(cv=5, estimator=KNeighborsRegressor(), n_jobs=-1,\n",
       "             param_grid={&#x27;metric&#x27;: [&#x27;chebyshev&#x27;, &#x27;manhattan&#x27;, &#x27;minkowski&#x27;],\n",
       "                         &#x27;n_neighbors&#x27;: [3, 5, 7, 10, 12, 15, 20, 25, 40, 50,\n",
       "                                         100],\n",
       "                         &#x27;p&#x27;: [1, 2], &#x27;weights&#x27;: [&#x27;uniform&#x27;, &#x27;distance&#x27;]},\n",
       "             return_train_score=True,\n",
       "             scoring=make_scorer(mean_squared_error, greater_is_better=False, response_method=&#x27;predict&#x27;))</pre><b>In a Jupyter environment, please rerun this cell to show the HTML representation or trust the notebook. <br />On GitHub, the HTML representation is unable to render, please try loading this page with nbviewer.org.</b></div><div class=\"sk-container\" hidden><div class=\"sk-item sk-dashed-wrapped\"><div class=\"sk-label-container\"><div class=\"sk-label fitted sk-toggleable\"><input class=\"sk-toggleable__control sk-hidden--visually\" id=\"sk-estimator-id-1\" type=\"checkbox\" ><label for=\"sk-estimator-id-1\" class=\"sk-toggleable__label fitted sk-toggleable__label-arrow\"><div><div>GridSearchCV</div></div><div><a class=\"sk-estimator-doc-link fitted\" rel=\"noreferrer\" target=\"_blank\" href=\"https://scikit-learn.org/1.6/modules/generated/sklearn.model_selection.GridSearchCV.html\">?<span>Documentation for GridSearchCV</span></a><span class=\"sk-estimator-doc-link fitted\">i<span>Fitted</span></span></div></label><div class=\"sk-toggleable__content fitted\"><pre>GridSearchCV(cv=5, estimator=KNeighborsRegressor(), n_jobs=-1,\n",
       "             param_grid={&#x27;metric&#x27;: [&#x27;chebyshev&#x27;, &#x27;manhattan&#x27;, &#x27;minkowski&#x27;],\n",
       "                         &#x27;n_neighbors&#x27;: [3, 5, 7, 10, 12, 15, 20, 25, 40, 50,\n",
       "                                         100],\n",
       "                         &#x27;p&#x27;: [1, 2], &#x27;weights&#x27;: [&#x27;uniform&#x27;, &#x27;distance&#x27;]},\n",
       "             return_train_score=True,\n",
       "             scoring=make_scorer(mean_squared_error, greater_is_better=False, response_method=&#x27;predict&#x27;))</pre></div> </div></div><div class=\"sk-parallel\"><div class=\"sk-parallel-item\"><div class=\"sk-item\"><div class=\"sk-label-container\"><div class=\"sk-label fitted sk-toggleable\"><input class=\"sk-toggleable__control sk-hidden--visually\" id=\"sk-estimator-id-2\" type=\"checkbox\" ><label for=\"sk-estimator-id-2\" class=\"sk-toggleable__label fitted sk-toggleable__label-arrow\"><div><div>best_estimator_: KNeighborsRegressor</div></div></label><div class=\"sk-toggleable__content fitted\"><pre>KNeighborsRegressor(metric=&#x27;manhattan&#x27;, n_neighbors=50, p=1, weights=&#x27;distance&#x27;)</pre></div> </div></div><div class=\"sk-serial\"><div class=\"sk-item\"><div class=\"sk-estimator fitted sk-toggleable\"><input class=\"sk-toggleable__control sk-hidden--visually\" id=\"sk-estimator-id-3\" type=\"checkbox\" ><label for=\"sk-estimator-id-3\" class=\"sk-toggleable__label fitted sk-toggleable__label-arrow\"><div><div>KNeighborsRegressor</div></div><div><a class=\"sk-estimator-doc-link fitted\" rel=\"noreferrer\" target=\"_blank\" href=\"https://scikit-learn.org/1.6/modules/generated/sklearn.neighbors.KNeighborsRegressor.html\">?<span>Documentation for KNeighborsRegressor</span></a></div></label><div class=\"sk-toggleable__content fitted\"><pre>KNeighborsRegressor(metric=&#x27;manhattan&#x27;, n_neighbors=50, p=1, weights=&#x27;distance&#x27;)</pre></div> </div></div></div></div></div></div></div></div></div>"
      ],
      "text/plain": [
       "GridSearchCV(cv=5, estimator=KNeighborsRegressor(), n_jobs=-1,\n",
       "             param_grid={'metric': ['chebyshev', 'manhattan', 'minkowski'],\n",
       "                         'n_neighbors': [3, 5, 7, 10, 12, 15, 20, 25, 40, 50,\n",
       "                                         100],\n",
       "                         'p': [1, 2], 'weights': ['uniform', 'distance']},\n",
       "             return_train_score=True,\n",
       "             scoring=make_scorer(mean_squared_error, greater_is_better=False, response_method='predict'))"
      ]
     },
     "execution_count": 44,
     "metadata": {},
     "output_type": "execute_result"
    }
   ],
   "source": [
    "mse = make_scorer(mean_squared_error, greater_is_better=False)\n",
    "model = KNeighborsRegressor()\n",
    "\n",
    "grid_CV_bar = GridSearchCV(\n",
    "    model, param_knn, cv=5, scoring=mse, return_train_score=True, n_jobs=-1\n",
    ")\n",
    "grid_CV_bar.fit(df_barcelona.loc[:, mi_features_bar].values, df_barcelona.loc[:, \"realsum_cut\"].values.ravel())\n"
   ]
  },
  {
   "cell_type": "code",
   "execution_count": 45,
   "id": "151bbc0c0fef21fb",
   "metadata": {
    "ExecuteTime": {
     "end_time": "2025-01-11T19:45:07.397116Z",
     "start_time": "2025-01-11T19:45:07.387862Z"
    }
   },
   "outputs": [
    {
     "data": {
      "text/plain": [
       "np.float64(-9970.148741217514)"
      ]
     },
     "execution_count": 45,
     "metadata": {},
     "output_type": "execute_result"
    }
   ],
   "source": [
    "grid_CV_bar.best_score_"
   ]
  },
  {
   "cell_type": "code",
   "execution_count": 46,
   "id": "276ce01d7e502454",
   "metadata": {
    "ExecuteTime": {
     "end_time": "2025-01-11T19:45:23.913913Z",
     "start_time": "2025-01-11T19:45:07.541813Z"
    }
   },
   "outputs": [
    {
     "data": {
      "text/html": [
       "<style>#sk-container-id-2 {\n",
       "  /* Definition of color scheme common for light and dark mode */\n",
       "  --sklearn-color-text: #000;\n",
       "  --sklearn-color-text-muted: #666;\n",
       "  --sklearn-color-line: gray;\n",
       "  /* Definition of color scheme for unfitted estimators */\n",
       "  --sklearn-color-unfitted-level-0: #fff5e6;\n",
       "  --sklearn-color-unfitted-level-1: #f6e4d2;\n",
       "  --sklearn-color-unfitted-level-2: #ffe0b3;\n",
       "  --sklearn-color-unfitted-level-3: chocolate;\n",
       "  /* Definition of color scheme for fitted estimators */\n",
       "  --sklearn-color-fitted-level-0: #f0f8ff;\n",
       "  --sklearn-color-fitted-level-1: #d4ebff;\n",
       "  --sklearn-color-fitted-level-2: #b3dbfd;\n",
       "  --sklearn-color-fitted-level-3: cornflowerblue;\n",
       "\n",
       "  /* Specific color for light theme */\n",
       "  --sklearn-color-text-on-default-background: var(--sg-text-color, var(--theme-code-foreground, var(--jp-content-font-color1, black)));\n",
       "  --sklearn-color-background: var(--sg-background-color, var(--theme-background, var(--jp-layout-color0, white)));\n",
       "  --sklearn-color-border-box: var(--sg-text-color, var(--theme-code-foreground, var(--jp-content-font-color1, black)));\n",
       "  --sklearn-color-icon: #696969;\n",
       "\n",
       "  @media (prefers-color-scheme: dark) {\n",
       "    /* Redefinition of color scheme for dark theme */\n",
       "    --sklearn-color-text-on-default-background: var(--sg-text-color, var(--theme-code-foreground, var(--jp-content-font-color1, white)));\n",
       "    --sklearn-color-background: var(--sg-background-color, var(--theme-background, var(--jp-layout-color0, #111)));\n",
       "    --sklearn-color-border-box: var(--sg-text-color, var(--theme-code-foreground, var(--jp-content-font-color1, white)));\n",
       "    --sklearn-color-icon: #878787;\n",
       "  }\n",
       "}\n",
       "\n",
       "#sk-container-id-2 {\n",
       "  color: var(--sklearn-color-text);\n",
       "}\n",
       "\n",
       "#sk-container-id-2 pre {\n",
       "  padding: 0;\n",
       "}\n",
       "\n",
       "#sk-container-id-2 input.sk-hidden--visually {\n",
       "  border: 0;\n",
       "  clip: rect(1px 1px 1px 1px);\n",
       "  clip: rect(1px, 1px, 1px, 1px);\n",
       "  height: 1px;\n",
       "  margin: -1px;\n",
       "  overflow: hidden;\n",
       "  padding: 0;\n",
       "  position: absolute;\n",
       "  width: 1px;\n",
       "}\n",
       "\n",
       "#sk-container-id-2 div.sk-dashed-wrapped {\n",
       "  border: 1px dashed var(--sklearn-color-line);\n",
       "  margin: 0 0.4em 0.5em 0.4em;\n",
       "  box-sizing: border-box;\n",
       "  padding-bottom: 0.4em;\n",
       "  background-color: var(--sklearn-color-background);\n",
       "}\n",
       "\n",
       "#sk-container-id-2 div.sk-container {\n",
       "  /* jupyter's `normalize.less` sets `[hidden] { display: none; }`\n",
       "     but bootstrap.min.css set `[hidden] { display: none !important; }`\n",
       "     so we also need the `!important` here to be able to override the\n",
       "     default hidden behavior on the sphinx rendered scikit-learn.org.\n",
       "     See: https://github.com/scikit-learn/scikit-learn/issues/21755 */\n",
       "  display: inline-block !important;\n",
       "  position: relative;\n",
       "}\n",
       "\n",
       "#sk-container-id-2 div.sk-text-repr-fallback {\n",
       "  display: none;\n",
       "}\n",
       "\n",
       "div.sk-parallel-item,\n",
       "div.sk-serial,\n",
       "div.sk-item {\n",
       "  /* draw centered vertical line to link estimators */\n",
       "  background-image: linear-gradient(var(--sklearn-color-text-on-default-background), var(--sklearn-color-text-on-default-background));\n",
       "  background-size: 2px 100%;\n",
       "  background-repeat: no-repeat;\n",
       "  background-position: center center;\n",
       "}\n",
       "\n",
       "/* Parallel-specific style estimator block */\n",
       "\n",
       "#sk-container-id-2 div.sk-parallel-item::after {\n",
       "  content: \"\";\n",
       "  width: 100%;\n",
       "  border-bottom: 2px solid var(--sklearn-color-text-on-default-background);\n",
       "  flex-grow: 1;\n",
       "}\n",
       "\n",
       "#sk-container-id-2 div.sk-parallel {\n",
       "  display: flex;\n",
       "  align-items: stretch;\n",
       "  justify-content: center;\n",
       "  background-color: var(--sklearn-color-background);\n",
       "  position: relative;\n",
       "}\n",
       "\n",
       "#sk-container-id-2 div.sk-parallel-item {\n",
       "  display: flex;\n",
       "  flex-direction: column;\n",
       "}\n",
       "\n",
       "#sk-container-id-2 div.sk-parallel-item:first-child::after {\n",
       "  align-self: flex-end;\n",
       "  width: 50%;\n",
       "}\n",
       "\n",
       "#sk-container-id-2 div.sk-parallel-item:last-child::after {\n",
       "  align-self: flex-start;\n",
       "  width: 50%;\n",
       "}\n",
       "\n",
       "#sk-container-id-2 div.sk-parallel-item:only-child::after {\n",
       "  width: 0;\n",
       "}\n",
       "\n",
       "/* Serial-specific style estimator block */\n",
       "\n",
       "#sk-container-id-2 div.sk-serial {\n",
       "  display: flex;\n",
       "  flex-direction: column;\n",
       "  align-items: center;\n",
       "  background-color: var(--sklearn-color-background);\n",
       "  padding-right: 1em;\n",
       "  padding-left: 1em;\n",
       "}\n",
       "\n",
       "\n",
       "/* Toggleable style: style used for estimator/Pipeline/ColumnTransformer box that is\n",
       "clickable and can be expanded/collapsed.\n",
       "- Pipeline and ColumnTransformer use this feature and define the default style\n",
       "- Estimators will overwrite some part of the style using the `sk-estimator` class\n",
       "*/\n",
       "\n",
       "/* Pipeline and ColumnTransformer style (default) */\n",
       "\n",
       "#sk-container-id-2 div.sk-toggleable {\n",
       "  /* Default theme specific background. It is overwritten whether we have a\n",
       "  specific estimator or a Pipeline/ColumnTransformer */\n",
       "  background-color: var(--sklearn-color-background);\n",
       "}\n",
       "\n",
       "/* Toggleable label */\n",
       "#sk-container-id-2 label.sk-toggleable__label {\n",
       "  cursor: pointer;\n",
       "  display: flex;\n",
       "  width: 100%;\n",
       "  margin-bottom: 0;\n",
       "  padding: 0.5em;\n",
       "  box-sizing: border-box;\n",
       "  text-align: center;\n",
       "  align-items: start;\n",
       "  justify-content: space-between;\n",
       "  gap: 0.5em;\n",
       "}\n",
       "\n",
       "#sk-container-id-2 label.sk-toggleable__label .caption {\n",
       "  font-size: 0.6rem;\n",
       "  font-weight: lighter;\n",
       "  color: var(--sklearn-color-text-muted);\n",
       "}\n",
       "\n",
       "#sk-container-id-2 label.sk-toggleable__label-arrow:before {\n",
       "  /* Arrow on the left of the label */\n",
       "  content: \"▸\";\n",
       "  float: left;\n",
       "  margin-right: 0.25em;\n",
       "  color: var(--sklearn-color-icon);\n",
       "}\n",
       "\n",
       "#sk-container-id-2 label.sk-toggleable__label-arrow:hover:before {\n",
       "  color: var(--sklearn-color-text);\n",
       "}\n",
       "\n",
       "/* Toggleable content - dropdown */\n",
       "\n",
       "#sk-container-id-2 div.sk-toggleable__content {\n",
       "  max-height: 0;\n",
       "  max-width: 0;\n",
       "  overflow: hidden;\n",
       "  text-align: left;\n",
       "  /* unfitted */\n",
       "  background-color: var(--sklearn-color-unfitted-level-0);\n",
       "}\n",
       "\n",
       "#sk-container-id-2 div.sk-toggleable__content.fitted {\n",
       "  /* fitted */\n",
       "  background-color: var(--sklearn-color-fitted-level-0);\n",
       "}\n",
       "\n",
       "#sk-container-id-2 div.sk-toggleable__content pre {\n",
       "  margin: 0.2em;\n",
       "  border-radius: 0.25em;\n",
       "  color: var(--sklearn-color-text);\n",
       "  /* unfitted */\n",
       "  background-color: var(--sklearn-color-unfitted-level-0);\n",
       "}\n",
       "\n",
       "#sk-container-id-2 div.sk-toggleable__content.fitted pre {\n",
       "  /* unfitted */\n",
       "  background-color: var(--sklearn-color-fitted-level-0);\n",
       "}\n",
       "\n",
       "#sk-container-id-2 input.sk-toggleable__control:checked~div.sk-toggleable__content {\n",
       "  /* Expand drop-down */\n",
       "  max-height: 200px;\n",
       "  max-width: 100%;\n",
       "  overflow: auto;\n",
       "}\n",
       "\n",
       "#sk-container-id-2 input.sk-toggleable__control:checked~label.sk-toggleable__label-arrow:before {\n",
       "  content: \"▾\";\n",
       "}\n",
       "\n",
       "/* Pipeline/ColumnTransformer-specific style */\n",
       "\n",
       "#sk-container-id-2 div.sk-label input.sk-toggleable__control:checked~label.sk-toggleable__label {\n",
       "  color: var(--sklearn-color-text);\n",
       "  background-color: var(--sklearn-color-unfitted-level-2);\n",
       "}\n",
       "\n",
       "#sk-container-id-2 div.sk-label.fitted input.sk-toggleable__control:checked~label.sk-toggleable__label {\n",
       "  background-color: var(--sklearn-color-fitted-level-2);\n",
       "}\n",
       "\n",
       "/* Estimator-specific style */\n",
       "\n",
       "/* Colorize estimator box */\n",
       "#sk-container-id-2 div.sk-estimator input.sk-toggleable__control:checked~label.sk-toggleable__label {\n",
       "  /* unfitted */\n",
       "  background-color: var(--sklearn-color-unfitted-level-2);\n",
       "}\n",
       "\n",
       "#sk-container-id-2 div.sk-estimator.fitted input.sk-toggleable__control:checked~label.sk-toggleable__label {\n",
       "  /* fitted */\n",
       "  background-color: var(--sklearn-color-fitted-level-2);\n",
       "}\n",
       "\n",
       "#sk-container-id-2 div.sk-label label.sk-toggleable__label,\n",
       "#sk-container-id-2 div.sk-label label {\n",
       "  /* The background is the default theme color */\n",
       "  color: var(--sklearn-color-text-on-default-background);\n",
       "}\n",
       "\n",
       "/* On hover, darken the color of the background */\n",
       "#sk-container-id-2 div.sk-label:hover label.sk-toggleable__label {\n",
       "  color: var(--sklearn-color-text);\n",
       "  background-color: var(--sklearn-color-unfitted-level-2);\n",
       "}\n",
       "\n",
       "/* Label box, darken color on hover, fitted */\n",
       "#sk-container-id-2 div.sk-label.fitted:hover label.sk-toggleable__label.fitted {\n",
       "  color: var(--sklearn-color-text);\n",
       "  background-color: var(--sklearn-color-fitted-level-2);\n",
       "}\n",
       "\n",
       "/* Estimator label */\n",
       "\n",
       "#sk-container-id-2 div.sk-label label {\n",
       "  font-family: monospace;\n",
       "  font-weight: bold;\n",
       "  display: inline-block;\n",
       "  line-height: 1.2em;\n",
       "}\n",
       "\n",
       "#sk-container-id-2 div.sk-label-container {\n",
       "  text-align: center;\n",
       "}\n",
       "\n",
       "/* Estimator-specific */\n",
       "#sk-container-id-2 div.sk-estimator {\n",
       "  font-family: monospace;\n",
       "  border: 1px dotted var(--sklearn-color-border-box);\n",
       "  border-radius: 0.25em;\n",
       "  box-sizing: border-box;\n",
       "  margin-bottom: 0.5em;\n",
       "  /* unfitted */\n",
       "  background-color: var(--sklearn-color-unfitted-level-0);\n",
       "}\n",
       "\n",
       "#sk-container-id-2 div.sk-estimator.fitted {\n",
       "  /* fitted */\n",
       "  background-color: var(--sklearn-color-fitted-level-0);\n",
       "}\n",
       "\n",
       "/* on hover */\n",
       "#sk-container-id-2 div.sk-estimator:hover {\n",
       "  /* unfitted */\n",
       "  background-color: var(--sklearn-color-unfitted-level-2);\n",
       "}\n",
       "\n",
       "#sk-container-id-2 div.sk-estimator.fitted:hover {\n",
       "  /* fitted */\n",
       "  background-color: var(--sklearn-color-fitted-level-2);\n",
       "}\n",
       "\n",
       "/* Specification for estimator info (e.g. \"i\" and \"?\") */\n",
       "\n",
       "/* Common style for \"i\" and \"?\" */\n",
       "\n",
       ".sk-estimator-doc-link,\n",
       "a:link.sk-estimator-doc-link,\n",
       "a:visited.sk-estimator-doc-link {\n",
       "  float: right;\n",
       "  font-size: smaller;\n",
       "  line-height: 1em;\n",
       "  font-family: monospace;\n",
       "  background-color: var(--sklearn-color-background);\n",
       "  border-radius: 1em;\n",
       "  height: 1em;\n",
       "  width: 1em;\n",
       "  text-decoration: none !important;\n",
       "  margin-left: 0.5em;\n",
       "  text-align: center;\n",
       "  /* unfitted */\n",
       "  border: var(--sklearn-color-unfitted-level-1) 1pt solid;\n",
       "  color: var(--sklearn-color-unfitted-level-1);\n",
       "}\n",
       "\n",
       ".sk-estimator-doc-link.fitted,\n",
       "a:link.sk-estimator-doc-link.fitted,\n",
       "a:visited.sk-estimator-doc-link.fitted {\n",
       "  /* fitted */\n",
       "  border: var(--sklearn-color-fitted-level-1) 1pt solid;\n",
       "  color: var(--sklearn-color-fitted-level-1);\n",
       "}\n",
       "\n",
       "/* On hover */\n",
       "div.sk-estimator:hover .sk-estimator-doc-link:hover,\n",
       ".sk-estimator-doc-link:hover,\n",
       "div.sk-label-container:hover .sk-estimator-doc-link:hover,\n",
       ".sk-estimator-doc-link:hover {\n",
       "  /* unfitted */\n",
       "  background-color: var(--sklearn-color-unfitted-level-3);\n",
       "  color: var(--sklearn-color-background);\n",
       "  text-decoration: none;\n",
       "}\n",
       "\n",
       "div.sk-estimator.fitted:hover .sk-estimator-doc-link.fitted:hover,\n",
       ".sk-estimator-doc-link.fitted:hover,\n",
       "div.sk-label-container:hover .sk-estimator-doc-link.fitted:hover,\n",
       ".sk-estimator-doc-link.fitted:hover {\n",
       "  /* fitted */\n",
       "  background-color: var(--sklearn-color-fitted-level-3);\n",
       "  color: var(--sklearn-color-background);\n",
       "  text-decoration: none;\n",
       "}\n",
       "\n",
       "/* Span, style for the box shown on hovering the info icon */\n",
       ".sk-estimator-doc-link span {\n",
       "  display: none;\n",
       "  z-index: 9999;\n",
       "  position: relative;\n",
       "  font-weight: normal;\n",
       "  right: .2ex;\n",
       "  padding: .5ex;\n",
       "  margin: .5ex;\n",
       "  width: min-content;\n",
       "  min-width: 20ex;\n",
       "  max-width: 50ex;\n",
       "  color: var(--sklearn-color-text);\n",
       "  box-shadow: 2pt 2pt 4pt #999;\n",
       "  /* unfitted */\n",
       "  background: var(--sklearn-color-unfitted-level-0);\n",
       "  border: .5pt solid var(--sklearn-color-unfitted-level-3);\n",
       "}\n",
       "\n",
       ".sk-estimator-doc-link.fitted span {\n",
       "  /* fitted */\n",
       "  background: var(--sklearn-color-fitted-level-0);\n",
       "  border: var(--sklearn-color-fitted-level-3);\n",
       "}\n",
       "\n",
       ".sk-estimator-doc-link:hover span {\n",
       "  display: block;\n",
       "}\n",
       "\n",
       "/* \"?\"-specific style due to the `<a>` HTML tag */\n",
       "\n",
       "#sk-container-id-2 a.estimator_doc_link {\n",
       "  float: right;\n",
       "  font-size: 1rem;\n",
       "  line-height: 1em;\n",
       "  font-family: monospace;\n",
       "  background-color: var(--sklearn-color-background);\n",
       "  border-radius: 1rem;\n",
       "  height: 1rem;\n",
       "  width: 1rem;\n",
       "  text-decoration: none;\n",
       "  /* unfitted */\n",
       "  color: var(--sklearn-color-unfitted-level-1);\n",
       "  border: var(--sklearn-color-unfitted-level-1) 1pt solid;\n",
       "}\n",
       "\n",
       "#sk-container-id-2 a.estimator_doc_link.fitted {\n",
       "  /* fitted */\n",
       "  border: var(--sklearn-color-fitted-level-1) 1pt solid;\n",
       "  color: var(--sklearn-color-fitted-level-1);\n",
       "}\n",
       "\n",
       "/* On hover */\n",
       "#sk-container-id-2 a.estimator_doc_link:hover {\n",
       "  /* unfitted */\n",
       "  background-color: var(--sklearn-color-unfitted-level-3);\n",
       "  color: var(--sklearn-color-background);\n",
       "  text-decoration: none;\n",
       "}\n",
       "\n",
       "#sk-container-id-2 a.estimator_doc_link.fitted:hover {\n",
       "  /* fitted */\n",
       "  background-color: var(--sklearn-color-fitted-level-3);\n",
       "}\n",
       "</style><div id=\"sk-container-id-2\" class=\"sk-top-container\"><div class=\"sk-text-repr-fallback\"><pre>GridSearchCV(cv=5, estimator=KNeighborsRegressor(), n_jobs=-1,\n",
       "             param_grid={&#x27;metric&#x27;: [&#x27;chebyshev&#x27;, &#x27;manhattan&#x27;, &#x27;minkowski&#x27;],\n",
       "                         &#x27;n_neighbors&#x27;: [3, 5, 7, 10, 12, 15, 20, 25, 40, 50,\n",
       "                                         100],\n",
       "                         &#x27;p&#x27;: [1, 2], &#x27;weights&#x27;: [&#x27;uniform&#x27;, &#x27;distance&#x27;]},\n",
       "             return_train_score=True,\n",
       "             scoring=make_scorer(mean_squared_error, greater_is_better=False, response_method=&#x27;predict&#x27;))</pre><b>In a Jupyter environment, please rerun this cell to show the HTML representation or trust the notebook. <br />On GitHub, the HTML representation is unable to render, please try loading this page with nbviewer.org.</b></div><div class=\"sk-container\" hidden><div class=\"sk-item sk-dashed-wrapped\"><div class=\"sk-label-container\"><div class=\"sk-label fitted sk-toggleable\"><input class=\"sk-toggleable__control sk-hidden--visually\" id=\"sk-estimator-id-4\" type=\"checkbox\" ><label for=\"sk-estimator-id-4\" class=\"sk-toggleable__label fitted sk-toggleable__label-arrow\"><div><div>GridSearchCV</div></div><div><a class=\"sk-estimator-doc-link fitted\" rel=\"noreferrer\" target=\"_blank\" href=\"https://scikit-learn.org/1.6/modules/generated/sklearn.model_selection.GridSearchCV.html\">?<span>Documentation for GridSearchCV</span></a><span class=\"sk-estimator-doc-link fitted\">i<span>Fitted</span></span></div></label><div class=\"sk-toggleable__content fitted\"><pre>GridSearchCV(cv=5, estimator=KNeighborsRegressor(), n_jobs=-1,\n",
       "             param_grid={&#x27;metric&#x27;: [&#x27;chebyshev&#x27;, &#x27;manhattan&#x27;, &#x27;minkowski&#x27;],\n",
       "                         &#x27;n_neighbors&#x27;: [3, 5, 7, 10, 12, 15, 20, 25, 40, 50,\n",
       "                                         100],\n",
       "                         &#x27;p&#x27;: [1, 2], &#x27;weights&#x27;: [&#x27;uniform&#x27;, &#x27;distance&#x27;]},\n",
       "             return_train_score=True,\n",
       "             scoring=make_scorer(mean_squared_error, greater_is_better=False, response_method=&#x27;predict&#x27;))</pre></div> </div></div><div class=\"sk-parallel\"><div class=\"sk-parallel-item\"><div class=\"sk-item\"><div class=\"sk-label-container\"><div class=\"sk-label fitted sk-toggleable\"><input class=\"sk-toggleable__control sk-hidden--visually\" id=\"sk-estimator-id-5\" type=\"checkbox\" ><label for=\"sk-estimator-id-5\" class=\"sk-toggleable__label fitted sk-toggleable__label-arrow\"><div><div>best_estimator_: KNeighborsRegressor</div></div></label><div class=\"sk-toggleable__content fitted\"><pre>KNeighborsRegressor(metric=&#x27;manhattan&#x27;, n_neighbors=40, p=1, weights=&#x27;distance&#x27;)</pre></div> </div></div><div class=\"sk-serial\"><div class=\"sk-item\"><div class=\"sk-estimator fitted sk-toggleable\"><input class=\"sk-toggleable__control sk-hidden--visually\" id=\"sk-estimator-id-6\" type=\"checkbox\" ><label for=\"sk-estimator-id-6\" class=\"sk-toggleable__label fitted sk-toggleable__label-arrow\"><div><div>KNeighborsRegressor</div></div><div><a class=\"sk-estimator-doc-link fitted\" rel=\"noreferrer\" target=\"_blank\" href=\"https://scikit-learn.org/1.6/modules/generated/sklearn.neighbors.KNeighborsRegressor.html\">?<span>Documentation for KNeighborsRegressor</span></a></div></label><div class=\"sk-toggleable__content fitted\"><pre>KNeighborsRegressor(metric=&#x27;manhattan&#x27;, n_neighbors=40, p=1, weights=&#x27;distance&#x27;)</pre></div> </div></div></div></div></div></div></div></div></div>"
      ],
      "text/plain": [
       "GridSearchCV(cv=5, estimator=KNeighborsRegressor(), n_jobs=-1,\n",
       "             param_grid={'metric': ['chebyshev', 'manhattan', 'minkowski'],\n",
       "                         'n_neighbors': [3, 5, 7, 10, 12, 15, 20, 25, 40, 50,\n",
       "                                         100],\n",
       "                         'p': [1, 2], 'weights': ['uniform', 'distance']},\n",
       "             return_train_score=True,\n",
       "             scoring=make_scorer(mean_squared_error, greater_is_better=False, response_method='predict'))"
      ]
     },
     "execution_count": 46,
     "metadata": {},
     "output_type": "execute_result"
    }
   ],
   "source": [
    "grid_CV_par = GridSearchCV(\n",
    "    model, param_knn, cv=5, scoring=mse, return_train_score=True, n_jobs=-1\n",
    ")\n",
    "grid_CV_par.fit(df_paris.loc[:, mi_features_par].values, df_paris.loc[:, \"realsum_cut\"].values.ravel())\n"
   ]
  },
  {
   "cell_type": "code",
   "execution_count": 47,
   "id": "19fd1a5748b35f3",
   "metadata": {
    "ExecuteTime": {
     "end_time": "2025-01-11T19:45:24.127035Z",
     "start_time": "2025-01-11T19:45:24.115980Z"
    }
   },
   "outputs": [
    {
     "data": {
      "text/plain": [
       "np.float64(-15590.778137057107)"
      ]
     },
     "execution_count": 47,
     "metadata": {},
     "output_type": "execute_result"
    }
   ],
   "source": [
    "grid_CV_par.best_score_"
   ]
  },
  {
   "cell_type": "code",
   "execution_count": 48,
   "id": "6673cd7fab49c7c3",
   "metadata": {
    "ExecuteTime": {
     "end_time": "2025-01-11T19:45:54.624305Z",
     "start_time": "2025-01-11T19:45:24.211097Z"
    }
   },
   "outputs": [
    {
     "data": {
      "text/html": [
       "<style>#sk-container-id-3 {\n",
       "  /* Definition of color scheme common for light and dark mode */\n",
       "  --sklearn-color-text: #000;\n",
       "  --sklearn-color-text-muted: #666;\n",
       "  --sklearn-color-line: gray;\n",
       "  /* Definition of color scheme for unfitted estimators */\n",
       "  --sklearn-color-unfitted-level-0: #fff5e6;\n",
       "  --sklearn-color-unfitted-level-1: #f6e4d2;\n",
       "  --sklearn-color-unfitted-level-2: #ffe0b3;\n",
       "  --sklearn-color-unfitted-level-3: chocolate;\n",
       "  /* Definition of color scheme for fitted estimators */\n",
       "  --sklearn-color-fitted-level-0: #f0f8ff;\n",
       "  --sklearn-color-fitted-level-1: #d4ebff;\n",
       "  --sklearn-color-fitted-level-2: #b3dbfd;\n",
       "  --sklearn-color-fitted-level-3: cornflowerblue;\n",
       "\n",
       "  /* Specific color for light theme */\n",
       "  --sklearn-color-text-on-default-background: var(--sg-text-color, var(--theme-code-foreground, var(--jp-content-font-color1, black)));\n",
       "  --sklearn-color-background: var(--sg-background-color, var(--theme-background, var(--jp-layout-color0, white)));\n",
       "  --sklearn-color-border-box: var(--sg-text-color, var(--theme-code-foreground, var(--jp-content-font-color1, black)));\n",
       "  --sklearn-color-icon: #696969;\n",
       "\n",
       "  @media (prefers-color-scheme: dark) {\n",
       "    /* Redefinition of color scheme for dark theme */\n",
       "    --sklearn-color-text-on-default-background: var(--sg-text-color, var(--theme-code-foreground, var(--jp-content-font-color1, white)));\n",
       "    --sklearn-color-background: var(--sg-background-color, var(--theme-background, var(--jp-layout-color0, #111)));\n",
       "    --sklearn-color-border-box: var(--sg-text-color, var(--theme-code-foreground, var(--jp-content-font-color1, white)));\n",
       "    --sklearn-color-icon: #878787;\n",
       "  }\n",
       "}\n",
       "\n",
       "#sk-container-id-3 {\n",
       "  color: var(--sklearn-color-text);\n",
       "}\n",
       "\n",
       "#sk-container-id-3 pre {\n",
       "  padding: 0;\n",
       "}\n",
       "\n",
       "#sk-container-id-3 input.sk-hidden--visually {\n",
       "  border: 0;\n",
       "  clip: rect(1px 1px 1px 1px);\n",
       "  clip: rect(1px, 1px, 1px, 1px);\n",
       "  height: 1px;\n",
       "  margin: -1px;\n",
       "  overflow: hidden;\n",
       "  padding: 0;\n",
       "  position: absolute;\n",
       "  width: 1px;\n",
       "}\n",
       "\n",
       "#sk-container-id-3 div.sk-dashed-wrapped {\n",
       "  border: 1px dashed var(--sklearn-color-line);\n",
       "  margin: 0 0.4em 0.5em 0.4em;\n",
       "  box-sizing: border-box;\n",
       "  padding-bottom: 0.4em;\n",
       "  background-color: var(--sklearn-color-background);\n",
       "}\n",
       "\n",
       "#sk-container-id-3 div.sk-container {\n",
       "  /* jupyter's `normalize.less` sets `[hidden] { display: none; }`\n",
       "     but bootstrap.min.css set `[hidden] { display: none !important; }`\n",
       "     so we also need the `!important` here to be able to override the\n",
       "     default hidden behavior on the sphinx rendered scikit-learn.org.\n",
       "     See: https://github.com/scikit-learn/scikit-learn/issues/21755 */\n",
       "  display: inline-block !important;\n",
       "  position: relative;\n",
       "}\n",
       "\n",
       "#sk-container-id-3 div.sk-text-repr-fallback {\n",
       "  display: none;\n",
       "}\n",
       "\n",
       "div.sk-parallel-item,\n",
       "div.sk-serial,\n",
       "div.sk-item {\n",
       "  /* draw centered vertical line to link estimators */\n",
       "  background-image: linear-gradient(var(--sklearn-color-text-on-default-background), var(--sklearn-color-text-on-default-background));\n",
       "  background-size: 2px 100%;\n",
       "  background-repeat: no-repeat;\n",
       "  background-position: center center;\n",
       "}\n",
       "\n",
       "/* Parallel-specific style estimator block */\n",
       "\n",
       "#sk-container-id-3 div.sk-parallel-item::after {\n",
       "  content: \"\";\n",
       "  width: 100%;\n",
       "  border-bottom: 2px solid var(--sklearn-color-text-on-default-background);\n",
       "  flex-grow: 1;\n",
       "}\n",
       "\n",
       "#sk-container-id-3 div.sk-parallel {\n",
       "  display: flex;\n",
       "  align-items: stretch;\n",
       "  justify-content: center;\n",
       "  background-color: var(--sklearn-color-background);\n",
       "  position: relative;\n",
       "}\n",
       "\n",
       "#sk-container-id-3 div.sk-parallel-item {\n",
       "  display: flex;\n",
       "  flex-direction: column;\n",
       "}\n",
       "\n",
       "#sk-container-id-3 div.sk-parallel-item:first-child::after {\n",
       "  align-self: flex-end;\n",
       "  width: 50%;\n",
       "}\n",
       "\n",
       "#sk-container-id-3 div.sk-parallel-item:last-child::after {\n",
       "  align-self: flex-start;\n",
       "  width: 50%;\n",
       "}\n",
       "\n",
       "#sk-container-id-3 div.sk-parallel-item:only-child::after {\n",
       "  width: 0;\n",
       "}\n",
       "\n",
       "/* Serial-specific style estimator block */\n",
       "\n",
       "#sk-container-id-3 div.sk-serial {\n",
       "  display: flex;\n",
       "  flex-direction: column;\n",
       "  align-items: center;\n",
       "  background-color: var(--sklearn-color-background);\n",
       "  padding-right: 1em;\n",
       "  padding-left: 1em;\n",
       "}\n",
       "\n",
       "\n",
       "/* Toggleable style: style used for estimator/Pipeline/ColumnTransformer box that is\n",
       "clickable and can be expanded/collapsed.\n",
       "- Pipeline and ColumnTransformer use this feature and define the default style\n",
       "- Estimators will overwrite some part of the style using the `sk-estimator` class\n",
       "*/\n",
       "\n",
       "/* Pipeline and ColumnTransformer style (default) */\n",
       "\n",
       "#sk-container-id-3 div.sk-toggleable {\n",
       "  /* Default theme specific background. It is overwritten whether we have a\n",
       "  specific estimator or a Pipeline/ColumnTransformer */\n",
       "  background-color: var(--sklearn-color-background);\n",
       "}\n",
       "\n",
       "/* Toggleable label */\n",
       "#sk-container-id-3 label.sk-toggleable__label {\n",
       "  cursor: pointer;\n",
       "  display: flex;\n",
       "  width: 100%;\n",
       "  margin-bottom: 0;\n",
       "  padding: 0.5em;\n",
       "  box-sizing: border-box;\n",
       "  text-align: center;\n",
       "  align-items: start;\n",
       "  justify-content: space-between;\n",
       "  gap: 0.5em;\n",
       "}\n",
       "\n",
       "#sk-container-id-3 label.sk-toggleable__label .caption {\n",
       "  font-size: 0.6rem;\n",
       "  font-weight: lighter;\n",
       "  color: var(--sklearn-color-text-muted);\n",
       "}\n",
       "\n",
       "#sk-container-id-3 label.sk-toggleable__label-arrow:before {\n",
       "  /* Arrow on the left of the label */\n",
       "  content: \"▸\";\n",
       "  float: left;\n",
       "  margin-right: 0.25em;\n",
       "  color: var(--sklearn-color-icon);\n",
       "}\n",
       "\n",
       "#sk-container-id-3 label.sk-toggleable__label-arrow:hover:before {\n",
       "  color: var(--sklearn-color-text);\n",
       "}\n",
       "\n",
       "/* Toggleable content - dropdown */\n",
       "\n",
       "#sk-container-id-3 div.sk-toggleable__content {\n",
       "  max-height: 0;\n",
       "  max-width: 0;\n",
       "  overflow: hidden;\n",
       "  text-align: left;\n",
       "  /* unfitted */\n",
       "  background-color: var(--sklearn-color-unfitted-level-0);\n",
       "}\n",
       "\n",
       "#sk-container-id-3 div.sk-toggleable__content.fitted {\n",
       "  /* fitted */\n",
       "  background-color: var(--sklearn-color-fitted-level-0);\n",
       "}\n",
       "\n",
       "#sk-container-id-3 div.sk-toggleable__content pre {\n",
       "  margin: 0.2em;\n",
       "  border-radius: 0.25em;\n",
       "  color: var(--sklearn-color-text);\n",
       "  /* unfitted */\n",
       "  background-color: var(--sklearn-color-unfitted-level-0);\n",
       "}\n",
       "\n",
       "#sk-container-id-3 div.sk-toggleable__content.fitted pre {\n",
       "  /* unfitted */\n",
       "  background-color: var(--sklearn-color-fitted-level-0);\n",
       "}\n",
       "\n",
       "#sk-container-id-3 input.sk-toggleable__control:checked~div.sk-toggleable__content {\n",
       "  /* Expand drop-down */\n",
       "  max-height: 200px;\n",
       "  max-width: 100%;\n",
       "  overflow: auto;\n",
       "}\n",
       "\n",
       "#sk-container-id-3 input.sk-toggleable__control:checked~label.sk-toggleable__label-arrow:before {\n",
       "  content: \"▾\";\n",
       "}\n",
       "\n",
       "/* Pipeline/ColumnTransformer-specific style */\n",
       "\n",
       "#sk-container-id-3 div.sk-label input.sk-toggleable__control:checked~label.sk-toggleable__label {\n",
       "  color: var(--sklearn-color-text);\n",
       "  background-color: var(--sklearn-color-unfitted-level-2);\n",
       "}\n",
       "\n",
       "#sk-container-id-3 div.sk-label.fitted input.sk-toggleable__control:checked~label.sk-toggleable__label {\n",
       "  background-color: var(--sklearn-color-fitted-level-2);\n",
       "}\n",
       "\n",
       "/* Estimator-specific style */\n",
       "\n",
       "/* Colorize estimator box */\n",
       "#sk-container-id-3 div.sk-estimator input.sk-toggleable__control:checked~label.sk-toggleable__label {\n",
       "  /* unfitted */\n",
       "  background-color: var(--sklearn-color-unfitted-level-2);\n",
       "}\n",
       "\n",
       "#sk-container-id-3 div.sk-estimator.fitted input.sk-toggleable__control:checked~label.sk-toggleable__label {\n",
       "  /* fitted */\n",
       "  background-color: var(--sklearn-color-fitted-level-2);\n",
       "}\n",
       "\n",
       "#sk-container-id-3 div.sk-label label.sk-toggleable__label,\n",
       "#sk-container-id-3 div.sk-label label {\n",
       "  /* The background is the default theme color */\n",
       "  color: var(--sklearn-color-text-on-default-background);\n",
       "}\n",
       "\n",
       "/* On hover, darken the color of the background */\n",
       "#sk-container-id-3 div.sk-label:hover label.sk-toggleable__label {\n",
       "  color: var(--sklearn-color-text);\n",
       "  background-color: var(--sklearn-color-unfitted-level-2);\n",
       "}\n",
       "\n",
       "/* Label box, darken color on hover, fitted */\n",
       "#sk-container-id-3 div.sk-label.fitted:hover label.sk-toggleable__label.fitted {\n",
       "  color: var(--sklearn-color-text);\n",
       "  background-color: var(--sklearn-color-fitted-level-2);\n",
       "}\n",
       "\n",
       "/* Estimator label */\n",
       "\n",
       "#sk-container-id-3 div.sk-label label {\n",
       "  font-family: monospace;\n",
       "  font-weight: bold;\n",
       "  display: inline-block;\n",
       "  line-height: 1.2em;\n",
       "}\n",
       "\n",
       "#sk-container-id-3 div.sk-label-container {\n",
       "  text-align: center;\n",
       "}\n",
       "\n",
       "/* Estimator-specific */\n",
       "#sk-container-id-3 div.sk-estimator {\n",
       "  font-family: monospace;\n",
       "  border: 1px dotted var(--sklearn-color-border-box);\n",
       "  border-radius: 0.25em;\n",
       "  box-sizing: border-box;\n",
       "  margin-bottom: 0.5em;\n",
       "  /* unfitted */\n",
       "  background-color: var(--sklearn-color-unfitted-level-0);\n",
       "}\n",
       "\n",
       "#sk-container-id-3 div.sk-estimator.fitted {\n",
       "  /* fitted */\n",
       "  background-color: var(--sklearn-color-fitted-level-0);\n",
       "}\n",
       "\n",
       "/* on hover */\n",
       "#sk-container-id-3 div.sk-estimator:hover {\n",
       "  /* unfitted */\n",
       "  background-color: var(--sklearn-color-unfitted-level-2);\n",
       "}\n",
       "\n",
       "#sk-container-id-3 div.sk-estimator.fitted:hover {\n",
       "  /* fitted */\n",
       "  background-color: var(--sklearn-color-fitted-level-2);\n",
       "}\n",
       "\n",
       "/* Specification for estimator info (e.g. \"i\" and \"?\") */\n",
       "\n",
       "/* Common style for \"i\" and \"?\" */\n",
       "\n",
       ".sk-estimator-doc-link,\n",
       "a:link.sk-estimator-doc-link,\n",
       "a:visited.sk-estimator-doc-link {\n",
       "  float: right;\n",
       "  font-size: smaller;\n",
       "  line-height: 1em;\n",
       "  font-family: monospace;\n",
       "  background-color: var(--sklearn-color-background);\n",
       "  border-radius: 1em;\n",
       "  height: 1em;\n",
       "  width: 1em;\n",
       "  text-decoration: none !important;\n",
       "  margin-left: 0.5em;\n",
       "  text-align: center;\n",
       "  /* unfitted */\n",
       "  border: var(--sklearn-color-unfitted-level-1) 1pt solid;\n",
       "  color: var(--sklearn-color-unfitted-level-1);\n",
       "}\n",
       "\n",
       ".sk-estimator-doc-link.fitted,\n",
       "a:link.sk-estimator-doc-link.fitted,\n",
       "a:visited.sk-estimator-doc-link.fitted {\n",
       "  /* fitted */\n",
       "  border: var(--sklearn-color-fitted-level-1) 1pt solid;\n",
       "  color: var(--sklearn-color-fitted-level-1);\n",
       "}\n",
       "\n",
       "/* On hover */\n",
       "div.sk-estimator:hover .sk-estimator-doc-link:hover,\n",
       ".sk-estimator-doc-link:hover,\n",
       "div.sk-label-container:hover .sk-estimator-doc-link:hover,\n",
       ".sk-estimator-doc-link:hover {\n",
       "  /* unfitted */\n",
       "  background-color: var(--sklearn-color-unfitted-level-3);\n",
       "  color: var(--sklearn-color-background);\n",
       "  text-decoration: none;\n",
       "}\n",
       "\n",
       "div.sk-estimator.fitted:hover .sk-estimator-doc-link.fitted:hover,\n",
       ".sk-estimator-doc-link.fitted:hover,\n",
       "div.sk-label-container:hover .sk-estimator-doc-link.fitted:hover,\n",
       ".sk-estimator-doc-link.fitted:hover {\n",
       "  /* fitted */\n",
       "  background-color: var(--sklearn-color-fitted-level-3);\n",
       "  color: var(--sklearn-color-background);\n",
       "  text-decoration: none;\n",
       "}\n",
       "\n",
       "/* Span, style for the box shown on hovering the info icon */\n",
       ".sk-estimator-doc-link span {\n",
       "  display: none;\n",
       "  z-index: 9999;\n",
       "  position: relative;\n",
       "  font-weight: normal;\n",
       "  right: .2ex;\n",
       "  padding: .5ex;\n",
       "  margin: .5ex;\n",
       "  width: min-content;\n",
       "  min-width: 20ex;\n",
       "  max-width: 50ex;\n",
       "  color: var(--sklearn-color-text);\n",
       "  box-shadow: 2pt 2pt 4pt #999;\n",
       "  /* unfitted */\n",
       "  background: var(--sklearn-color-unfitted-level-0);\n",
       "  border: .5pt solid var(--sklearn-color-unfitted-level-3);\n",
       "}\n",
       "\n",
       ".sk-estimator-doc-link.fitted span {\n",
       "  /* fitted */\n",
       "  background: var(--sklearn-color-fitted-level-0);\n",
       "  border: var(--sklearn-color-fitted-level-3);\n",
       "}\n",
       "\n",
       ".sk-estimator-doc-link:hover span {\n",
       "  display: block;\n",
       "}\n",
       "\n",
       "/* \"?\"-specific style due to the `<a>` HTML tag */\n",
       "\n",
       "#sk-container-id-3 a.estimator_doc_link {\n",
       "  float: right;\n",
       "  font-size: 1rem;\n",
       "  line-height: 1em;\n",
       "  font-family: monospace;\n",
       "  background-color: var(--sklearn-color-background);\n",
       "  border-radius: 1rem;\n",
       "  height: 1rem;\n",
       "  width: 1rem;\n",
       "  text-decoration: none;\n",
       "  /* unfitted */\n",
       "  color: var(--sklearn-color-unfitted-level-1);\n",
       "  border: var(--sklearn-color-unfitted-level-1) 1pt solid;\n",
       "}\n",
       "\n",
       "#sk-container-id-3 a.estimator_doc_link.fitted {\n",
       "  /* fitted */\n",
       "  border: var(--sklearn-color-fitted-level-1) 1pt solid;\n",
       "  color: var(--sklearn-color-fitted-level-1);\n",
       "}\n",
       "\n",
       "/* On hover */\n",
       "#sk-container-id-3 a.estimator_doc_link:hover {\n",
       "  /* unfitted */\n",
       "  background-color: var(--sklearn-color-unfitted-level-3);\n",
       "  color: var(--sklearn-color-background);\n",
       "  text-decoration: none;\n",
       "}\n",
       "\n",
       "#sk-container-id-3 a.estimator_doc_link.fitted:hover {\n",
       "  /* fitted */\n",
       "  background-color: var(--sklearn-color-fitted-level-3);\n",
       "}\n",
       "</style><div id=\"sk-container-id-3\" class=\"sk-top-container\"><div class=\"sk-text-repr-fallback\"><pre>GridSearchCV(cv=5, estimator=KNeighborsRegressor(), n_jobs=-1,\n",
       "             param_grid={&#x27;metric&#x27;: [&#x27;chebyshev&#x27;, &#x27;manhattan&#x27;, &#x27;minkowski&#x27;],\n",
       "                         &#x27;n_neighbors&#x27;: [3, 5, 7, 10, 12, 15, 20, 25, 40, 50,\n",
       "                                         100],\n",
       "                         &#x27;p&#x27;: [1, 2], &#x27;weights&#x27;: [&#x27;uniform&#x27;, &#x27;distance&#x27;]},\n",
       "             return_train_score=True,\n",
       "             scoring=make_scorer(mean_squared_error, greater_is_better=False, response_method=&#x27;predict&#x27;))</pre><b>In a Jupyter environment, please rerun this cell to show the HTML representation or trust the notebook. <br />On GitHub, the HTML representation is unable to render, please try loading this page with nbviewer.org.</b></div><div class=\"sk-container\" hidden><div class=\"sk-item sk-dashed-wrapped\"><div class=\"sk-label-container\"><div class=\"sk-label fitted sk-toggleable\"><input class=\"sk-toggleable__control sk-hidden--visually\" id=\"sk-estimator-id-7\" type=\"checkbox\" ><label for=\"sk-estimator-id-7\" class=\"sk-toggleable__label fitted sk-toggleable__label-arrow\"><div><div>GridSearchCV</div></div><div><a class=\"sk-estimator-doc-link fitted\" rel=\"noreferrer\" target=\"_blank\" href=\"https://scikit-learn.org/1.6/modules/generated/sklearn.model_selection.GridSearchCV.html\">?<span>Documentation for GridSearchCV</span></a><span class=\"sk-estimator-doc-link fitted\">i<span>Fitted</span></span></div></label><div class=\"sk-toggleable__content fitted\"><pre>GridSearchCV(cv=5, estimator=KNeighborsRegressor(), n_jobs=-1,\n",
       "             param_grid={&#x27;metric&#x27;: [&#x27;chebyshev&#x27;, &#x27;manhattan&#x27;, &#x27;minkowski&#x27;],\n",
       "                         &#x27;n_neighbors&#x27;: [3, 5, 7, 10, 12, 15, 20, 25, 40, 50,\n",
       "                                         100],\n",
       "                         &#x27;p&#x27;: [1, 2], &#x27;weights&#x27;: [&#x27;uniform&#x27;, &#x27;distance&#x27;]},\n",
       "             return_train_score=True,\n",
       "             scoring=make_scorer(mean_squared_error, greater_is_better=False, response_method=&#x27;predict&#x27;))</pre></div> </div></div><div class=\"sk-parallel\"><div class=\"sk-parallel-item\"><div class=\"sk-item\"><div class=\"sk-label-container\"><div class=\"sk-label fitted sk-toggleable\"><input class=\"sk-toggleable__control sk-hidden--visually\" id=\"sk-estimator-id-8\" type=\"checkbox\" ><label for=\"sk-estimator-id-8\" class=\"sk-toggleable__label fitted sk-toggleable__label-arrow\"><div><div>best_estimator_: KNeighborsRegressor</div></div></label><div class=\"sk-toggleable__content fitted\"><pre>KNeighborsRegressor(metric=&#x27;manhattan&#x27;, n_neighbors=40, p=1, weights=&#x27;distance&#x27;)</pre></div> </div></div><div class=\"sk-serial\"><div class=\"sk-item\"><div class=\"sk-estimator fitted sk-toggleable\"><input class=\"sk-toggleable__control sk-hidden--visually\" id=\"sk-estimator-id-9\" type=\"checkbox\" ><label for=\"sk-estimator-id-9\" class=\"sk-toggleable__label fitted sk-toggleable__label-arrow\"><div><div>KNeighborsRegressor</div></div><div><a class=\"sk-estimator-doc-link fitted\" rel=\"noreferrer\" target=\"_blank\" href=\"https://scikit-learn.org/1.6/modules/generated/sklearn.neighbors.KNeighborsRegressor.html\">?<span>Documentation for KNeighborsRegressor</span></a></div></label><div class=\"sk-toggleable__content fitted\"><pre>KNeighborsRegressor(metric=&#x27;manhattan&#x27;, n_neighbors=40, p=1, weights=&#x27;distance&#x27;)</pre></div> </div></div></div></div></div></div></div></div></div>"
      ],
      "text/plain": [
       "GridSearchCV(cv=5, estimator=KNeighborsRegressor(), n_jobs=-1,\n",
       "             param_grid={'metric': ['chebyshev', 'manhattan', 'minkowski'],\n",
       "                         'n_neighbors': [3, 5, 7, 10, 12, 15, 20, 25, 40, 50,\n",
       "                                         100],\n",
       "                         'p': [1, 2], 'weights': ['uniform', 'distance']},\n",
       "             return_train_score=True,\n",
       "             scoring=make_scorer(mean_squared_error, greater_is_better=False, response_method='predict'))"
      ]
     },
     "execution_count": 48,
     "metadata": {},
     "output_type": "execute_result"
    }
   ],
   "source": [
    "grid_CV_rom = GridSearchCV(\n",
    "    model, param_knn, cv=5, scoring=mse, return_train_score=True, n_jobs=-1\n",
    ")\n",
    "grid_CV_rom.fit(df_rome.loc[:, mi_features_rom].values, df_rome.loc[:, \"realsum_cut\"].values.ravel())"
   ]
  },
  {
   "cell_type": "code",
   "execution_count": 51,
   "id": "3f2b361458bf1ed4",
   "metadata": {
    "ExecuteTime": {
     "end_time": "2025-01-11T19:45:55.010763Z",
     "start_time": "2025-01-11T19:45:55.004610Z"
    }
   },
   "outputs": [],
   "source": [
    "sf_features_bar = df_barcelona.columns.tolist()\n",
    "sf_features_bar.remove(\"realsum_cut\")\n",
    "\n",
    "sf_features_par = df_paris.columns.tolist()\n",
    "sf_features_par.remove(\"realsum_cut\")\n",
    "\n",
    "sf_features_rom = df_rome.columns.tolist()\n",
    "sf_features_rom.remove(\"realsum_cut\")"
   ]
  },
  {
   "cell_type": "code",
   "execution_count": 52,
   "id": "e9da9ce508e1dd07",
   "metadata": {
    "ExecuteTime": {
     "end_time": "2025-01-11T19:46:01.215622Z",
     "start_time": "2025-01-11T19:45:55.079590Z"
    }
   },
   "outputs": [],
   "source": [
    "model_bar = KNeighborsRegressor(**grid_CV_bar.best_params_)\n",
    "\n",
    "sf = SFS(\n",
    "    model_bar,\n",
    "    k_features=(5, 15),\n",
    "    forward=True,\n",
    "    floating=False,\n",
    "    verbose=0,\n",
    "    scoring=mse,\n",
    "    cv=5,\n",
    "    n_jobs=-1,\n",
    ")\n",
    "\n",
    "sffit = sf.fit(\n",
    "    df_barcelona.loc[:, sf_features_bar].values, df_barcelona.loc[:, \"realsum_cut\"].values.ravel()\n",
    ")\n",
    "sf_features_bar = df_barcelona.loc[:, sf_features_bar].columns[list(sffit.k_feature_idx_)]\n"
   ]
  },
  {
   "cell_type": "code",
   "execution_count": 53,
   "id": "219492067228a515",
   "metadata": {
    "ExecuteTime": {
     "end_time": "2025-01-11T19:46:15.319083Z",
     "start_time": "2025-01-11T19:46:01.314851Z"
    }
   },
   "outputs": [],
   "source": [
    "model_par = KNeighborsRegressor(**grid_CV_par.best_params_)\n",
    "\n",
    "sf = SFS(\n",
    "    model_par,\n",
    "    k_features=(5, 15),\n",
    "    forward=True,\n",
    "    floating=False,\n",
    "    verbose=0,\n",
    "    scoring=mse,\n",
    "    cv=5,\n",
    "    n_jobs=-1,\n",
    ")\n",
    "\n",
    "sffit = sf.fit(\n",
    "    df_paris.loc[:, sf_features_par].values, df_paris.loc[:, \"realsum_cut\"].values.ravel()\n",
    ")\n",
    "sf_features_par = df_paris.loc[:, sf_features_par].columns[list(sffit.k_feature_idx_)]"
   ]
  },
  {
   "cell_type": "code",
   "execution_count": 54,
   "id": "1d6c7d39d5a899b6",
   "metadata": {
    "ExecuteTime": {
     "end_time": "2025-01-11T19:46:35.192039Z",
     "start_time": "2025-01-11T19:46:15.448363Z"
    }
   },
   "outputs": [],
   "source": [
    "model_rom = KNeighborsRegressor(**grid_CV_rom.best_params_)\n",
    "\n",
    "sf = SFS(\n",
    "    model_rom,\n",
    "    k_features=(5, 15),\n",
    "    forward=True,\n",
    "    floating=False,\n",
    "    verbose=0,\n",
    "    scoring=mse,\n",
    "    cv=5,\n",
    "    n_jobs=-1,\n",
    ")\n",
    "\n",
    "sffit = sf.fit(\n",
    "    df_rome.loc[:, sf_features_rom].values, df_rome.loc[:, \"realsum_cut\"].values.ravel()\n",
    ")\n",
    "sf_features_rom = df_rome.loc[:, sf_features_rom].columns[list(sffit.k_feature_idx_)]"
   ]
  },
  {
   "cell_type": "code",
   "execution_count": 55,
   "id": "4b061782d7527a13",
   "metadata": {
    "ExecuteTime": {
     "end_time": "2025-01-11T19:46:35.208507Z",
     "start_time": "2025-01-11T19:46:35.203060Z"
    }
   },
   "outputs": [],
   "source": [
    "mse = make_scorer(mean_squared_error, greater_is_better=False)"
   ]
  },
  {
   "cell_type": "markdown",
   "id": "7d4577382aceb7a3",
   "metadata": {},
   "source": [
    "#### Hyperparameters Tuning"
   ]
  },
  {
   "cell_type": "code",
   "execution_count": 57,
   "id": "45082d78c4aa5967",
   "metadata": {
    "ExecuteTime": {
     "end_time": "2025-01-11T19:47:46.291265Z",
     "start_time": "2025-01-11T19:46:40.287795Z"
    }
   },
   "outputs": [
    {
     "name": "stdout",
     "output_type": "stream",
     "text": [
      "{'metric': 'manhattan', 'n_neighbors': 10, 'p': 1, 'weights': 'distance'}\n",
      "-13311.948959618865\n",
      "{'metric': 'manhattan', 'n_neighbors': 50, 'p': 1, 'weights': 'distance'}\n",
      "-9483.626804105468\n",
      "{'metric': 'manhattan', 'n_neighbors': 50, 'p': 1, 'weights': 'distance'}\n",
      "-9970.148741217514\n",
      "{'metric': 'manhattan', 'n_neighbors': 40, 'p': 1, 'weights': 'distance'}\n",
      "-9963.975823032093\n",
      "{'metric': 'manhattan', 'n_neighbors': 25, 'p': 1, 'weights': 'distance'}\n",
      "-9879.514533754633\n",
      "{'metric': 'manhattan', 'n_neighbors': 25, 'p': 1, 'weights': 'distance'}\n",
      "-10034.761614962485\n",
      "{'metric': 'manhattan', 'n_neighbors': 7, 'p': 1, 'weights': 'distance'}\n",
      "-12495.07663447646\n",
      "{'metric': 'manhattan', 'n_neighbors': 50, 'p': 1, 'weights': 'distance'}\n",
      "-8652.146073511345\n"
     ]
    },
    {
     "data": {
      "text/plain": [
       "(None, None, None, None, None, None, None, None)"
      ]
     },
     "execution_count": 57,
     "metadata": {},
     "output_type": "execute_result"
    }
   ],
   "source": [
    "(cv_proc(df_barcelona, br_features_bar, model_bar, param_knn, mse),\n",
    "cv_proc(df_barcelona, corr_features_bar, model_bar, param_knn, mse),\n",
    "cv_proc(df_barcelona, mi_features_bar, model_bar, param_knn, mse),\n",
    "cv_proc(df_barcelona, mi_features_10_bar, model_bar, param_knn, mse),\n",
    "cv_proc(df_barcelona, mi_features_14_bar, model_bar, param_knn, mse),\n",
    "cv_proc(df_barcelona, mi_features_17_bar, model_bar, param_knn, mse),\n",
    "cv_proc(df_barcelona, mi_features_20_bar, model_bar, param_knn, mse),\n",
    "cv_proc(df_barcelona, sf_features_bar, model_bar, param_knn, mse))\n"
   ]
  },
  {
   "cell_type": "code",
   "execution_count": 174,
   "id": "13fe27447ef5c559",
   "metadata": {
    "ExecuteTime": {
     "end_time": "2025-01-11T21:43:40.793646Z",
     "start_time": "2025-01-11T21:43:40.771654Z"
    }
   },
   "outputs": [],
   "source": [
    "hp_barcelona = [\n",
    "    {'metric': 'manhattan', 'n_neighbors': 10, 'p': 1, 'weights': 'distance'},\n",
    "    {'metric': 'manhattan', 'n_neighbors': 50, 'p': 1, 'weights': 'distance'},\n",
    "    {'metric': 'manhattan', 'n_neighbors': 50, 'p': 1, 'weights': 'distance'},\n",
    "    {'metric': 'manhattan', 'n_neighbors': 40, 'p': 1, 'weights': 'distance'},\n",
    "    {'metric': 'manhattan', 'n_neighbors': 25, 'p': 1, 'weights': 'distance'},\n",
    "    {'metric': 'manhattan', 'n_neighbors': 25, 'p': 1, 'weights': 'distance'},\n",
    "    {'metric': 'manhattan', 'n_neighbors': 7, 'p': 1, 'weights': 'distance'},\n",
    "    {'metric': 'manhattan', 'n_neighbors': 50, 'p': 1, 'weights': 'distance'}\n",
    "]"
   ]
  },
  {
   "cell_type": "code",
   "execution_count": 59,
   "id": "8286c3e68118ccf4",
   "metadata": {
    "ExecuteTime": {
     "end_time": "2025-01-11T19:51:36.676156Z",
     "start_time": "2025-01-11T19:47:46.444877Z"
    }
   },
   "outputs": [
    {
     "name": "stdout",
     "output_type": "stream",
     "text": [
      "{'metric': 'manhattan', 'n_neighbors': 50, 'p': 1, 'weights': 'distance'}\n",
      "-15536.569954497065\n",
      "{'metric': 'manhattan', 'n_neighbors': 100, 'p': 1, 'weights': 'distance'}\n",
      "-13521.225199450466\n",
      "{'metric': 'manhattan', 'n_neighbors': 40, 'p': 1, 'weights': 'distance'}\n",
      "-15590.778137057107\n",
      "{'metric': 'manhattan', 'n_neighbors': 40, 'p': 1, 'weights': 'distance'}\n",
      "-14720.821974412243\n",
      "{'metric': 'manhattan', 'n_neighbors': 25, 'p': 1, 'weights': 'distance'}\n",
      "-14815.859479748324\n",
      "{'metric': 'manhattan', 'n_neighbors': 25, 'p': 1, 'weights': 'distance'}\n",
      "-14690.381934334853\n",
      "{'metric': 'manhattan', 'n_neighbors': 5, 'p': 1, 'weights': 'distance'}\n",
      "-22238.72174837941\n",
      "{'metric': 'manhattan', 'n_neighbors': 50, 'p': 1, 'weights': 'distance'}\n",
      "-12969.203484618562\n"
     ]
    },
    {
     "data": {
      "text/plain": [
       "(None, None, None, None, None, None, None, None)"
      ]
     },
     "execution_count": 59,
     "metadata": {},
     "output_type": "execute_result"
    }
   ],
   "source": [
    "(cv_proc(df_paris, br_features_par, model_par, param_knn, mse),\n",
    "cv_proc(df_paris, corr_features_par, model_par, param_knn, mse),\n",
    "cv_proc(df_paris, mi_features_par, model_par, param_knn, mse),\n",
    "cv_proc(df_paris, mi_features_10_par, model_par, param_knn, mse),\n",
    "cv_proc(df_paris, mi_features_14_par, model_par, param_knn, mse),\n",
    "cv_proc(df_paris, mi_features_17_par, model_par, param_knn, mse),\n",
    "cv_proc(df_paris, mi_features_20_par, model_par, param_knn, mse),\n",
    "cv_proc(df_paris, sf_features_par, model_par, param_knn, mse))"
   ]
  },
  {
   "cell_type": "code",
   "execution_count": 175,
   "id": "30ca3f27cbcdf56e",
   "metadata": {
    "ExecuteTime": {
     "end_time": "2025-01-11T21:43:49.169945Z",
     "start_time": "2025-01-11T21:43:49.166225Z"
    }
   },
   "outputs": [],
   "source": [
    "hp_paris = [\n",
    "    {'metric': 'manhattan', 'n_neighbors': 50, 'p': 1, 'weights': 'distance'},\n",
    "{'metric': 'manhattan', 'n_neighbors': 100, 'p': 1, 'weights': 'distance'},\n",
    "{'metric': 'manhattan', 'n_neighbors': 40, 'p': 1, 'weights': 'distance'},\n",
    "{'metric': 'manhattan', 'n_neighbors': 40, 'p': 1, 'weights': 'distance'},\n",
    "{'metric': 'manhattan', 'n_neighbors': 25, 'p': 1, 'weights': 'distance'},\n",
    "{'metric': 'manhattan', 'n_neighbors': 25, 'p': 1, 'weights': 'distance'},\n",
    "{'metric': 'manhattan', 'n_neighbors': 5, 'p': 1, 'weights': 'distance'},\n",
    "{'metric': 'manhattan', 'n_neighbors': 50, 'p': 1, 'weights': 'distance'}\n",
    "]"
   ]
  },
  {
   "cell_type": "code",
   "execution_count": 61,
   "id": "b18e943efaa4cb30",
   "metadata": {
    "ExecuteTime": {
     "end_time": "2025-01-11T19:58:24.744232Z",
     "start_time": "2025-01-11T19:51:36.832761Z"
    }
   },
   "outputs": [
    {
     "name": "stdout",
     "output_type": "stream",
     "text": [
      "{'metric': 'manhattan', 'n_neighbors': 25, 'p': 1, 'weights': 'distance'}\n",
      "-2307.554576451804\n",
      "{'metric': 'manhattan', 'n_neighbors': 50, 'p': 1, 'weights': 'distance'}\n",
      "-2276.210396681318\n",
      "{'metric': 'manhattan', 'n_neighbors': 40, 'p': 1, 'weights': 'distance'}\n",
      "-4491.922318406288\n",
      "{'metric': 'manhattan', 'n_neighbors': 25, 'p': 1, 'weights': 'distance'}\n",
      "-3989.024486028245\n",
      "{'metric': 'manhattan', 'n_neighbors': 12, 'p': 1, 'weights': 'distance'}\n",
      "-3658.97590815891\n",
      "{'metric': 'manhattan', 'n_neighbors': 10, 'p': 1, 'weights': 'distance'}\n",
      "-3471.803967153086\n",
      "{'metric': 'manhattan', 'n_neighbors': 7, 'p': 1, 'weights': 'distance'}\n",
      "-3405.6393308226848\n",
      "{'metric': 'manhattan', 'n_neighbors': 50, 'p': 1, 'weights': 'distance'}\n",
      "-2040.5564569982143\n"
     ]
    },
    {
     "data": {
      "text/plain": [
       "(None, None, None, None, None, None, None, None)"
      ]
     },
     "execution_count": 61,
     "metadata": {},
     "output_type": "execute_result"
    }
   ],
   "source": [
    "(cv_proc(df_rome, br_features_rom, model_rom, param_knn, mse),\n",
    "cv_proc(df_rome, corr_features_rom, model_rom, param_knn, mse),\n",
    "cv_proc(df_rome, mi_features_rom, model_rom, param_knn, mse),\n",
    "cv_proc(df_rome, mi_features_10_rom, model_rom, param_knn, mse),\n",
    "cv_proc(df_rome, mi_features_14_rom, model_rom, param_knn, mse),\n",
    "cv_proc(df_rome, mi_features_17_rom, model_rom, param_knn, mse),\n",
    "cv_proc(df_rome, mi_features_20_rom, model_rom, param_knn, mse),\n",
    "cv_proc(df_rome, sf_features_rom, model_rom, param_knn, mse))"
   ]
  },
  {
   "cell_type": "code",
   "execution_count": 176,
   "id": "6dfab5ca7feb0a1d",
   "metadata": {
    "ExecuteTime": {
     "end_time": "2025-01-11T21:43:53.959623Z",
     "start_time": "2025-01-11T21:43:53.955153Z"
    }
   },
   "outputs": [],
   "source": [
    "hp_rome = [\n",
    "    {'metric': 'manhattan', 'n_neighbors': 25, 'p': 1, 'weights': 'distance'},\n",
    "    {'metric': 'manhattan', 'n_neighbors': 50, 'p': 1, 'weights': 'distance'},\n",
    "    {'metric': 'manhattan', 'n_neighbors': 40, 'p': 1, 'weights': 'distance'},\n",
    "    {'metric': 'manhattan', 'n_neighbors': 25, 'p': 1, 'weights': 'distance'},\n",
    "    {'metric': 'manhattan', 'n_neighbors': 12, 'p': 1, 'weights': 'distance'},\n",
    "    {'metric': 'manhattan', 'n_neighbors': 10, 'p': 1, 'weights': 'distance'},\n",
    "    {'metric': 'manhattan', 'n_neighbors': 7, 'p': 1, 'weights': 'distance'},\n",
    "    {'metric': 'manhattan', 'n_neighbors': 50, 'p': 1, 'weights': 'distance'}\n",
    "]"
   ]
  },
  {
   "cell_type": "markdown",
   "id": "18f29f6ac6359734",
   "metadata": {},
   "source": [
    "#### Model Evaluation"
   ]
  },
  {
   "cell_type": "code",
   "execution_count": 63,
   "id": "3325b2692bb3c6fa",
   "metadata": {
    "ExecuteTime": {
     "end_time": "2025-01-11T19:58:33.533801Z",
     "start_time": "2025-01-11T19:58:24.961659Z"
    }
   },
   "outputs": [],
   "source": [
    "model = KNeighborsRegressor(**hp_barcelona[0])\n",
    "cv_output0_rmse = CV_rmse_wrapper(df_barcelona, br_features_bar, model,10, 123, shuff=True, display_res=True)\n",
    "cv_output0_mape = CV_wrapper(df_barcelona, br_features_bar, model, 10, 123, shuff=True,  display_res=True)\n",
    "\n",
    "model = KNeighborsRegressor(**hp_barcelona[1])\n",
    "cv_output1_rmse = CV_rmse_wrapper(df_barcelona, corr_features_bar, model,10, 123, shuff=True, display_res=True)\n",
    "cv_output1_mape = CV_wrapper(df_barcelona, corr_features_bar, model, 10, 123, shuff=True,  display_res=True)\n",
    "\n",
    "model = KNeighborsRegressor(**hp_barcelona[2])\n",
    "cv_output2_rmse = CV_rmse_wrapper(df_barcelona, mi_features_bar, model,10, 123, shuff=True, display_res=True)\n",
    "cv_output2_mape = CV_wrapper(df_barcelona, mi_features_bar, model, 10, 123, shuff=True,  display_res=True)\n",
    "\n",
    "model = KNeighborsRegressor(**hp_barcelona[3])\n",
    "cv_output3_rmse = CV_rmse_wrapper(df_barcelona, mi_features_10_bar, model,10, 123, shuff=True, display_res=True)\n",
    "cv_output3_mape = CV_wrapper(df_barcelona, mi_features_10_bar, model, 10, 123, shuff=True,  display_res=True)\n",
    "\n",
    "model = KNeighborsRegressor(**hp_barcelona[4])\n",
    "cv_output4_rmse = CV_rmse_wrapper(df_barcelona, mi_features_14_bar, model,10, 123, shuff=True, display_res=True)\n",
    "cv_output4_mape = CV_wrapper(df_barcelona, mi_features_14_bar, model, 10, 123, shuff=True,  display_res=True)\n",
    "\n",
    "model = KNeighborsRegressor(**hp_barcelona[5])\n",
    "cv_output5_rmse = CV_rmse_wrapper(df_barcelona, mi_features_17_bar, model,10, 123, shuff=True, display_res=True)\n",
    "cv_output5_mape = CV_wrapper(df_barcelona, mi_features_17_bar, model, 10, 123, shuff=True,  display_res=True)\n",
    "\n",
    "model = KNeighborsRegressor(**hp_barcelona[6])\n",
    "cv_output6_rmse = CV_rmse_wrapper(df_barcelona, mi_features_20_bar, model,10, 123, shuff=True, display_res=True)\n",
    "cv_output6_mape = CV_wrapper(df_barcelona, mi_features_20_bar, model, 10, 123, shuff=True,  display_res=True)\n",
    "\n",
    "model = KNeighborsRegressor(**hp_barcelona[7])\n",
    "cv_output7_rmse = CV_rmse_wrapper(df_barcelona, sf_features_bar, model,10, 123, shuff=True, display_res=True)\n",
    "cv_output7_mape = CV_wrapper(df_barcelona, sf_features_bar, model, 10, 123, shuff=True,  display_res=True)"
   ]
  },
  {
   "cell_type": "code",
   "execution_count": 64,
   "id": "977e707951f1f095",
   "metadata": {
    "ExecuteTime": {
     "end_time": "2025-01-11T19:58:33.580868Z",
     "start_time": "2025-01-11T19:58:33.575303Z"
    }
   },
   "outputs": [
    {
     "data": {
      "text/plain": [
       "(cv_train    0.000000\n",
       " cv_val      0.275371\n",
       " dtype: float64,\n",
       " cv_train      0.000000\n",
       " cv_val      113.228865\n",
       " dtype: float64)"
      ]
     },
     "execution_count": 64,
     "metadata": {},
     "output_type": "execute_result"
    }
   ],
   "source": [
    "(cv_output0_mape.mean(), cv_output0_rmse.mean())"
   ]
  },
  {
   "cell_type": "code",
   "execution_count": 65,
   "id": "fd368063e809e6b4",
   "metadata": {
    "ExecuteTime": {
     "end_time": "2025-01-11T19:58:33.617936Z",
     "start_time": "2025-01-11T19:58:33.614258Z"
    }
   },
   "outputs": [
    {
     "data": {
      "text/plain": [
       "(cv_train    0.00000\n",
       " cv_val      0.18537\n",
       " dtype: float64,\n",
       " cv_train     0.000000\n",
       " cv_val      91.042965\n",
       " dtype: float64)"
      ]
     },
     "execution_count": 65,
     "metadata": {},
     "output_type": "execute_result"
    }
   ],
   "source": [
    "(cv_output1_mape.mean(), cv_output1_rmse.mean())"
   ]
  },
  {
   "cell_type": "code",
   "execution_count": 66,
   "id": "adb4ca979b127354",
   "metadata": {
    "ExecuteTime": {
     "end_time": "2025-01-11T19:58:33.668956Z",
     "start_time": "2025-01-11T19:58:33.663642Z"
    }
   },
   "outputs": [
    {
     "data": {
      "text/plain": [
       "(cv_train    0.000000\n",
       " cv_val      0.194837\n",
       " dtype: float64,\n",
       " cv_train     0.000000\n",
       " cv_val      94.760397\n",
       " dtype: float64)"
      ]
     },
     "execution_count": 66,
     "metadata": {},
     "output_type": "execute_result"
    }
   ],
   "source": [
    "(cv_output2_mape.mean(), cv_output2_rmse.mean())"
   ]
  },
  {
   "cell_type": "code",
   "execution_count": 67,
   "id": "ee0d6d6a5a26daeb",
   "metadata": {
    "ExecuteTime": {
     "end_time": "2025-01-11T19:58:33.713072Z",
     "start_time": "2025-01-11T19:58:33.709022Z"
    }
   },
   "outputs": [
    {
     "data": {
      "text/plain": [
       "(cv_train    0.000000\n",
       " cv_val      0.194931\n",
       " dtype: float64,\n",
       " cv_train     0.000000\n",
       " cv_val      95.445891\n",
       " dtype: float64)"
      ]
     },
     "execution_count": 67,
     "metadata": {},
     "output_type": "execute_result"
    }
   ],
   "source": [
    "(cv_output3_mape.mean(), cv_output3_rmse.mean())"
   ]
  },
  {
   "cell_type": "code",
   "execution_count": 68,
   "id": "bca251ab2c6d8cad",
   "metadata": {
    "ExecuteTime": {
     "end_time": "2025-01-11T19:58:33.772966Z",
     "start_time": "2025-01-11T19:58:33.768702Z"
    }
   },
   "outputs": [
    {
     "data": {
      "text/plain": [
       "(cv_train    0.000000\n",
       " cv_val      0.196512\n",
       " dtype: float64,\n",
       " cv_train     0.000000\n",
       " cv_val      95.221672\n",
       " dtype: float64)"
      ]
     },
     "execution_count": 68,
     "metadata": {},
     "output_type": "execute_result"
    }
   ],
   "source": [
    "(cv_output4_mape.mean(), cv_output4_rmse.mean())"
   ]
  },
  {
   "cell_type": "code",
   "execution_count": 69,
   "id": "b29b9393c9c0c13b",
   "metadata": {
    "ExecuteTime": {
     "end_time": "2025-01-11T19:58:33.840346Z",
     "start_time": "2025-01-11T19:58:33.835967Z"
    }
   },
   "outputs": [
    {
     "data": {
      "text/plain": [
       "(cv_train    0.000000\n",
       " cv_val      0.193848\n",
       " dtype: float64,\n",
       " cv_train     0.000000\n",
       " cv_val      94.809398\n",
       " dtype: float64)"
      ]
     },
     "execution_count": 69,
     "metadata": {},
     "output_type": "execute_result"
    }
   ],
   "source": [
    "(cv_output5_mape.mean(), cv_output5_rmse.mean())"
   ]
  },
  {
   "cell_type": "code",
   "execution_count": 70,
   "id": "ccc5ee6a18506aaa",
   "metadata": {
    "ExecuteTime": {
     "end_time": "2025-01-11T19:58:33.893306Z",
     "start_time": "2025-01-11T19:58:33.888632Z"
    }
   },
   "outputs": [
    {
     "data": {
      "text/plain": [
       "(cv_train    0.000000\n",
       " cv_val      0.261025\n",
       " dtype: float64,\n",
       " cv_train      0.000000\n",
       " cv_val      109.745001\n",
       " dtype: float64)"
      ]
     },
     "execution_count": 70,
     "metadata": {},
     "output_type": "execute_result"
    }
   ],
   "source": [
    "(cv_output6_mape.mean(), cv_output6_rmse.mean())"
   ]
  },
  {
   "cell_type": "code",
   "execution_count": 71,
   "id": "1405beb34406680c",
   "metadata": {
    "ExecuteTime": {
     "end_time": "2025-01-11T19:58:33.944617Z",
     "start_time": "2025-01-11T19:58:33.939701Z"
    }
   },
   "outputs": [
    {
     "data": {
      "text/plain": [
       "(cv_train    0.000000\n",
       " cv_val      0.179339\n",
       " dtype: float64,\n",
       " cv_train     0.000000\n",
       " cv_val      87.642538\n",
       " dtype: float64)"
      ]
     },
     "execution_count": 71,
     "metadata": {},
     "output_type": "execute_result"
    }
   ],
   "source": [
    "(cv_output7_mape.mean(), cv_output7_rmse.mean())"
   ]
  },
  {
   "cell_type": "code",
   "execution_count": 72,
   "id": "d09c42b7ac72c898",
   "metadata": {
    "ExecuteTime": {
     "end_time": "2025-01-11T19:59:01.430598Z",
     "start_time": "2025-01-11T19:58:33.993995Z"
    }
   },
   "outputs": [],
   "source": [
    "model = KNeighborsRegressor(**hp_paris[0])\n",
    "cv_output0_rmse = CV_rmse_wrapper(df_paris, br_features_par, model,10, 123, shuff=True, display_res=True)\n",
    "cv_output0_mape = CV_wrapper(df_paris, br_features_par, model, 10, 123, shuff=True,  display_res=True)\n",
    "\n",
    "model = KNeighborsRegressor(**hp_paris[1])\n",
    "cv_output1_rmse = CV_rmse_wrapper(df_paris, corr_features_par, model,10, 123, shuff=True, display_res=True)\n",
    "cv_output1_mape = CV_wrapper(df_paris, corr_features_par, model, 10, 123, shuff=True,  display_res=True)\n",
    "\n",
    "model = KNeighborsRegressor(**hp_paris[2])\n",
    "cv_output2_rmse = CV_rmse_wrapper(df_paris, mi_features_par, model,10, 123, shuff=True, display_res=True)\n",
    "cv_output2_mape = CV_wrapper(df_paris, mi_features_par, model, 10, 123, shuff=True,  display_res=True)\n",
    "\n",
    "model = KNeighborsRegressor(**hp_paris[3])\n",
    "cv_output3_rmse = CV_rmse_wrapper(df_paris, mi_features_10_par, model,10, 123, shuff=True, display_res=True)\n",
    "cv_output3_mape = CV_wrapper(df_paris, mi_features_10_par, model, 10, 123, shuff=True,  display_res=True)\n",
    "\n",
    "model = KNeighborsRegressor(**hp_paris[4])\n",
    "cv_output4_rmse = CV_rmse_wrapper(df_paris, mi_features_14_par, model,10, 123, shuff=True, display_res=True)\n",
    "cv_output4_mape = CV_wrapper(df_paris, mi_features_14_par, model, 10, 123, shuff=True,  display_res=True)\n",
    "\n",
    "model = KNeighborsRegressor(**hp_paris[5])\n",
    "cv_output5_rmse = CV_rmse_wrapper(df_paris, mi_features_17_par, model,10, 123, shuff=True, display_res=True)\n",
    "cv_output5_mape = CV_wrapper(df_paris, mi_features_17_par, model, 10, 123, shuff=True,  display_res=True)\n",
    "\n",
    "model = KNeighborsRegressor(**hp_paris[6])\n",
    "cv_output6_rmse = CV_rmse_wrapper(df_paris, mi_features_20_par, model,10, 123, shuff=True, display_res=True)\n",
    "cv_output6_mape = CV_wrapper(df_paris, mi_features_20_par, model, 10, 123, shuff=True,  display_res=True)\n",
    "\n",
    "model = KNeighborsRegressor(**hp_paris[7])\n",
    "cv_output7_rmse = CV_rmse_wrapper(df_paris, sf_features_par, model,10, 123, shuff=True, display_res=True)\n",
    "cv_output7_mape = CV_wrapper(df_paris, sf_features_par, model, 10, 123, shuff=True,  display_res=True)"
   ]
  },
  {
   "cell_type": "code",
   "execution_count": 73,
   "id": "4970366ca5608c89",
   "metadata": {
    "ExecuteTime": {
     "end_time": "2025-01-11T19:59:01.526290Z",
     "start_time": "2025-01-11T19:59:01.520757Z"
    }
   },
   "outputs": [
    {
     "data": {
      "text/plain": [
       "(cv_train    0.000000\n",
       " cv_val      0.160924\n",
       " dtype: float64,\n",
       " cv_train      0.00000\n",
       " cv_val      114.41824\n",
       " dtype: float64)"
      ]
     },
     "execution_count": 73,
     "metadata": {},
     "output_type": "execute_result"
    }
   ],
   "source": [
    "(cv_output0_mape.mean(), cv_output0_rmse.mean())"
   ]
  },
  {
   "cell_type": "code",
   "execution_count": 74,
   "id": "18267301cffbe046",
   "metadata": {
    "ExecuteTime": {
     "end_time": "2025-01-11T19:59:01.552704Z",
     "start_time": "2025-01-11T19:59:01.548019Z"
    }
   },
   "outputs": [
    {
     "data": {
      "text/plain": [
       "(cv_train    0.000193\n",
       " cv_val      0.147539\n",
       " dtype: float64,\n",
       " cv_train      1.357209\n",
       " cv_val      108.370198\n",
       " dtype: float64)"
      ]
     },
     "execution_count": 74,
     "metadata": {},
     "output_type": "execute_result"
    }
   ],
   "source": [
    "(cv_output1_mape.mean(), cv_output1_rmse.mean())"
   ]
  },
  {
   "cell_type": "code",
   "execution_count": 75,
   "id": "abad150af1e3e739",
   "metadata": {
    "ExecuteTime": {
     "end_time": "2025-01-11T19:59:01.600148Z",
     "start_time": "2025-01-11T19:59:01.596050Z"
    }
   },
   "outputs": [
    {
     "data": {
      "text/plain": [
       "(cv_train    0.000000\n",
       " cv_val      0.162459\n",
       " dtype: float64,\n",
       " cv_train      0.000000\n",
       " cv_val      114.562302\n",
       " dtype: float64)"
      ]
     },
     "execution_count": 75,
     "metadata": {},
     "output_type": "execute_result"
    }
   ],
   "source": [
    "(cv_output2_mape.mean(), cv_output2_rmse.mean())"
   ]
  },
  {
   "cell_type": "code",
   "execution_count": 76,
   "id": "9ab44fb817f52d6b",
   "metadata": {
    "ExecuteTime": {
     "end_time": "2025-01-11T19:59:01.653422Z",
     "start_time": "2025-01-11T19:59:01.649490Z"
    }
   },
   "outputs": [
    {
     "data": {
      "text/plain": [
       "(cv_train    0.000000\n",
       " cv_val      0.156307\n",
       " dtype: float64,\n",
       " cv_train      0.000000\n",
       " cv_val      110.806605\n",
       " dtype: float64)"
      ]
     },
     "execution_count": 76,
     "metadata": {},
     "output_type": "execute_result"
    }
   ],
   "source": [
    "(cv_output3_mape.mean(), cv_output3_rmse.mean())"
   ]
  },
  {
   "cell_type": "code",
   "execution_count": 77,
   "id": "975f1450fe38572d",
   "metadata": {
    "ExecuteTime": {
     "end_time": "2025-01-11T19:59:01.697503Z",
     "start_time": "2025-01-11T19:59:01.693513Z"
    }
   },
   "outputs": [
    {
     "data": {
      "text/plain": [
       "(cv_train    0.000000\n",
       " cv_val      0.155265\n",
       " dtype: float64,\n",
       " cv_train      0.000000\n",
       " cv_val      111.009581\n",
       " dtype: float64)"
      ]
     },
     "execution_count": 77,
     "metadata": {},
     "output_type": "execute_result"
    }
   ],
   "source": [
    "(cv_output4_mape.mean(), cv_output4_rmse.mean())"
   ]
  },
  {
   "cell_type": "code",
   "execution_count": 78,
   "id": "c17070e6ce251bf0",
   "metadata": {
    "ExecuteTime": {
     "end_time": "2025-01-11T19:59:01.742918Z",
     "start_time": "2025-01-11T19:59:01.737275Z"
    }
   },
   "outputs": [
    {
     "data": {
      "text/plain": [
       "(cv_train    0.000000\n",
       " cv_val      0.152518\n",
       " dtype: float64,\n",
       " cv_train      0.000000\n",
       " cv_val      110.535613\n",
       " dtype: float64)"
      ]
     },
     "execution_count": 78,
     "metadata": {},
     "output_type": "execute_result"
    }
   ],
   "source": [
    "(cv_output5_mape.mean(), cv_output5_rmse.mean())"
   ]
  },
  {
   "cell_type": "code",
   "execution_count": 79,
   "id": "52f4c5bc03451569",
   "metadata": {
    "ExecuteTime": {
     "end_time": "2025-01-11T19:59:01.791791Z",
     "start_time": "2025-01-11T19:59:01.787892Z"
    }
   },
   "outputs": [
    {
     "data": {
      "text/plain": [
       "(cv_train    0.000000\n",
       " cv_val      0.265132\n",
       " dtype: float64,\n",
       " cv_train      0.000000\n",
       " cv_val      144.761273\n",
       " dtype: float64)"
      ]
     },
     "execution_count": 79,
     "metadata": {},
     "output_type": "execute_result"
    }
   ],
   "source": [
    "(cv_output6_mape.mean(), cv_output6_rmse.mean())"
   ]
  },
  {
   "cell_type": "code",
   "execution_count": 80,
   "id": "d52ddfa318bcc677",
   "metadata": {
    "ExecuteTime": {
     "end_time": "2025-01-11T19:59:01.838097Z",
     "start_time": "2025-01-11T19:59:01.833405Z"
    }
   },
   "outputs": [
    {
     "data": {
      "text/plain": [
       "(cv_train    0.000000\n",
       " cv_val      0.148419\n",
       " dtype: float64,\n",
       " cv_train      0.00000\n",
       " cv_val      104.88746\n",
       " dtype: float64)"
      ]
     },
     "execution_count": 80,
     "metadata": {},
     "output_type": "execute_result"
    }
   ],
   "source": [
    "(cv_output7_mape.mean(), cv_output7_rmse.mean())"
   ]
  },
  {
   "cell_type": "code",
   "execution_count": 81,
   "id": "c2c13b9ab63dbfac",
   "metadata": {
    "ExecuteTime": {
     "end_time": "2025-01-11T19:59:38.125807Z",
     "start_time": "2025-01-11T19:59:01.875158Z"
    }
   },
   "outputs": [],
   "source": [
    "model = KNeighborsRegressor(**hp_rome[0])\n",
    "cv_output0_rmse = CV_rmse_wrapper(df_rome, br_features_rom, model,10, 123, shuff=True, display_res=True)\n",
    "cv_output0_mape = CV_wrapper(df_rome, br_features_rom, model, 10, 123, shuff=True,  display_res=True)\n",
    "\n",
    "model = KNeighborsRegressor(**hp_rome[1])\n",
    "cv_output1_rmse = CV_rmse_wrapper(df_rome, corr_features_rom, model,10, 123, shuff=True, display_res=True)\n",
    "cv_output1_mape = CV_wrapper(df_rome, corr_features_rom, model, 10, 123, shuff=True,  display_res=True)\n",
    "\n",
    "model = KNeighborsRegressor(**hp_rome[2])\n",
    "cv_output2_rmse = CV_rmse_wrapper(df_rome, mi_features_rom, model,10, 123, shuff=True, display_res=True)\n",
    "cv_output2_mape = CV_wrapper(df_rome, mi_features_rom, model, 10, 123, shuff=True,  display_res=True)\n",
    "\n",
    "model = KNeighborsRegressor(**hp_rome[3])\n",
    "cv_output3_rmse = CV_rmse_wrapper(df_rome, mi_features_10_rom, model,10, 123, shuff=True, display_res=True)\n",
    "cv_output3_mape = CV_wrapper(df_rome, mi_features_10_rom, model, 10, 123, shuff=True,  display_res=True)\n",
    "\n",
    "model = KNeighborsRegressor(**hp_rome[4])\n",
    "cv_output4_rmse = CV_rmse_wrapper(df_rome, mi_features_14_rom, model,10, 123, shuff=True, display_res=True)\n",
    "cv_output4_mape = CV_wrapper(df_rome, mi_features_14_rom, model, 10, 123, shuff=True,  display_res=True)\n",
    "\n",
    "model = KNeighborsRegressor(**hp_rome[5])\n",
    "cv_output5_rmse = CV_rmse_wrapper(df_rome, mi_features_17_rom, model,10, 123, shuff=True, display_res=True)\n",
    "cv_output5_mape = CV_wrapper(df_rome, mi_features_17_rom, model, 10, 123, shuff=True,  display_res=True)\n",
    "\n",
    "model = KNeighborsRegressor(**hp_rome[6])\n",
    "cv_output6_rmse = CV_rmse_wrapper(df_rome, mi_features_20_rom, model,10, 123, shuff=True, display_res=True)\n",
    "cv_output6_mape = CV_wrapper(df_rome, mi_features_20_rom, model, 10, 123, shuff=True,  display_res=True)\n",
    "\n",
    "model = KNeighborsRegressor(**hp_rome[7])\n",
    "cv_output7_rmse = CV_rmse_wrapper(df_rome, sf_features_rom, model,10, 123, shuff=True, display_res=True)\n",
    "cv_output7_mape = CV_wrapper(df_rome, sf_features_rom, model, 10, 123, shuff=True,  display_res=True)"
   ]
  },
  {
   "cell_type": "code",
   "execution_count": 82,
   "id": "e900c6ae9cfce9b4",
   "metadata": {
    "ExecuteTime": {
     "end_time": "2025-01-11T19:59:38.178382Z",
     "start_time": "2025-01-11T19:59:38.172714Z"
    }
   },
   "outputs": [
    {
     "data": {
      "text/plain": [
       "(cv_train    0.000000\n",
       " cv_val      0.132346\n",
       " dtype: float64,\n",
       " cv_train     0.000000\n",
       " cv_val      46.416077\n",
       " dtype: float64)"
      ]
     },
     "execution_count": 82,
     "metadata": {},
     "output_type": "execute_result"
    }
   ],
   "source": [
    "(cv_output0_mape.mean(), cv_output0_rmse.mean())"
   ]
  },
  {
   "cell_type": "code",
   "execution_count": 83,
   "id": "7192274c9ba9fab5",
   "metadata": {
    "ExecuteTime": {
     "end_time": "2025-01-11T19:59:38.224958Z",
     "start_time": "2025-01-11T19:59:38.219748Z"
    }
   },
   "outputs": [
    {
     "data": {
      "text/plain": [
       "(cv_train    0.000057\n",
       " cv_val      0.129900\n",
       " dtype: float64,\n",
       " cv_train     0.271964\n",
       " cv_val      45.665003\n",
       " dtype: float64)"
      ]
     },
     "execution_count": 83,
     "metadata": {},
     "output_type": "execute_result"
    }
   ],
   "source": [
    "(cv_output1_mape.mean(), cv_output1_rmse.mean())"
   ]
  },
  {
   "cell_type": "code",
   "execution_count": 84,
   "id": "2c42a58a5dc0b8d1",
   "metadata": {
    "ExecuteTime": {
     "end_time": "2025-01-11T19:59:38.272664Z",
     "start_time": "2025-01-11T19:59:38.267560Z"
    }
   },
   "outputs": [
    {
     "data": {
      "text/plain": [
       "(cv_train    0.000000\n",
       " cv_val      0.239307\n",
       " dtype: float64,\n",
       " cv_train     0.000000\n",
       " cv_val      66.274585\n",
       " dtype: float64)"
      ]
     },
     "execution_count": 84,
     "metadata": {},
     "output_type": "execute_result"
    }
   ],
   "source": [
    "(cv_output2_mape.mean(), cv_output2_rmse.mean())"
   ]
  },
  {
   "cell_type": "code",
   "execution_count": 85,
   "id": "9d4ede4ff32e0473",
   "metadata": {
    "ExecuteTime": {
     "end_time": "2025-01-11T19:59:38.319913Z",
     "start_time": "2025-01-11T19:59:38.315531Z"
    }
   },
   "outputs": [
    {
     "data": {
      "text/plain": [
       "(cv_train    0.000000\n",
       " cv_val      0.227599\n",
       " dtype: float64,\n",
       " cv_train     0.000000\n",
       " cv_val      62.905584\n",
       " dtype: float64)"
      ]
     },
     "execution_count": 85,
     "metadata": {},
     "output_type": "execute_result"
    }
   ],
   "source": [
    "(cv_output3_mape.mean(), cv_output3_rmse.mean())"
   ]
  },
  {
   "cell_type": "code",
   "execution_count": 86,
   "id": "6d64a474026ece0f",
   "metadata": {
    "ExecuteTime": {
     "end_time": "2025-01-11T19:59:38.372033Z",
     "start_time": "2025-01-11T19:59:38.367562Z"
    }
   },
   "outputs": [
    {
     "data": {
      "text/plain": [
       "(cv_train    0.000000\n",
       " cv_val      0.213985\n",
       " dtype: float64,\n",
       " cv_train     0.00000\n",
       " cv_val      60.28393\n",
       " dtype: float64)"
      ]
     },
     "execution_count": 86,
     "metadata": {},
     "output_type": "execute_result"
    }
   ],
   "source": [
    "(cv_output4_mape.mean(), cv_output4_rmse.mean())"
   ]
  },
  {
   "cell_type": "code",
   "execution_count": 87,
   "id": "4bd2176a0914a27f",
   "metadata": {
    "ExecuteTime": {
     "end_time": "2025-01-11T19:59:38.426986Z",
     "start_time": "2025-01-11T19:59:38.422244Z"
    }
   },
   "outputs": [
    {
     "data": {
      "text/plain": [
       "(cv_train    0.000000\n",
       " cv_val      0.207379\n",
       " dtype: float64,\n",
       " cv_train     0.000000\n",
       " cv_val      58.442811\n",
       " dtype: float64)"
      ]
     },
     "execution_count": 87,
     "metadata": {},
     "output_type": "execute_result"
    }
   ],
   "source": [
    "(cv_output5_mape.mean(), cv_output5_rmse.mean())"
   ]
  },
  {
   "cell_type": "code",
   "execution_count": 88,
   "id": "824de13c5fa9c250",
   "metadata": {
    "ExecuteTime": {
     "end_time": "2025-01-11T19:59:38.504536Z",
     "start_time": "2025-01-11T19:59:38.499324Z"
    }
   },
   "outputs": [
    {
     "data": {
      "text/plain": [
       "(cv_train    0.000000\n",
       " cv_val      0.204743\n",
       " dtype: float64,\n",
       " cv_train     0.000000\n",
       " cv_val      57.835544\n",
       " dtype: float64)"
      ]
     },
     "execution_count": 88,
     "metadata": {},
     "output_type": "execute_result"
    }
   ],
   "source": [
    "(cv_output6_mape.mean(), cv_output6_rmse.mean())"
   ]
  },
  {
   "cell_type": "code",
   "execution_count": 89,
   "id": "d42b3e3a8590103e",
   "metadata": {
    "ExecuteTime": {
     "end_time": "2025-01-11T19:59:38.560118Z",
     "start_time": "2025-01-11T19:59:38.554550Z"
    }
   },
   "outputs": [
    {
     "data": {
      "text/plain": [
       "(cv_train    0.000000\n",
       " cv_val      0.122388\n",
       " dtype: float64,\n",
       " cv_train     0.000000\n",
       " cv_val      43.704434\n",
       " dtype: float64)"
      ]
     },
     "execution_count": 89,
     "metadata": {},
     "output_type": "execute_result"
    }
   ],
   "source": [
    "(cv_output7_mape.mean(), cv_output7_rmse.mean())"
   ]
  },
  {
   "cell_type": "markdown",
   "id": "9303a0d1f4021944",
   "metadata": {},
   "source": [
    "The best KNN model performance is achieved with the features obtained with Forward Sequential Feature Elimination method for Barcelona and Rome, and top 10 features based on the correlation with the target variable for Rome. Let's save the models."
   ]
  },
  {
   "cell_type": "code",
   "execution_count": 177,
   "id": "52887c9747cacd14",
   "metadata": {
    "ExecuteTime": {
     "end_time": "2025-01-11T21:44:04.578992Z",
     "start_time": "2025-01-11T21:44:04.524627Z"
    }
   },
   "outputs": [],
   "source": [
    "model_bar = KNeighborsRegressor(**hp_barcelona[7])\n",
    "model_bar.fit(df_barcelona.loc[:, sf_features_bar].values, df_barcelona.loc[:, \"realsum_cut\"].values.ravel())\n",
    "pickle.dump(model_bar, open(\"models/model_barcelona_knn.sav\", \"wb\"))\n",
    "\n",
    "model_par = KNeighborsRegressor(**hp_paris[1])\n",
    "model_par.fit(df_paris.loc[:, sf_features_par].values, df_paris.loc[:, \"realsum_cut\"].values.ravel())\n",
    "pickle.dump(model_par, open(\"models/model_paris_knn.sav\", \"wb\"))\n",
    "\n",
    "model_rom = KNeighborsRegressor(**hp_rome[7])\n",
    "model_rom.fit(df_rome.loc[:, br_features_rom].values, df_rome.loc[:, \"realsum_cut\"].values.ravel())\n",
    "pickle.dump(model_rom, open(\"models/model_rome_knn.sav\", \"wb\"))"
   ]
  },
  {
   "cell_type": "markdown",
   "id": "588e827064096dc1",
   "metadata": {},
   "source": [
    "### Decision Tree Regression\n",
    "\n",
    "#### Feature Selection\n",
    "\n",
    "1. Sequential Feature Selector"
   ]
  },
  {
   "cell_type": "code",
   "execution_count": 90,
   "id": "15d9d932fcaab48c",
   "metadata": {
    "ExecuteTime": {
     "end_time": "2025-01-11T19:59:38.805908Z",
     "start_time": "2025-01-11T19:59:38.803100Z"
    }
   },
   "outputs": [],
   "source": [
    "param_dt = {\n",
    "    \"max_depth\": [3, 5, 7, 10],\n",
    "    \"min_samples_split\": [2, 5, 10],\n",
    "    \"min_samples_leaf\": [1, 2, 4],\n",
    "}"
   ]
  },
  {
   "cell_type": "code",
   "execution_count": 91,
   "id": "f209647e12ebd8b9",
   "metadata": {
    "ExecuteTime": {
     "end_time": "2025-01-11T19:59:41.722011Z",
     "start_time": "2025-01-11T19:59:38.896735Z"
    }
   },
   "outputs": [
    {
     "data": {
      "text/html": [
       "<style>#sk-container-id-4 {\n",
       "  /* Definition of color scheme common for light and dark mode */\n",
       "  --sklearn-color-text: #000;\n",
       "  --sklearn-color-text-muted: #666;\n",
       "  --sklearn-color-line: gray;\n",
       "  /* Definition of color scheme for unfitted estimators */\n",
       "  --sklearn-color-unfitted-level-0: #fff5e6;\n",
       "  --sklearn-color-unfitted-level-1: #f6e4d2;\n",
       "  --sklearn-color-unfitted-level-2: #ffe0b3;\n",
       "  --sklearn-color-unfitted-level-3: chocolate;\n",
       "  /* Definition of color scheme for fitted estimators */\n",
       "  --sklearn-color-fitted-level-0: #f0f8ff;\n",
       "  --sklearn-color-fitted-level-1: #d4ebff;\n",
       "  --sklearn-color-fitted-level-2: #b3dbfd;\n",
       "  --sklearn-color-fitted-level-3: cornflowerblue;\n",
       "\n",
       "  /* Specific color for light theme */\n",
       "  --sklearn-color-text-on-default-background: var(--sg-text-color, var(--theme-code-foreground, var(--jp-content-font-color1, black)));\n",
       "  --sklearn-color-background: var(--sg-background-color, var(--theme-background, var(--jp-layout-color0, white)));\n",
       "  --sklearn-color-border-box: var(--sg-text-color, var(--theme-code-foreground, var(--jp-content-font-color1, black)));\n",
       "  --sklearn-color-icon: #696969;\n",
       "\n",
       "  @media (prefers-color-scheme: dark) {\n",
       "    /* Redefinition of color scheme for dark theme */\n",
       "    --sklearn-color-text-on-default-background: var(--sg-text-color, var(--theme-code-foreground, var(--jp-content-font-color1, white)));\n",
       "    --sklearn-color-background: var(--sg-background-color, var(--theme-background, var(--jp-layout-color0, #111)));\n",
       "    --sklearn-color-border-box: var(--sg-text-color, var(--theme-code-foreground, var(--jp-content-font-color1, white)));\n",
       "    --sklearn-color-icon: #878787;\n",
       "  }\n",
       "}\n",
       "\n",
       "#sk-container-id-4 {\n",
       "  color: var(--sklearn-color-text);\n",
       "}\n",
       "\n",
       "#sk-container-id-4 pre {\n",
       "  padding: 0;\n",
       "}\n",
       "\n",
       "#sk-container-id-4 input.sk-hidden--visually {\n",
       "  border: 0;\n",
       "  clip: rect(1px 1px 1px 1px);\n",
       "  clip: rect(1px, 1px, 1px, 1px);\n",
       "  height: 1px;\n",
       "  margin: -1px;\n",
       "  overflow: hidden;\n",
       "  padding: 0;\n",
       "  position: absolute;\n",
       "  width: 1px;\n",
       "}\n",
       "\n",
       "#sk-container-id-4 div.sk-dashed-wrapped {\n",
       "  border: 1px dashed var(--sklearn-color-line);\n",
       "  margin: 0 0.4em 0.5em 0.4em;\n",
       "  box-sizing: border-box;\n",
       "  padding-bottom: 0.4em;\n",
       "  background-color: var(--sklearn-color-background);\n",
       "}\n",
       "\n",
       "#sk-container-id-4 div.sk-container {\n",
       "  /* jupyter's `normalize.less` sets `[hidden] { display: none; }`\n",
       "     but bootstrap.min.css set `[hidden] { display: none !important; }`\n",
       "     so we also need the `!important` here to be able to override the\n",
       "     default hidden behavior on the sphinx rendered scikit-learn.org.\n",
       "     See: https://github.com/scikit-learn/scikit-learn/issues/21755 */\n",
       "  display: inline-block !important;\n",
       "  position: relative;\n",
       "}\n",
       "\n",
       "#sk-container-id-4 div.sk-text-repr-fallback {\n",
       "  display: none;\n",
       "}\n",
       "\n",
       "div.sk-parallel-item,\n",
       "div.sk-serial,\n",
       "div.sk-item {\n",
       "  /* draw centered vertical line to link estimators */\n",
       "  background-image: linear-gradient(var(--sklearn-color-text-on-default-background), var(--sklearn-color-text-on-default-background));\n",
       "  background-size: 2px 100%;\n",
       "  background-repeat: no-repeat;\n",
       "  background-position: center center;\n",
       "}\n",
       "\n",
       "/* Parallel-specific style estimator block */\n",
       "\n",
       "#sk-container-id-4 div.sk-parallel-item::after {\n",
       "  content: \"\";\n",
       "  width: 100%;\n",
       "  border-bottom: 2px solid var(--sklearn-color-text-on-default-background);\n",
       "  flex-grow: 1;\n",
       "}\n",
       "\n",
       "#sk-container-id-4 div.sk-parallel {\n",
       "  display: flex;\n",
       "  align-items: stretch;\n",
       "  justify-content: center;\n",
       "  background-color: var(--sklearn-color-background);\n",
       "  position: relative;\n",
       "}\n",
       "\n",
       "#sk-container-id-4 div.sk-parallel-item {\n",
       "  display: flex;\n",
       "  flex-direction: column;\n",
       "}\n",
       "\n",
       "#sk-container-id-4 div.sk-parallel-item:first-child::after {\n",
       "  align-self: flex-end;\n",
       "  width: 50%;\n",
       "}\n",
       "\n",
       "#sk-container-id-4 div.sk-parallel-item:last-child::after {\n",
       "  align-self: flex-start;\n",
       "  width: 50%;\n",
       "}\n",
       "\n",
       "#sk-container-id-4 div.sk-parallel-item:only-child::after {\n",
       "  width: 0;\n",
       "}\n",
       "\n",
       "/* Serial-specific style estimator block */\n",
       "\n",
       "#sk-container-id-4 div.sk-serial {\n",
       "  display: flex;\n",
       "  flex-direction: column;\n",
       "  align-items: center;\n",
       "  background-color: var(--sklearn-color-background);\n",
       "  padding-right: 1em;\n",
       "  padding-left: 1em;\n",
       "}\n",
       "\n",
       "\n",
       "/* Toggleable style: style used for estimator/Pipeline/ColumnTransformer box that is\n",
       "clickable and can be expanded/collapsed.\n",
       "- Pipeline and ColumnTransformer use this feature and define the default style\n",
       "- Estimators will overwrite some part of the style using the `sk-estimator` class\n",
       "*/\n",
       "\n",
       "/* Pipeline and ColumnTransformer style (default) */\n",
       "\n",
       "#sk-container-id-4 div.sk-toggleable {\n",
       "  /* Default theme specific background. It is overwritten whether we have a\n",
       "  specific estimator or a Pipeline/ColumnTransformer */\n",
       "  background-color: var(--sklearn-color-background);\n",
       "}\n",
       "\n",
       "/* Toggleable label */\n",
       "#sk-container-id-4 label.sk-toggleable__label {\n",
       "  cursor: pointer;\n",
       "  display: flex;\n",
       "  width: 100%;\n",
       "  margin-bottom: 0;\n",
       "  padding: 0.5em;\n",
       "  box-sizing: border-box;\n",
       "  text-align: center;\n",
       "  align-items: start;\n",
       "  justify-content: space-between;\n",
       "  gap: 0.5em;\n",
       "}\n",
       "\n",
       "#sk-container-id-4 label.sk-toggleable__label .caption {\n",
       "  font-size: 0.6rem;\n",
       "  font-weight: lighter;\n",
       "  color: var(--sklearn-color-text-muted);\n",
       "}\n",
       "\n",
       "#sk-container-id-4 label.sk-toggleable__label-arrow:before {\n",
       "  /* Arrow on the left of the label */\n",
       "  content: \"▸\";\n",
       "  float: left;\n",
       "  margin-right: 0.25em;\n",
       "  color: var(--sklearn-color-icon);\n",
       "}\n",
       "\n",
       "#sk-container-id-4 label.sk-toggleable__label-arrow:hover:before {\n",
       "  color: var(--sklearn-color-text);\n",
       "}\n",
       "\n",
       "/* Toggleable content - dropdown */\n",
       "\n",
       "#sk-container-id-4 div.sk-toggleable__content {\n",
       "  max-height: 0;\n",
       "  max-width: 0;\n",
       "  overflow: hidden;\n",
       "  text-align: left;\n",
       "  /* unfitted */\n",
       "  background-color: var(--sklearn-color-unfitted-level-0);\n",
       "}\n",
       "\n",
       "#sk-container-id-4 div.sk-toggleable__content.fitted {\n",
       "  /* fitted */\n",
       "  background-color: var(--sklearn-color-fitted-level-0);\n",
       "}\n",
       "\n",
       "#sk-container-id-4 div.sk-toggleable__content pre {\n",
       "  margin: 0.2em;\n",
       "  border-radius: 0.25em;\n",
       "  color: var(--sklearn-color-text);\n",
       "  /* unfitted */\n",
       "  background-color: var(--sklearn-color-unfitted-level-0);\n",
       "}\n",
       "\n",
       "#sk-container-id-4 div.sk-toggleable__content.fitted pre {\n",
       "  /* unfitted */\n",
       "  background-color: var(--sklearn-color-fitted-level-0);\n",
       "}\n",
       "\n",
       "#sk-container-id-4 input.sk-toggleable__control:checked~div.sk-toggleable__content {\n",
       "  /* Expand drop-down */\n",
       "  max-height: 200px;\n",
       "  max-width: 100%;\n",
       "  overflow: auto;\n",
       "}\n",
       "\n",
       "#sk-container-id-4 input.sk-toggleable__control:checked~label.sk-toggleable__label-arrow:before {\n",
       "  content: \"▾\";\n",
       "}\n",
       "\n",
       "/* Pipeline/ColumnTransformer-specific style */\n",
       "\n",
       "#sk-container-id-4 div.sk-label input.sk-toggleable__control:checked~label.sk-toggleable__label {\n",
       "  color: var(--sklearn-color-text);\n",
       "  background-color: var(--sklearn-color-unfitted-level-2);\n",
       "}\n",
       "\n",
       "#sk-container-id-4 div.sk-label.fitted input.sk-toggleable__control:checked~label.sk-toggleable__label {\n",
       "  background-color: var(--sklearn-color-fitted-level-2);\n",
       "}\n",
       "\n",
       "/* Estimator-specific style */\n",
       "\n",
       "/* Colorize estimator box */\n",
       "#sk-container-id-4 div.sk-estimator input.sk-toggleable__control:checked~label.sk-toggleable__label {\n",
       "  /* unfitted */\n",
       "  background-color: var(--sklearn-color-unfitted-level-2);\n",
       "}\n",
       "\n",
       "#sk-container-id-4 div.sk-estimator.fitted input.sk-toggleable__control:checked~label.sk-toggleable__label {\n",
       "  /* fitted */\n",
       "  background-color: var(--sklearn-color-fitted-level-2);\n",
       "}\n",
       "\n",
       "#sk-container-id-4 div.sk-label label.sk-toggleable__label,\n",
       "#sk-container-id-4 div.sk-label label {\n",
       "  /* The background is the default theme color */\n",
       "  color: var(--sklearn-color-text-on-default-background);\n",
       "}\n",
       "\n",
       "/* On hover, darken the color of the background */\n",
       "#sk-container-id-4 div.sk-label:hover label.sk-toggleable__label {\n",
       "  color: var(--sklearn-color-text);\n",
       "  background-color: var(--sklearn-color-unfitted-level-2);\n",
       "}\n",
       "\n",
       "/* Label box, darken color on hover, fitted */\n",
       "#sk-container-id-4 div.sk-label.fitted:hover label.sk-toggleable__label.fitted {\n",
       "  color: var(--sklearn-color-text);\n",
       "  background-color: var(--sklearn-color-fitted-level-2);\n",
       "}\n",
       "\n",
       "/* Estimator label */\n",
       "\n",
       "#sk-container-id-4 div.sk-label label {\n",
       "  font-family: monospace;\n",
       "  font-weight: bold;\n",
       "  display: inline-block;\n",
       "  line-height: 1.2em;\n",
       "}\n",
       "\n",
       "#sk-container-id-4 div.sk-label-container {\n",
       "  text-align: center;\n",
       "}\n",
       "\n",
       "/* Estimator-specific */\n",
       "#sk-container-id-4 div.sk-estimator {\n",
       "  font-family: monospace;\n",
       "  border: 1px dotted var(--sklearn-color-border-box);\n",
       "  border-radius: 0.25em;\n",
       "  box-sizing: border-box;\n",
       "  margin-bottom: 0.5em;\n",
       "  /* unfitted */\n",
       "  background-color: var(--sklearn-color-unfitted-level-0);\n",
       "}\n",
       "\n",
       "#sk-container-id-4 div.sk-estimator.fitted {\n",
       "  /* fitted */\n",
       "  background-color: var(--sklearn-color-fitted-level-0);\n",
       "}\n",
       "\n",
       "/* on hover */\n",
       "#sk-container-id-4 div.sk-estimator:hover {\n",
       "  /* unfitted */\n",
       "  background-color: var(--sklearn-color-unfitted-level-2);\n",
       "}\n",
       "\n",
       "#sk-container-id-4 div.sk-estimator.fitted:hover {\n",
       "  /* fitted */\n",
       "  background-color: var(--sklearn-color-fitted-level-2);\n",
       "}\n",
       "\n",
       "/* Specification for estimator info (e.g. \"i\" and \"?\") */\n",
       "\n",
       "/* Common style for \"i\" and \"?\" */\n",
       "\n",
       ".sk-estimator-doc-link,\n",
       "a:link.sk-estimator-doc-link,\n",
       "a:visited.sk-estimator-doc-link {\n",
       "  float: right;\n",
       "  font-size: smaller;\n",
       "  line-height: 1em;\n",
       "  font-family: monospace;\n",
       "  background-color: var(--sklearn-color-background);\n",
       "  border-radius: 1em;\n",
       "  height: 1em;\n",
       "  width: 1em;\n",
       "  text-decoration: none !important;\n",
       "  margin-left: 0.5em;\n",
       "  text-align: center;\n",
       "  /* unfitted */\n",
       "  border: var(--sklearn-color-unfitted-level-1) 1pt solid;\n",
       "  color: var(--sklearn-color-unfitted-level-1);\n",
       "}\n",
       "\n",
       ".sk-estimator-doc-link.fitted,\n",
       "a:link.sk-estimator-doc-link.fitted,\n",
       "a:visited.sk-estimator-doc-link.fitted {\n",
       "  /* fitted */\n",
       "  border: var(--sklearn-color-fitted-level-1) 1pt solid;\n",
       "  color: var(--sklearn-color-fitted-level-1);\n",
       "}\n",
       "\n",
       "/* On hover */\n",
       "div.sk-estimator:hover .sk-estimator-doc-link:hover,\n",
       ".sk-estimator-doc-link:hover,\n",
       "div.sk-label-container:hover .sk-estimator-doc-link:hover,\n",
       ".sk-estimator-doc-link:hover {\n",
       "  /* unfitted */\n",
       "  background-color: var(--sklearn-color-unfitted-level-3);\n",
       "  color: var(--sklearn-color-background);\n",
       "  text-decoration: none;\n",
       "}\n",
       "\n",
       "div.sk-estimator.fitted:hover .sk-estimator-doc-link.fitted:hover,\n",
       ".sk-estimator-doc-link.fitted:hover,\n",
       "div.sk-label-container:hover .sk-estimator-doc-link.fitted:hover,\n",
       ".sk-estimator-doc-link.fitted:hover {\n",
       "  /* fitted */\n",
       "  background-color: var(--sklearn-color-fitted-level-3);\n",
       "  color: var(--sklearn-color-background);\n",
       "  text-decoration: none;\n",
       "}\n",
       "\n",
       "/* Span, style for the box shown on hovering the info icon */\n",
       ".sk-estimator-doc-link span {\n",
       "  display: none;\n",
       "  z-index: 9999;\n",
       "  position: relative;\n",
       "  font-weight: normal;\n",
       "  right: .2ex;\n",
       "  padding: .5ex;\n",
       "  margin: .5ex;\n",
       "  width: min-content;\n",
       "  min-width: 20ex;\n",
       "  max-width: 50ex;\n",
       "  color: var(--sklearn-color-text);\n",
       "  box-shadow: 2pt 2pt 4pt #999;\n",
       "  /* unfitted */\n",
       "  background: var(--sklearn-color-unfitted-level-0);\n",
       "  border: .5pt solid var(--sklearn-color-unfitted-level-3);\n",
       "}\n",
       "\n",
       ".sk-estimator-doc-link.fitted span {\n",
       "  /* fitted */\n",
       "  background: var(--sklearn-color-fitted-level-0);\n",
       "  border: var(--sklearn-color-fitted-level-3);\n",
       "}\n",
       "\n",
       ".sk-estimator-doc-link:hover span {\n",
       "  display: block;\n",
       "}\n",
       "\n",
       "/* \"?\"-specific style due to the `<a>` HTML tag */\n",
       "\n",
       "#sk-container-id-4 a.estimator_doc_link {\n",
       "  float: right;\n",
       "  font-size: 1rem;\n",
       "  line-height: 1em;\n",
       "  font-family: monospace;\n",
       "  background-color: var(--sklearn-color-background);\n",
       "  border-radius: 1rem;\n",
       "  height: 1rem;\n",
       "  width: 1rem;\n",
       "  text-decoration: none;\n",
       "  /* unfitted */\n",
       "  color: var(--sklearn-color-unfitted-level-1);\n",
       "  border: var(--sklearn-color-unfitted-level-1) 1pt solid;\n",
       "}\n",
       "\n",
       "#sk-container-id-4 a.estimator_doc_link.fitted {\n",
       "  /* fitted */\n",
       "  border: var(--sklearn-color-fitted-level-1) 1pt solid;\n",
       "  color: var(--sklearn-color-fitted-level-1);\n",
       "}\n",
       "\n",
       "/* On hover */\n",
       "#sk-container-id-4 a.estimator_doc_link:hover {\n",
       "  /* unfitted */\n",
       "  background-color: var(--sklearn-color-unfitted-level-3);\n",
       "  color: var(--sklearn-color-background);\n",
       "  text-decoration: none;\n",
       "}\n",
       "\n",
       "#sk-container-id-4 a.estimator_doc_link.fitted:hover {\n",
       "  /* fitted */\n",
       "  background-color: var(--sklearn-color-fitted-level-3);\n",
       "}\n",
       "</style><div id=\"sk-container-id-4\" class=\"sk-top-container\"><div class=\"sk-text-repr-fallback\"><pre>GridSearchCV(cv=5, estimator=DecisionTreeRegressor(), n_jobs=-1,\n",
       "             param_grid={&#x27;max_depth&#x27;: [3, 5, 7, 10],\n",
       "                         &#x27;min_samples_leaf&#x27;: [1, 2, 4],\n",
       "                         &#x27;min_samples_split&#x27;: [2, 5, 10]},\n",
       "             return_train_score=True,\n",
       "             scoring=make_scorer(mean_squared_error, greater_is_better=False, response_method=&#x27;predict&#x27;))</pre><b>In a Jupyter environment, please rerun this cell to show the HTML representation or trust the notebook. <br />On GitHub, the HTML representation is unable to render, please try loading this page with nbviewer.org.</b></div><div class=\"sk-container\" hidden><div class=\"sk-item sk-dashed-wrapped\"><div class=\"sk-label-container\"><div class=\"sk-label fitted sk-toggleable\"><input class=\"sk-toggleable__control sk-hidden--visually\" id=\"sk-estimator-id-10\" type=\"checkbox\" ><label for=\"sk-estimator-id-10\" class=\"sk-toggleable__label fitted sk-toggleable__label-arrow\"><div><div>GridSearchCV</div></div><div><a class=\"sk-estimator-doc-link fitted\" rel=\"noreferrer\" target=\"_blank\" href=\"https://scikit-learn.org/1.6/modules/generated/sklearn.model_selection.GridSearchCV.html\">?<span>Documentation for GridSearchCV</span></a><span class=\"sk-estimator-doc-link fitted\">i<span>Fitted</span></span></div></label><div class=\"sk-toggleable__content fitted\"><pre>GridSearchCV(cv=5, estimator=DecisionTreeRegressor(), n_jobs=-1,\n",
       "             param_grid={&#x27;max_depth&#x27;: [3, 5, 7, 10],\n",
       "                         &#x27;min_samples_leaf&#x27;: [1, 2, 4],\n",
       "                         &#x27;min_samples_split&#x27;: [2, 5, 10]},\n",
       "             return_train_score=True,\n",
       "             scoring=make_scorer(mean_squared_error, greater_is_better=False, response_method=&#x27;predict&#x27;))</pre></div> </div></div><div class=\"sk-parallel\"><div class=\"sk-parallel-item\"><div class=\"sk-item\"><div class=\"sk-label-container\"><div class=\"sk-label fitted sk-toggleable\"><input class=\"sk-toggleable__control sk-hidden--visually\" id=\"sk-estimator-id-11\" type=\"checkbox\" ><label for=\"sk-estimator-id-11\" class=\"sk-toggleable__label fitted sk-toggleable__label-arrow\"><div><div>best_estimator_: DecisionTreeRegressor</div></div></label><div class=\"sk-toggleable__content fitted\"><pre>DecisionTreeRegressor(max_depth=10, min_samples_leaf=2, min_samples_split=10)</pre></div> </div></div><div class=\"sk-serial\"><div class=\"sk-item\"><div class=\"sk-estimator fitted sk-toggleable\"><input class=\"sk-toggleable__control sk-hidden--visually\" id=\"sk-estimator-id-12\" type=\"checkbox\" ><label for=\"sk-estimator-id-12\" class=\"sk-toggleable__label fitted sk-toggleable__label-arrow\"><div><div>DecisionTreeRegressor</div></div><div><a class=\"sk-estimator-doc-link fitted\" rel=\"noreferrer\" target=\"_blank\" href=\"https://scikit-learn.org/1.6/modules/generated/sklearn.tree.DecisionTreeRegressor.html\">?<span>Documentation for DecisionTreeRegressor</span></a></div></label><div class=\"sk-toggleable__content fitted\"><pre>DecisionTreeRegressor(max_depth=10, min_samples_leaf=2, min_samples_split=10)</pre></div> </div></div></div></div></div></div></div></div></div>"
      ],
      "text/plain": [
       "GridSearchCV(cv=5, estimator=DecisionTreeRegressor(), n_jobs=-1,\n",
       "             param_grid={'max_depth': [3, 5, 7, 10],\n",
       "                         'min_samples_leaf': [1, 2, 4],\n",
       "                         'min_samples_split': [2, 5, 10]},\n",
       "             return_train_score=True,\n",
       "             scoring=make_scorer(mean_squared_error, greater_is_better=False, response_method='predict'))"
      ]
     },
     "execution_count": 91,
     "metadata": {},
     "output_type": "execute_result"
    }
   ],
   "source": [
    "model_dt = DecisionTreeRegressor()\n",
    "grid_CV_bar = GridSearchCV(\n",
    "    model_dt, param_dt, cv=5, scoring=mse, return_train_score=True, n_jobs=-1\n",
    ")\n",
    "grid_CV_bar.fit(df_barcelona.loc[:, mi_features_10_bar].values, df_barcelona.loc[:, \"realsum_cut\"].values.ravel())\n",
    "\n",
    "grid_CV_par = GridSearchCV(\n",
    "    model_dt, param_dt, cv=5, scoring=mse, return_train_score=True, n_jobs=-1\n",
    ")\n",
    "grid_CV_par.fit(df_paris.loc[:, mi_features_10_par].values, df_paris.loc[:, \"realsum_cut\"].values.ravel())\n",
    "\n",
    "grid_CV_rom = GridSearchCV(\n",
    "    model_dt, param_dt, cv=5, scoring=mse, return_train_score=True, n_jobs=-1\n",
    ")\n",
    "grid_CV_rom.fit(df_rome.loc[:, mi_features_10_rom].values, df_rome.loc[:, \"realsum_cut\"].values.ravel())"
   ]
  },
  {
   "cell_type": "code",
   "execution_count": 92,
   "id": "82143653d0cc3843",
   "metadata": {
    "ExecuteTime": {
     "end_time": "2025-01-11T19:59:41.776495Z",
     "start_time": "2025-01-11T19:59:41.772463Z"
    }
   },
   "outputs": [],
   "source": [
    "dt_features_bar = df_barcelona.columns.tolist()\n",
    "dt_features_bar.remove(\"realsum_cut\")\n",
    "\n",
    "dt_features_par = df_paris.columns.tolist()\n",
    "dt_features_par.remove(\"realsum_cut\")\n",
    "\n",
    "dt_features_rom = df_rome.columns.tolist()\n",
    "dt_features_rom.remove(\"realsum_cut\")"
   ]
  },
  {
   "cell_type": "code",
   "execution_count": 93,
   "id": "164b5d7eaa9980cf",
   "metadata": {
    "ExecuteTime": {
     "end_time": "2025-01-11T19:59:43.364592Z",
     "start_time": "2025-01-11T19:59:41.834822Z"
    }
   },
   "outputs": [],
   "source": [
    "model_bar = DecisionTreeRegressor(**grid_CV_bar.best_params_)\n",
    "\n",
    "sf = SFS(\n",
    "    model_bar,\n",
    "    k_features=(5, 15),\n",
    "    forward=True,\n",
    "    floating=False,\n",
    "    verbose=0,\n",
    "    scoring=mse,\n",
    "    cv=5,\n",
    "    n_jobs=-1,\n",
    ")\n",
    "\n",
    "sffit = sf.fit(\n",
    "    df_barcelona.loc[:, dt_features_bar].values, df_barcelona.loc[:, \"realsum_cut\"].values.ravel()\n",
    ")\n",
    "dt_features_bar = df_barcelona.loc[:, dt_features_bar].columns[list(sffit.k_feature_idx_)]"
   ]
  },
  {
   "cell_type": "code",
   "execution_count": 94,
   "id": "3336103ec4a535f",
   "metadata": {
    "ExecuteTime": {
     "end_time": "2025-01-11T19:59:46.827593Z",
     "start_time": "2025-01-11T19:59:43.410383Z"
    }
   },
   "outputs": [],
   "source": [
    "model_par = DecisionTreeRegressor(**grid_CV_par.best_params_)\n",
    "\n",
    "sf = SFS(\n",
    "    model_par,\n",
    "    k_features=(5, 15),\n",
    "    forward=True,\n",
    "    floating=False,\n",
    "    verbose=0,\n",
    "    scoring=mse,\n",
    "    cv=5,\n",
    "    n_jobs=-1,\n",
    ")\n",
    "\n",
    "sffit = sf.fit(\n",
    "    df_paris.loc[:, dt_features_par].values, df_paris.loc[:, \"realsum_cut\"].values.ravel()\n",
    ")\n",
    "dt_features_par = df_paris.loc[:, dt_features_par].columns[list(sffit.k_feature_idx_)]"
   ]
  },
  {
   "cell_type": "code",
   "execution_count": 95,
   "id": "4027b690ae8f07f3",
   "metadata": {
    "ExecuteTime": {
     "end_time": "2025-01-11T19:59:51.875880Z",
     "start_time": "2025-01-11T19:59:46.869225Z"
    }
   },
   "outputs": [],
   "source": [
    "model_rom = DecisionTreeRegressor(**grid_CV_rom.best_params_)\n",
    "sf = SFS(\n",
    "    model_rom,\n",
    "    k_features=(5, 15),\n",
    "    forward=True,\n",
    "    floating=False,\n",
    "    verbose=0,\n",
    "    scoring=mse,\n",
    "    cv=5,\n",
    "    n_jobs=-1,\n",
    ")\n",
    "\n",
    "sffit = sf.fit(\n",
    "    df_rome.loc[:, dt_features_rom].values, df_rome.loc[:, \"realsum_cut\"].values.ravel()\n",
    ")\n",
    "dt_features_rom = df_rome.loc[:, dt_features_rom].columns[list(sffit.k_feature_idx_)]"
   ]
  },
  {
   "cell_type": "markdown",
   "id": "a975633cf044f4ce",
   "metadata": {},
   "source": [
    "#### Hyperparameters Tuning"
   ]
  },
  {
   "cell_type": "code",
   "execution_count": 96,
   "id": "baa95fb959bcbc11",
   "metadata": {
    "ExecuteTime": {
     "end_time": "2025-01-11T19:59:55.260075Z",
     "start_time": "2025-01-11T19:59:51.920877Z"
    }
   },
   "outputs": [
    {
     "name": "stdout",
     "output_type": "stream",
     "text": [
      "{'max_depth': 7, 'min_samples_leaf': 1, 'min_samples_split': 2}\n",
      "-13896.398215113903\n",
      "{'max_depth': 7, 'min_samples_leaf': 4, 'min_samples_split': 2}\n",
      "-14687.026842172176\n",
      "{'max_depth': 10, 'min_samples_leaf': 1, 'min_samples_split': 10}\n",
      "-14558.215337137104\n",
      "{'max_depth': 10, 'min_samples_leaf': 4, 'min_samples_split': 5}\n",
      "-13760.641214845324\n",
      "{'max_depth': 10, 'min_samples_leaf': 4, 'min_samples_split': 5}\n",
      "-13807.092044853413\n",
      "{'max_depth': 7, 'min_samples_leaf': 1, 'min_samples_split': 2}\n",
      "-13563.117003340067\n",
      "{'max_depth': 7, 'min_samples_leaf': 2, 'min_samples_split': 2}\n",
      "-14096.066494111565\n",
      "{'max_depth': 7, 'min_samples_leaf': 1, 'min_samples_split': 2}\n",
      "-13171.733885821197\n"
     ]
    },
    {
     "data": {
      "text/plain": [
       "(None, None, None, None, None, None, None, None)"
      ]
     },
     "execution_count": 96,
     "metadata": {},
     "output_type": "execute_result"
    }
   ],
   "source": [
    "(cv_proc(df_barcelona, br_features_bar, model_bar, param_dt, mse),\n",
    "cv_proc(df_barcelona, corr_features_bar, model_bar, param_dt, mse),\n",
    "cv_proc(df_barcelona, mi_features_bar, model_bar, param_dt, mse),\n",
    "cv_proc(df_barcelona, mi_features_10_bar, model_bar, param_dt, mse),\n",
    "cv_proc(df_barcelona, mi_features_14_bar, model_bar, param_dt, mse),\n",
    "cv_proc(df_barcelona, mi_features_17_bar, model_bar, param_dt, mse),\n",
    "cv_proc(df_barcelona, mi_features_20_bar, model_bar, param_dt, mse),\n",
    "cv_proc(df_barcelona, dt_features_bar, model_bar, param_dt, mse))"
   ]
  },
  {
   "cell_type": "code",
   "execution_count": 178,
   "id": "5e4b1e79ca12cffb",
   "metadata": {
    "ExecuteTime": {
     "end_time": "2025-01-11T21:44:15.601850Z",
     "start_time": "2025-01-11T21:44:15.589122Z"
    }
   },
   "outputs": [],
   "source": [
    "hp_barcelona = [\n",
    "    {'max_depth': 7, 'min_samples_leaf': 4, 'min_samples_split': 5},\n",
    "{'max_depth': 10, 'min_samples_leaf': 4, 'min_samples_split': 10},\n",
    "{'max_depth': 10, 'min_samples_leaf': 1, 'min_samples_split': 2},\n",
    "{'max_depth': 10, 'min_samples_leaf': 4, 'min_samples_split': 5},\n",
    "{'max_depth': 10, 'min_samples_leaf': 4, 'min_samples_split': 5},\n",
    "{'max_depth': 7, 'min_samples_leaf': 2, 'min_samples_split': 2},\n",
    "{'max_depth': 7, 'min_samples_leaf': 4, 'min_samples_split': 2},\n",
    "{'max_depth': 7, 'min_samples_leaf': 1, 'min_samples_split': 2}\n",
    "]"
   ]
  },
  {
   "cell_type": "code",
   "execution_count": 98,
   "id": "f9d22b5c8ecbe5f6",
   "metadata": {
    "ExecuteTime": {
     "end_time": "2025-01-11T20:00:03.318712Z",
     "start_time": "2025-01-11T19:59:55.362827Z"
    }
   },
   "outputs": [
    {
     "name": "stdout",
     "output_type": "stream",
     "text": [
      "{'max_depth': 10, 'min_samples_leaf': 4, 'min_samples_split': 2}\n",
      "-24477.87899567706\n",
      "{'max_depth': 10, 'min_samples_leaf': 4, 'min_samples_split': 5}\n",
      "-23457.740400532202\n",
      "{'max_depth': 10, 'min_samples_leaf': 4, 'min_samples_split': 5}\n",
      "-23427.456078451833\n",
      "{'max_depth': 10, 'min_samples_leaf': 4, 'min_samples_split': 2}\n",
      "-23271.848531347496\n",
      "{'max_depth': 10, 'min_samples_leaf': 2, 'min_samples_split': 2}\n",
      "-23972.85009478048\n",
      "{'max_depth': 10, 'min_samples_leaf': 2, 'min_samples_split': 2}\n",
      "-23819.656355935756\n",
      "{'max_depth': 10, 'min_samples_leaf': 4, 'min_samples_split': 5}\n",
      "-24367.558280602632\n",
      "{'max_depth': 10, 'min_samples_leaf': 1, 'min_samples_split': 5}\n",
      "-21939.622529027005\n"
     ]
    },
    {
     "data": {
      "text/plain": [
       "(None, None, None, None, None, None, None, None)"
      ]
     },
     "execution_count": 98,
     "metadata": {},
     "output_type": "execute_result"
    }
   ],
   "source": [
    "(cv_proc(df_paris, br_features_par, model_par, param_dt, mse),\n",
    "cv_proc(df_paris, corr_features_par, model_par, param_dt, mse),\n",
    "cv_proc(df_paris, mi_features_par, model_par, param_dt, mse),\n",
    "cv_proc(df_paris, mi_features_10_par, model_par, param_dt, mse),\n",
    "cv_proc(df_paris, mi_features_14_par, model_par, param_dt, mse),\n",
    "cv_proc(df_paris, mi_features_17_par, model_par, param_dt, mse),\n",
    "cv_proc(df_paris, mi_features_20_par, model_par, param_dt, mse),\n",
    "cv_proc(df_paris, dt_features_par, model_par, param_dt, mse))"
   ]
  },
  {
   "cell_type": "code",
   "execution_count": 179,
   "id": "2164b016b8ac7b89",
   "metadata": {
    "ExecuteTime": {
     "end_time": "2025-01-11T21:44:17.675111Z",
     "start_time": "2025-01-11T21:44:17.671614Z"
    }
   },
   "outputs": [],
   "source": [
    "hp_paris = [\n",
    "    {'max_depth': 10, 'min_samples_leaf': 4, 'min_samples_split': 5},\n",
    "{'max_depth': 10, 'min_samples_leaf': 2, 'min_samples_split': 5},\n",
    "{'max_depth': 10, 'min_samples_leaf': 4, 'min_samples_split': 2},\n",
    "{'max_depth': 10, 'min_samples_leaf': 4, 'min_samples_split': 2},\n",
    "{'max_depth': 10, 'min_samples_leaf': 4, 'min_samples_split': 2},\n",
    "{'max_depth': 10, 'min_samples_leaf': 2, 'min_samples_split': 2},\n",
    "{'max_depth': 10, 'min_samples_leaf': 4, 'min_samples_split': 5},\n",
    "{'max_depth': 10, 'min_samples_leaf': 4, 'min_samples_split': 2}\n",
    "]"
   ]
  },
  {
   "cell_type": "code",
   "execution_count": 100,
   "id": "3627a2d6436c7d8e",
   "metadata": {
    "ExecuteTime": {
     "end_time": "2025-01-11T20:00:14.323824Z",
     "start_time": "2025-01-11T20:00:03.469871Z"
    }
   },
   "outputs": [
    {
     "name": "stdout",
     "output_type": "stream",
     "text": [
      "{'max_depth': 10, 'min_samples_leaf': 1, 'min_samples_split': 2}\n",
      "-3370.3841982702857\n",
      "{'max_depth': 10, 'min_samples_leaf': 1, 'min_samples_split': 10}\n",
      "-3354.5707700038815\n",
      "{'max_depth': 10, 'min_samples_leaf': 1, 'min_samples_split': 10}\n",
      "-3684.4464054686273\n",
      "{'max_depth': 10, 'min_samples_leaf': 2, 'min_samples_split': 2}\n",
      "-3611.4309297823793\n",
      "{'max_depth': 10, 'min_samples_leaf': 1, 'min_samples_split': 10}\n",
      "-3414.903972528556\n",
      "{'max_depth': 10, 'min_samples_leaf': 1, 'min_samples_split': 10}\n",
      "-3457.281045049565\n",
      "{'max_depth': 10, 'min_samples_leaf': 1, 'min_samples_split': 10}\n",
      "-3449.864529602254\n",
      "{'max_depth': 10, 'min_samples_leaf': 1, 'min_samples_split': 10}\n",
      "-3312.7034399243967\n"
     ]
    },
    {
     "data": {
      "text/plain": [
       "(None, None, None, None, None, None, None, None)"
      ]
     },
     "execution_count": 100,
     "metadata": {},
     "output_type": "execute_result"
    }
   ],
   "source": [
    "(cv_proc(df_rome, br_features_rom, model_rom, param_dt, mse),\n",
    "cv_proc(df_rome, corr_features_rom, model_rom, param_dt, mse),\n",
    "cv_proc(df_rome, mi_features_rom, model_rom, param_dt, mse),\n",
    "cv_proc(df_rome, mi_features_10_rom, model_rom, param_dt, mse),\n",
    "cv_proc(df_rome, mi_features_14_rom, model_rom, param_dt, mse),\n",
    "cv_proc(df_rome, mi_features_17_rom, model_rom, param_dt, mse),\n",
    "cv_proc(df_rome, mi_features_20_rom, model_rom, param_dt, mse),\n",
    "cv_proc(df_rome, dt_features_rom, model_rom, param_dt, mse))"
   ]
  },
  {
   "cell_type": "code",
   "execution_count": 180,
   "id": "525f1ae8eaec144c",
   "metadata": {
    "ExecuteTime": {
     "end_time": "2025-01-11T21:44:19.759966Z",
     "start_time": "2025-01-11T21:44:19.756192Z"
    }
   },
   "outputs": [],
   "source": [
    "hp_rome = [\n",
    "    {'max_depth': 10, 'min_samples_leaf': 1, 'min_samples_split': 2},\n",
    "{'max_depth': 10, 'min_samples_leaf': 1, 'min_samples_split': 10},\n",
    "{'max_depth': 10, 'min_samples_leaf': 1, 'min_samples_split': 10},\n",
    "{'max_depth': 10, 'min_samples_leaf': 2, 'min_samples_split': 5},\n",
    "{'max_depth': 10, 'min_samples_leaf': 1, 'min_samples_split': 10},\n",
    "{'max_depth': 10, 'min_samples_leaf': 1, 'min_samples_split': 10},\n",
    "{'max_depth': 10, 'min_samples_leaf': 1, 'min_samples_split': 10},\n",
    "{'max_depth': 10, 'min_samples_leaf': 1, 'min_samples_split': 2}\n",
    "]"
   ]
  },
  {
   "cell_type": "markdown",
   "id": "40e9599ec5e651d",
   "metadata": {},
   "source": [
    "#### Model Evaluation"
   ]
  },
  {
   "cell_type": "code",
   "execution_count": 102,
   "id": "5c05e242161efa36",
   "metadata": {
    "ExecuteTime": {
     "end_time": "2025-01-11T20:00:16.954831Z",
     "start_time": "2025-01-11T20:00:14.423919Z"
    }
   },
   "outputs": [],
   "source": [
    "model = DecisionTreeRegressor(**hp_barcelona[0])\n",
    "cv_output0_rmse = CV_rmse_wrapper(df_barcelona, br_features_bar, model,10, 123, shuff=True, display_res=True)\n",
    "cv_output0_mape = CV_wrapper(df_barcelona, br_features_bar, model, 10, 123, shuff=True,  display_res=True)\n",
    "\n",
    "model = DecisionTreeRegressor(**hp_barcelona[1])\n",
    "cv_output1_rmse = CV_rmse_wrapper(df_barcelona, corr_features_bar, model,10, 123, shuff=True, display_res=True)\n",
    "cv_output1_mape = CV_wrapper(df_barcelona, corr_features_bar, model, 10, 123, shuff=True,  display_res=True)\n",
    "\n",
    "model = DecisionTreeRegressor(**hp_barcelona[2])\n",
    "cv_output2_rmse = CV_rmse_wrapper(df_barcelona, mi_features_bar, model,10, 123, shuff=True, display_res=True)\n",
    "cv_output2_mape = CV_wrapper(df_barcelona, mi_features_bar, model, 10, 123, shuff=True,  display_res=True)\n",
    "\n",
    "model = DecisionTreeRegressor(**hp_barcelona[3])\n",
    "cv_output3_rmse = CV_rmse_wrapper(df_barcelona, mi_features_10_bar, model,10, 123, shuff=True, display_res=True)\n",
    "cv_output3_mape = CV_wrapper(df_barcelona, mi_features_10_bar, model, 10, 123, shuff=True,  display_res=True)\n",
    "\n",
    "model = DecisionTreeRegressor(**hp_barcelona[4])\n",
    "cv_output4_rmse = CV_rmse_wrapper(df_barcelona, mi_features_14_bar, model,10, 123, shuff=True, display_res=True)\n",
    "cv_output4_mape = CV_wrapper(df_barcelona, mi_features_14_bar, model, 10, 123, shuff=True,  display_res=True)\n",
    "\n",
    "model = DecisionTreeRegressor(**hp_barcelona[5])\n",
    "cv_output5_rmse = CV_rmse_wrapper(df_barcelona, mi_features_17_bar, model,10, 123, shuff=True, display_res=True)\n",
    "cv_output5_mape = CV_wrapper(df_barcelona, mi_features_17_bar, model, 10, 123, shuff=True,  display_res=True)\n",
    "\n",
    "model = DecisionTreeRegressor(**hp_barcelona[6])\n",
    "cv_output6_rmse = CV_rmse_wrapper(df_barcelona, mi_features_20_bar, model,10, 123, shuff=True, display_res=True)\n",
    "cv_output6_mape = CV_wrapper(df_barcelona, mi_features_20_bar, model, 10, 123, shuff=True,  display_res=True)\n",
    "\n",
    "model = DecisionTreeRegressor(**hp_barcelona[7])\n",
    "cv_output7_rmse = CV_rmse_wrapper(df_barcelona, dt_features_bar, model,10, 123, shuff=True, display_res=True)\n",
    "cv_output7_mape = CV_wrapper(df_barcelona, dt_features_bar, model, 10, 123, shuff=True,  display_res=True)"
   ]
  },
  {
   "cell_type": "code",
   "execution_count": 103,
   "id": "fd37004eb764083",
   "metadata": {
    "ExecuteTime": {
     "end_time": "2025-01-11T20:00:16.968423Z",
     "start_time": "2025-01-11T20:00:16.963177Z"
    }
   },
   "outputs": [
    {
     "data": {
      "text/plain": [
       "(cv_train    0.233935\n",
       " cv_val      0.288560\n",
       " dtype: float64,\n",
       " cv_train     90.416896\n",
       " cv_val      118.489039\n",
       " dtype: float64)"
      ]
     },
     "execution_count": 103,
     "metadata": {},
     "output_type": "execute_result"
    }
   ],
   "source": [
    "(cv_output0_mape.mean(), cv_output0_rmse.mean())"
   ]
  },
  {
   "cell_type": "code",
   "execution_count": 104,
   "id": "be0cb94a36117e25",
   "metadata": {
    "ExecuteTime": {
     "end_time": "2025-01-11T20:00:17.015495Z",
     "start_time": "2025-01-11T20:00:17.009603Z"
    }
   },
   "outputs": [
    {
     "data": {
      "text/plain": [
       "(cv_train    0.217454\n",
       " cv_val      0.284355\n",
       " dtype: float64,\n",
       " cv_train     87.962438\n",
       " cv_val      117.885337\n",
       " dtype: float64)"
      ]
     },
     "execution_count": 104,
     "metadata": {},
     "output_type": "execute_result"
    }
   ],
   "source": [
    "(cv_output1_mape.mean(), cv_output1_rmse.mean())"
   ]
  },
  {
   "cell_type": "code",
   "execution_count": 105,
   "id": "2a308a12bc0517cd",
   "metadata": {
    "ExecuteTime": {
     "end_time": "2025-01-11T20:00:17.066375Z",
     "start_time": "2025-01-11T20:00:17.061387Z"
    }
   },
   "outputs": [
    {
     "data": {
      "text/plain": [
       "(cv_train    0.157216\n",
       " cv_val      0.253679\n",
       " dtype: float64,\n",
       " cv_train     60.213514\n",
       " cv_val      120.524624\n",
       " dtype: float64)"
      ]
     },
     "execution_count": 105,
     "metadata": {},
     "output_type": "execute_result"
    }
   ],
   "source": [
    "(cv_output2_mape.mean(), cv_output2_rmse.mean())"
   ]
  },
  {
   "cell_type": "code",
   "execution_count": 106,
   "id": "1d39503b3da4a123",
   "metadata": {
    "ExecuteTime": {
     "end_time": "2025-01-11T20:00:17.113144Z",
     "start_time": "2025-01-11T20:00:17.108607Z"
    }
   },
   "outputs": [
    {
     "data": {
      "text/plain": [
       "(cv_train    0.186727\n",
       " cv_val      0.277487\n",
       " dtype: float64,\n",
       " cv_train     76.215502\n",
       " cv_val      120.222100\n",
       " dtype: float64)"
      ]
     },
     "execution_count": 106,
     "metadata": {},
     "output_type": "execute_result"
    }
   ],
   "source": [
    "(cv_output3_mape.mean(), cv_output3_rmse.mean())"
   ]
  },
  {
   "cell_type": "code",
   "execution_count": 107,
   "id": "a5072b5873192dfa",
   "metadata": {
    "ExecuteTime": {
     "end_time": "2025-01-11T20:00:17.161489Z",
     "start_time": "2025-01-11T20:00:17.156240Z"
    }
   },
   "outputs": [
    {
     "data": {
      "text/plain": [
       "(cv_train    0.186858\n",
       " cv_val      0.279166\n",
       " dtype: float64,\n",
       " cv_train     75.907371\n",
       " cv_val      120.764245\n",
       " dtype: float64)"
      ]
     },
     "execution_count": 107,
     "metadata": {},
     "output_type": "execute_result"
    }
   ],
   "source": [
    "(cv_output4_mape.mean(), cv_output4_rmse.mean())"
   ]
  },
  {
   "cell_type": "code",
   "execution_count": 108,
   "id": "2cec85c9dc0eba5c",
   "metadata": {
    "ExecuteTime": {
     "end_time": "2025-01-11T20:00:17.224004Z",
     "start_time": "2025-01-11T20:00:17.218855Z"
    }
   },
   "outputs": [
    {
     "data": {
      "text/plain": [
       "(cv_train    0.229581\n",
       " cv_val      0.282516\n",
       " dtype: float64,\n",
       " cv_train     87.704476\n",
       " cv_val      119.147878\n",
       " dtype: float64)"
      ]
     },
     "execution_count": 108,
     "metadata": {},
     "output_type": "execute_result"
    }
   ],
   "source": [
    "(cv_output5_mape.mean(), cv_output5_rmse.mean())"
   ]
  },
  {
   "cell_type": "code",
   "execution_count": 109,
   "id": "50229d731e194268",
   "metadata": {
    "ExecuteTime": {
     "end_time": "2025-01-11T20:00:17.287915Z",
     "start_time": "2025-01-11T20:00:17.282856Z"
    }
   },
   "outputs": [
    {
     "data": {
      "text/plain": [
       "(cv_train    0.234408\n",
       " cv_val      0.286735\n",
       " dtype: float64,\n",
       " cv_train     90.372936\n",
       " cv_val      118.186288\n",
       " dtype: float64)"
      ]
     },
     "execution_count": 109,
     "metadata": {},
     "output_type": "execute_result"
    }
   ],
   "source": [
    "(cv_output6_mape.mean(), cv_output6_rmse.mean())"
   ]
  },
  {
   "cell_type": "code",
   "execution_count": 110,
   "id": "cd4bbdd5ddab3083",
   "metadata": {
    "ExecuteTime": {
     "end_time": "2025-01-11T20:00:17.364860Z",
     "start_time": "2025-01-11T20:00:17.360062Z"
    }
   },
   "outputs": [
    {
     "data": {
      "text/plain": [
       "(cv_train    0.247278\n",
       " cv_val      0.281582\n",
       " dtype: float64,\n",
       " cv_train     95.207198\n",
       " cv_val      115.719865\n",
       " dtype: float64)"
      ]
     },
     "execution_count": 110,
     "metadata": {},
     "output_type": "execute_result"
    }
   ],
   "source": [
    "(cv_output7_mape.mean(), cv_output7_rmse.mean())"
   ]
  },
  {
   "cell_type": "code",
   "execution_count": 111,
   "id": "13d786fca0d03586",
   "metadata": {
    "ExecuteTime": {
     "end_time": "2025-01-11T20:00:22.826803Z",
     "start_time": "2025-01-11T20:00:17.412894Z"
    }
   },
   "outputs": [],
   "source": [
    "model = DecisionTreeRegressor(**hp_paris[0])\n",
    "cv_output0_rmse = CV_rmse_wrapper(df_paris, br_features_par, model,10, 123, shuff=True, display_res=True)\n",
    "cv_output0_mape = CV_wrapper(df_paris, br_features_par, model, 10, 123, shuff=True,  display_res=True)\n",
    "\n",
    "model = DecisionTreeRegressor(**hp_paris[1])\n",
    "cv_output1_rmse = CV_rmse_wrapper(df_paris, corr_features_par, model,10, 123, shuff=True, display_res=True)\n",
    "cv_output1_mape = CV_wrapper(df_paris, corr_features_par, model, 10, 123, shuff=True,  display_res=True)\n",
    "\n",
    "model = DecisionTreeRegressor(**hp_paris[2])\n",
    "cv_output2_rmse = CV_rmse_wrapper(df_paris, mi_features_par, model,10, 123, shuff=True, display_res=True)\n",
    "cv_output2_mape = CV_wrapper(df_paris, mi_features_par, model, 10, 123, shuff=True,  display_res=True)\n",
    "\n",
    "model = DecisionTreeRegressor(**hp_paris[3])\n",
    "cv_output3_rmse = CV_rmse_wrapper(df_paris, mi_features_10_par, model,10, 123, shuff=True, display_res=True)\n",
    "cv_output3_mape = CV_wrapper(df_paris, mi_features_10_par, model, 10, 123, shuff=True,  display_res=True)\n",
    "\n",
    "model = DecisionTreeRegressor(**hp_paris[4])\n",
    "cv_output4_rmse = CV_rmse_wrapper(df_paris, mi_features_14_par, model,10, 123, shuff=True, display_res=True)\n",
    "cv_output4_mape = CV_wrapper(df_paris, mi_features_14_par, model, 10, 123, shuff=True,  display_res=True)\n",
    "\n",
    "model = DecisionTreeRegressor(**hp_paris[5])\n",
    "cv_output5_rmse = CV_rmse_wrapper(df_paris, mi_features_17_par, model,10, 123, shuff=True, display_res=True)\n",
    "cv_output5_mape = CV_wrapper(df_paris, mi_features_17_par, model, 10, 123, shuff=True,  display_res=True)\n",
    "\n",
    "model = DecisionTreeRegressor(**hp_paris[6])\n",
    "cv_output6_rmse = CV_rmse_wrapper(df_paris, mi_features_20_par, model,10, 123, shuff=True, display_res=True)\n",
    "cv_output6_mape = CV_wrapper(df_paris, mi_features_20_par, model, 10, 123, shuff=True,  display_res=True)\n",
    "\n",
    "model = DecisionTreeRegressor(**hp_paris[7])\n",
    "cv_output7_rmse = CV_rmse_wrapper(df_paris, dt_features_par, model,10, 123, shuff=True, display_res=True)\n",
    "cv_output7_mape = CV_wrapper(df_paris, dt_features_par, model, 10, 123, shuff=True,  display_res=True)"
   ]
  },
  {
   "cell_type": "code",
   "execution_count": 112,
   "id": "9bf4ad32bcb009a0",
   "metadata": {
    "ExecuteTime": {
     "end_time": "2025-01-11T20:00:22.874243Z",
     "start_time": "2025-01-11T20:00:22.868003Z"
    }
   },
   "outputs": [
    {
     "data": {
      "text/plain": [
       "(cv_train    0.207581\n",
       " cv_val      0.268171\n",
       " dtype: float64,\n",
       " cv_train    112.984609\n",
       " cv_val      147.673027\n",
       " dtype: float64)"
      ]
     },
     "execution_count": 112,
     "metadata": {},
     "output_type": "execute_result"
    }
   ],
   "source": [
    "(cv_output0_mape.mean(), cv_output0_rmse.mean())"
   ]
  },
  {
   "cell_type": "code",
   "execution_count": 113,
   "id": "ec323208b511adc2",
   "metadata": {
    "ExecuteTime": {
     "end_time": "2025-01-11T20:00:22.920509Z",
     "start_time": "2025-01-11T20:00:22.916151Z"
    }
   },
   "outputs": [
    {
     "data": {
      "text/plain": [
       "(cv_train    0.200928\n",
       " cv_val      0.261639\n",
       " dtype: float64,\n",
       " cv_train    108.395615\n",
       " cv_val      147.452949\n",
       " dtype: float64)"
      ]
     },
     "execution_count": 113,
     "metadata": {},
     "output_type": "execute_result"
    }
   ],
   "source": [
    "(cv_output1_mape.mean(), cv_output1_rmse.mean())"
   ]
  },
  {
   "cell_type": "code",
   "execution_count": 114,
   "id": "bc7124a38d59ef8b",
   "metadata": {
    "ExecuteTime": {
     "end_time": "2025-01-11T20:00:22.962909Z",
     "start_time": "2025-01-11T20:00:22.957634Z"
    }
   },
   "outputs": [
    {
     "data": {
      "text/plain": [
       "(cv_train    0.209516\n",
       " cv_val      0.271194\n",
       " dtype: float64,\n",
       " cv_train    114.644996\n",
       " cv_val      148.548929\n",
       " dtype: float64)"
      ]
     },
     "execution_count": 114,
     "metadata": {},
     "output_type": "execute_result"
    }
   ],
   "source": [
    "(cv_output2_mape.mean(), cv_output2_rmse.mean())"
   ]
  },
  {
   "cell_type": "code",
   "execution_count": 115,
   "id": "78ed7646b467b796",
   "metadata": {
    "ExecuteTime": {
     "end_time": "2025-01-11T20:00:23.009609Z",
     "start_time": "2025-01-11T20:00:23.004620Z"
    }
   },
   "outputs": [
    {
     "data": {
      "text/plain": [
       "(cv_train    0.205765\n",
       " cv_val      0.265548\n",
       " dtype: float64,\n",
       " cv_train    114.029539\n",
       " cv_val      147.628932\n",
       " dtype: float64)"
      ]
     },
     "execution_count": 115,
     "metadata": {},
     "output_type": "execute_result"
    }
   ],
   "source": [
    "(cv_output3_mape.mean(), cv_output3_rmse.mean())"
   ]
  },
  {
   "cell_type": "code",
   "execution_count": 116,
   "id": "e5244e1ece8ec03c",
   "metadata": {
    "ExecuteTime": {
     "end_time": "2025-01-11T20:00:23.054422Z",
     "start_time": "2025-01-11T20:00:23.050194Z"
    }
   },
   "outputs": [
    {
     "data": {
      "text/plain": [
       "(cv_train    0.203707\n",
       " cv_val      0.263440\n",
       " dtype: float64,\n",
       " cv_train    112.487426\n",
       " cv_val      147.406876\n",
       " dtype: float64)"
      ]
     },
     "execution_count": 116,
     "metadata": {},
     "output_type": "execute_result"
    }
   ],
   "source": [
    "(cv_output4_mape.mean(), cv_output4_rmse.mean())"
   ]
  },
  {
   "cell_type": "code",
   "execution_count": 117,
   "id": "ee33026a4f51be29",
   "metadata": {
    "ExecuteTime": {
     "end_time": "2025-01-11T20:00:23.099924Z",
     "start_time": "2025-01-11T20:00:23.095765Z"
    }
   },
   "outputs": [
    {
     "data": {
      "text/plain": [
       "(cv_train    0.189653\n",
       " cv_val      0.258515\n",
       " dtype: float64,\n",
       " cv_train    105.423331\n",
       " cv_val      146.888904\n",
       " dtype: float64)"
      ]
     },
     "execution_count": 117,
     "metadata": {},
     "output_type": "execute_result"
    }
   ],
   "source": [
    "(cv_output5_mape.mean(), cv_output5_rmse.mean())"
   ]
  },
  {
   "cell_type": "code",
   "execution_count": 118,
   "id": "a37cb1b080f1b259",
   "metadata": {
    "ExecuteTime": {
     "end_time": "2025-01-11T20:00:23.145030Z",
     "start_time": "2025-01-11T20:00:23.140688Z"
    }
   },
   "outputs": [
    {
     "data": {
      "text/plain": [
       "(cv_train    0.202331\n",
       " cv_val      0.263091\n",
       " dtype: float64,\n",
       " cv_train    111.405264\n",
       " cv_val      147.375078\n",
       " dtype: float64)"
      ]
     },
     "execution_count": 118,
     "metadata": {},
     "output_type": "execute_result"
    }
   ],
   "source": [
    "(cv_output6_mape.mean(), cv_output6_rmse.mean())"
   ]
  },
  {
   "cell_type": "code",
   "execution_count": 119,
   "id": "305f23722a72e942",
   "metadata": {
    "ExecuteTime": {
     "end_time": "2025-01-11T20:00:23.197616Z",
     "start_time": "2025-01-11T20:00:23.193092Z"
    }
   },
   "outputs": [
    {
     "data": {
      "text/plain": [
       "(cv_train    0.207788\n",
       " cv_val      0.265608\n",
       " dtype: float64,\n",
       " cv_train    116.581702\n",
       " cv_val      146.390569\n",
       " dtype: float64)"
      ]
     },
     "execution_count": 119,
     "metadata": {},
     "output_type": "execute_result"
    }
   ],
   "source": [
    "(cv_output7_mape.mean(), cv_output7_rmse.mean())"
   ]
  },
  {
   "cell_type": "code",
   "execution_count": 120,
   "id": "3f153c0c0e1e2b3e",
   "metadata": {
    "ExecuteTime": {
     "end_time": "2025-01-11T20:00:29.941576Z",
     "start_time": "2025-01-11T20:00:23.257204Z"
    }
   },
   "outputs": [],
   "source": [
    "model = DecisionTreeRegressor(**hp_rome[0])\n",
    "cv_output0_rmse = CV_rmse_wrapper(df_rome, br_features_rom, model,10, 123, shuff=True, display_res=True)\n",
    "cv_output0_mape = CV_wrapper(df_rome, br_features_rom, model, 10, 123, shuff=True,  display_res=True)\n",
    "\n",
    "model = DecisionTreeRegressor(**hp_rome[1])\n",
    "cv_output1_rmse = CV_rmse_wrapper(df_rome, corr_features_rom, model,10, 123, shuff=True, display_res=True)\n",
    "cv_output1_mape = CV_wrapper(df_rome, corr_features_rom, model, 10, 123, shuff=True,  display_res=True)\n",
    "\n",
    "model = DecisionTreeRegressor(**hp_rome[2])\n",
    "cv_output2_rmse = CV_rmse_wrapper(df_rome, mi_features_rom, model,10, 123, shuff=True, display_res=True)\n",
    "cv_output2_mape = CV_wrapper(df_rome, mi_features_rom, model, 10, 123, shuff=True,  display_res=True)\n",
    "\n",
    "model = DecisionTreeRegressor(**hp_rome[3])\n",
    "cv_output3_rmse = CV_rmse_wrapper(df_rome, mi_features_10_rom, model,10, 123, shuff=True, display_res=True)\n",
    "cv_output3_mape = CV_wrapper(df_rome, mi_features_10_rom, model, 10, 123, shuff=True,  display_res=True)\n",
    "\n",
    "model = DecisionTreeRegressor(**hp_rome[4])\n",
    "cv_output4_rmse = CV_rmse_wrapper(df_rome, mi_features_14_rom, model,10, 123, shuff=True, display_res=True)\n",
    "cv_output4_mape = CV_wrapper(df_rome, mi_features_14_rom, model, 10, 123, shuff=True,  display_res=True)\n",
    "\n",
    "model = DecisionTreeRegressor(**hp_rome[5])\n",
    "cv_output5_rmse = CV_rmse_wrapper(df_rome, mi_features_17_rom, model,10, 123, shuff=True, display_res=True)\n",
    "cv_output5_mape = CV_wrapper(df_rome, mi_features_17_rom, model, 10, 123, shuff=True,  display_res=True)\n",
    "\n",
    "model = DecisionTreeRegressor(**hp_rome[6])\n",
    "cv_output6_rmse = CV_rmse_wrapper(df_rome, mi_features_20_rom, model,10, 123, shuff=True, display_res=True)\n",
    "cv_output6_mape = CV_wrapper(df_rome, mi_features_20_rom, model, 10, 123, shuff=True,  display_res=True)\n",
    "\n",
    "model = DecisionTreeRegressor(**hp_rome[7])\n",
    "cv_output7_rmse = CV_rmse_wrapper(df_rome, dt_features_rom, model,10, 123, shuff=True, display_res=True)\n",
    "cv_output7_mape = CV_wrapper(df_rome, dt_features_rom, model, 10, 123, shuff=True,  display_res=True)"
   ]
  },
  {
   "cell_type": "code",
   "execution_count": 121,
   "id": "85ada8ddeadfa4bb",
   "metadata": {
    "ExecuteTime": {
     "end_time": "2025-01-11T20:00:29.982562Z",
     "start_time": "2025-01-11T20:00:29.978624Z"
    }
   },
   "outputs": [
    {
     "data": {
      "text/plain": [
       "(cv_train    0.145430\n",
       " cv_val      0.192615\n",
       " dtype: float64,\n",
       " cv_train    41.654885\n",
       " cv_val      58.121207\n",
       " dtype: float64)"
      ]
     },
     "execution_count": 121,
     "metadata": {},
     "output_type": "execute_result"
    }
   ],
   "source": [
    "(cv_output0_mape.mean(), cv_output0_rmse.mean())"
   ]
  },
  {
   "cell_type": "code",
   "execution_count": 122,
   "id": "f0f2e087b63a4ba9",
   "metadata": {
    "ExecuteTime": {
     "end_time": "2025-01-11T20:00:30.064425Z",
     "start_time": "2025-01-11T20:00:30.059810Z"
    }
   },
   "outputs": [
    {
     "data": {
      "text/plain": [
       "(cv_train    0.156965\n",
       " cv_val      0.198944\n",
       " dtype: float64,\n",
       " cv_train    44.365603\n",
       " cv_val      57.872158\n",
       " dtype: float64)"
      ]
     },
     "execution_count": 122,
     "metadata": {},
     "output_type": "execute_result"
    }
   ],
   "source": [
    "(cv_output1_mape.mean(), cv_output1_rmse.mean())"
   ]
  },
  {
   "cell_type": "code",
   "execution_count": 123,
   "id": "e15a18a8d1ad0fa4",
   "metadata": {
    "ExecuteTime": {
     "end_time": "2025-01-11T20:00:30.089170Z",
     "start_time": "2025-01-11T20:00:30.085251Z"
    }
   },
   "outputs": [
    {
     "data": {
      "text/plain": [
       "(cv_train    0.165086\n",
       " cv_val      0.205358\n",
       " dtype: float64,\n",
       " cv_train    47.437986\n",
       " cv_val      59.450308\n",
       " dtype: float64)"
      ]
     },
     "execution_count": 123,
     "metadata": {},
     "output_type": "execute_result"
    }
   ],
   "source": [
    "(cv_output2_mape.mean(), cv_output2_rmse.mean())"
   ]
  },
  {
   "cell_type": "code",
   "execution_count": 124,
   "id": "78341bb033fb239c",
   "metadata": {
    "ExecuteTime": {
     "end_time": "2025-01-11T20:00:30.133855Z",
     "start_time": "2025-01-11T20:00:30.129634Z"
    }
   },
   "outputs": [
    {
     "data": {
      "text/plain": [
       "(cv_train    0.154635\n",
       " cv_val      0.196901\n",
       " dtype: float64,\n",
       " cv_train    44.905058\n",
       " cv_val      58.738532\n",
       " dtype: float64)"
      ]
     },
     "execution_count": 124,
     "metadata": {},
     "output_type": "execute_result"
    }
   ],
   "source": [
    "(cv_output3_mape.mean(), cv_output3_rmse.mean())"
   ]
  },
  {
   "cell_type": "code",
   "execution_count": 125,
   "id": "3569e5ed2188ecbc",
   "metadata": {
    "ExecuteTime": {
     "end_time": "2025-01-11T20:00:30.176714Z",
     "start_time": "2025-01-11T20:00:30.172280Z"
    }
   },
   "outputs": [
    {
     "data": {
      "text/plain": [
       "(cv_train    0.156601\n",
       " cv_val      0.198718\n",
       " dtype: float64,\n",
       " cv_train    44.101283\n",
       " cv_val      57.993151\n",
       " dtype: float64)"
      ]
     },
     "execution_count": 125,
     "metadata": {},
     "output_type": "execute_result"
    }
   ],
   "source": [
    "(cv_output4_mape.mean(), cv_output4_rmse.mean())"
   ]
  },
  {
   "cell_type": "code",
   "execution_count": 126,
   "id": "97e4f919d3706b27",
   "metadata": {
    "ExecuteTime": {
     "end_time": "2025-01-11T20:00:30.222288Z",
     "start_time": "2025-01-11T20:00:30.217725Z"
    }
   },
   "outputs": [
    {
     "data": {
      "text/plain": [
       "(cv_train    0.155635\n",
       " cv_val      0.199877\n",
       " dtype: float64,\n",
       " cv_train    43.967856\n",
       " cv_val      58.277635\n",
       " dtype: float64)"
      ]
     },
     "execution_count": 126,
     "metadata": {},
     "output_type": "execute_result"
    }
   ],
   "source": [
    "(cv_output5_mape.mean(), cv_output5_rmse.mean())"
   ]
  },
  {
   "cell_type": "code",
   "execution_count": 127,
   "id": "e56050d4c739102e",
   "metadata": {
    "ExecuteTime": {
     "end_time": "2025-01-11T20:00:30.306760Z",
     "start_time": "2025-01-11T20:00:30.301727Z"
    }
   },
   "outputs": [
    {
     "data": {
      "text/plain": [
       "(cv_train    0.155286\n",
       " cv_val      0.200249\n",
       " dtype: float64,\n",
       " cv_train    43.879334\n",
       " cv_val      58.551955\n",
       " dtype: float64)"
      ]
     },
     "execution_count": 127,
     "metadata": {},
     "output_type": "execute_result"
    }
   ],
   "source": [
    "(cv_output6_mape.mean(), cv_output6_rmse.mean())"
   ]
  },
  {
   "cell_type": "code",
   "execution_count": 128,
   "id": "6de91852f3640a60",
   "metadata": {
    "ExecuteTime": {
     "end_time": "2025-01-11T20:00:30.338697Z",
     "start_time": "2025-01-11T20:00:30.334967Z"
    }
   },
   "outputs": [
    {
     "data": {
      "text/plain": [
       "(cv_train    0.144496\n",
       " cv_val      0.193005\n",
       " dtype: float64,\n",
       " cv_train    41.584281\n",
       " cv_val      57.160435\n",
       " dtype: float64)"
      ]
     },
     "execution_count": 128,
     "metadata": {},
     "output_type": "execute_result"
    }
   ],
   "source": [
    "(cv_output7_mape.mean(), cv_output7_rmse.mean())"
   ]
  },
  {
   "cell_type": "markdown",
   "id": "632062bcb51c9080",
   "metadata": {},
   "source": [
    "The best Decision Tree model performance is achieved with the features obtained with Forward Sequential Feature Elimination method for Rome, top 8 features based on the Mutual Information Score for Barcelona, and top 17 features based on the MI score. Let's save the models."
   ]
  },
  {
   "cell_type": "code",
   "execution_count": 182,
   "id": "efb9a9d88637931c",
   "metadata": {
    "ExecuteTime": {
     "end_time": "2025-01-11T21:44:41.259420Z",
     "start_time": "2025-01-11T21:44:41.183981Z"
    }
   },
   "outputs": [],
   "source": [
    "model_bar = DecisionTreeRegressor(**hp_barcelona[2])\n",
    "model_bar.fit(df_barcelona.loc[:, dt_features_bar].values, df_barcelona.loc[:, \"realsum_cut\"].values.ravel())\n",
    "pickle.dump(model_bar, open(\"models/model_barcelona_dt.sav\", \"wb\"))\n",
    "\n",
    "model_par = DecisionTreeRegressor(**hp_paris[5])\n",
    "model_par.fit(df_paris.loc[:, dt_features_par].values, df_paris.loc[:, \"realsum_cut\"].values.ravel())\n",
    "pickle.dump(model_par, open(\"models/model_paris_dt.sav\", \"wb\"))\n",
    "\n",
    "model_rom = DecisionTreeRegressor(**hp_rome[7])\n",
    "model_rom.fit(df_rome.loc[:, br_features_rom].values, df_rome.loc[:, \"realsum_cut\"].values.ravel())\n",
    "pickle.dump(model_rom, open(\"models/model_rome_dt.sav\", \"wb\"))"
   ]
  },
  {
   "cell_type": "markdown",
   "id": "fc2c5898714ae8ee",
   "metadata": {},
   "source": [
    "### Random Forest Regression\n",
    "\n",
    "#### Feature Selection\n",
    "\n",
    "1. Sequential Feature Selector"
   ]
  },
  {
   "cell_type": "code",
   "execution_count": 129,
   "id": "15977e19fc9f17b6",
   "metadata": {
    "ExecuteTime": {
     "end_time": "2025-01-11T20:00:30.377961Z",
     "start_time": "2025-01-11T20:00:30.375732Z"
    }
   },
   "outputs": [],
   "source": [
    "param_rf = {\n",
    "    \"n_estimators\": [50, 100, 200],\n",
    "    \"max_depth\": [3, 5, 7, 10],\n",
    "    \"min_samples_split\": [2, 5, 10],\n",
    "    \"min_samples_leaf\": [1, 2, 4],\n",
    "}"
   ]
  },
  {
   "cell_type": "code",
   "execution_count": 130,
   "id": "fc39cb0564b37a02",
   "metadata": {
    "ExecuteTime": {
     "end_time": "2025-01-11T20:07:23.053344Z",
     "start_time": "2025-01-11T20:00:30.463064Z"
    }
   },
   "outputs": [
    {
     "data": {
      "text/html": [
       "<style>#sk-container-id-5 {\n",
       "  /* Definition of color scheme common for light and dark mode */\n",
       "  --sklearn-color-text: #000;\n",
       "  --sklearn-color-text-muted: #666;\n",
       "  --sklearn-color-line: gray;\n",
       "  /* Definition of color scheme for unfitted estimators */\n",
       "  --sklearn-color-unfitted-level-0: #fff5e6;\n",
       "  --sklearn-color-unfitted-level-1: #f6e4d2;\n",
       "  --sklearn-color-unfitted-level-2: #ffe0b3;\n",
       "  --sklearn-color-unfitted-level-3: chocolate;\n",
       "  /* Definition of color scheme for fitted estimators */\n",
       "  --sklearn-color-fitted-level-0: #f0f8ff;\n",
       "  --sklearn-color-fitted-level-1: #d4ebff;\n",
       "  --sklearn-color-fitted-level-2: #b3dbfd;\n",
       "  --sklearn-color-fitted-level-3: cornflowerblue;\n",
       "\n",
       "  /* Specific color for light theme */\n",
       "  --sklearn-color-text-on-default-background: var(--sg-text-color, var(--theme-code-foreground, var(--jp-content-font-color1, black)));\n",
       "  --sklearn-color-background: var(--sg-background-color, var(--theme-background, var(--jp-layout-color0, white)));\n",
       "  --sklearn-color-border-box: var(--sg-text-color, var(--theme-code-foreground, var(--jp-content-font-color1, black)));\n",
       "  --sklearn-color-icon: #696969;\n",
       "\n",
       "  @media (prefers-color-scheme: dark) {\n",
       "    /* Redefinition of color scheme for dark theme */\n",
       "    --sklearn-color-text-on-default-background: var(--sg-text-color, var(--theme-code-foreground, var(--jp-content-font-color1, white)));\n",
       "    --sklearn-color-background: var(--sg-background-color, var(--theme-background, var(--jp-layout-color0, #111)));\n",
       "    --sklearn-color-border-box: var(--sg-text-color, var(--theme-code-foreground, var(--jp-content-font-color1, white)));\n",
       "    --sklearn-color-icon: #878787;\n",
       "  }\n",
       "}\n",
       "\n",
       "#sk-container-id-5 {\n",
       "  color: var(--sklearn-color-text);\n",
       "}\n",
       "\n",
       "#sk-container-id-5 pre {\n",
       "  padding: 0;\n",
       "}\n",
       "\n",
       "#sk-container-id-5 input.sk-hidden--visually {\n",
       "  border: 0;\n",
       "  clip: rect(1px 1px 1px 1px);\n",
       "  clip: rect(1px, 1px, 1px, 1px);\n",
       "  height: 1px;\n",
       "  margin: -1px;\n",
       "  overflow: hidden;\n",
       "  padding: 0;\n",
       "  position: absolute;\n",
       "  width: 1px;\n",
       "}\n",
       "\n",
       "#sk-container-id-5 div.sk-dashed-wrapped {\n",
       "  border: 1px dashed var(--sklearn-color-line);\n",
       "  margin: 0 0.4em 0.5em 0.4em;\n",
       "  box-sizing: border-box;\n",
       "  padding-bottom: 0.4em;\n",
       "  background-color: var(--sklearn-color-background);\n",
       "}\n",
       "\n",
       "#sk-container-id-5 div.sk-container {\n",
       "  /* jupyter's `normalize.less` sets `[hidden] { display: none; }`\n",
       "     but bootstrap.min.css set `[hidden] { display: none !important; }`\n",
       "     so we also need the `!important` here to be able to override the\n",
       "     default hidden behavior on the sphinx rendered scikit-learn.org.\n",
       "     See: https://github.com/scikit-learn/scikit-learn/issues/21755 */\n",
       "  display: inline-block !important;\n",
       "  position: relative;\n",
       "}\n",
       "\n",
       "#sk-container-id-5 div.sk-text-repr-fallback {\n",
       "  display: none;\n",
       "}\n",
       "\n",
       "div.sk-parallel-item,\n",
       "div.sk-serial,\n",
       "div.sk-item {\n",
       "  /* draw centered vertical line to link estimators */\n",
       "  background-image: linear-gradient(var(--sklearn-color-text-on-default-background), var(--sklearn-color-text-on-default-background));\n",
       "  background-size: 2px 100%;\n",
       "  background-repeat: no-repeat;\n",
       "  background-position: center center;\n",
       "}\n",
       "\n",
       "/* Parallel-specific style estimator block */\n",
       "\n",
       "#sk-container-id-5 div.sk-parallel-item::after {\n",
       "  content: \"\";\n",
       "  width: 100%;\n",
       "  border-bottom: 2px solid var(--sklearn-color-text-on-default-background);\n",
       "  flex-grow: 1;\n",
       "}\n",
       "\n",
       "#sk-container-id-5 div.sk-parallel {\n",
       "  display: flex;\n",
       "  align-items: stretch;\n",
       "  justify-content: center;\n",
       "  background-color: var(--sklearn-color-background);\n",
       "  position: relative;\n",
       "}\n",
       "\n",
       "#sk-container-id-5 div.sk-parallel-item {\n",
       "  display: flex;\n",
       "  flex-direction: column;\n",
       "}\n",
       "\n",
       "#sk-container-id-5 div.sk-parallel-item:first-child::after {\n",
       "  align-self: flex-end;\n",
       "  width: 50%;\n",
       "}\n",
       "\n",
       "#sk-container-id-5 div.sk-parallel-item:last-child::after {\n",
       "  align-self: flex-start;\n",
       "  width: 50%;\n",
       "}\n",
       "\n",
       "#sk-container-id-5 div.sk-parallel-item:only-child::after {\n",
       "  width: 0;\n",
       "}\n",
       "\n",
       "/* Serial-specific style estimator block */\n",
       "\n",
       "#sk-container-id-5 div.sk-serial {\n",
       "  display: flex;\n",
       "  flex-direction: column;\n",
       "  align-items: center;\n",
       "  background-color: var(--sklearn-color-background);\n",
       "  padding-right: 1em;\n",
       "  padding-left: 1em;\n",
       "}\n",
       "\n",
       "\n",
       "/* Toggleable style: style used for estimator/Pipeline/ColumnTransformer box that is\n",
       "clickable and can be expanded/collapsed.\n",
       "- Pipeline and ColumnTransformer use this feature and define the default style\n",
       "- Estimators will overwrite some part of the style using the `sk-estimator` class\n",
       "*/\n",
       "\n",
       "/* Pipeline and ColumnTransformer style (default) */\n",
       "\n",
       "#sk-container-id-5 div.sk-toggleable {\n",
       "  /* Default theme specific background. It is overwritten whether we have a\n",
       "  specific estimator or a Pipeline/ColumnTransformer */\n",
       "  background-color: var(--sklearn-color-background);\n",
       "}\n",
       "\n",
       "/* Toggleable label */\n",
       "#sk-container-id-5 label.sk-toggleable__label {\n",
       "  cursor: pointer;\n",
       "  display: flex;\n",
       "  width: 100%;\n",
       "  margin-bottom: 0;\n",
       "  padding: 0.5em;\n",
       "  box-sizing: border-box;\n",
       "  text-align: center;\n",
       "  align-items: start;\n",
       "  justify-content: space-between;\n",
       "  gap: 0.5em;\n",
       "}\n",
       "\n",
       "#sk-container-id-5 label.sk-toggleable__label .caption {\n",
       "  font-size: 0.6rem;\n",
       "  font-weight: lighter;\n",
       "  color: var(--sklearn-color-text-muted);\n",
       "}\n",
       "\n",
       "#sk-container-id-5 label.sk-toggleable__label-arrow:before {\n",
       "  /* Arrow on the left of the label */\n",
       "  content: \"▸\";\n",
       "  float: left;\n",
       "  margin-right: 0.25em;\n",
       "  color: var(--sklearn-color-icon);\n",
       "}\n",
       "\n",
       "#sk-container-id-5 label.sk-toggleable__label-arrow:hover:before {\n",
       "  color: var(--sklearn-color-text);\n",
       "}\n",
       "\n",
       "/* Toggleable content - dropdown */\n",
       "\n",
       "#sk-container-id-5 div.sk-toggleable__content {\n",
       "  max-height: 0;\n",
       "  max-width: 0;\n",
       "  overflow: hidden;\n",
       "  text-align: left;\n",
       "  /* unfitted */\n",
       "  background-color: var(--sklearn-color-unfitted-level-0);\n",
       "}\n",
       "\n",
       "#sk-container-id-5 div.sk-toggleable__content.fitted {\n",
       "  /* fitted */\n",
       "  background-color: var(--sklearn-color-fitted-level-0);\n",
       "}\n",
       "\n",
       "#sk-container-id-5 div.sk-toggleable__content pre {\n",
       "  margin: 0.2em;\n",
       "  border-radius: 0.25em;\n",
       "  color: var(--sklearn-color-text);\n",
       "  /* unfitted */\n",
       "  background-color: var(--sklearn-color-unfitted-level-0);\n",
       "}\n",
       "\n",
       "#sk-container-id-5 div.sk-toggleable__content.fitted pre {\n",
       "  /* unfitted */\n",
       "  background-color: var(--sklearn-color-fitted-level-0);\n",
       "}\n",
       "\n",
       "#sk-container-id-5 input.sk-toggleable__control:checked~div.sk-toggleable__content {\n",
       "  /* Expand drop-down */\n",
       "  max-height: 200px;\n",
       "  max-width: 100%;\n",
       "  overflow: auto;\n",
       "}\n",
       "\n",
       "#sk-container-id-5 input.sk-toggleable__control:checked~label.sk-toggleable__label-arrow:before {\n",
       "  content: \"▾\";\n",
       "}\n",
       "\n",
       "/* Pipeline/ColumnTransformer-specific style */\n",
       "\n",
       "#sk-container-id-5 div.sk-label input.sk-toggleable__control:checked~label.sk-toggleable__label {\n",
       "  color: var(--sklearn-color-text);\n",
       "  background-color: var(--sklearn-color-unfitted-level-2);\n",
       "}\n",
       "\n",
       "#sk-container-id-5 div.sk-label.fitted input.sk-toggleable__control:checked~label.sk-toggleable__label {\n",
       "  background-color: var(--sklearn-color-fitted-level-2);\n",
       "}\n",
       "\n",
       "/* Estimator-specific style */\n",
       "\n",
       "/* Colorize estimator box */\n",
       "#sk-container-id-5 div.sk-estimator input.sk-toggleable__control:checked~label.sk-toggleable__label {\n",
       "  /* unfitted */\n",
       "  background-color: var(--sklearn-color-unfitted-level-2);\n",
       "}\n",
       "\n",
       "#sk-container-id-5 div.sk-estimator.fitted input.sk-toggleable__control:checked~label.sk-toggleable__label {\n",
       "  /* fitted */\n",
       "  background-color: var(--sklearn-color-fitted-level-2);\n",
       "}\n",
       "\n",
       "#sk-container-id-5 div.sk-label label.sk-toggleable__label,\n",
       "#sk-container-id-5 div.sk-label label {\n",
       "  /* The background is the default theme color */\n",
       "  color: var(--sklearn-color-text-on-default-background);\n",
       "}\n",
       "\n",
       "/* On hover, darken the color of the background */\n",
       "#sk-container-id-5 div.sk-label:hover label.sk-toggleable__label {\n",
       "  color: var(--sklearn-color-text);\n",
       "  background-color: var(--sklearn-color-unfitted-level-2);\n",
       "}\n",
       "\n",
       "/* Label box, darken color on hover, fitted */\n",
       "#sk-container-id-5 div.sk-label.fitted:hover label.sk-toggleable__label.fitted {\n",
       "  color: var(--sklearn-color-text);\n",
       "  background-color: var(--sklearn-color-fitted-level-2);\n",
       "}\n",
       "\n",
       "/* Estimator label */\n",
       "\n",
       "#sk-container-id-5 div.sk-label label {\n",
       "  font-family: monospace;\n",
       "  font-weight: bold;\n",
       "  display: inline-block;\n",
       "  line-height: 1.2em;\n",
       "}\n",
       "\n",
       "#sk-container-id-5 div.sk-label-container {\n",
       "  text-align: center;\n",
       "}\n",
       "\n",
       "/* Estimator-specific */\n",
       "#sk-container-id-5 div.sk-estimator {\n",
       "  font-family: monospace;\n",
       "  border: 1px dotted var(--sklearn-color-border-box);\n",
       "  border-radius: 0.25em;\n",
       "  box-sizing: border-box;\n",
       "  margin-bottom: 0.5em;\n",
       "  /* unfitted */\n",
       "  background-color: var(--sklearn-color-unfitted-level-0);\n",
       "}\n",
       "\n",
       "#sk-container-id-5 div.sk-estimator.fitted {\n",
       "  /* fitted */\n",
       "  background-color: var(--sklearn-color-fitted-level-0);\n",
       "}\n",
       "\n",
       "/* on hover */\n",
       "#sk-container-id-5 div.sk-estimator:hover {\n",
       "  /* unfitted */\n",
       "  background-color: var(--sklearn-color-unfitted-level-2);\n",
       "}\n",
       "\n",
       "#sk-container-id-5 div.sk-estimator.fitted:hover {\n",
       "  /* fitted */\n",
       "  background-color: var(--sklearn-color-fitted-level-2);\n",
       "}\n",
       "\n",
       "/* Specification for estimator info (e.g. \"i\" and \"?\") */\n",
       "\n",
       "/* Common style for \"i\" and \"?\" */\n",
       "\n",
       ".sk-estimator-doc-link,\n",
       "a:link.sk-estimator-doc-link,\n",
       "a:visited.sk-estimator-doc-link {\n",
       "  float: right;\n",
       "  font-size: smaller;\n",
       "  line-height: 1em;\n",
       "  font-family: monospace;\n",
       "  background-color: var(--sklearn-color-background);\n",
       "  border-radius: 1em;\n",
       "  height: 1em;\n",
       "  width: 1em;\n",
       "  text-decoration: none !important;\n",
       "  margin-left: 0.5em;\n",
       "  text-align: center;\n",
       "  /* unfitted */\n",
       "  border: var(--sklearn-color-unfitted-level-1) 1pt solid;\n",
       "  color: var(--sklearn-color-unfitted-level-1);\n",
       "}\n",
       "\n",
       ".sk-estimator-doc-link.fitted,\n",
       "a:link.sk-estimator-doc-link.fitted,\n",
       "a:visited.sk-estimator-doc-link.fitted {\n",
       "  /* fitted */\n",
       "  border: var(--sklearn-color-fitted-level-1) 1pt solid;\n",
       "  color: var(--sklearn-color-fitted-level-1);\n",
       "}\n",
       "\n",
       "/* On hover */\n",
       "div.sk-estimator:hover .sk-estimator-doc-link:hover,\n",
       ".sk-estimator-doc-link:hover,\n",
       "div.sk-label-container:hover .sk-estimator-doc-link:hover,\n",
       ".sk-estimator-doc-link:hover {\n",
       "  /* unfitted */\n",
       "  background-color: var(--sklearn-color-unfitted-level-3);\n",
       "  color: var(--sklearn-color-background);\n",
       "  text-decoration: none;\n",
       "}\n",
       "\n",
       "div.sk-estimator.fitted:hover .sk-estimator-doc-link.fitted:hover,\n",
       ".sk-estimator-doc-link.fitted:hover,\n",
       "div.sk-label-container:hover .sk-estimator-doc-link.fitted:hover,\n",
       ".sk-estimator-doc-link.fitted:hover {\n",
       "  /* fitted */\n",
       "  background-color: var(--sklearn-color-fitted-level-3);\n",
       "  color: var(--sklearn-color-background);\n",
       "  text-decoration: none;\n",
       "}\n",
       "\n",
       "/* Span, style for the box shown on hovering the info icon */\n",
       ".sk-estimator-doc-link span {\n",
       "  display: none;\n",
       "  z-index: 9999;\n",
       "  position: relative;\n",
       "  font-weight: normal;\n",
       "  right: .2ex;\n",
       "  padding: .5ex;\n",
       "  margin: .5ex;\n",
       "  width: min-content;\n",
       "  min-width: 20ex;\n",
       "  max-width: 50ex;\n",
       "  color: var(--sklearn-color-text);\n",
       "  box-shadow: 2pt 2pt 4pt #999;\n",
       "  /* unfitted */\n",
       "  background: var(--sklearn-color-unfitted-level-0);\n",
       "  border: .5pt solid var(--sklearn-color-unfitted-level-3);\n",
       "}\n",
       "\n",
       ".sk-estimator-doc-link.fitted span {\n",
       "  /* fitted */\n",
       "  background: var(--sklearn-color-fitted-level-0);\n",
       "  border: var(--sklearn-color-fitted-level-3);\n",
       "}\n",
       "\n",
       ".sk-estimator-doc-link:hover span {\n",
       "  display: block;\n",
       "}\n",
       "\n",
       "/* \"?\"-specific style due to the `<a>` HTML tag */\n",
       "\n",
       "#sk-container-id-5 a.estimator_doc_link {\n",
       "  float: right;\n",
       "  font-size: 1rem;\n",
       "  line-height: 1em;\n",
       "  font-family: monospace;\n",
       "  background-color: var(--sklearn-color-background);\n",
       "  border-radius: 1rem;\n",
       "  height: 1rem;\n",
       "  width: 1rem;\n",
       "  text-decoration: none;\n",
       "  /* unfitted */\n",
       "  color: var(--sklearn-color-unfitted-level-1);\n",
       "  border: var(--sklearn-color-unfitted-level-1) 1pt solid;\n",
       "}\n",
       "\n",
       "#sk-container-id-5 a.estimator_doc_link.fitted {\n",
       "  /* fitted */\n",
       "  border: var(--sklearn-color-fitted-level-1) 1pt solid;\n",
       "  color: var(--sklearn-color-fitted-level-1);\n",
       "}\n",
       "\n",
       "/* On hover */\n",
       "#sk-container-id-5 a.estimator_doc_link:hover {\n",
       "  /* unfitted */\n",
       "  background-color: var(--sklearn-color-unfitted-level-3);\n",
       "  color: var(--sklearn-color-background);\n",
       "  text-decoration: none;\n",
       "}\n",
       "\n",
       "#sk-container-id-5 a.estimator_doc_link.fitted:hover {\n",
       "  /* fitted */\n",
       "  background-color: var(--sklearn-color-fitted-level-3);\n",
       "}\n",
       "</style><div id=\"sk-container-id-5\" class=\"sk-top-container\"><div class=\"sk-text-repr-fallback\"><pre>GridSearchCV(cv=5, estimator=RandomForestRegressor(), n_jobs=-1,\n",
       "             param_grid={&#x27;max_depth&#x27;: [3, 5, 7, 10],\n",
       "                         &#x27;min_samples_leaf&#x27;: [1, 2, 4],\n",
       "                         &#x27;min_samples_split&#x27;: [2, 5, 10],\n",
       "                         &#x27;n_estimators&#x27;: [50, 100, 200]},\n",
       "             return_train_score=True,\n",
       "             scoring=make_scorer(mean_squared_error, greater_is_better=False, response_method=&#x27;predict&#x27;))</pre><b>In a Jupyter environment, please rerun this cell to show the HTML representation or trust the notebook. <br />On GitHub, the HTML representation is unable to render, please try loading this page with nbviewer.org.</b></div><div class=\"sk-container\" hidden><div class=\"sk-item sk-dashed-wrapped\"><div class=\"sk-label-container\"><div class=\"sk-label fitted sk-toggleable\"><input class=\"sk-toggleable__control sk-hidden--visually\" id=\"sk-estimator-id-13\" type=\"checkbox\" ><label for=\"sk-estimator-id-13\" class=\"sk-toggleable__label fitted sk-toggleable__label-arrow\"><div><div>GridSearchCV</div></div><div><a class=\"sk-estimator-doc-link fitted\" rel=\"noreferrer\" target=\"_blank\" href=\"https://scikit-learn.org/1.6/modules/generated/sklearn.model_selection.GridSearchCV.html\">?<span>Documentation for GridSearchCV</span></a><span class=\"sk-estimator-doc-link fitted\">i<span>Fitted</span></span></div></label><div class=\"sk-toggleable__content fitted\"><pre>GridSearchCV(cv=5, estimator=RandomForestRegressor(), n_jobs=-1,\n",
       "             param_grid={&#x27;max_depth&#x27;: [3, 5, 7, 10],\n",
       "                         &#x27;min_samples_leaf&#x27;: [1, 2, 4],\n",
       "                         &#x27;min_samples_split&#x27;: [2, 5, 10],\n",
       "                         &#x27;n_estimators&#x27;: [50, 100, 200]},\n",
       "             return_train_score=True,\n",
       "             scoring=make_scorer(mean_squared_error, greater_is_better=False, response_method=&#x27;predict&#x27;))</pre></div> </div></div><div class=\"sk-parallel\"><div class=\"sk-parallel-item\"><div class=\"sk-item\"><div class=\"sk-label-container\"><div class=\"sk-label fitted sk-toggleable\"><input class=\"sk-toggleable__control sk-hidden--visually\" id=\"sk-estimator-id-14\" type=\"checkbox\" ><label for=\"sk-estimator-id-14\" class=\"sk-toggleable__label fitted sk-toggleable__label-arrow\"><div><div>best_estimator_: RandomForestRegressor</div></div></label><div class=\"sk-toggleable__content fitted\"><pre>RandomForestRegressor(max_depth=10, n_estimators=200)</pre></div> </div></div><div class=\"sk-serial\"><div class=\"sk-item\"><div class=\"sk-estimator fitted sk-toggleable\"><input class=\"sk-toggleable__control sk-hidden--visually\" id=\"sk-estimator-id-15\" type=\"checkbox\" ><label for=\"sk-estimator-id-15\" class=\"sk-toggleable__label fitted sk-toggleable__label-arrow\"><div><div>RandomForestRegressor</div></div><div><a class=\"sk-estimator-doc-link fitted\" rel=\"noreferrer\" target=\"_blank\" href=\"https://scikit-learn.org/1.6/modules/generated/sklearn.ensemble.RandomForestRegressor.html\">?<span>Documentation for RandomForestRegressor</span></a></div></label><div class=\"sk-toggleable__content fitted\"><pre>RandomForestRegressor(max_depth=10, n_estimators=200)</pre></div> </div></div></div></div></div></div></div></div></div>"
      ],
      "text/plain": [
       "GridSearchCV(cv=5, estimator=RandomForestRegressor(), n_jobs=-1,\n",
       "             param_grid={'max_depth': [3, 5, 7, 10],\n",
       "                         'min_samples_leaf': [1, 2, 4],\n",
       "                         'min_samples_split': [2, 5, 10],\n",
       "                         'n_estimators': [50, 100, 200]},\n",
       "             return_train_score=True,\n",
       "             scoring=make_scorer(mean_squared_error, greater_is_better=False, response_method='predict'))"
      ]
     },
     "execution_count": 130,
     "metadata": {},
     "output_type": "execute_result"
    }
   ],
   "source": [
    "model_rf = RandomForestRegressor()\n",
    "grid_CV_bar = GridSearchCV(\n",
    "    model_rf, param_rf, cv=5, scoring=mse, return_train_score=True, n_jobs=-1\n",
    ")\n",
    "grid_CV_bar.fit(df_barcelona.loc[:, mi_features_10_bar].values, df_barcelona.loc[:, \"realsum_cut\"].values.ravel())\n",
    "\n",
    "grid_CV_par = GridSearchCV(\n",
    "    model_rf, param_rf, cv=5, scoring=mse, return_train_score=True, n_jobs=-1\n",
    ")\n",
    "grid_CV_par.fit(df_paris.loc[:, mi_features_10_par].values, df_paris.loc[:, \"realsum_cut\"].values.ravel())\n",
    "\n",
    "grid_CV_rom = GridSearchCV(\n",
    "    model_rf, param_rf, cv=5, scoring=mse, return_train_score=True, n_jobs=-1\n",
    ")\n",
    "grid_CV_rom.fit(df_rome.loc[:, mi_features_10_rom].values, df_rome.loc[:, \"realsum_cut\"].values.ravel())"
   ]
  },
  {
   "cell_type": "code",
   "execution_count": 131,
   "id": "5294c3bec33c2e77",
   "metadata": {
    "ExecuteTime": {
     "end_time": "2025-01-11T20:07:23.183006Z",
     "start_time": "2025-01-11T20:07:23.165274Z"
    }
   },
   "outputs": [],
   "source": [
    "rf_features_bar = df_barcelona.columns.tolist()\n",
    "rf_features_bar.remove(\"realsum_cut\")\n",
    "\n",
    "rf_features_par = df_paris.columns.tolist()\n",
    "rf_features_par.remove(\"realsum_cut\")\n",
    "\n",
    "rf_features_rom = df_rome.columns.tolist()\n",
    "rf_features_rom.remove(\"realsum_cut\")"
   ]
  },
  {
   "cell_type": "code",
   "execution_count": 132,
   "id": "f87656dd3b8b0fc2",
   "metadata": {
    "ExecuteTime": {
     "end_time": "2025-01-11T20:10:44.209339Z",
     "start_time": "2025-01-11T20:07:23.220356Z"
    }
   },
   "outputs": [],
   "source": [
    "model_bar = RandomForestRegressor(**grid_CV_bar.best_params_)\n",
    "sf = SFS(\n",
    "    model_bar,\n",
    "    k_features=(5, 15),\n",
    "    forward=True,\n",
    "    floating=False,\n",
    "    verbose=0,\n",
    "    scoring=mse,\n",
    "    cv=5,\n",
    "    n_jobs=-1,\n",
    ")\n",
    "\n",
    "sffit = sf.fit(\n",
    "    df_barcelona.loc[:, rf_features_bar].values, df_barcelona.loc[:, \"realsum_cut\"].values.ravel()\n",
    ")\n",
    "rf_features_bar = df_barcelona.loc[:, rf_features_bar].columns[list(sffit.k_feature_idx_)]"
   ]
  },
  {
   "cell_type": "code",
   "execution_count": 133,
   "id": "d3c2ef53a5023cba",
   "metadata": {
    "ExecuteTime": {
     "end_time": "2025-01-11T20:19:10.953663Z",
     "start_time": "2025-01-11T20:10:44.360392Z"
    }
   },
   "outputs": [],
   "source": [
    "model_par = RandomForestRegressor(**grid_CV_par.best_params_)\n",
    "sf = SFS(\n",
    "    model_par,\n",
    "    k_features=(5, 15),\n",
    "    forward=True,\n",
    "    floating=False,\n",
    "    verbose=0,\n",
    "    scoring=mse,\n",
    "    cv=5,\n",
    "    n_jobs=-1,\n",
    ")\n",
    "\n",
    "sffit = sf.fit(\n",
    "    df_paris.loc[:, rf_features_par].values, df_paris.loc[:, \"realsum_cut\"].values.ravel()\n",
    ")\n",
    "rf_features_par = df_paris.loc[:, rf_features_par].columns[list(sffit.k_feature_idx_)]"
   ]
  },
  {
   "cell_type": "code",
   "execution_count": 134,
   "id": "59a6b13c3b50436c",
   "metadata": {
    "ExecuteTime": {
     "end_time": "2025-01-11T20:30:10.287172Z",
     "start_time": "2025-01-11T20:19:11.036023Z"
    }
   },
   "outputs": [],
   "source": [
    "model_rom = RandomForestRegressor(**grid_CV_rom.best_params_)\n",
    "sf = SFS(\n",
    "    model_rom,\n",
    "    k_features=(5, 15),\n",
    "    forward=True,\n",
    "    floating=False,\n",
    "    verbose=0,\n",
    "    scoring=mse,\n",
    "    cv=5,\n",
    "    n_jobs=-1,\n",
    ")\n",
    "\n",
    "sffit = sf.fit(\n",
    "    df_rome.loc[:, rf_features_rom].values, df_rome.loc[:, \"realsum_cut\"].values.ravel()\n",
    ")\n",
    "rf_features_rom = df_rome.loc[:, rf_features_rom].columns[list(sffit.k_feature_idx_)]"
   ]
  },
  {
   "cell_type": "markdown",
   "id": "9d639888806f781e",
   "metadata": {},
   "source": [
    "#### Hyperparameters Tuning"
   ]
  },
  {
   "cell_type": "code",
   "execution_count": 135,
   "id": "fbbb0a7edaa3612c",
   "metadata": {
    "ExecuteTime": {
     "end_time": "2025-01-11T20:40:15.348024Z",
     "start_time": "2025-01-11T20:30:10.381058Z"
    }
   },
   "outputs": [
    {
     "name": "stdout",
     "output_type": "stream",
     "text": [
      "{'max_depth': 10, 'min_samples_leaf': 1, 'min_samples_split': 2, 'n_estimators': 200}\n",
      "-9545.426797022377\n",
      "{'max_depth': 10, 'min_samples_leaf': 1, 'min_samples_split': 2, 'n_estimators': 200}\n",
      "-11430.558507089418\n",
      "{'max_depth': 10, 'min_samples_leaf': 1, 'min_samples_split': 2, 'n_estimators': 200}\n",
      "-10089.24265175917\n",
      "{'max_depth': 10, 'min_samples_leaf': 1, 'min_samples_split': 2, 'n_estimators': 100}\n",
      "-9798.496132181548\n",
      "{'max_depth': 10, 'min_samples_leaf': 1, 'min_samples_split': 2, 'n_estimators': 200}\n",
      "-9759.905086401224\n",
      "{'max_depth': 10, 'min_samples_leaf': 1, 'min_samples_split': 2, 'n_estimators': 200}\n",
      "-9769.96371527288\n",
      "{'max_depth': 10, 'min_samples_leaf': 1, 'min_samples_split': 2, 'n_estimators': 100}\n",
      "-9425.255877038358\n",
      "{'max_depth': 10, 'min_samples_leaf': 1, 'min_samples_split': 2, 'n_estimators': 100}\n",
      "-9406.79271806711\n"
     ]
    },
    {
     "data": {
      "text/plain": [
       "(None, None, None, None, None, None, None, None)"
      ]
     },
     "execution_count": 135,
     "metadata": {},
     "output_type": "execute_result"
    }
   ],
   "source": [
    "(cv_proc(df_barcelona, br_features_bar, model_bar, param_rf, mse),\n",
    "cv_proc(df_barcelona, corr_features_bar, model_bar, param_rf, mse),\n",
    "cv_proc(df_barcelona, mi_features_bar, model_bar, param_rf, mse),\n",
    "cv_proc(df_barcelona, mi_features_10_bar, model_bar, param_rf, mse),\n",
    "cv_proc(df_barcelona, mi_features_14_bar, model_bar, param_rf, mse),\n",
    "cv_proc(df_barcelona, mi_features_17_bar, model_bar, param_rf, mse),\n",
    "cv_proc(df_barcelona, mi_features_20_bar, model_bar, param_rf, mse),\n",
    "cv_proc(df_barcelona, rf_features_bar, model_bar, param_rf, mse))"
   ]
  },
  {
   "cell_type": "code",
   "execution_count": 183,
   "id": "e65b990a811506cf",
   "metadata": {
    "ExecuteTime": {
     "end_time": "2025-01-11T21:44:57.131927Z",
     "start_time": "2025-01-11T21:44:57.124930Z"
    }
   },
   "outputs": [],
   "source": [
    "hp_barcelona = [\n",
    "    {'max_depth': 10, 'min_samples_leaf': 1, 'min_samples_split': 2, 'n_estimators': 200},\n",
    "{'max_depth': 10, 'min_samples_leaf': 1, 'min_samples_split': 2, 'n_estimators': 200},\n",
    "{'max_depth': 10, 'min_samples_leaf': 1, 'min_samples_split': 2, 'n_estimators': 50},\n",
    "{'max_depth': 10, 'min_samples_leaf': 1, 'min_samples_split': 2, 'n_estimators': 50},\n",
    "{'max_depth': 10, 'min_samples_leaf': 1, 'min_samples_split': 2, 'n_estimators': 200},\n",
    "{'max_depth': 10, 'min_samples_leaf': 1, 'min_samples_split': 2, 'n_estimators': 50},\n",
    "{'max_depth': 10, 'min_samples_leaf': 1, 'min_samples_split': 2, 'n_estimators': 200},\n",
    "{'max_depth': 10, 'min_samples_leaf': 1, 'min_samples_split': 2, 'n_estimators': 200}\n",
    "]"
   ]
  },
  {
   "metadata": {},
   "cell_type": "code",
   "outputs": [],
   "execution_count": null,
   "source": [
    "(cv_proc(df_paris, br_features_par, model_par, param_rf, mse),\n",
    "cv_proc(df_paris, corr_features_par, model_par, param_rf, mse),\n",
    "cv_proc(df_paris, mi_features_par, model_par, param_rf, mse),\n",
    "cv_proc(df_paris, mi_features_10_par, model_par, param_rf, mse),\n",
    "cv_proc(df_paris, mi_features_14_par, model_par, param_rf, mse),\n",
    "cv_proc(df_paris, mi_features_17_par, model_par, param_rf, mse),\n",
    "cv_proc(df_paris, mi_features_20_par, model_par, param_rf, mse),\n",
    "cv_proc(df_paris, rf_features_par, model_par, param_rf, mse))"
   ],
   "id": "3942505f0e25b975"
  },
  {
   "cell_type": "code",
   "execution_count": 184,
   "id": "d3813dc30dd41fc9",
   "metadata": {
    "ExecuteTime": {
     "end_time": "2025-01-11T21:45:01.991285Z",
     "start_time": "2025-01-11T21:45:01.986276Z"
    }
   },
   "outputs": [],
   "source": [
    "hp_paris = [\n",
    "    {'max_depth': 10, 'min_samples_leaf': 1, 'min_samples_split': 2, 'n_estimators':100},\n",
    "{'max_depth': 10, 'min_samples_leaf': 1, 'min_samples_split': 2, 'n_estimators': 100},\n",
    "{'max_depth': 10, 'min_samples_leaf': 1, 'min_samples_split': 2, 'n_estimators': 200},\n",
    "{'max_depth': 10, 'min_samples_leaf': 1, 'min_samples_split': 2, 'n_estimators': 200},\n",
    "{'max_depth': 10, 'min_samples_leaf': 1, 'min_samples_split': 2, 'n_estimators': 100},\n",
    "{'max_depth': 10, 'min_samples_leaf': 1, 'min_samples_split': 2, 'n_estimators': 100},\n",
    "{'max_depth': 10, 'min_samples_leaf': 1, 'min_samples_split': 2, 'n_estimators': 200},\n",
    "{'max_depth': 10, 'min_samples_leaf': 1, 'min_samples_split': 2, 'n_estimators': 100}\n",
    "]"
   ]
  },
  {
   "cell_type": "code",
   "execution_count": 156,
   "id": "65bd4f7c290b80ae",
   "metadata": {
    "ExecuteTime": {
     "end_time": "2025-01-11T21:02:44.407042Z",
     "start_time": "2025-01-11T09:30:47.853197Z"
    }
   },
   "outputs": [
    {
     "name": "stdout",
     "output_type": "stream",
     "text": [
      "{'max_depth': 10, 'min_samples_leaf': 1, 'min_samples_split': 2, 'n_estimators': 200}\n",
      "-2536.2917976454\n",
      "{'max_depth': 10, 'min_samples_leaf': 1, 'min_samples_split': 2, 'n_estimators': 200}\n",
      "-2568.0301706979835\n",
      "{'max_depth': 10, 'min_samples_leaf': 1, 'min_samples_split': 2, 'n_estimators': 200}\n",
      "-2941.932825245658\n",
      "{'max_depth': 10, 'min_samples_leaf': 1, 'min_samples_split': 2, 'n_estimators': 100}\n",
      "-2751.053382162012\n",
      "{'max_depth': 10, 'min_samples_leaf': 1, 'min_samples_split': 2, 'n_estimators': 200}\n",
      "-2586.6875963193897\n",
      "{'max_depth': 10, 'min_samples_leaf': 1, 'min_samples_split': 2, 'n_estimators': 200}\n",
      "-2552.3854851164456\n",
      "{'max_depth': 10, 'min_samples_leaf': 1, 'min_samples_split': 2, 'n_estimators': 200}\n",
      "-2552.5564326013528\n",
      "{'max_depth': 10, 'min_samples_leaf': 1, 'min_samples_split': 2, 'n_estimators': 200}\n",
      "-2502.1863581786442\n"
     ]
    },
    {
     "data": {
      "text/plain": [
       "(None, None, None, None, None, None, None, None)"
      ]
     },
     "execution_count": 156,
     "metadata": {},
     "output_type": "execute_result"
    }
   ],
   "source": [
    "(cv_proc(df_rome, br_features_rom, model_rom, param_rf, mse),\n",
    "cv_proc(df_rome, corr_features_rom, model_rom, param_rf, mse),\n",
    "cv_proc(df_rome, mi_features_rom, model_rom, param_rf, mse),\n",
    "cv_proc(df_rome, mi_features_10_rom, model_rom, param_rf, mse),\n",
    "cv_proc(df_rome, mi_features_14_rom, model_rom, param_rf, mse),\n",
    "cv_proc(df_rome, mi_features_17_rom, model_rom, param_rf, mse),\n",
    "cv_proc(df_rome, mi_features_20_rom, model_rom, param_rf, mse),\n",
    "cv_proc(df_rome, rf_features_rom, model_rom, param_rf, mse))"
   ]
  },
  {
   "cell_type": "code",
   "execution_count": 185,
   "id": "3961af6d25ef5970",
   "metadata": {
    "ExecuteTime": {
     "end_time": "2025-01-11T21:45:05.874857Z",
     "start_time": "2025-01-11T21:45:05.871355Z"
    }
   },
   "outputs": [],
   "source": [
    "hp_rome = [\n",
    "    {'max_depth': 10, 'min_samples_leaf': 1, 'min_samples_split': 2, 'n_estimators': 200},\n",
    "{'max_depth': 10, 'min_samples_leaf': 1, 'min_samples_split': 2, 'n_estimators': 200},\n",
    "{'max_depth': 10, 'min_samples_leaf': 1, 'min_samples_split': 2, 'n_estimators': 200},\n",
    "{'max_depth': 10, 'min_samples_leaf': 1, 'min_samples_split': 2, 'n_estimators': 100},\n",
    "{'max_depth': 10, 'min_samples_leaf': 1, 'min_samples_split': 2, 'n_estimators': 200},\n",
    "{'max_depth': 10, 'min_samples_leaf': 1, 'min_samples_split': 2, 'n_estimators': 100},\n",
    "{'max_depth': 10, 'min_samples_leaf': 1, 'min_samples_split': 2, 'n_estimators': 100},\n",
    "{'max_depth': 10, 'min_samples_leaf': 1, 'min_samples_split': 2, 'n_estimators': 100}\n",
    "]"
   ]
  },
  {
   "cell_type": "markdown",
   "id": "89b7fe35b512ec26",
   "metadata": {},
   "source": [
    "#### Model Evaluation"
   ]
  },
  {
   "metadata": {},
   "cell_type": "code",
   "outputs": [],
   "execution_count": null,
   "source": [
    "model = RandomForestRegressor(**hp_barcelona[0])\n",
    "cv_output0_rmse = CV_rmse_wrapper(df_barcelona, br_features_bar, model,10, 123, shuff=True, display_res=True)\n",
    "cv_output0_mape = CV_wrapper(df_barcelona, br_features_bar, model, 10, 123, shuff=True,  display_res=True)\n",
    "\n",
    "model = RandomForestRegressor(**hp_barcelona[1])\n",
    "cv_output1_rmse = CV_rmse_wrapper(df_barcelona, corr_features_bar, model,10, 123, shuff=True, display_res=True)\n",
    "cv_output1_mape = CV_wrapper(df_barcelona, corr_features_bar, model, 10, 123, shuff=True,  display_res=True)\n",
    "\n",
    "model = RandomForestRegressor(**hp_barcelona[2])\n",
    "cv_output2_rmse = CV_rmse_wrapper(df_barcelona, mi_features_bar, model,10, 123, shuff=True, display_res=True)\n",
    "cv_output2_mape = CV_wrapper(df_barcelona, mi_features_bar, model, 10, 123, shuff=True,  display_res=True)\n",
    "\n",
    "model = RandomForestRegressor(**hp_barcelona[3])\n",
    "cv_output3_rmse = CV_rmse_wrapper(df_barcelona, mi_features_10_bar, model,10, 123, shuff=True, display_res=True)\n",
    "cv_output3_mape = CV_wrapper(df_barcelona, mi_features_10_bar, model, 10, 123, shuff=True,  display_res=True)\n",
    "\n",
    "model = RandomForestRegressor(**hp_barcelona[4])\n",
    "cv_output4_rmse = CV_rmse_wrapper(df_barcelona, mi_features_14_bar, model,10, 123, shuff=True, display_res=True)\n",
    "cv_output4_mape = CV_wrapper(df_barcelona, mi_features_14_bar, model, 10, 123, shuff=True,  display_res=True)\n",
    "\n",
    "model = RandomForestRegressor(**hp_barcelona[5])\n",
    "cv_output5_rmse = CV_rmse_wrapper(df_barcelona, mi_features_17_bar, model,10, 123, shuff=True, display_res=True)\n",
    "cv_output5_mape = CV_wrapper(df_barcelona, mi_features_17_bar, model, 10, 123, shuff=True,  display_res=True)\n",
    "\n",
    "model = RandomForestRegressor(**hp_barcelona[6])\n",
    "cv_output6_rmse = CV_rmse_wrapper(df_barcelona, mi_features_20_bar, model,10, 123, shuff=True, display_res=True)\n",
    "cv_output6_mape = CV_wrapper(df_barcelona, mi_features_20_bar, model, 10, 123, shuff=True,  display_res=True)\n",
    "\n",
    "model = RandomForestRegressor(**hp_barcelona[7])\n",
    "cv_output7_rmse = CV_rmse_wrapper(df_barcelona, dt_features_bar, model,10, 123, shuff=True, display_res=True)\n",
    "cv_output7_mape = CV_wrapper(df_barcelona, dt_features_bar, model, 10, 123, shuff=True,  display_res=True)\n"
   ],
   "id": "6e0488132e66dcaa"
  },
  {
   "cell_type": "code",
   "execution_count": 142,
   "id": "3108342f3e511b5e",
   "metadata": {
    "ExecuteTime": {
     "end_time": "2025-01-11T21:19:17.960647Z",
     "start_time": "2025-01-11T21:19:17.944405Z"
    }
   },
   "outputs": [
    {
     "data": {
      "text/plain": [
       "(cv_train    0.162420\n",
       " cv_val      0.242524\n",
       " dtype: float64,\n",
       " cv_train    54.344919\n",
       " cv_val      95.772812\n",
       " dtype: float64)"
      ]
     },
     "execution_count": 142,
     "metadata": {},
     "output_type": "execute_result"
    }
   ],
   "source": [
    "(cv_output0_mape.mean(), cv_output0_rmse.mean())"
   ]
  },
  {
   "cell_type": "code",
   "execution_count": 143,
   "id": "29278322202a38f1",
   "metadata": {
    "ExecuteTime": {
     "end_time": "2025-01-11T21:19:23.651018Z",
     "start_time": "2025-01-11T21:19:23.630455Z"
    }
   },
   "outputs": [
    {
     "data": {
      "text/plain": [
       "(cv_train    0.181933\n",
       " cv_val      0.254275\n",
       " dtype: float64,\n",
       " cv_train     63.992637\n",
       " cv_val      102.064363\n",
       " dtype: float64)"
      ]
     },
     "execution_count": 143,
     "metadata": {},
     "output_type": "execute_result"
    }
   ],
   "source": [
    "(cv_output1_mape.mean(), cv_output1_rmse.mean())"
   ]
  },
  {
   "cell_type": "code",
   "execution_count": 144,
   "id": "9d00d7a4a1ef725f",
   "metadata": {
    "ExecuteTime": {
     "end_time": "2025-01-11T21:19:23.669183Z",
     "start_time": "2025-01-11T21:19:23.664245Z"
    }
   },
   "outputs": [
    {
     "data": {
      "text/plain": [
       "(cv_train    0.167461\n",
       " cv_val      0.243294\n",
       " dtype: float64,\n",
       " cv_train    58.074425\n",
       " cv_val      97.985964\n",
       " dtype: float64)"
      ]
     },
     "execution_count": 144,
     "metadata": {},
     "output_type": "execute_result"
    }
   ],
   "source": [
    "(cv_output2_mape.mean(), cv_output2_rmse.mean())"
   ]
  },
  {
   "cell_type": "code",
   "execution_count": 145,
   "id": "601ac16df94a95c9",
   "metadata": {
    "ExecuteTime": {
     "end_time": "2025-01-11T21:19:23.716921Z",
     "start_time": "2025-01-11T21:19:23.713130Z"
    }
   },
   "outputs": [
    {
     "data": {
      "text/plain": [
       "(cv_train    0.164685\n",
       " cv_val      0.241679\n",
       " dtype: float64,\n",
       " cv_train    56.524287\n",
       " cv_val      97.216905\n",
       " dtype: float64)"
      ]
     },
     "execution_count": 145,
     "metadata": {},
     "output_type": "execute_result"
    }
   ],
   "source": [
    "(cv_output3_mape.mean(), cv_output3_rmse.mean())"
   ]
  },
  {
   "cell_type": "code",
   "execution_count": 146,
   "id": "386a3a3e999dadfc",
   "metadata": {
    "ExecuteTime": {
     "end_time": "2025-01-11T21:19:23.764320Z",
     "start_time": "2025-01-11T21:19:23.759357Z"
    }
   },
   "outputs": [
    {
     "data": {
      "text/plain": [
       "(cv_train    0.163606\n",
       " cv_val      0.240320\n",
       " dtype: float64,\n",
       " cv_train    55.446257\n",
       " cv_val      96.233629\n",
       " dtype: float64)"
      ]
     },
     "execution_count": 146,
     "metadata": {},
     "output_type": "execute_result"
    }
   ],
   "source": [
    "(cv_output4_mape.mean(), cv_output4_rmse.mean())"
   ]
  },
  {
   "cell_type": "code",
   "execution_count": 147,
   "id": "ab15f0d52d92410e",
   "metadata": {
    "ExecuteTime": {
     "end_time": "2025-01-11T21:19:23.814069Z",
     "start_time": "2025-01-11T21:19:23.809403Z"
    }
   },
   "outputs": [
    {
     "data": {
      "text/plain": [
       "(cv_train    0.163212\n",
       " cv_val      0.240433\n",
       " dtype: float64,\n",
       " cv_train    55.888755\n",
       " cv_val      95.689547\n",
       " dtype: float64)"
      ]
     },
     "execution_count": 147,
     "metadata": {},
     "output_type": "execute_result"
    }
   ],
   "source": [
    "(cv_output5_mape.mean(), cv_output5_rmse.mean())"
   ]
  },
  {
   "cell_type": "code",
   "execution_count": 148,
   "id": "859ac35b396bab2",
   "metadata": {
    "ExecuteTime": {
     "end_time": "2025-01-11T21:19:23.862329Z",
     "start_time": "2025-01-11T21:19:23.858101Z"
    }
   },
   "outputs": [
    {
     "data": {
      "text/plain": [
       "(cv_train    0.161061\n",
       " cv_val      0.241441\n",
       " dtype: float64,\n",
       " cv_train    53.820987\n",
       " cv_val      95.475428\n",
       " dtype: float64)"
      ]
     },
     "execution_count": 148,
     "metadata": {},
     "output_type": "execute_result"
    }
   ],
   "source": [
    "(cv_output6_mape.mean(), cv_output6_rmse.mean())"
   ]
  },
  {
   "cell_type": "code",
   "execution_count": 149,
   "id": "da93153a044d75e7",
   "metadata": {
    "ExecuteTime": {
     "end_time": "2025-01-11T21:19:23.913549Z",
     "start_time": "2025-01-11T21:19:23.908759Z"
    }
   },
   "outputs": [
    {
     "data": {
      "text/plain": [
       "(cv_train    0.191214\n",
       " cv_val      0.258295\n",
       " dtype: float64,\n",
       " cv_train     67.602743\n",
       " cv_val      103.685523\n",
       " dtype: float64)"
      ]
     },
     "execution_count": 149,
     "metadata": {},
     "output_type": "execute_result"
    }
   ],
   "source": [
    "(cv_output7_mape.mean(), cv_output7_rmse.mean())"
   ]
  },
  {
   "metadata": {},
   "cell_type": "code",
   "outputs": [],
   "execution_count": null,
   "source": [
    "model = RandomForestRegressor(**hp_paris[0])\n",
    "cv_output0_rmse = CV_rmse_wrapper(df_paris, br_features_par, model,10, 123, shuff=True, display_res=True)\n",
    "cv_output0_mape = CV_wrapper(df_paris, br_features_par, model, 10, 123, shuff=True,  display_res=True)\n",
    "\n",
    "model = RandomForestRegressor(**hp_paris[1])\n",
    "cv_output1_rmse = CV_rmse_wrapper(df_paris, corr_features_par, model,10, 123, shuff=True, display_res=True)\n",
    "cv_output1_mape = CV_wrapper(df_paris, corr_features_par, model, 10, 123, shuff=True,  display_res=True)\n",
    "\n",
    "model = RandomForestRegressor(**hp_paris[2])\n",
    "cv_output2_rmse = CV_rmse_wrapper(df_paris, mi_features_par, model,10, 123, shuff=True, display_res=True)\n",
    "cv_output2_mape = CV_wrapper(df_paris, mi_features_par, model, 10, 123, shuff=True,  display_res=True)\n",
    "\n",
    "model = RandomForestRegressor(**hp_paris[3])\n",
    "cv_output3_rmse = CV_rmse_wrapper(df_paris, mi_features_10_par, model,10, 123, shuff=True, display_res=True)\n",
    "cv_output3_mape = CV_wrapper(df_paris, mi_features_10_par, model, 10, 123, shuff=True,  display_res=True)\n",
    "\n",
    "model = RandomForestRegressor(**hp_paris[4])\n",
    "cv_output4_rmse = CV_rmse_wrapper(df_paris, mi_features_14_par, model,10, 123, shuff=True, display_res=True)\n",
    "cv_output4_mape = CV_wrapper(df_paris, mi_features_14_par, model, 10, 123, shuff=True,  display_res=True)\n",
    "\n",
    "model = RandomForestRegressor(**hp_paris[5])\n",
    "cv_output5_rmse = CV_rmse_wrapper(df_paris, mi_features_17_par, model,10, 123, shuff=True, display_res=True)\n",
    "cv_output5_mape = CV_wrapper(df_paris, mi_features_17_par, model, 10, 123, shuff=True,  display_res=True)\n",
    "\n",
    "model = RandomForestRegressor(**hp_paris[6])\n",
    "cv_output6_rmse = CV_rmse_wrapper(df_paris, mi_features_20_par, model,10, 123, shuff=True, display_res=True)\n",
    "cv_output6_mape = CV_wrapper(df_paris, mi_features_20_par, model, 10, 123, shuff=True,  display_res=True)\n",
    "\n",
    "model = RandomForestRegressor(**hp_paris[7])\n",
    "cv_output7_rmse = CV_rmse_wrapper(df_paris, dt_features_par, model,10, 123, shuff=True, display_res=True)\n",
    "cv_output7_mape = CV_wrapper(df_paris, dt_features_par, model, 10, 123, shuff=True,  display_res=True)"
   ],
   "id": "245a37c50ca2f34e"
  },
  {
   "cell_type": "code",
   "execution_count": 151,
   "id": "5b8cd74b21db1874",
   "metadata": {
    "ExecuteTime": {
     "end_time": "2025-01-11T21:25:38.802950Z",
     "start_time": "2025-01-11T21:25:38.797678Z"
    }
   },
   "outputs": [
    {
     "data": {
      "text/plain": [
       "(cv_train    0.181987\n",
       " cv_val      0.240702\n",
       " dtype: float64,\n",
       " cv_train     89.854647\n",
       " cv_val      126.587121\n",
       " dtype: float64)"
      ]
     },
     "execution_count": 151,
     "metadata": {},
     "output_type": "execute_result"
    }
   ],
   "source": [
    "(cv_output0_mape.mean(), cv_output0_rmse.mean())"
   ]
  },
  {
   "cell_type": "code",
   "execution_count": 152,
   "id": "3dcc277142b637d",
   "metadata": {
    "ExecuteTime": {
     "end_time": "2025-01-11T21:25:38.821825Z",
     "start_time": "2025-01-11T21:25:38.817355Z"
    }
   },
   "outputs": [
    {
     "data": {
      "text/plain": [
       "(cv_train    0.192022\n",
       " cv_val      0.242874\n",
       " dtype: float64,\n",
       " cv_train     95.445270\n",
       " cv_val      130.527673\n",
       " dtype: float64)"
      ]
     },
     "execution_count": 152,
     "metadata": {},
     "output_type": "execute_result"
    }
   ],
   "source": [
    "(cv_output1_mape.mean(), cv_output1_rmse.mean())"
   ]
  },
  {
   "cell_type": "code",
   "execution_count": 153,
   "id": "d8b6d8adc925e61d",
   "metadata": {
    "ExecuteTime": {
     "end_time": "2025-01-11T21:25:38.864373Z",
     "start_time": "2025-01-11T21:25:38.859391Z"
    }
   },
   "outputs": [
    {
     "data": {
      "text/plain": [
       "(cv_train    0.182835\n",
       " cv_val      0.242138\n",
       " dtype: float64,\n",
       " cv_train     90.441791\n",
       " cv_val      126.914221\n",
       " dtype: float64)"
      ]
     },
     "execution_count": 153,
     "metadata": {},
     "output_type": "execute_result"
    }
   ],
   "source": [
    "(cv_output2_mape.mean(), cv_output2_rmse.mean())"
   ]
  },
  {
   "cell_type": "code",
   "execution_count": 154,
   "id": "80b1507573863719",
   "metadata": {
    "ExecuteTime": {
     "end_time": "2025-01-11T21:25:38.904702Z",
     "start_time": "2025-01-11T21:25:38.900745Z"
    }
   },
   "outputs": [
    {
     "data": {
      "text/plain": [
       "(cv_train    0.179097\n",
       " cv_val      0.238058\n",
       " dtype: float64,\n",
       " cv_train     90.085298\n",
       " cv_val      126.549390\n",
       " dtype: float64)"
      ]
     },
     "execution_count": 154,
     "metadata": {},
     "output_type": "execute_result"
    }
   ],
   "source": [
    "(cv_output3_mape.mean(), cv_output3_rmse.mean())"
   ]
  },
  {
   "cell_type": "code",
   "execution_count": 155,
   "id": "d5bc0e59a874a34",
   "metadata": {
    "ExecuteTime": {
     "end_time": "2025-01-11T21:25:38.945626Z",
     "start_time": "2025-01-11T21:25:38.940868Z"
    }
   },
   "outputs": [
    {
     "data": {
      "text/plain": [
       "(cv_train    0.178597\n",
       " cv_val      0.237927\n",
       " dtype: float64,\n",
       " cv_train     89.236873\n",
       " cv_val      125.817038\n",
       " dtype: float64)"
      ]
     },
     "execution_count": 155,
     "metadata": {},
     "output_type": "execute_result"
    }
   ],
   "source": [
    "(cv_output4_mape.mean(), cv_output4_rmse.mean())"
   ]
  },
  {
   "cell_type": "code",
   "execution_count": 156,
   "id": "da636a59ae6e8b50",
   "metadata": {
    "ExecuteTime": {
     "end_time": "2025-01-11T21:25:38.986541Z",
     "start_time": "2025-01-11T21:25:38.981919Z"
    }
   },
   "outputs": [
    {
     "data": {
      "text/plain": [
       "(cv_train    0.178508\n",
       " cv_val      0.237216\n",
       " dtype: float64,\n",
       " cv_train     89.465909\n",
       " cv_val      126.092780\n",
       " dtype: float64)"
      ]
     },
     "execution_count": 156,
     "metadata": {},
     "output_type": "execute_result"
    }
   ],
   "source": [
    "(cv_output5_mape.mean(), cv_output5_rmse.mean())"
   ]
  },
  {
   "cell_type": "code",
   "execution_count": 157,
   "id": "c7a2c0ec9069b0da",
   "metadata": {
    "ExecuteTime": {
     "end_time": "2025-01-11T21:25:39.027222Z",
     "start_time": "2025-01-11T21:25:39.022580Z"
    }
   },
   "outputs": [
    {
     "data": {
      "text/plain": [
       "(cv_train    0.176671\n",
       " cv_val      0.236315\n",
       " dtype: float64,\n",
       " cv_train     87.715333\n",
       " cv_val      125.371818\n",
       " dtype: float64)"
      ]
     },
     "execution_count": 157,
     "metadata": {},
     "output_type": "execute_result"
    }
   ],
   "source": [
    "(cv_output6_mape.mean(), cv_output6_rmse.mean())"
   ]
  },
  {
   "cell_type": "code",
   "execution_count": 158,
   "id": "cfbc0ae6bd8a6f94",
   "metadata": {
    "ExecuteTime": {
     "end_time": "2025-01-11T21:25:39.069358Z",
     "start_time": "2025-01-11T21:25:39.064931Z"
    }
   },
   "outputs": [
    {
     "data": {
      "text/plain": [
       "(cv_train    0.184878\n",
       " cv_val      0.237533\n",
       " dtype: float64,\n",
       " cv_train     97.348960\n",
       " cv_val      127.027526\n",
       " dtype: float64)"
      ]
     },
     "execution_count": 158,
     "metadata": {},
     "output_type": "execute_result"
    }
   ],
   "source": [
    "(cv_output7_mape.mean(), cv_output7_rmse.mean())"
   ]
  },
  {
   "metadata": {},
   "cell_type": "code",
   "outputs": [],
   "execution_count": null,
   "source": [
    "model = RandomForestRegressor(**hp_rome[0])\n",
    "cv_output0_rmse = CV_rmse_wrapper(df_rome, br_features_rom, model,10, 123, shuff=True, display_res=True)\n",
    "cv_output0_mape = CV_wrapper(df_rome, br_features_rom, model, 10, 123, shuff=True,  display_res=True)\n",
    "\n",
    "model = RandomForestRegressor(**hp_rome[1])\n",
    "cv_output1_rmse = CV_rmse_wrapper(df_rome, corr_features_rom, model,10, 123, shuff=True, display_res=True)\n",
    "cv_output1_mape = CV_wrapper(df_rome, corr_features_rom, model, 10, 123, shuff=True,  display_res=True)\n",
    "\n",
    "model = RandomForestRegressor(**hp_rome[2])\n",
    "cv_output2_rmse = CV_rmse_wrapper(df_rome, mi_features_rom, model,10, 123, shuff=True, display_res=True)\n",
    "cv_output2_mape = CV_wrapper(df_rome, mi_features_rom, model, 10, 123, shuff=True,  display_res=True)\n",
    "\n",
    "model = RandomForestRegressor(**hp_rome[3])\n",
    "cv_output3_rmse = CV_rmse_wrapper(df_rome, mi_features_10_rom, model,10, 123, shuff=True, display_res=True)\n",
    "cv_output3_mape = CV_wrapper(df_rome, mi_features_10_rom, model, 10, 123, shuff=True,  display_res=True)\n",
    "\n",
    "model = RandomForestRegressor(**hp_rome[4])\n",
    "cv_output4_rmse = CV_rmse_wrapper(df_rome, mi_features_14_rom, model,10, 123, shuff=True, display_res=True)\n",
    "cv_output4_mape = CV_wrapper(df_rome, mi_features_14_rom, model, 10, 123, shuff=True,  display_res=True)\n",
    "\n",
    "model = RandomForestRegressor(**hp_rome[5])\n",
    "cv_output5_rmse = CV_rmse_wrapper(df_rome, mi_features_17_rom, model,10, 123, shuff=True, display_res=True)\n",
    "cv_output5_mape = CV_wrapper(df_rome, mi_features_17_rom, model, 10, 123, shuff=True,  display_res=True)\n",
    "\n",
    "model = RandomForestRegressor(**hp_rome[6])\n",
    "cv_output6_rmse = CV_rmse_wrapper(df_rome, mi_features_20_rom, model,10, 123, shuff=True, display_res=True)\n",
    "cv_output6_mape = CV_wrapper(df_rome, mi_features_20_rom, model, 10, 123, shuff=True,  display_res=True)\n",
    "\n",
    "model = RandomForestRegressor(**hp_rome[7])\n",
    "cv_output7_rmse = CV_rmse_wrapper(df_rome, dt_features_rom, model,10, 123, shuff=True, display_res=True)\n",
    "cv_output7_mape = CV_wrapper(df_rome, dt_features_rom, model, 10, 123, shuff=True,  display_res=True)"
   ],
   "id": "7dbff2468f1cc4f2"
  },
  {
   "cell_type": "code",
   "execution_count": 160,
   "id": "736f45d3826680b5",
   "metadata": {
    "ExecuteTime": {
     "end_time": "2025-01-11T21:35:28.469413Z",
     "start_time": "2025-01-11T21:35:28.457449Z"
    }
   },
   "outputs": [
    {
     "data": {
      "text/plain": [
       "(cv_train    0.139520\n",
       " cv_val      0.177695\n",
       " dtype: float64,\n",
       " cv_train    37.116976\n",
       " cv_val      49.599009\n",
       " dtype: float64)"
      ]
     },
     "execution_count": 160,
     "metadata": {},
     "output_type": "execute_result"
    }
   ],
   "source": [
    "(cv_output0_mape.mean(), cv_output0_rmse.mean())"
   ]
  },
  {
   "cell_type": "code",
   "execution_count": 161,
   "id": "84ccb71089dcaa35",
   "metadata": {
    "ExecuteTime": {
     "end_time": "2025-01-11T21:35:28.521132Z",
     "start_time": "2025-01-11T21:35:28.514067Z"
    }
   },
   "outputs": [
    {
     "data": {
      "text/plain": [
       "(cv_train    0.140160\n",
       " cv_val      0.178029\n",
       " dtype: float64,\n",
       " cv_train    37.715853\n",
       " cv_val      49.990092\n",
       " dtype: float64)"
      ]
     },
     "execution_count": 161,
     "metadata": {},
     "output_type": "execute_result"
    }
   ],
   "source": [
    "(cv_output1_mape.mean(), cv_output1_rmse.mean())"
   ]
  },
  {
   "cell_type": "code",
   "execution_count": 162,
   "id": "c7bb7330ccbe2f38",
   "metadata": {
    "ExecuteTime": {
     "end_time": "2025-01-11T21:35:28.625167Z",
     "start_time": "2025-01-11T21:35:28.618402Z"
    }
   },
   "outputs": [
    {
     "data": {
      "text/plain": [
       "(cv_train    0.149375\n",
       " cv_val      0.187942\n",
       " dtype: float64,\n",
       " cv_train    40.755431\n",
       " cv_val      52.893711\n",
       " dtype: float64)"
      ]
     },
     "execution_count": 162,
     "metadata": {},
     "output_type": "execute_result"
    }
   ],
   "source": [
    "(cv_output2_mape.mean(), cv_output2_rmse.mean())"
   ]
  },
  {
   "cell_type": "code",
   "execution_count": 163,
   "id": "556b812758e4be3",
   "metadata": {
    "ExecuteTime": {
     "end_time": "2025-01-11T21:35:28.694742Z",
     "start_time": "2025-01-11T21:35:28.688718Z"
    }
   },
   "outputs": [
    {
     "data": {
      "text/plain": [
       "(cv_train    0.144281\n",
       " cv_val      0.182703\n",
       " dtype: float64,\n",
       " cv_train    39.153835\n",
       " cv_val      51.507346\n",
       " dtype: float64)"
      ]
     },
     "execution_count": 163,
     "metadata": {},
     "output_type": "execute_result"
    }
   ],
   "source": [
    "(cv_output3_mape.mean(), cv_output3_rmse.mean())"
   ]
  },
  {
   "cell_type": "code",
   "execution_count": 164,
   "id": "6185eebea729c0e",
   "metadata": {
    "ExecuteTime": {
     "end_time": "2025-01-11T21:35:28.774047Z",
     "start_time": "2025-01-11T21:35:28.764962Z"
    }
   },
   "outputs": [
    {
     "data": {
      "text/plain": [
       "(cv_train    0.140573\n",
       " cv_val      0.179490\n",
       " dtype: float64,\n",
       " cv_train    37.369172\n",
       " cv_val      50.113599\n",
       " dtype: float64)"
      ]
     },
     "execution_count": 164,
     "metadata": {},
     "output_type": "execute_result"
    }
   ],
   "source": [
    "(cv_output4_mape.mean(), cv_output4_rmse.mean())"
   ]
  },
  {
   "cell_type": "code",
   "execution_count": 165,
   "id": "12407f823cb2344",
   "metadata": {
    "ExecuteTime": {
     "end_time": "2025-01-11T21:35:28.852524Z",
     "start_time": "2025-01-11T21:35:28.846453Z"
    }
   },
   "outputs": [
    {
     "data": {
      "text/plain": [
       "(cv_train    0.139029\n",
       " cv_val      0.178565\n",
       " dtype: float64,\n",
       " cv_train    36.998979\n",
       " cv_val      49.859040\n",
       " dtype: float64)"
      ]
     },
     "execution_count": 165,
     "metadata": {},
     "output_type": "execute_result"
    }
   ],
   "source": [
    "(cv_output5_mape.mean(), cv_output5_rmse.mean())"
   ]
  },
  {
   "cell_type": "code",
   "execution_count": 166,
   "id": "1b7f98e7127c74a7",
   "metadata": {
    "ExecuteTime": {
     "end_time": "2025-01-11T21:35:28.972406Z",
     "start_time": "2025-01-11T21:35:28.966133Z"
    }
   },
   "outputs": [
    {
     "data": {
      "text/plain": [
       "(cv_train    0.138663\n",
       " cv_val      0.177984\n",
       " dtype: float64,\n",
       " cv_train    36.719352\n",
       " cv_val      49.603289\n",
       " dtype: float64)"
      ]
     },
     "execution_count": 166,
     "metadata": {},
     "output_type": "execute_result"
    }
   ],
   "source": [
    "(cv_output6_mape.mean(), cv_output6_rmse.mean())"
   ]
  },
  {
   "cell_type": "code",
   "execution_count": 167,
   "id": "c7c64f9c4c6b2046",
   "metadata": {
    "ExecuteTime": {
     "end_time": "2025-01-11T21:35:29.036792Z",
     "start_time": "2025-01-11T21:35:29.031926Z"
    }
   },
   "outputs": [
    {
     "data": {
      "text/plain": [
       "(cv_train    0.138219\n",
       " cv_val      0.177236\n",
       " dtype: float64,\n",
       " cv_train    37.318259\n",
       " cv_val      49.813602\n",
       " dtype: float64)"
      ]
     },
     "execution_count": 167,
     "metadata": {},
     "output_type": "execute_result"
    }
   ],
   "source": [
    "(cv_output7_mape.mean(), cv_output7_rmse.mean())"
   ]
  },
  {
   "cell_type": "markdown",
   "id": "317b189dc051ae5d",
   "metadata": {},
   "source": [
    "The best Random Forest model performance is achieved with the features obtained with:\n",
    "- top 14 MI score for Barcelona;\n",
    "- top 20 MI score for Paris;\n",
    "- top 15 Boruta Ranking for Rome.\n",
    "Let's save the models."
   ]
  },
  {
   "cell_type": "code",
   "execution_count": 186,
   "id": "95e8c420b8c5fa69",
   "metadata": {
    "ExecuteTime": {
     "end_time": "2025-01-11T21:45:34.603639Z",
     "start_time": "2025-01-11T21:45:23.667530Z"
    }
   },
   "outputs": [],
   "source": [
    "model_bar = RandomForestRegressor(**hp_barcelona[4])\n",
    "model_bar.fit(df_barcelona.loc[:, mi_features_14_bar].values, df_barcelona.loc[:, \"realsum_cut\"].values.ravel())\n",
    "pickle.dump(model_bar, open(\"models/model_barcelona_rf.sav\", \"wb\"))\n",
    "\n",
    "model_par = RandomForestRegressor(**hp_paris[6])\n",
    "model_par.fit(df_paris.loc[:, mi_features_20_par].values, df_paris.loc[:, \"realsum_cut\"].values.ravel())\n",
    "pickle.dump(model_par, open(\"models/model_paris_rf.sav\", \"wb\"))\n",
    "\n",
    "model_rom = RandomForestRegressor(**hp_rome[0])\n",
    "model_rom.fit(df_rome.loc[:, br_features_rom].values, df_rome.loc[:, \"realsum_cut\"].values.ravel())\n",
    "pickle.dump(model_rom, open(\"models/model_rome_rf.sav\", \"wb\"))"
   ]
  }
 ],
 "metadata": {
  "kernelspec": {
   "display_name": "Python 3 (ipykernel)",
   "language": "python",
   "name": "python3"
  },
  "language_info": {
   "codemirror_mode": {
    "name": "ipython",
    "version": 3
   },
   "file_extension": ".py",
   "mimetype": "text/x-python",
   "name": "python",
   "nbconvert_exporter": "python",
   "pygments_lexer": "ipython3",
   "version": "3.13.1"
  }
 },
 "nbformat": 4,
 "nbformat_minor": 5
}
